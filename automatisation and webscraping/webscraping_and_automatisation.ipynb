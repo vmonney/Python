{
 "cells": [
  {
   "cell_type": "markdown",
   "id": "724f1ef6",
   "metadata": {},
   "source": [
    "# Data automatisation and Webscraping: Spotify Example\n",
    "to see if it's legal to webscrape a website, add __/robots.txt__ at the end of the url.\n",
    "\n"
   ]
  },
  {
   "cell_type": "code",
   "execution_count": 1,
   "id": "8e3d2d68",
   "metadata": {},
   "outputs": [],
   "source": [
    "# Importing required libraries\n",
    "import requests # get data from websites\n",
    "from bs4 import BeautifulSoup\n",
    "import time\n",
    "import datetime as dt\n",
    "import pandas as pd\n",
    "import numpy as np\n",
    "pd.set_option('display.max_rows', None)\n",
    "import io\n",
    "import matplotlib.pyplot as plt\n",
    "%matplotlib inline"
   ]
  },
  {
   "cell_type": "code",
   "execution_count": 2,
   "id": "9b8c1694",
   "metadata": {},
   "outputs": [],
   "source": [
    "### Step 1 : Let's extract all the weeks from Spotify Charts\n",
    "new_URLS =[]\n",
    "def DownloadPage(URL):     # Pass the global website\n",
    "    s1 = requests.Session()\n",
    "    headers = {'User-Agent':\"Mozilla/5.0 (Windows NT 10.0; Win64; x64) AppleWebKit/537.36 (KHTML, like Gecko) Chrome/93.0.4577.82 Safari/537.36\"}\n",
    "    response1 = s1.get(URL, headers=headers)\n",
    "    soup_ww = BeautifulSoup(response1.content.decode(\"utf-8\"),\"html.parser\") # get content of that page\n",
    "    time.sleep(0.25)\n",
    "    all_dates=[]                                                        # list for holding all dates on that page\n",
    "    for li in soup_ww.find('div', {'data-type':'date'}).find_all('li'):\n",
    "        all_dates.append((dt.datetime.strptime(li.get_text(), '%m/%d/%Y').date()) + dt.timedelta(days=1))\n",
    "    [new_URLS.append(URL+str(date)+'/download') for date in all_dates]\n",
    "    print(f\"Dates from {URL} have been downloaded\")\n",
    "    \n",
    "    return soup_ww, all_dates"
   ]
  },
  {
   "cell_type": "code",
   "execution_count": 3,
   "id": "c584544b",
   "metadata": {},
   "outputs": [
    {
     "name": "stdout",
     "output_type": "stream",
     "text": [
      "Dates from https://spotifycharts.com/regional/global/weekly/latest have been downloaded\n"
     ]
    }
   ],
   "source": [
    "website, all_dates = DownloadPage(\"https://spotifycharts.com/regional/global/weekly/latest\")"
   ]
  },
  {
   "cell_type": "code",
   "execution_count": 4,
   "id": "3895aa0c",
   "metadata": {
    "tags": []
   },
   "outputs": [
    {
     "data": {
      "text/plain": [
       "[<meta charset=\"utf-8\"/>,\n",
       " <meta content=\"IE=edge,chrome=1\" http-equiv=\"X-UA-Compatible\"/>,\n",
       " <title>Spotify Charts</title>,\n",
       " <meta content=\"Spotify Charts\" property=\"og:title\"/>,\n",
       " <meta content=\"website\" property=\"og:type\"/>,\n",
       " <meta content=\"https://www.spotifycharts.com/\" property=\"og:url\"/>,\n",
       " <meta content=\"http://d2c87l0yth4zbw-2.global.ssl.fastly.net/i/_global/open-graph-default.png\" property=\"og:image\"/>,\n",
       " <meta content=\"Spotify is all the music you’ll ever need.\" property=\"og:description\"/>,\n",
       " <meta content=\"Spotify is all the music you’ll ever need.\" name=\"description\"/>,\n",
       " <meta content=\"width=device-width, initial-scale=1.0\" name=\"viewport\"/>,\n",
       " <link href=\"/images/touch-icon-144.png\" rel=\"apple-touch-icon-precomposed\" sizes=\"144x144\"/>,\n",
       " <link href=\"/images/touch-icon-114.png\" rel=\"apple-touch-icon-precomposed\" sizes=\"114x114\"/>,\n",
       " <link href=\"/images/touch-icon-72.png\" rel=\"apple-touch-icon-precomposed\" sizes=\"72x72\"/>,\n",
       " <link href=\"/images/touch-icon-57.png\" rel=\"apple-touch-icon-precomposed\"/>,\n",
       " <link href=\"/css/app.css?20210426\" rel=\"stylesheet\" type=\"text/css\"/>,\n",
       " <script>\n",
       "             window.log = function () {\n",
       "                 log.history = log.history || [];\n",
       "                 log.history.push(arguments);\n",
       "                 if (this.console) {\n",
       "                     console.log(Array.prototype.slice.call(arguments))\n",
       "                 }\n",
       "             };\n",
       "         </script>,\n",
       " <script>\n",
       "             var ROUTE_PARAMS = {type: 'regional', country: 'global', recurrence: 'weekly', date: '2021-10-15--2021-10-22'};\n",
       "         </script>,\n",
       " <script>(function(w,d,s,l,i){w[l]=w[l]||[];w[l].push({'gtm.start':\n",
       "         new Date().getTime(),event:'gtm.js'});var f=d.getElementsByTagName(s)[0],\n",
       "         j=d.createElement(s),dl=l!='dataLayer'?'&l='+l:'';j.async=true;j.src=\n",
       "         'https://www.googletagmanager.com/gtm.js?id='+i+dl;f.parentNode.insertBefore(j,f);\n",
       "         })(window,document,'script','dataLayer','GTM-NGP6752');</script>,\n",
       " <script async=\"\" src=\"/cdn-cgi/challenge-platform/h/b/scripts/invisible.js\"></script>]"
      ]
     },
     "execution_count": 4,
     "metadata": {},
     "output_type": "execute_result"
    }
   ],
   "source": [
    "website.head()"
   ]
  },
  {
   "cell_type": "code",
   "execution_count": 5,
   "id": "33f24f0d",
   "metadata": {
    "collapsed": true,
    "jupyter": {
     "outputs_hidden": true
    },
    "tags": []
   },
   "outputs": [
    {
     "data": {
      "text/plain": [
       "[datetime.date(2021, 10, 22),\n",
       " datetime.date(2021, 10, 15),\n",
       " datetime.date(2021, 10, 8),\n",
       " datetime.date(2021, 10, 1),\n",
       " datetime.date(2021, 9, 24),\n",
       " datetime.date(2021, 9, 17),\n",
       " datetime.date(2021, 9, 10),\n",
       " datetime.date(2021, 9, 3),\n",
       " datetime.date(2021, 8, 27),\n",
       " datetime.date(2021, 8, 20),\n",
       " datetime.date(2021, 8, 13),\n",
       " datetime.date(2021, 8, 6),\n",
       " datetime.date(2021, 7, 30),\n",
       " datetime.date(2021, 7, 23),\n",
       " datetime.date(2021, 7, 16),\n",
       " datetime.date(2021, 7, 9),\n",
       " datetime.date(2021, 7, 2),\n",
       " datetime.date(2021, 6, 25),\n",
       " datetime.date(2021, 6, 18),\n",
       " datetime.date(2021, 6, 11),\n",
       " datetime.date(2021, 6, 4),\n",
       " datetime.date(2021, 5, 28),\n",
       " datetime.date(2021, 5, 21),\n",
       " datetime.date(2021, 5, 14),\n",
       " datetime.date(2021, 5, 7),\n",
       " datetime.date(2021, 4, 30),\n",
       " datetime.date(2021, 4, 23),\n",
       " datetime.date(2021, 4, 16),\n",
       " datetime.date(2021, 4, 9),\n",
       " datetime.date(2021, 4, 2),\n",
       " datetime.date(2021, 3, 26),\n",
       " datetime.date(2021, 3, 19),\n",
       " datetime.date(2021, 3, 12),\n",
       " datetime.date(2021, 3, 5),\n",
       " datetime.date(2021, 2, 26),\n",
       " datetime.date(2021, 2, 19),\n",
       " datetime.date(2021, 2, 12),\n",
       " datetime.date(2021, 2, 5),\n",
       " datetime.date(2021, 1, 29),\n",
       " datetime.date(2021, 1, 22),\n",
       " datetime.date(2021, 1, 15),\n",
       " datetime.date(2021, 1, 8),\n",
       " datetime.date(2021, 1, 1),\n",
       " datetime.date(2020, 12, 25),\n",
       " datetime.date(2020, 12, 18),\n",
       " datetime.date(2020, 12, 11),\n",
       " datetime.date(2020, 12, 4),\n",
       " datetime.date(2020, 11, 27),\n",
       " datetime.date(2020, 11, 20),\n",
       " datetime.date(2020, 11, 13),\n",
       " datetime.date(2020, 11, 6),\n",
       " datetime.date(2020, 10, 30),\n",
       " datetime.date(2020, 10, 23),\n",
       " datetime.date(2020, 10, 16),\n",
       " datetime.date(2020, 10, 9),\n",
       " datetime.date(2020, 10, 2),\n",
       " datetime.date(2020, 9, 25),\n",
       " datetime.date(2020, 9, 18),\n",
       " datetime.date(2020, 9, 11),\n",
       " datetime.date(2020, 9, 4),\n",
       " datetime.date(2020, 8, 28),\n",
       " datetime.date(2020, 8, 21),\n",
       " datetime.date(2020, 8, 14),\n",
       " datetime.date(2020, 8, 7),\n",
       " datetime.date(2020, 7, 31),\n",
       " datetime.date(2020, 7, 24),\n",
       " datetime.date(2020, 7, 17),\n",
       " datetime.date(2020, 7, 10),\n",
       " datetime.date(2020, 7, 3),\n",
       " datetime.date(2020, 6, 26),\n",
       " datetime.date(2020, 6, 19),\n",
       " datetime.date(2020, 6, 12),\n",
       " datetime.date(2020, 6, 5),\n",
       " datetime.date(2020, 5, 29),\n",
       " datetime.date(2020, 5, 22),\n",
       " datetime.date(2020, 5, 15),\n",
       " datetime.date(2020, 5, 8),\n",
       " datetime.date(2020, 5, 1),\n",
       " datetime.date(2020, 4, 24),\n",
       " datetime.date(2020, 4, 17),\n",
       " datetime.date(2020, 4, 10),\n",
       " datetime.date(2020, 4, 3),\n",
       " datetime.date(2020, 3, 27),\n",
       " datetime.date(2020, 3, 20),\n",
       " datetime.date(2020, 3, 13),\n",
       " datetime.date(2020, 3, 6),\n",
       " datetime.date(2020, 2, 28),\n",
       " datetime.date(2020, 2, 21),\n",
       " datetime.date(2020, 2, 14),\n",
       " datetime.date(2020, 2, 7),\n",
       " datetime.date(2020, 1, 31),\n",
       " datetime.date(2020, 1, 24),\n",
       " datetime.date(2020, 1, 17),\n",
       " datetime.date(2020, 1, 10),\n",
       " datetime.date(2020, 1, 3),\n",
       " datetime.date(2019, 12, 27),\n",
       " datetime.date(2019, 12, 20),\n",
       " datetime.date(2019, 12, 13),\n",
       " datetime.date(2019, 12, 6),\n",
       " datetime.date(2019, 11, 29),\n",
       " datetime.date(2019, 11, 22),\n",
       " datetime.date(2019, 11, 15),\n",
       " datetime.date(2019, 11, 8),\n",
       " datetime.date(2019, 11, 1),\n",
       " datetime.date(2019, 10, 25),\n",
       " datetime.date(2019, 10, 18),\n",
       " datetime.date(2019, 10, 11),\n",
       " datetime.date(2019, 10, 4),\n",
       " datetime.date(2019, 9, 27),\n",
       " datetime.date(2019, 9, 20),\n",
       " datetime.date(2019, 9, 13),\n",
       " datetime.date(2019, 9, 6),\n",
       " datetime.date(2019, 8, 30),\n",
       " datetime.date(2019, 8, 23),\n",
       " datetime.date(2019, 8, 16),\n",
       " datetime.date(2019, 8, 9),\n",
       " datetime.date(2019, 8, 2),\n",
       " datetime.date(2019, 7, 26),\n",
       " datetime.date(2019, 7, 19),\n",
       " datetime.date(2019, 7, 12),\n",
       " datetime.date(2019, 7, 5),\n",
       " datetime.date(2019, 6, 28),\n",
       " datetime.date(2019, 6, 21),\n",
       " datetime.date(2019, 6, 14),\n",
       " datetime.date(2019, 6, 7),\n",
       " datetime.date(2019, 5, 31),\n",
       " datetime.date(2019, 5, 24),\n",
       " datetime.date(2019, 5, 17),\n",
       " datetime.date(2019, 5, 10),\n",
       " datetime.date(2019, 5, 3),\n",
       " datetime.date(2019, 4, 26),\n",
       " datetime.date(2019, 4, 19),\n",
       " datetime.date(2019, 4, 12),\n",
       " datetime.date(2019, 4, 5),\n",
       " datetime.date(2019, 3, 29),\n",
       " datetime.date(2019, 3, 22),\n",
       " datetime.date(2019, 3, 15),\n",
       " datetime.date(2019, 3, 8),\n",
       " datetime.date(2019, 3, 1),\n",
       " datetime.date(2019, 2, 22),\n",
       " datetime.date(2019, 2, 15),\n",
       " datetime.date(2019, 2, 8),\n",
       " datetime.date(2019, 2, 1),\n",
       " datetime.date(2019, 1, 25),\n",
       " datetime.date(2019, 1, 18),\n",
       " datetime.date(2019, 1, 11),\n",
       " datetime.date(2019, 1, 4),\n",
       " datetime.date(2018, 12, 28),\n",
       " datetime.date(2018, 12, 21),\n",
       " datetime.date(2018, 12, 14),\n",
       " datetime.date(2018, 12, 7),\n",
       " datetime.date(2018, 11, 30),\n",
       " datetime.date(2018, 11, 23),\n",
       " datetime.date(2018, 11, 16),\n",
       " datetime.date(2018, 11, 9),\n",
       " datetime.date(2018, 11, 2),\n",
       " datetime.date(2018, 10, 26),\n",
       " datetime.date(2018, 10, 19),\n",
       " datetime.date(2018, 10, 12),\n",
       " datetime.date(2018, 10, 5),\n",
       " datetime.date(2018, 9, 28),\n",
       " datetime.date(2018, 9, 21),\n",
       " datetime.date(2018, 9, 14),\n",
       " datetime.date(2018, 9, 7),\n",
       " datetime.date(2018, 8, 31),\n",
       " datetime.date(2018, 8, 24),\n",
       " datetime.date(2018, 8, 17),\n",
       " datetime.date(2018, 8, 10),\n",
       " datetime.date(2018, 8, 3),\n",
       " datetime.date(2018, 7, 27),\n",
       " datetime.date(2018, 7, 20),\n",
       " datetime.date(2018, 7, 13),\n",
       " datetime.date(2018, 7, 6),\n",
       " datetime.date(2018, 6, 29),\n",
       " datetime.date(2018, 6, 22),\n",
       " datetime.date(2018, 6, 15),\n",
       " datetime.date(2018, 6, 8),\n",
       " datetime.date(2018, 6, 1),\n",
       " datetime.date(2018, 5, 25),\n",
       " datetime.date(2018, 5, 18),\n",
       " datetime.date(2018, 5, 11),\n",
       " datetime.date(2018, 5, 4),\n",
       " datetime.date(2018, 4, 27),\n",
       " datetime.date(2018, 4, 20),\n",
       " datetime.date(2018, 4, 13),\n",
       " datetime.date(2018, 4, 6),\n",
       " datetime.date(2018, 3, 30),\n",
       " datetime.date(2018, 3, 23),\n",
       " datetime.date(2018, 3, 16),\n",
       " datetime.date(2018, 3, 9),\n",
       " datetime.date(2018, 3, 2),\n",
       " datetime.date(2018, 2, 23),\n",
       " datetime.date(2018, 2, 16),\n",
       " datetime.date(2018, 2, 9),\n",
       " datetime.date(2018, 2, 2),\n",
       " datetime.date(2018, 1, 26),\n",
       " datetime.date(2018, 1, 19),\n",
       " datetime.date(2018, 1, 12),\n",
       " datetime.date(2018, 1, 5),\n",
       " datetime.date(2017, 12, 29),\n",
       " datetime.date(2017, 12, 22),\n",
       " datetime.date(2017, 12, 15),\n",
       " datetime.date(2017, 12, 8),\n",
       " datetime.date(2017, 12, 1),\n",
       " datetime.date(2017, 11, 24),\n",
       " datetime.date(2017, 11, 17),\n",
       " datetime.date(2017, 11, 10),\n",
       " datetime.date(2017, 11, 3),\n",
       " datetime.date(2017, 10, 27),\n",
       " datetime.date(2017, 10, 20),\n",
       " datetime.date(2017, 10, 13),\n",
       " datetime.date(2017, 10, 6),\n",
       " datetime.date(2017, 9, 29),\n",
       " datetime.date(2017, 9, 22),\n",
       " datetime.date(2017, 9, 15),\n",
       " datetime.date(2017, 9, 8),\n",
       " datetime.date(2017, 9, 1),\n",
       " datetime.date(2017, 8, 25),\n",
       " datetime.date(2017, 8, 18),\n",
       " datetime.date(2017, 8, 11),\n",
       " datetime.date(2017, 8, 4),\n",
       " datetime.date(2017, 7, 28),\n",
       " datetime.date(2017, 7, 21),\n",
       " datetime.date(2017, 7, 14),\n",
       " datetime.date(2017, 7, 7),\n",
       " datetime.date(2017, 6, 30),\n",
       " datetime.date(2017, 6, 23),\n",
       " datetime.date(2017, 6, 16),\n",
       " datetime.date(2017, 5, 26),\n",
       " datetime.date(2017, 5, 19),\n",
       " datetime.date(2017, 5, 12),\n",
       " datetime.date(2017, 5, 5),\n",
       " datetime.date(2017, 4, 28),\n",
       " datetime.date(2017, 4, 21),\n",
       " datetime.date(2017, 4, 14),\n",
       " datetime.date(2017, 4, 7),\n",
       " datetime.date(2017, 3, 31),\n",
       " datetime.date(2017, 3, 24),\n",
       " datetime.date(2017, 3, 17),\n",
       " datetime.date(2017, 3, 10),\n",
       " datetime.date(2017, 3, 3),\n",
       " datetime.date(2017, 2, 24),\n",
       " datetime.date(2017, 2, 17),\n",
       " datetime.date(2017, 2, 10),\n",
       " datetime.date(2017, 2, 3),\n",
       " datetime.date(2017, 1, 27),\n",
       " datetime.date(2017, 1, 20),\n",
       " datetime.date(2017, 1, 13),\n",
       " datetime.date(2017, 1, 6),\n",
       " datetime.date(2016, 12, 30)]"
      ]
     },
     "execution_count": 5,
     "metadata": {},
     "output_type": "execute_result"
    }
   ],
   "source": [
    "all_dates"
   ]
  },
  {
   "cell_type": "code",
   "execution_count": 7,
   "id": "ec97dcc9",
   "metadata": {},
   "outputs": [],
   "source": [
    "def downloadData(new_URL):\n",
    "    s2 = requests.Session()\n",
    "    headers = {'User-Agent':\"Mozilla/5.0 (Windows NT 10.0; Win64; x64) AppleWebKit/537.36 (KHTML, like Gecko) Chrome/93.0.4577.82 Safari/537.36\"}\n",
    "    response2 = s2.get(new_URL, headers=headers)\n",
    "    soup_data = BeautifulSoup(response2.content,\"html.parser\")  # get page content\n",
    "    temp_df = pd.read_csv(io.StringIO(soup_data.decode(\"utf-8\")), sep='delimiter')\n",
    "    # create csv data to a temporary data frame\n",
    "    table_df = pd.DataFrame(columns=[\"Position\", \"Track\", \"Artist\", \"Streams\", \"Date\"])\n",
    "    table_date = url.split('--')[1]\n",
    "    \n",
    "    #Extract beginnings \n",
    "    row_start = temp_df[temp_df['<!DOCTYPE doctype html>'].str.contains(\"<td class=\\\"chart-table-position\\\"\")].index\n",
    "    for i in row_start:\n",
    "        position = int(temp_df['<!DOCTYPE doctype html>'].iloc[i+1])\n",
    "        track = temp_df['<!DOCTYPE doctype html>'].iloc[i+13]\n",
    "        if(len(temp_df['<!DOCTYPE doctype html>'].iloc[i+16].split('by '))) == 2:\n",
    "            artist = temp_df['<!DOCTYPE doctype html>'].iloc[i+16].split('by ')[1]\n",
    "        else:\n",
    "            artist = temp_df['<!DOCTYPE doctype html>'].iloc[i+16].split('by ')[0]\n",
    "        streams = temp_df['<!DOCTYPE doctype html>'].iloc[i+20]\n",
    "        table_df = table_df.append({'Position': position, 'Track':track, 'Artist':artist, 'Streams':streams, 'Date':table_date}, ignore_index = True)\n",
    "    return(table_df)"
   ]
  },
  {
   "cell_type": "code",
   "execution_count": 8,
   "id": "456f1204",
   "metadata": {
    "tags": []
   },
   "outputs": [
    {
     "name": "stderr",
     "output_type": "stream",
     "text": [
      "/Users/valentinmonney/opt/anaconda3/envs/exts-ml/lib/python3.6/site-packages/ipykernel_launcher.py:6: ParserWarning: Falling back to the 'python' engine because the 'c' engine does not support regex separators (separators > 1 char and different from '\\s+' are interpreted as regex); you can avoid this warning by specifying engine='python'.\n",
      "  \n"
     ]
    },
    {
     "name": "stdout",
     "output_type": "stream",
     "text": [
      "https://spotifycharts.com/regional/global/weekly/2021-10-15--2021-10-22\n"
     ]
    }
   ],
   "source": [
    "# pulling last week's date\n",
    "artist_name = 'Coldplay'\n",
    "artist_df = pd.DataFrame()\n",
    "url = f\"https://spotifycharts.com/regional/global/weekly/{all_dates[1]}--{all_dates[0]}\"\n",
    "table_df_1w = downloadData(url)\n",
    "if table_df_1w[table_df_1w.Artist.str.contains(f'{artist_name}')].shape[0] > 0:\n",
    "    table_df_1w_with_artist = table_df_1w[table_df_1w.Artist.str.contains('Queen')]\n",
    "    if artist_df.shape[0] == 0:\n",
    "        artist_df = table_df_1w_with_artist.copy()\n",
    "    else:\n",
    "        artist_df = artist_df.append(table_df_1w_with_artist, ignore_index=True)\n",
    "print(url)\n",
    "\n",
    "artist_df = artist_df.reindex(index=artist_df.index[::-1])\n",
    "artist_df['Streams'] = pd.to_numeric(artist_df['Streams'].str.replace(',',''))\n",
    "artist_df['Position'] = pd.to_numeric(artist_df['Position'])\n",
    "artist_df['Date'] = pd.to_datetime(artist_df['Date'])"
   ]
  },
  {
   "cell_type": "code",
   "execution_count": 9,
   "id": "8f9173c7",
   "metadata": {
    "tags": []
   },
   "outputs": [
    {
     "data": {
      "text/html": [
       "<div>\n",
       "<style scoped>\n",
       "    .dataframe tbody tr th:only-of-type {\n",
       "        vertical-align: middle;\n",
       "    }\n",
       "\n",
       "    .dataframe tbody tr th {\n",
       "        vertical-align: top;\n",
       "    }\n",
       "\n",
       "    .dataframe thead th {\n",
       "        text-align: right;\n",
       "    }\n",
       "</style>\n",
       "<table border=\"1\" class=\"dataframe\">\n",
       "  <thead>\n",
       "    <tr style=\"text-align: right;\">\n",
       "      <th></th>\n",
       "      <th>Position</th>\n",
       "      <th>Track</th>\n",
       "      <th>Artist</th>\n",
       "      <th>Streams</th>\n",
       "      <th>Date</th>\n",
       "    </tr>\n",
       "  </thead>\n",
       "  <tbody>\n",
       "    <tr>\n",
       "      <th>0</th>\n",
       "      <td>1</td>\n",
       "      <td>Easy On Me</td>\n",
       "      <td>Adele</td>\n",
       "      <td>84,952,932</td>\n",
       "      <td>2021-10-22</td>\n",
       "    </tr>\n",
       "    <tr>\n",
       "      <th>1</th>\n",
       "      <td>2</td>\n",
       "      <td>STAY (with Justin Bieber)</td>\n",
       "      <td>The Kid LAROI</td>\n",
       "      <td>46,083,756</td>\n",
       "      <td>2021-10-22</td>\n",
       "    </tr>\n",
       "    <tr>\n",
       "      <th>2</th>\n",
       "      <td>3</td>\n",
       "      <td>INDUSTRY BABY (feat. Jack Harlow)</td>\n",
       "      <td>Lil Nas X</td>\n",
       "      <td>39,049,971</td>\n",
       "      <td>2021-10-22</td>\n",
       "    </tr>\n",
       "    <tr>\n",
       "      <th>3</th>\n",
       "      <td>4</td>\n",
       "      <td>Heat Waves</td>\n",
       "      <td>Glass Animals</td>\n",
       "      <td>30,283,212</td>\n",
       "      <td>2021-10-22</td>\n",
       "    </tr>\n",
       "    <tr>\n",
       "      <th>4</th>\n",
       "      <td>5</td>\n",
       "      <td>My Universe</td>\n",
       "      <td>Coldplay, BTS</td>\n",
       "      <td>27,587,042</td>\n",
       "      <td>2021-10-22</td>\n",
       "    </tr>\n",
       "  </tbody>\n",
       "</table>\n",
       "</div>"
      ],
      "text/plain": [
       "  Position                              Track         Artist     Streams  \\\n",
       "0        1                         Easy On Me          Adele  84,952,932   \n",
       "1        2          STAY (with Justin Bieber)  The Kid LAROI  46,083,756   \n",
       "2        3  INDUSTRY BABY (feat. Jack Harlow)      Lil Nas X  39,049,971   \n",
       "3        4                         Heat Waves  Glass Animals  30,283,212   \n",
       "4        5                        My Universe  Coldplay, BTS  27,587,042   \n",
       "\n",
       "         Date  \n",
       "0  2021-10-22  \n",
       "1  2021-10-22  \n",
       "2  2021-10-22  \n",
       "3  2021-10-22  \n",
       "4  2021-10-22  "
      ]
     },
     "execution_count": 9,
     "metadata": {},
     "output_type": "execute_result"
    }
   ],
   "source": [
    "table_df_1w.head()"
   ]
  },
  {
   "cell_type": "code",
   "execution_count": 10,
   "id": "9e27af3b",
   "metadata": {
    "tags": []
   },
   "outputs": [
    {
     "name": "stderr",
     "output_type": "stream",
     "text": [
      "/Users/valentinmonney/opt/anaconda3/envs/exts-ml/lib/python3.6/site-packages/ipykernel_launcher.py:6: ParserWarning: Falling back to the 'python' engine because the 'c' engine does not support regex separators (separators > 1 char and different from '\\s+' are interpreted as regex); you can avoid this warning by specifying engine='python'.\n",
      "  \n"
     ]
    },
    {
     "name": "stdout",
     "output_type": "stream",
     "text": [
      "https://spotifycharts.com/regional/global/weekly/2021-10-15--2021-10-22\n",
      "https://spotifycharts.com/regional/global/weekly/2021-10-08--2021-10-15\n",
      "https://spotifycharts.com/regional/global/weekly/2021-10-01--2021-10-08\n",
      "https://spotifycharts.com/regional/global/weekly/2021-09-24--2021-10-01\n",
      "https://spotifycharts.com/regional/global/weekly/2021-09-17--2021-09-24\n",
      "https://spotifycharts.com/regional/global/weekly/2021-09-10--2021-09-17\n",
      "https://spotifycharts.com/regional/global/weekly/2021-09-03--2021-09-10\n",
      "https://spotifycharts.com/regional/global/weekly/2021-08-27--2021-09-03\n",
      "https://spotifycharts.com/regional/global/weekly/2021-08-20--2021-08-27\n",
      "https://spotifycharts.com/regional/global/weekly/2021-08-13--2021-08-20\n",
      "https://spotifycharts.com/regional/global/weekly/2021-08-06--2021-08-13\n",
      "https://spotifycharts.com/regional/global/weekly/2021-07-30--2021-08-06\n",
      "https://spotifycharts.com/regional/global/weekly/2021-07-23--2021-07-30\n",
      "https://spotifycharts.com/regional/global/weekly/2021-07-16--2021-07-23\n",
      "https://spotifycharts.com/regional/global/weekly/2021-07-09--2021-07-16\n",
      "https://spotifycharts.com/regional/global/weekly/2021-07-02--2021-07-09\n",
      "https://spotifycharts.com/regional/global/weekly/2021-06-25--2021-07-02\n",
      "https://spotifycharts.com/regional/global/weekly/2021-06-18--2021-06-25\n",
      "https://spotifycharts.com/regional/global/weekly/2021-06-11--2021-06-18\n",
      "https://spotifycharts.com/regional/global/weekly/2021-06-04--2021-06-11\n",
      "https://spotifycharts.com/regional/global/weekly/2021-05-28--2021-06-04\n",
      "https://spotifycharts.com/regional/global/weekly/2021-05-21--2021-05-28\n",
      "https://spotifycharts.com/regional/global/weekly/2021-05-14--2021-05-21\n",
      "https://spotifycharts.com/regional/global/weekly/2021-05-07--2021-05-14\n",
      "https://spotifycharts.com/regional/global/weekly/2021-04-30--2021-05-07\n",
      "https://spotifycharts.com/regional/global/weekly/2021-04-23--2021-04-30\n",
      "https://spotifycharts.com/regional/global/weekly/2021-04-16--2021-04-23\n",
      "https://spotifycharts.com/regional/global/weekly/2021-04-09--2021-04-16\n",
      "https://spotifycharts.com/regional/global/weekly/2021-04-02--2021-04-09\n",
      "https://spotifycharts.com/regional/global/weekly/2021-03-26--2021-04-02\n",
      "https://spotifycharts.com/regional/global/weekly/2021-03-19--2021-03-26\n",
      "https://spotifycharts.com/regional/global/weekly/2021-03-12--2021-03-19\n",
      "https://spotifycharts.com/regional/global/weekly/2021-03-05--2021-03-12\n",
      "https://spotifycharts.com/regional/global/weekly/2021-02-26--2021-03-05\n",
      "https://spotifycharts.com/regional/global/weekly/2021-02-19--2021-02-26\n",
      "https://spotifycharts.com/regional/global/weekly/2021-02-12--2021-02-19\n",
      "https://spotifycharts.com/regional/global/weekly/2021-02-05--2021-02-12\n",
      "https://spotifycharts.com/regional/global/weekly/2021-01-29--2021-02-05\n",
      "https://spotifycharts.com/regional/global/weekly/2021-01-22--2021-01-29\n",
      "https://spotifycharts.com/regional/global/weekly/2021-01-15--2021-01-22\n",
      "https://spotifycharts.com/regional/global/weekly/2021-01-08--2021-01-15\n",
      "https://spotifycharts.com/regional/global/weekly/2021-01-01--2021-01-08\n",
      "https://spotifycharts.com/regional/global/weekly/2020-12-25--2021-01-01\n",
      "https://spotifycharts.com/regional/global/weekly/2020-12-18--2020-12-25\n",
      "https://spotifycharts.com/regional/global/weekly/2020-12-11--2020-12-18\n",
      "https://spotifycharts.com/regional/global/weekly/2020-12-04--2020-12-11\n",
      "https://spotifycharts.com/regional/global/weekly/2020-11-27--2020-12-04\n",
      "https://spotifycharts.com/regional/global/weekly/2020-11-20--2020-11-27\n",
      "https://spotifycharts.com/regional/global/weekly/2020-11-13--2020-11-20\n",
      "https://spotifycharts.com/regional/global/weekly/2020-11-06--2020-11-13\n",
      "https://spotifycharts.com/regional/global/weekly/2020-10-30--2020-11-06\n",
      "https://spotifycharts.com/regional/global/weekly/2020-10-23--2020-10-30\n",
      "https://spotifycharts.com/regional/global/weekly/2020-10-16--2020-10-23\n",
      "https://spotifycharts.com/regional/global/weekly/2020-10-09--2020-10-16\n",
      "https://spotifycharts.com/regional/global/weekly/2020-10-02--2020-10-09\n",
      "https://spotifycharts.com/regional/global/weekly/2020-09-25--2020-10-02\n",
      "https://spotifycharts.com/regional/global/weekly/2020-09-18--2020-09-25\n",
      "https://spotifycharts.com/regional/global/weekly/2020-09-11--2020-09-18\n",
      "https://spotifycharts.com/regional/global/weekly/2020-09-04--2020-09-11\n",
      "https://spotifycharts.com/regional/global/weekly/2020-08-28--2020-09-04\n",
      "https://spotifycharts.com/regional/global/weekly/2020-08-21--2020-08-28\n",
      "https://spotifycharts.com/regional/global/weekly/2020-08-14--2020-08-21\n",
      "https://spotifycharts.com/regional/global/weekly/2020-08-07--2020-08-14\n",
      "https://spotifycharts.com/regional/global/weekly/2020-07-31--2020-08-07\n",
      "https://spotifycharts.com/regional/global/weekly/2020-07-24--2020-07-31\n",
      "https://spotifycharts.com/regional/global/weekly/2020-07-17--2020-07-24\n",
      "https://spotifycharts.com/regional/global/weekly/2020-07-10--2020-07-17\n",
      "https://spotifycharts.com/regional/global/weekly/2020-07-03--2020-07-10\n",
      "https://spotifycharts.com/regional/global/weekly/2020-06-26--2020-07-03\n",
      "https://spotifycharts.com/regional/global/weekly/2020-06-19--2020-06-26\n",
      "https://spotifycharts.com/regional/global/weekly/2020-06-12--2020-06-19\n",
      "https://spotifycharts.com/regional/global/weekly/2020-06-05--2020-06-12\n",
      "https://spotifycharts.com/regional/global/weekly/2020-05-29--2020-06-05\n",
      "https://spotifycharts.com/regional/global/weekly/2020-05-22--2020-05-29\n",
      "https://spotifycharts.com/regional/global/weekly/2020-05-15--2020-05-22\n",
      "https://spotifycharts.com/regional/global/weekly/2020-05-08--2020-05-15\n",
      "https://spotifycharts.com/regional/global/weekly/2020-05-01--2020-05-08\n",
      "https://spotifycharts.com/regional/global/weekly/2020-04-24--2020-05-01\n",
      "https://spotifycharts.com/regional/global/weekly/2020-04-17--2020-04-24\n",
      "https://spotifycharts.com/regional/global/weekly/2020-04-10--2020-04-17\n",
      "https://spotifycharts.com/regional/global/weekly/2020-04-03--2020-04-10\n",
      "https://spotifycharts.com/regional/global/weekly/2020-03-27--2020-04-03\n",
      "https://spotifycharts.com/regional/global/weekly/2020-03-20--2020-03-27\n",
      "https://spotifycharts.com/regional/global/weekly/2020-03-13--2020-03-20\n",
      "https://spotifycharts.com/regional/global/weekly/2020-03-06--2020-03-13\n",
      "https://spotifycharts.com/regional/global/weekly/2020-02-28--2020-03-06\n",
      "https://spotifycharts.com/regional/global/weekly/2020-02-21--2020-02-28\n",
      "https://spotifycharts.com/regional/global/weekly/2020-02-14--2020-02-21\n"
     ]
    },
    {
     "ename": "KeyboardInterrupt",
     "evalue": "",
     "output_type": "error",
     "traceback": [
      "\u001b[0;31m---------------------------------------------------------------------------\u001b[0m",
      "\u001b[0;31mTypeError\u001b[0m                                 Traceback (most recent call last)",
      "\u001b[0;32m~/opt/anaconda3/envs/exts-ml/lib/python3.6/site-packages/urllib3/connectionpool.py\u001b[0m in \u001b[0;36m_make_request\u001b[0;34m(self, conn, method, url, timeout, chunked, **httplib_request_kw)\u001b[0m\n\u001b[1;32m    376\u001b[0m             \u001b[0;32mtry\u001b[0m\u001b[0;34m:\u001b[0m  \u001b[0;31m# Python 2.7, use buffering of HTTP responses\u001b[0m\u001b[0;34m\u001b[0m\u001b[0;34m\u001b[0m\u001b[0m\n\u001b[0;32m--> 377\u001b[0;31m                 \u001b[0mhttplib_response\u001b[0m \u001b[0;34m=\u001b[0m \u001b[0mconn\u001b[0m\u001b[0;34m.\u001b[0m\u001b[0mgetresponse\u001b[0m\u001b[0;34m(\u001b[0m\u001b[0mbuffering\u001b[0m\u001b[0;34m=\u001b[0m\u001b[0;32mTrue\u001b[0m\u001b[0;34m)\u001b[0m\u001b[0;34m\u001b[0m\u001b[0;34m\u001b[0m\u001b[0m\n\u001b[0m\u001b[1;32m    378\u001b[0m             \u001b[0;32mexcept\u001b[0m \u001b[0mTypeError\u001b[0m\u001b[0;34m:\u001b[0m  \u001b[0;31m# Python 2.6 and older, Python 3\u001b[0m\u001b[0;34m\u001b[0m\u001b[0;34m\u001b[0m\u001b[0m\n",
      "\u001b[0;31mTypeError\u001b[0m: getresponse() got an unexpected keyword argument 'buffering'",
      "\nDuring handling of the above exception, another exception occurred:\n",
      "\u001b[0;31mKeyboardInterrupt\u001b[0m                         Traceback (most recent call last)",
      "\u001b[0;32m<ipython-input-10-cb2385acc5f7>\u001b[0m in \u001b[0;36m<module>\u001b[0;34m\u001b[0m\n\u001b[1;32m      4\u001b[0m \u001b[0;32mfor\u001b[0m \u001b[0mi\u001b[0m \u001b[0;32min\u001b[0m \u001b[0mrange\u001b[0m\u001b[0;34m(\u001b[0m\u001b[0mlen\u001b[0m\u001b[0;34m(\u001b[0m\u001b[0mall_dates\u001b[0m\u001b[0;34m)\u001b[0m\u001b[0;34m-\u001b[0m\u001b[0;36m1\u001b[0m\u001b[0;34m)\u001b[0m\u001b[0;34m:\u001b[0m\u001b[0;34m\u001b[0m\u001b[0;34m\u001b[0m\u001b[0m\n\u001b[1;32m      5\u001b[0m     \u001b[0murl\u001b[0m \u001b[0;34m=\u001b[0m \u001b[0;34mf\"https://spotifycharts.com/regional/global/weekly/{all_dates[i+1]}--{all_dates[i]}\"\u001b[0m\u001b[0;34m\u001b[0m\u001b[0;34m\u001b[0m\u001b[0m\n\u001b[0;32m----> 6\u001b[0;31m     \u001b[0mtable_df\u001b[0m \u001b[0;34m=\u001b[0m \u001b[0mdownloadData\u001b[0m\u001b[0;34m(\u001b[0m\u001b[0murl\u001b[0m\u001b[0;34m)\u001b[0m\u001b[0;34m\u001b[0m\u001b[0;34m\u001b[0m\u001b[0m\n\u001b[0m\u001b[1;32m      7\u001b[0m     \u001b[0mtable\u001b[0m \u001b[0;34m=\u001b[0m \u001b[0mtable\u001b[0m\u001b[0;34m.\u001b[0m\u001b[0mappend\u001b[0m\u001b[0;34m(\u001b[0m\u001b[0mtable_df\u001b[0m\u001b[0;34m)\u001b[0m\u001b[0;34m\u001b[0m\u001b[0;34m\u001b[0m\u001b[0m\n\u001b[1;32m      8\u001b[0m     \u001b[0mprint\u001b[0m\u001b[0;34m(\u001b[0m\u001b[0murl\u001b[0m\u001b[0;34m)\u001b[0m\u001b[0;34m\u001b[0m\u001b[0;34m\u001b[0m\u001b[0m\n",
      "\u001b[0;32m<ipython-input-7-f7307d4a976b>\u001b[0m in \u001b[0;36mdownloadData\u001b[0;34m(new_URL)\u001b[0m\n\u001b[1;32m      2\u001b[0m     \u001b[0ms2\u001b[0m \u001b[0;34m=\u001b[0m \u001b[0mrequests\u001b[0m\u001b[0;34m.\u001b[0m\u001b[0mSession\u001b[0m\u001b[0;34m(\u001b[0m\u001b[0;34m)\u001b[0m\u001b[0;34m\u001b[0m\u001b[0;34m\u001b[0m\u001b[0m\n\u001b[1;32m      3\u001b[0m     \u001b[0mheaders\u001b[0m \u001b[0;34m=\u001b[0m \u001b[0;34m{\u001b[0m\u001b[0;34m'User-Agent'\u001b[0m\u001b[0;34m:\u001b[0m\u001b[0;34m\"Mozilla/5.0 (Windows NT 10.0; Win64; x64) AppleWebKit/537.36 (KHTML, like Gecko) Chrome/93.0.4577.82 Safari/537.36\"\u001b[0m\u001b[0;34m}\u001b[0m\u001b[0;34m\u001b[0m\u001b[0;34m\u001b[0m\u001b[0m\n\u001b[0;32m----> 4\u001b[0;31m     \u001b[0mresponse2\u001b[0m \u001b[0;34m=\u001b[0m \u001b[0ms2\u001b[0m\u001b[0;34m.\u001b[0m\u001b[0mget\u001b[0m\u001b[0;34m(\u001b[0m\u001b[0mnew_URL\u001b[0m\u001b[0;34m,\u001b[0m \u001b[0mheaders\u001b[0m\u001b[0;34m=\u001b[0m\u001b[0mheaders\u001b[0m\u001b[0;34m)\u001b[0m\u001b[0;34m\u001b[0m\u001b[0;34m\u001b[0m\u001b[0m\n\u001b[0m\u001b[1;32m      5\u001b[0m     \u001b[0msoup_data\u001b[0m \u001b[0;34m=\u001b[0m \u001b[0mBeautifulSoup\u001b[0m\u001b[0;34m(\u001b[0m\u001b[0mresponse2\u001b[0m\u001b[0;34m.\u001b[0m\u001b[0mcontent\u001b[0m\u001b[0;34m,\u001b[0m\u001b[0;34m\"html.parser\"\u001b[0m\u001b[0;34m)\u001b[0m  \u001b[0;31m# get page content\u001b[0m\u001b[0;34m\u001b[0m\u001b[0;34m\u001b[0m\u001b[0m\n\u001b[1;32m      6\u001b[0m     \u001b[0mtemp_df\u001b[0m \u001b[0;34m=\u001b[0m \u001b[0mpd\u001b[0m\u001b[0;34m.\u001b[0m\u001b[0mread_csv\u001b[0m\u001b[0;34m(\u001b[0m\u001b[0mio\u001b[0m\u001b[0;34m.\u001b[0m\u001b[0mStringIO\u001b[0m\u001b[0;34m(\u001b[0m\u001b[0msoup_data\u001b[0m\u001b[0;34m.\u001b[0m\u001b[0mdecode\u001b[0m\u001b[0;34m(\u001b[0m\u001b[0;34m\"utf-8\"\u001b[0m\u001b[0;34m)\u001b[0m\u001b[0;34m)\u001b[0m\u001b[0;34m,\u001b[0m \u001b[0msep\u001b[0m\u001b[0;34m=\u001b[0m\u001b[0;34m'delimiter'\u001b[0m\u001b[0;34m)\u001b[0m\u001b[0;34m\u001b[0m\u001b[0;34m\u001b[0m\u001b[0m\n",
      "\u001b[0;32m~/opt/anaconda3/envs/exts-ml/lib/python3.6/site-packages/requests/sessions.py\u001b[0m in \u001b[0;36mget\u001b[0;34m(self, url, **kwargs)\u001b[0m\n\u001b[1;32m    544\u001b[0m \u001b[0;34m\u001b[0m\u001b[0m\n\u001b[1;32m    545\u001b[0m         \u001b[0mkwargs\u001b[0m\u001b[0;34m.\u001b[0m\u001b[0msetdefault\u001b[0m\u001b[0;34m(\u001b[0m\u001b[0;34m'allow_redirects'\u001b[0m\u001b[0;34m,\u001b[0m \u001b[0;32mTrue\u001b[0m\u001b[0;34m)\u001b[0m\u001b[0;34m\u001b[0m\u001b[0;34m\u001b[0m\u001b[0m\n\u001b[0;32m--> 546\u001b[0;31m         \u001b[0;32mreturn\u001b[0m \u001b[0mself\u001b[0m\u001b[0;34m.\u001b[0m\u001b[0mrequest\u001b[0m\u001b[0;34m(\u001b[0m\u001b[0;34m'GET'\u001b[0m\u001b[0;34m,\u001b[0m \u001b[0murl\u001b[0m\u001b[0;34m,\u001b[0m \u001b[0;34m**\u001b[0m\u001b[0mkwargs\u001b[0m\u001b[0;34m)\u001b[0m\u001b[0;34m\u001b[0m\u001b[0;34m\u001b[0m\u001b[0m\n\u001b[0m\u001b[1;32m    547\u001b[0m \u001b[0;34m\u001b[0m\u001b[0m\n\u001b[1;32m    548\u001b[0m     \u001b[0;32mdef\u001b[0m \u001b[0moptions\u001b[0m\u001b[0;34m(\u001b[0m\u001b[0mself\u001b[0m\u001b[0;34m,\u001b[0m \u001b[0murl\u001b[0m\u001b[0;34m,\u001b[0m \u001b[0;34m**\u001b[0m\u001b[0mkwargs\u001b[0m\u001b[0;34m)\u001b[0m\u001b[0;34m:\u001b[0m\u001b[0;34m\u001b[0m\u001b[0;34m\u001b[0m\u001b[0m\n",
      "\u001b[0;32m~/opt/anaconda3/envs/exts-ml/lib/python3.6/site-packages/requests/sessions.py\u001b[0m in \u001b[0;36mrequest\u001b[0;34m(self, method, url, params, data, headers, cookies, files, auth, timeout, allow_redirects, proxies, hooks, stream, verify, cert, json)\u001b[0m\n\u001b[1;32m    531\u001b[0m         }\n\u001b[1;32m    532\u001b[0m         \u001b[0msend_kwargs\u001b[0m\u001b[0;34m.\u001b[0m\u001b[0mupdate\u001b[0m\u001b[0;34m(\u001b[0m\u001b[0msettings\u001b[0m\u001b[0;34m)\u001b[0m\u001b[0;34m\u001b[0m\u001b[0;34m\u001b[0m\u001b[0m\n\u001b[0;32m--> 533\u001b[0;31m         \u001b[0mresp\u001b[0m \u001b[0;34m=\u001b[0m \u001b[0mself\u001b[0m\u001b[0;34m.\u001b[0m\u001b[0msend\u001b[0m\u001b[0;34m(\u001b[0m\u001b[0mprep\u001b[0m\u001b[0;34m,\u001b[0m \u001b[0;34m**\u001b[0m\u001b[0msend_kwargs\u001b[0m\u001b[0;34m)\u001b[0m\u001b[0;34m\u001b[0m\u001b[0;34m\u001b[0m\u001b[0m\n\u001b[0m\u001b[1;32m    534\u001b[0m \u001b[0;34m\u001b[0m\u001b[0m\n\u001b[1;32m    535\u001b[0m         \u001b[0;32mreturn\u001b[0m \u001b[0mresp\u001b[0m\u001b[0;34m\u001b[0m\u001b[0;34m\u001b[0m\u001b[0m\n",
      "\u001b[0;32m~/opt/anaconda3/envs/exts-ml/lib/python3.6/site-packages/requests/sessions.py\u001b[0m in \u001b[0;36msend\u001b[0;34m(self, request, **kwargs)\u001b[0m\n\u001b[1;32m    644\u001b[0m \u001b[0;34m\u001b[0m\u001b[0m\n\u001b[1;32m    645\u001b[0m         \u001b[0;31m# Send the request\u001b[0m\u001b[0;34m\u001b[0m\u001b[0;34m\u001b[0m\u001b[0;34m\u001b[0m\u001b[0m\n\u001b[0;32m--> 646\u001b[0;31m         \u001b[0mr\u001b[0m \u001b[0;34m=\u001b[0m \u001b[0madapter\u001b[0m\u001b[0;34m.\u001b[0m\u001b[0msend\u001b[0m\u001b[0;34m(\u001b[0m\u001b[0mrequest\u001b[0m\u001b[0;34m,\u001b[0m \u001b[0;34m**\u001b[0m\u001b[0mkwargs\u001b[0m\u001b[0;34m)\u001b[0m\u001b[0;34m\u001b[0m\u001b[0;34m\u001b[0m\u001b[0m\n\u001b[0m\u001b[1;32m    647\u001b[0m \u001b[0;34m\u001b[0m\u001b[0m\n\u001b[1;32m    648\u001b[0m         \u001b[0;31m# Total elapsed time of the request (approximately)\u001b[0m\u001b[0;34m\u001b[0m\u001b[0;34m\u001b[0m\u001b[0;34m\u001b[0m\u001b[0m\n",
      "\u001b[0;32m~/opt/anaconda3/envs/exts-ml/lib/python3.6/site-packages/requests/adapters.py\u001b[0m in \u001b[0;36msend\u001b[0;34m(self, request, stream, timeout, verify, cert, proxies)\u001b[0m\n\u001b[1;32m    447\u001b[0m                     \u001b[0mdecode_content\u001b[0m\u001b[0;34m=\u001b[0m\u001b[0;32mFalse\u001b[0m\u001b[0;34m,\u001b[0m\u001b[0;34m\u001b[0m\u001b[0;34m\u001b[0m\u001b[0m\n\u001b[1;32m    448\u001b[0m                     \u001b[0mretries\u001b[0m\u001b[0;34m=\u001b[0m\u001b[0mself\u001b[0m\u001b[0;34m.\u001b[0m\u001b[0mmax_retries\u001b[0m\u001b[0;34m,\u001b[0m\u001b[0;34m\u001b[0m\u001b[0;34m\u001b[0m\u001b[0m\n\u001b[0;32m--> 449\u001b[0;31m                     \u001b[0mtimeout\u001b[0m\u001b[0;34m=\u001b[0m\u001b[0mtimeout\u001b[0m\u001b[0;34m\u001b[0m\u001b[0;34m\u001b[0m\u001b[0m\n\u001b[0m\u001b[1;32m    450\u001b[0m                 )\n\u001b[1;32m    451\u001b[0m \u001b[0;34m\u001b[0m\u001b[0m\n",
      "\u001b[0;32m~/opt/anaconda3/envs/exts-ml/lib/python3.6/site-packages/urllib3/connectionpool.py\u001b[0m in \u001b[0;36murlopen\u001b[0;34m(self, method, url, body, headers, retries, redirect, assert_same_host, timeout, pool_timeout, release_conn, chunked, body_pos, **response_kw)\u001b[0m\n\u001b[1;32m    598\u001b[0m                                                   \u001b[0mtimeout\u001b[0m\u001b[0;34m=\u001b[0m\u001b[0mtimeout_obj\u001b[0m\u001b[0;34m,\u001b[0m\u001b[0;34m\u001b[0m\u001b[0;34m\u001b[0m\u001b[0m\n\u001b[1;32m    599\u001b[0m                                                   \u001b[0mbody\u001b[0m\u001b[0;34m=\u001b[0m\u001b[0mbody\u001b[0m\u001b[0;34m,\u001b[0m \u001b[0mheaders\u001b[0m\u001b[0;34m=\u001b[0m\u001b[0mheaders\u001b[0m\u001b[0;34m,\u001b[0m\u001b[0;34m\u001b[0m\u001b[0;34m\u001b[0m\u001b[0m\n\u001b[0;32m--> 600\u001b[0;31m                                                   chunked=chunked)\n\u001b[0m\u001b[1;32m    601\u001b[0m \u001b[0;34m\u001b[0m\u001b[0m\n\u001b[1;32m    602\u001b[0m             \u001b[0;31m# If we're going to release the connection in ``finally:``, then\u001b[0m\u001b[0;34m\u001b[0m\u001b[0;34m\u001b[0m\u001b[0;34m\u001b[0m\u001b[0m\n",
      "\u001b[0;32m~/opt/anaconda3/envs/exts-ml/lib/python3.6/site-packages/urllib3/connectionpool.py\u001b[0m in \u001b[0;36m_make_request\u001b[0;34m(self, conn, method, url, timeout, chunked, **httplib_request_kw)\u001b[0m\n\u001b[1;32m    378\u001b[0m             \u001b[0;32mexcept\u001b[0m \u001b[0mTypeError\u001b[0m\u001b[0;34m:\u001b[0m  \u001b[0;31m# Python 2.6 and older, Python 3\u001b[0m\u001b[0;34m\u001b[0m\u001b[0;34m\u001b[0m\u001b[0m\n\u001b[1;32m    379\u001b[0m                 \u001b[0;32mtry\u001b[0m\u001b[0;34m:\u001b[0m\u001b[0;34m\u001b[0m\u001b[0;34m\u001b[0m\u001b[0m\n\u001b[0;32m--> 380\u001b[0;31m                     \u001b[0mhttplib_response\u001b[0m \u001b[0;34m=\u001b[0m \u001b[0mconn\u001b[0m\u001b[0;34m.\u001b[0m\u001b[0mgetresponse\u001b[0m\u001b[0;34m(\u001b[0m\u001b[0;34m)\u001b[0m\u001b[0;34m\u001b[0m\u001b[0;34m\u001b[0m\u001b[0m\n\u001b[0m\u001b[1;32m    381\u001b[0m                 \u001b[0;32mexcept\u001b[0m \u001b[0mException\u001b[0m \u001b[0;32mas\u001b[0m \u001b[0me\u001b[0m\u001b[0;34m:\u001b[0m\u001b[0;34m\u001b[0m\u001b[0;34m\u001b[0m\u001b[0m\n\u001b[1;32m    382\u001b[0m                     \u001b[0;31m# Remove the TypeError from the exception chain in Python 3;\u001b[0m\u001b[0;34m\u001b[0m\u001b[0;34m\u001b[0m\u001b[0;34m\u001b[0m\u001b[0m\n",
      "\u001b[0;32m~/opt/anaconda3/envs/exts-ml/lib/python3.6/http/client.py\u001b[0m in \u001b[0;36mgetresponse\u001b[0;34m(self)\u001b[0m\n\u001b[1;32m   1377\u001b[0m         \u001b[0;32mtry\u001b[0m\u001b[0;34m:\u001b[0m\u001b[0;34m\u001b[0m\u001b[0;34m\u001b[0m\u001b[0m\n\u001b[1;32m   1378\u001b[0m             \u001b[0;32mtry\u001b[0m\u001b[0;34m:\u001b[0m\u001b[0;34m\u001b[0m\u001b[0;34m\u001b[0m\u001b[0m\n\u001b[0;32m-> 1379\u001b[0;31m                 \u001b[0mresponse\u001b[0m\u001b[0;34m.\u001b[0m\u001b[0mbegin\u001b[0m\u001b[0;34m(\u001b[0m\u001b[0;34m)\u001b[0m\u001b[0;34m\u001b[0m\u001b[0;34m\u001b[0m\u001b[0m\n\u001b[0m\u001b[1;32m   1380\u001b[0m             \u001b[0;32mexcept\u001b[0m \u001b[0mConnectionError\u001b[0m\u001b[0;34m:\u001b[0m\u001b[0;34m\u001b[0m\u001b[0;34m\u001b[0m\u001b[0m\n\u001b[1;32m   1381\u001b[0m                 \u001b[0mself\u001b[0m\u001b[0;34m.\u001b[0m\u001b[0mclose\u001b[0m\u001b[0;34m(\u001b[0m\u001b[0;34m)\u001b[0m\u001b[0;34m\u001b[0m\u001b[0;34m\u001b[0m\u001b[0m\n",
      "\u001b[0;32m~/opt/anaconda3/envs/exts-ml/lib/python3.6/http/client.py\u001b[0m in \u001b[0;36mbegin\u001b[0;34m(self)\u001b[0m\n\u001b[1;32m    309\u001b[0m         \u001b[0;31m# read until we get a non-100 response\u001b[0m\u001b[0;34m\u001b[0m\u001b[0;34m\u001b[0m\u001b[0;34m\u001b[0m\u001b[0m\n\u001b[1;32m    310\u001b[0m         \u001b[0;32mwhile\u001b[0m \u001b[0;32mTrue\u001b[0m\u001b[0;34m:\u001b[0m\u001b[0;34m\u001b[0m\u001b[0;34m\u001b[0m\u001b[0m\n\u001b[0;32m--> 311\u001b[0;31m             \u001b[0mversion\u001b[0m\u001b[0;34m,\u001b[0m \u001b[0mstatus\u001b[0m\u001b[0;34m,\u001b[0m \u001b[0mreason\u001b[0m \u001b[0;34m=\u001b[0m \u001b[0mself\u001b[0m\u001b[0;34m.\u001b[0m\u001b[0m_read_status\u001b[0m\u001b[0;34m(\u001b[0m\u001b[0;34m)\u001b[0m\u001b[0;34m\u001b[0m\u001b[0;34m\u001b[0m\u001b[0m\n\u001b[0m\u001b[1;32m    312\u001b[0m             \u001b[0;32mif\u001b[0m \u001b[0mstatus\u001b[0m \u001b[0;34m!=\u001b[0m \u001b[0mCONTINUE\u001b[0m\u001b[0;34m:\u001b[0m\u001b[0;34m\u001b[0m\u001b[0;34m\u001b[0m\u001b[0m\n\u001b[1;32m    313\u001b[0m                 \u001b[0;32mbreak\u001b[0m\u001b[0;34m\u001b[0m\u001b[0;34m\u001b[0m\u001b[0m\n",
      "\u001b[0;32m~/opt/anaconda3/envs/exts-ml/lib/python3.6/http/client.py\u001b[0m in \u001b[0;36m_read_status\u001b[0;34m(self)\u001b[0m\n\u001b[1;32m    270\u001b[0m \u001b[0;34m\u001b[0m\u001b[0m\n\u001b[1;32m    271\u001b[0m     \u001b[0;32mdef\u001b[0m \u001b[0m_read_status\u001b[0m\u001b[0;34m(\u001b[0m\u001b[0mself\u001b[0m\u001b[0;34m)\u001b[0m\u001b[0;34m:\u001b[0m\u001b[0;34m\u001b[0m\u001b[0;34m\u001b[0m\u001b[0m\n\u001b[0;32m--> 272\u001b[0;31m         \u001b[0mline\u001b[0m \u001b[0;34m=\u001b[0m \u001b[0mstr\u001b[0m\u001b[0;34m(\u001b[0m\u001b[0mself\u001b[0m\u001b[0;34m.\u001b[0m\u001b[0mfp\u001b[0m\u001b[0;34m.\u001b[0m\u001b[0mreadline\u001b[0m\u001b[0;34m(\u001b[0m\u001b[0m_MAXLINE\u001b[0m \u001b[0;34m+\u001b[0m \u001b[0;36m1\u001b[0m\u001b[0;34m)\u001b[0m\u001b[0;34m,\u001b[0m \u001b[0;34m\"iso-8859-1\"\u001b[0m\u001b[0;34m)\u001b[0m\u001b[0;34m\u001b[0m\u001b[0;34m\u001b[0m\u001b[0m\n\u001b[0m\u001b[1;32m    273\u001b[0m         \u001b[0;32mif\u001b[0m \u001b[0mlen\u001b[0m\u001b[0;34m(\u001b[0m\u001b[0mline\u001b[0m\u001b[0;34m)\u001b[0m \u001b[0;34m>\u001b[0m \u001b[0m_MAXLINE\u001b[0m\u001b[0;34m:\u001b[0m\u001b[0;34m\u001b[0m\u001b[0;34m\u001b[0m\u001b[0m\n\u001b[1;32m    274\u001b[0m             \u001b[0;32mraise\u001b[0m \u001b[0mLineTooLong\u001b[0m\u001b[0;34m(\u001b[0m\u001b[0;34m\"status line\"\u001b[0m\u001b[0;34m)\u001b[0m\u001b[0;34m\u001b[0m\u001b[0;34m\u001b[0m\u001b[0m\n",
      "\u001b[0;32m~/opt/anaconda3/envs/exts-ml/lib/python3.6/socket.py\u001b[0m in \u001b[0;36mreadinto\u001b[0;34m(self, b)\u001b[0m\n\u001b[1;32m    584\u001b[0m         \u001b[0;32mwhile\u001b[0m \u001b[0;32mTrue\u001b[0m\u001b[0;34m:\u001b[0m\u001b[0;34m\u001b[0m\u001b[0;34m\u001b[0m\u001b[0m\n\u001b[1;32m    585\u001b[0m             \u001b[0;32mtry\u001b[0m\u001b[0;34m:\u001b[0m\u001b[0;34m\u001b[0m\u001b[0;34m\u001b[0m\u001b[0m\n\u001b[0;32m--> 586\u001b[0;31m                 \u001b[0;32mreturn\u001b[0m \u001b[0mself\u001b[0m\u001b[0;34m.\u001b[0m\u001b[0m_sock\u001b[0m\u001b[0;34m.\u001b[0m\u001b[0mrecv_into\u001b[0m\u001b[0;34m(\u001b[0m\u001b[0mb\u001b[0m\u001b[0;34m)\u001b[0m\u001b[0;34m\u001b[0m\u001b[0;34m\u001b[0m\u001b[0m\n\u001b[0m\u001b[1;32m    587\u001b[0m             \u001b[0;32mexcept\u001b[0m \u001b[0mtimeout\u001b[0m\u001b[0;34m:\u001b[0m\u001b[0;34m\u001b[0m\u001b[0;34m\u001b[0m\u001b[0m\n\u001b[1;32m    588\u001b[0m                 \u001b[0mself\u001b[0m\u001b[0;34m.\u001b[0m\u001b[0m_timeout_occurred\u001b[0m \u001b[0;34m=\u001b[0m \u001b[0;32mTrue\u001b[0m\u001b[0;34m\u001b[0m\u001b[0;34m\u001b[0m\u001b[0m\n",
      "\u001b[0;32m~/opt/anaconda3/envs/exts-ml/lib/python3.6/site-packages/urllib3/contrib/pyopenssl.py\u001b[0m in \u001b[0;36mrecv_into\u001b[0;34m(self, *args, **kwargs)\u001b[0m\n\u001b[1;32m    283\u001b[0m     \u001b[0;32mdef\u001b[0m \u001b[0mrecv_into\u001b[0m\u001b[0;34m(\u001b[0m\u001b[0mself\u001b[0m\u001b[0;34m,\u001b[0m \u001b[0;34m*\u001b[0m\u001b[0margs\u001b[0m\u001b[0;34m,\u001b[0m \u001b[0;34m**\u001b[0m\u001b[0mkwargs\u001b[0m\u001b[0;34m)\u001b[0m\u001b[0;34m:\u001b[0m\u001b[0;34m\u001b[0m\u001b[0;34m\u001b[0m\u001b[0m\n\u001b[1;32m    284\u001b[0m         \u001b[0;32mtry\u001b[0m\u001b[0;34m:\u001b[0m\u001b[0;34m\u001b[0m\u001b[0;34m\u001b[0m\u001b[0m\n\u001b[0;32m--> 285\u001b[0;31m             \u001b[0;32mreturn\u001b[0m \u001b[0mself\u001b[0m\u001b[0;34m.\u001b[0m\u001b[0mconnection\u001b[0m\u001b[0;34m.\u001b[0m\u001b[0mrecv_into\u001b[0m\u001b[0;34m(\u001b[0m\u001b[0;34m*\u001b[0m\u001b[0margs\u001b[0m\u001b[0;34m,\u001b[0m \u001b[0;34m**\u001b[0m\u001b[0mkwargs\u001b[0m\u001b[0;34m)\u001b[0m\u001b[0;34m\u001b[0m\u001b[0;34m\u001b[0m\u001b[0m\n\u001b[0m\u001b[1;32m    286\u001b[0m         \u001b[0;32mexcept\u001b[0m \u001b[0mOpenSSL\u001b[0m\u001b[0;34m.\u001b[0m\u001b[0mSSL\u001b[0m\u001b[0;34m.\u001b[0m\u001b[0mSysCallError\u001b[0m \u001b[0;32mas\u001b[0m \u001b[0me\u001b[0m\u001b[0;34m:\u001b[0m\u001b[0;34m\u001b[0m\u001b[0;34m\u001b[0m\u001b[0m\n\u001b[1;32m    287\u001b[0m             \u001b[0;32mif\u001b[0m \u001b[0mself\u001b[0m\u001b[0;34m.\u001b[0m\u001b[0msuppress_ragged_eofs\u001b[0m \u001b[0;32mand\u001b[0m \u001b[0me\u001b[0m\u001b[0;34m.\u001b[0m\u001b[0margs\u001b[0m \u001b[0;34m==\u001b[0m \u001b[0;34m(\u001b[0m\u001b[0;34m-\u001b[0m\u001b[0;36m1\u001b[0m\u001b[0;34m,\u001b[0m \u001b[0;34m'Unexpected EOF'\u001b[0m\u001b[0;34m)\u001b[0m\u001b[0;34m:\u001b[0m\u001b[0;34m\u001b[0m\u001b[0;34m\u001b[0m\u001b[0m\n",
      "\u001b[0;32m~/opt/anaconda3/envs/exts-ml/lib/python3.6/site-packages/OpenSSL/SSL.py\u001b[0m in \u001b[0;36mrecv_into\u001b[0;34m(self, buffer, nbytes, flags)\u001b[0m\n\u001b[1;32m   1731\u001b[0m             \u001b[0mresult\u001b[0m \u001b[0;34m=\u001b[0m \u001b[0m_lib\u001b[0m\u001b[0;34m.\u001b[0m\u001b[0mSSL_peek\u001b[0m\u001b[0;34m(\u001b[0m\u001b[0mself\u001b[0m\u001b[0;34m.\u001b[0m\u001b[0m_ssl\u001b[0m\u001b[0;34m,\u001b[0m \u001b[0mbuf\u001b[0m\u001b[0;34m,\u001b[0m \u001b[0mnbytes\u001b[0m\u001b[0;34m)\u001b[0m\u001b[0;34m\u001b[0m\u001b[0;34m\u001b[0m\u001b[0m\n\u001b[1;32m   1732\u001b[0m         \u001b[0;32melse\u001b[0m\u001b[0;34m:\u001b[0m\u001b[0;34m\u001b[0m\u001b[0;34m\u001b[0m\u001b[0m\n\u001b[0;32m-> 1733\u001b[0;31m             \u001b[0mresult\u001b[0m \u001b[0;34m=\u001b[0m \u001b[0m_lib\u001b[0m\u001b[0;34m.\u001b[0m\u001b[0mSSL_read\u001b[0m\u001b[0;34m(\u001b[0m\u001b[0mself\u001b[0m\u001b[0;34m.\u001b[0m\u001b[0m_ssl\u001b[0m\u001b[0;34m,\u001b[0m \u001b[0mbuf\u001b[0m\u001b[0;34m,\u001b[0m \u001b[0mnbytes\u001b[0m\u001b[0;34m)\u001b[0m\u001b[0;34m\u001b[0m\u001b[0;34m\u001b[0m\u001b[0m\n\u001b[0m\u001b[1;32m   1734\u001b[0m         \u001b[0mself\u001b[0m\u001b[0;34m.\u001b[0m\u001b[0m_raise_ssl_error\u001b[0m\u001b[0;34m(\u001b[0m\u001b[0mself\u001b[0m\u001b[0;34m.\u001b[0m\u001b[0m_ssl\u001b[0m\u001b[0;34m,\u001b[0m \u001b[0mresult\u001b[0m\u001b[0;34m)\u001b[0m\u001b[0;34m\u001b[0m\u001b[0;34m\u001b[0m\u001b[0m\n\u001b[1;32m   1735\u001b[0m \u001b[0;34m\u001b[0m\u001b[0m\n",
      "\u001b[0;31mKeyboardInterrupt\u001b[0m: "
     ]
    }
   ],
   "source": [
    "# Pulling all the weeks\n",
    "begin_time = dt.datetime.now()\n",
    "table = pd.DataFrame(columns=[\"Position\", \"Track\", \"Artist\", \"Streams\", \"Date\"])\n",
    "for i in range(len(all_dates)-1):\n",
    "    url = f\"https://spotifycharts.com/regional/global/weekly/{all_dates[i+1]}--{all_dates[i]}\"\n",
    "    table_df = downloadData(url)\n",
    "    table = table.append(table_df)\n",
    "    print(url)"
   ]
  },
  {
   "cell_type": "code",
   "execution_count": null,
   "id": "68735fc5",
   "metadata": {},
   "outputs": [],
   "source": [
    "print(\"elapsed time:\", dt.datetime.now() - begin_time)"
   ]
  },
  {
   "cell_type": "code",
   "execution_count": null,
   "id": "76fd1ea3",
   "metadata": {
    "tags": []
   },
   "outputs": [],
   "source": [
    "table.reset_index(inplace = True, drop = True)\n",
    "table.head()"
   ]
  },
  {
   "cell_type": "code",
   "execution_count": null,
   "id": "28778e9f",
   "metadata": {},
   "outputs": [],
   "source": [
    "# Change columns type\n",
    "table['Streams'] = table['Streams'].str.replace('</tr>','0')\n",
    "table['Streams'] = pd.to_numeric(table['Streams'].str.replace(',',''))"
   ]
  },
  {
   "cell_type": "markdown",
   "id": "3d34e687",
   "metadata": {},
   "source": [
    "# ARTIST SELECTION"
   ]
  },
  {
   "cell_type": "code",
   "execution_count": null,
   "id": "7a6c1f0a",
   "metadata": {},
   "outputs": [],
   "source": [
    "# Select only rows that contain Queen\n",
    "artist_name = 'Rihanna'\n",
    "artist_df = table[table['Artist'].str.contains(f'{artist_name}')]"
   ]
  },
  {
   "cell_type": "code",
   "execution_count": null,
   "id": "e464de4d",
   "metadata": {},
   "outputs": [],
   "source": [
    "artist_df.head(10)"
   ]
  },
  {
   "cell_type": "code",
   "execution_count": null,
   "id": "41231826",
   "metadata": {},
   "outputs": [],
   "source": [
    "# Let's see when did we have the best performance in the Charts\n",
    "artist_df.sort_values('Position', ascending=True).head(20)"
   ]
  },
  {
   "cell_type": "code",
   "execution_count": null,
   "id": "5c711741",
   "metadata": {},
   "outputs": [],
   "source": [
    "# Which wee has Queen had more streams?\n",
    "artist_df.groupby(['Date']).sum()[['Streams']].sort_values('Streams', ascending=False).head(10)"
   ]
  },
  {
   "cell_type": "code",
   "execution_count": null,
   "id": "30897cc6",
   "metadata": {},
   "outputs": [],
   "source": [
    "# Let's make a quick graph to get a better idea\n",
    "artist_by_streams = artist_df.groupby(['Date']).sum()[['Streams']]\n",
    "\n",
    "artist_by_streams.plot(kind='bar', y='Streams', figsize=(35,10), legend=None, title=f'{artist_name} Streams Performance', xlabel = 'Date', ylabel = 'Streams');"
   ]
  },
  {
   "cell_type": "code",
   "execution_count": null,
   "id": "f8c373ca",
   "metadata": {},
   "outputs": [],
   "source": [
    "artist_df.groupby(['Date']).count()[['Track']].sort_values('Track', ascending=False).head()"
   ]
  },
  {
   "cell_type": "code",
   "execution_count": null,
   "id": "beaf1d11",
   "metadata": {},
   "outputs": [],
   "source": [
    "artist_df[artist_df['Date'] == '2018-11-16'].sort_values('Position')"
   ]
  },
  {
   "cell_type": "markdown",
   "id": "4d2c494a",
   "metadata": {},
   "source": [
    "## When was the movie \"Bohemian Rhapsody\" released?\n",
    "Between 23 October to 2 November 2018"
   ]
  },
  {
   "cell_type": "markdown",
   "id": "6d18972e",
   "metadata": {},
   "source": [
    "### How much does Spotify pay per stream? -- not official, just an assumption--\n",
    "In 2020, a report from Business Insider found that Spotify has paid artists USD 0.0033 per stream, which means 250 streams to earn 1 dollar."
   ]
  },
  {
   "cell_type": "code",
   "execution_count": null,
   "id": "52e4cd71",
   "metadata": {},
   "outputs": [],
   "source": [
    "artist_df['Revenue'] = artist_df['Streams'] * 0.0033"
   ]
  },
  {
   "cell_type": "code",
   "execution_count": null,
   "id": "668844f9",
   "metadata": {},
   "outputs": [],
   "source": [
    "artist_df.head()"
   ]
  },
  {
   "cell_type": "code",
   "execution_count": null,
   "id": "214c5f19",
   "metadata": {},
   "outputs": [],
   "source": [
    "sum(artist_df[artist_df.Track == 'Bohemian Rhapsody - Remastered 2011']['Revenue'])"
   ]
  },
  {
   "cell_type": "code",
   "execution_count": null,
   "id": "9b413903",
   "metadata": {},
   "outputs": [],
   "source": [
    "# Let's Clean the names as most of them have the same 'Remasterd 2011'\n",
    "artist_df['Track'] = artist_df['Track'].str.split(' - Remastered 2011', expand = True)[0]"
   ]
  },
  {
   "cell_type": "code",
   "execution_count": null,
   "id": "0ecb8e09",
   "metadata": {},
   "outputs": [],
   "source": [
    "# Let's gather the basics:\n",
    "# Which and how many unique songs have performed in the top 200 charts?\n",
    "unique_songs_top200 = artist_df.Track.unique()\n",
    "count_unique_songs_top200 = len(unique_songs_top200)\n",
    "# Which is the most streamed song? How many streams and how much revenue has it generated?\n",
    "most_streamed_song = artist_df.groupby('Track').sum().sort_values('Streams', ascending=False).reset_index().iloc[0]['Track']\n",
    "most_streamed_song_streams = artist_df.groupby('Track').sum().sort_values('Streams', ascending=False).reset_index().iloc[0]['Streams']\n",
    "most_streamed_song_revenue = artist_df.groupby('Track').sum().sort_values('Streams', ascending=False).reset_index().iloc[0]['Revenue']"
   ]
  },
  {
   "cell_type": "code",
   "execution_count": null,
   "id": "a157068f",
   "metadata": {},
   "outputs": [],
   "source": [
    "summary_text = f\"The artist {artist_name} has had so far {int(count_unique_songs_top200)} songs at the Spotify's top 200 Global Charts, from which {most_streamed_song} has been the most viewed, with {most_streamed_song_streams} streams generating a revenue of ${int(most_streamed_song_revenue)}.\""
   ]
  },
  {
   "cell_type": "code",
   "execution_count": null,
   "id": "def34e76",
   "metadata": {},
   "outputs": [],
   "source": [
    "print(summary_text)"
   ]
  },
  {
   "cell_type": "code",
   "execution_count": null,
   "id": "e4d5898b",
   "metadata": {},
   "outputs": [],
   "source": [
    "artist_pv_streams = artist_df.pivot_table(index='Date', columns=['Track'], values=['Streams'], fill_value=0)\n",
    "artist_pv_streams = artist_pv_streams.replace(0, np.nan)\n",
    "artist_pv_streams.plot(y=artist_pv_streams.columns,\n",
    "                      figsize=(15,10),\n",
    "                      legend=True, \n",
    "                      title ='Queen Charts Performance', \n",
    "                      xlabel = 'Date',\n",
    "                      ylabel ='Streams');"
   ]
  },
  {
   "cell_type": "code",
   "execution_count": null,
   "id": "55cc4d00",
   "metadata": {},
   "outputs": [],
   "source": [
    "artist_pv_streams.head()"
   ]
  },
  {
   "cell_type": "code",
   "execution_count": null,
   "id": "be13eed2",
   "metadata": {},
   "outputs": [],
   "source": [
    "# How many weeks have the songs been in the top 200 chart?\n",
    "times_top200 = artist_df.groupby('Track').count()[['Date']].rename(columns={'Date':'Weeks'}).sort_values('Weeks', ascending=False).reset_index()\n",
    "times_top200.head()"
   ]
  },
  {
   "cell_type": "code",
   "execution_count": null,
   "id": "dd519e59",
   "metadata": {},
   "outputs": [],
   "source": [
    "# Let's prepare the data for the summary\n",
    "# How did Queen perform last week?\n",
    "last_week = all_dates[0].strftime('%Y-%m-%d')\n",
    "last_week_summary = artist_df[artist_df['Date'] == last_week].sort_values('Position', ascending = True).set_index('Position')[['Track', 'Artist', 'Date', 'Streams', 'Revenue']]\n",
    "last_week_summary"
   ]
  },
  {
   "cell_type": "code",
   "execution_count": null,
   "id": "d0c12344",
   "metadata": {},
   "outputs": [],
   "source": [
    "# Top 5 Songs on Charts\n",
    "top_5_songs = artist_df.groupby(['Track', 'Artist']).sum()[['Streams', 'Revenue']].sort_values('Streams', ascending = False).head(5).reset_index()\n",
    "top_5_songs = top_5_songs.merge(times_top200, left_on='Track', right_on='Track', how='left').set_index(['Track'])[['Artist', 'Weeks', 'Streams', 'Revenue']]\n",
    "top_5_songs"
   ]
  },
  {
   "cell_type": "code",
   "execution_count": null,
   "id": "87e64389",
   "metadata": {},
   "outputs": [],
   "source": [
    "most_played_song = top_5_songs.index[0]\n",
    "# Let's make a quick graph of the most played song\n",
    "most_played_df = artist_df[artist_df['Track'] == most_played_song].groupby(['Date']).sum()[['Streams']]\n",
    "\n",
    "# Let's make sur the graph includes dates in between\n",
    "date1 = str(most_played_df.reset_index().iloc[1]['Date'])\n",
    "date2 = str(most_played_df.reset_index().iloc[-1]['Date'])\n",
    "mydates = pd.date_range(date1, date2, freq=\"7D\").strftime('%Y-%m-%d').tolist()\n",
    "date_range_df = pd.DataFrame(columns=['Date'], data = mydates).set_index('Date')\n",
    "\n",
    "fig = most_played_df.merge(date_range_df, left_index=True, right_index=True, how='right').plot(kind='bar', y='Streams', figsize=(35,10), legend=None, title='Bohemian Rhapsody Streams Performance', xlabel = 'Date', ylabel ='Streams').get_figure()\n",
    "fig.savefig(f'generated_plots/{most_played_song}_{artist_name}_graph.png')"
   ]
  },
  {
   "cell_type": "code",
   "execution_count": null,
   "id": "49421fa1",
   "metadata": {},
   "outputs": [],
   "source": [
    "## Top 10 positions ever\n",
    "top_10_positions = artist_df.sort_values(['Position'], ascending=True).head(10).set_index('Position')[['Track', 'Artist', 'Date', 'Streams', 'Revenue']]\n",
    "top_10_positions"
   ]
  },
  {
   "cell_type": "code",
   "execution_count": null,
   "id": "465ac96c",
   "metadata": {},
   "outputs": [],
   "source": [
    "# Some cleaning\n",
    "artist_df.reset_index(drop=True, inplace=True)\n",
    "artist_df = artist_df[['Position', 'Track', 'Artist', 'Date', 'Streams', 'Revenue']]"
   ]
  },
  {
   "cell_type": "code",
   "execution_count": null,
   "id": "4981b60b",
   "metadata": {},
   "outputs": [],
   "source": [
    "# Create a Pandas Excel writer using XlsxWriter as the engine.\n",
    "\n",
    "writer = pd.ExcelWriter(f\"/Users/valentinmonney/Documents/data_science/python/Data science projects examples/automatisation and webscraping/{artist_name}_Report.xlsx\", engine='xlsxwriter', datetime_format='dd-mm-yyyy')\n",
    "\n",
    "# Get the xlswriter workbook and worksheet objects.\n",
    "workbook = writer.book\n",
    "\n",
    "#Write each dataframe to a different worksheet.\n",
    "last_week_summary.to_excel(writer, sheet_name='Summary', startrow=3, startcol=1)\n",
    "top_5_songs.to_excel(writer, sheet_name='Summary', startrow=4+last_week_summary.shape[0]+2, startcol=2)\n",
    "top_10_positions.to_excel(writer, sheet_name='Summary', startrow=4+last_week_summary.shape[0]+4+top_5_songs.shape[0]+1)\n",
    "ws_song_df = workbook.add_worksheet(f'Top Song Graph')\n",
    "ws_song_df.insert_image('A2', f'/Users/valentinmonney/Documents/data_science/python/Data science projects examples/automatisation and webscraping/generated_plots/{most_played_song}_{artist_name}_graph.png')\n",
    "artist_df.to_excel(writer, sheet_name='Detail')\n",
    "\n",
    "start_row_numbers = 4+last_week_summary.shape[0]+4\n",
    "end_row_numbers = start_row_numbers+top_5_songs.shape[0]\n",
    "\n",
    "# Create formats to apply later.\n",
    "currency_format = workbook.add_format({'num_format': '$#,##0.00', 'align':'center'})\n",
    "streams_format= workbook.add_format({'num_format': '$#,##0', 'align':'center'})\n",
    "empty_format = workbook.add_format()\n",
    "center_bold_format = workbook.add_format({'align':'center'})\n",
    "center_bold_format.set_bold()\n",
    "\n",
    "start_row_numbers = 4+last_week_summary.shape[0]+4\n",
    "end_row_numbers = start_row_numbers+top_5_songs.shape[0]\n",
    "\n",
    "ws_summary = writer.sheets['Summary']\n",
    "ws_summary.set_column(f'C1:D{end_row_numbers}', 25, center_bold_format)\n",
    "ws_summary.set_column(f'E1:E{end_row_numbers}', 18, center_bold_format)\n",
    "ws_summary.set_column(f'F1:F{end_row_numbers}', 15, streams_format)\n",
    "ws_summary.set_column(f'G1:G{end_row_numbers}', 15, currency_format)\n",
    "\n",
    "ws_artist_df = writer.sheets['Detail']\n",
    "ws_artist_df.set_column(f'B1:B{artist_df.shape[0]}', 8, center_bold_format)\n",
    "ws_artist_df.set_column(f'C1:C{artist_df.shape[0]}', 25, center_bold_format)\n",
    "ws_artist_df.set_column(f'E1:E{artist_df.shape[0]}', 10, center_bold_format)\n",
    "ws_artist_df.set_column(f'F1:F{artist_df.shape[0]}', 15, streams_format)\n",
    "ws_artist_df.set_column(f'G1:G{artist_df.shape[0]}', 15, currency_format)\n",
    "\n",
    "# Create a new chart object\n",
    "chart = workbook.add_chart({'type': 'bar'})\n",
    "\n",
    "# Add a series to the chart.\n",
    "chart.add_series({\n",
    "    'name':        f'{artist_name} Top 5 Songs (Weeks on Chart)',\n",
    "    'categories':  f\"=Summary!$C${end_row_numbers}:$C${start_row_numbers}\",\n",
    "    'values':      f\"=Summary!$E${end_row_numbers}:$E${start_row_numbers}\",\n",
    "    'data_labels': {'value': True}})\n",
    "\n",
    "chart.set_style(2)\n",
    "chart.set_legend({'Position': 'none'})\n",
    "\n",
    "#\n",
    "chart.set_title ({'name': f'{artist_name} Top 5 Songs (Weeks on Charts)'})\n",
    "chart.set_x_axis({'name': 'Weeks on Charts'})\n",
    "chart.set_y_axis({'reverse': True})\n",
    "\n",
    "ws_summary.insert_chart('I7', chart)\n",
    "\n",
    "# ws_summary.writer(f'B{end_row_numbers+6}\", text) # writes a string\n",
    "# Create a format to use in the merged range.\n",
    "merge_title = workbook.add_format({\n",
    "    'bold':1,\n",
    "    'border':1,\n",
    "    'align': 'center',\n",
    "    'valign': 'vcenter',\n",
    "    'fg_color': 'silver'})\n",
    "\n",
    "merge_title.set_font_size(18)\n",
    "\n",
    "table_title = workbook.add_format({\n",
    "    'bold':1,\n",
    "    'border':1,\n",
    "    'align': 'center',\n",
    "    'valign': 'vcenter',\n",
    "    'fg_color': 'silver'})\n",
    "table_title.set_font_size(14)\n",
    "\n",
    "summary_text_format = workbook.add_format({\n",
    "    'bold':1,\n",
    "    'border':1,\n",
    "    'align': 'center',\n",
    "    'valign': 'vcenter',\n",
    "    'fg_color': 'silver',\n",
    "    'text_wrap': True})\n",
    "summary_text_format.set_font_size(11)\n",
    "\n",
    "# Add Title\n",
    "ws_summary.merge_range(f\"B1:N1\", f\"{artist_name} Spotify Summary\", merge_title)\n",
    "ws_summary.merge_range(f\"B3:C3\", f\"LastWeek's Performance\", table_title)\n",
    "ws_summary.merge_range(f\"B{2+last_week_summary.shape[0]+4}:C{2+last_week_summary.shape[0]+4}\", f\"Top 5 {artist_name} Songs\", table_title)\n",
    "ws_summary.merge_range(f\"B{end_row_numbers+1}:C{end_row_numbers+1}\", f\"Top 10 {artist_name} Performances\", table_title)\n",
    "ws_summary.merge_range(f\"I23:O26\", summary_text, summary_text_format)\n",
    "\n",
    "#### Autofilter\n",
    "ws_artist_df.autofilter(f'B1:G{artist_df.shape[0]+1}')\n",
    "\n",
    "ws_summary.set_zoom(90)\n",
    "ws_song_df.set_zoom(55)\n",
    "writer.save()"
   ]
  },
  {
   "cell_type": "code",
   "execution_count": null,
   "id": "dd8a9159",
   "metadata": {},
   "outputs": [],
   "source": []
  }
 ],
 "metadata": {
  "kernelspec": {
   "display_name": "Python 3",
   "language": "python",
   "name": "python3"
  },
  "language_info": {
   "codemirror_mode": {
    "name": "ipython",
    "version": 3
   },
   "file_extension": ".py",
   "mimetype": "text/x-python",
   "name": "python",
   "nbconvert_exporter": "python",
   "pygments_lexer": "ipython3",
   "version": "3.6.13"
  }
 },
 "nbformat": 4,
 "nbformat_minor": 5
}
