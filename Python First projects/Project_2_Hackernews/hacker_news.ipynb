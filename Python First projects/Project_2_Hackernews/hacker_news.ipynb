{
 "cells": [
  {
   "cell_type": "markdown",
   "metadata": {
    "collapsed": true
   },
   "source": [
    "# Finding the best time and type of posts to receive more comments on Hacker News\n",
    "\n",
    "In this project, we'll aim to find which type of posts received on average the most comments, as well as at what time to post it on Hacker News. Hacker News is a website where user-submitted stories (known as 'posts') are voted and commented upon, similar to reddit. Hacker News is extremely popular in technology and startup circles, and posts that make it to the top of Hacker News' listings can get hundreds of thousands of visitors as a result.\n",
    "\n",
    "# Introduction\n",
    "We're specifically interested in posts whose titles begin with either Ask HN or Show HN. Users submit \"Ask HN\" posts to ask the Hacker News community a specific question. Likewise, users submit Show HN posts to show the Hacker News community a project, product, or just generally something interesting.\n",
    "Our goal for this project is to analyze data to understand what kinds of posts are likely to produce more comments.\n",
    "\n",
    "the dataset has been reduced from almost 300'00 posts to approximately 20000 posts. We removed all submissions that did not receive any comments, and then randomly sampling from the remaining submissions. Below are descriptions of the columns:\n",
    "\n",
    "- **id** - The unique identifier from Hacker News for the post\n",
    "- **title** - The title of the post\n",
    "- **url** - The URL that the posts links to, if it the post has a URL\n",
    "- **num_points** - The number of points the post acquired, calculated as the total number of upvotes minus - the total number of downvotes\n",
    "- **num_comments** - The number of comments that were made on the post\n",
    "- **author** - The username of the person who submitted the post\n",
    "- **created_at** - The date and time at which the post was submitted\n",
    "\n",
    "# Importing Libraries and Reading data\n",
    "\n",
    "Let's start by importing the libraries we need and reading the data set into a list of lists.\n"
   ]
  },
  {
   "cell_type": "code",
   "execution_count": 33,
   "metadata": {
    "collapsed": false,
    "scrolled": true
   },
   "outputs": [
    {
     "name": "stdout",
     "output_type": "stream",
     "text": [
      "[['id', 'title', 'url', 'num_points', 'num_comments', 'author', 'created_at'], ['12224879', 'Interactive Dynamic Video', 'http://www.interactivedynamicvideo.com/', '386', '52', 'ne0phyte', '8/4/2016 11:52'], ['10975351', 'How to Use Open Source and Shut the Fuck Up at the Same Time', 'http://hueniverse.com/2016/01/26/how-to-use-open-source-and-shut-the-fuck-up-at-the-same-time/', '39', '10', 'josep2', '1/26/2016 19:30'], ['11964716', \"Florida DJs May Face Felony for April Fools' Water Joke\", 'http://www.thewire.com/entertainment/2013/04/florida-djs-april-fools-water-joke/63798/', '2', '1', 'vezycash', '6/23/2016 22:20'], ['11919867', 'Technology ventures: From Idea to Enterprise', 'https://www.amazon.com/Technology-Ventures-Enterprise-Thomas-Byers/dp/0073523429', '3', '1', 'hswarna', '6/17/2016 0:01']]\n"
     ]
    }
   ],
   "source": [
    "import csv\n",
    "f = open('hacker_news.csv')\n",
    "hn = list(csv.reader(f))\n",
    "\n",
    "print(hn[:5])"
   ]
  },
  {
   "cell_type": "markdown",
   "metadata": {},
   "source": [
    "The first list in the inner lists contains the column headers. In order to analyze our data, we need to first remove the row containing the column headers:"
   ]
  },
  {
   "cell_type": "code",
   "execution_count": 34,
   "metadata": {
    "collapsed": false
   },
   "outputs": [
    {
     "name": "stdout",
     "output_type": "stream",
     "text": [
      "['id', 'title', 'url', 'num_points', 'num_comments', 'author', 'created_at']\n",
      "[['12224879', 'Interactive Dynamic Video', 'http://www.interactivedynamicvideo.com/', '386', '52', 'ne0phyte', '8/4/2016 11:52'], ['10975351', 'How to Use Open Source and Shut the Fuck Up at the Same Time', 'http://hueniverse.com/2016/01/26/how-to-use-open-source-and-shut-the-fuck-up-at-the-same-time/', '39', '10', 'josep2', '1/26/2016 19:30'], ['11964716', \"Florida DJs May Face Felony for April Fools' Water Joke\", 'http://www.thewire.com/entertainment/2013/04/florida-djs-april-fools-water-joke/63798/', '2', '1', 'vezycash', '6/23/2016 22:20'], ['11919867', 'Technology ventures: From Idea to Enterprise', 'https://www.amazon.com/Technology-Ventures-Enterprise-Thomas-Byers/dp/0073523429', '3', '1', 'hswarna', '6/17/2016 0:01'], ['10301696', 'Note by Note: The Making of Steinway L1037 (2007)', 'http://www.nytimes.com/2007/11/07/movies/07stein.html?_r=0', '8', '2', 'walterbell', '9/30/2015 4:12']]\n"
     ]
    }
   ],
   "source": [
    "headers = hn[0]\n",
    "hn = hn[1:]\n",
    "\n",
    "print(headers)\n",
    "print(hn[:5])"
   ]
  },
  {
   "cell_type": "markdown",
   "metadata": {},
   "source": [
    "# Filtering Data\n",
    "\n",
    "Now that we removed the headers from *hn*, we're ready to filter our data. Since we're only concerned with posts whose titles begin with *Ask HN* or *Show HN*, we'll create new lists of lists containing just the data for those titles. We'll use the method *startswith* to find which title begin with \"ask\" or \"show\" and the method *lower* to control for case."
   ]
  },
  {
   "cell_type": "code",
   "execution_count": 35,
   "metadata": {
    "collapsed": false
   },
   "outputs": [
    {
     "name": "stdout",
     "output_type": "stream",
     "text": [
      "1744\n",
      "1162\n",
      "17194\n"
     ]
    }
   ],
   "source": [
    "ask_posts = []\n",
    "show_posts = []\n",
    "other_posts = []\n",
    "\n",
    "for row in hn:\n",
    "    title = row[1].lower()\n",
    "    if title.startswith('ask hn') == True:\n",
    "        ask_posts.append(row)\n",
    "    elif title.startswith('show hn') == True:\n",
    "        show_posts.append(row)\n",
    "    else:\n",
    "        other_posts.append(row)\n",
    "        \n",
    "print(len(ask_posts))\n",
    "print(len(show_posts))\n",
    "print(len(other_posts))\n"
   ]
  },
  {
   "cell_type": "markdown",
   "metadata": {},
   "source": [
    "# Analyzing Data\n",
    "\n",
    "Next, let's determine if ask posts or show posts receive more comments on average:"
   ]
  },
  {
   "cell_type": "code",
   "execution_count": 36,
   "metadata": {
    "collapsed": false
   },
   "outputs": [
    {
     "name": "stdout",
     "output_type": "stream",
     "text": [
      "14.038417431192661\n",
      "10.31669535283993\n"
     ]
    }
   ],
   "source": [
    "total_ask_comments = 0\n",
    "\n",
    "for row in ask_posts:\n",
    "    num_comments = int(row[4])\n",
    "    total_ask_comments += num_comments\n",
    "\n",
    "avg_ask_comments = total_ask_comments / len(ask_posts)\n",
    "print(avg_ask_comments)\n",
    "\n",
    "total_show_comments = 0\n",
    "\n",
    "for row in show_posts:\n",
    "    num_comments = int(row[4])\n",
    "    total_show_comments += num_comments\n",
    "\n",
    "avg_show_comments = total_show_comments / len(show_posts)\n",
    "print(avg_show_comments)"
   ]
  },
  {
   "cell_type": "markdown",
   "metadata": {},
   "source": [
    "We see that on average, ask post receive 14 comments, which is around four more than the show. This could be because human being are more enclin to answer to a question. They feel gratitude and want to help other. We can also see that posts in the show category that have a lot of comments are often because someone asked a question in the comments.\n",
    "\n",
    "Since ask post seems to receive more comments, we'll focus our remaining analysis on these posts. Now we'll determineif *ask posts* created at a certain time are more likely to attract comments. We'll use the following steps to perform this analysis:\n",
    "- Calculate the amount of ask posts created in each hour of the day, along with the number of comments received.\n",
    "- Calculate the average number of comments ask posts received by hour created. For that we'll use de *datetime* module."
   ]
  },
  {
   "cell_type": "code",
   "execution_count": 37,
   "metadata": {
    "collapsed": false
   },
   "outputs": [
    {
     "name": "stdout",
     "output_type": "stream",
     "text": [
      "15 : 116\n",
      "19 : 110\n",
      "21 : 109\n",
      "18 : 109\n",
      "16 : 108\n",
      "14 : 107\n",
      "17 : 100\n",
      "13 : 85\n",
      "20 : 80\n",
      "12 : 73\n",
      "22 : 71\n",
      "23 : 68\n",
      "01 : 60\n",
      "10 : 59\n",
      "11 : 58\n",
      "02 : 58\n",
      "00 : 55\n",
      "03 : 54\n",
      "08 : 48\n",
      "04 : 47\n",
      "05 : 46\n",
      "09 : 45\n",
      "06 : 44\n",
      "07 : 34\n",
      "{'19': 1188, '20': 1722, '23': 543, '16': 1814, '07': 267, '11': 641, '03': 421, '15': 4477, '01': 683, '18': 1439, '17': 1146, '10': 793, '04': 337, '21': 1745, '02': 1381, '06': 397, '08': 492, '14': 1416, '09': 251, '22': 479, '00': 447, '12': 687, '05': 464, '13': 1253}\n"
     ]
    }
   ],
   "source": [
    "import datetime as dt\n",
    "result_list = []\n",
    "\n",
    "for row in ask_posts:\n",
    "    created_at = row[6]\n",
    "    num_comments = int(row[4])\n",
    "    result = [created_at, num_comments]\n",
    "    result_list.append(result)\n",
    "\n",
    "counts_by_hour = {}\n",
    "comments_by_hour = {}\n",
    "\n",
    "for row in result_list:\n",
    "    date_1_str = row[0]\n",
    "    comments = row[1]\n",
    "    date_1_dt = dt.datetime.strptime(date_1_str, \"%m/%d/%Y %H:%M\")\n",
    "    hour = date_1_dt.strftime(\"%H\")\n",
    "    if hour not in counts_by_hour:\n",
    "        counts_by_hour[hour] = 1\n",
    "        comments_by_hour[hour] = comments\n",
    "    else:\n",
    "        counts_by_hour[hour] += 1\n",
    "        comments_by_hour[hour] += comments\n",
    "\n",
    "ordered_counts = []\n",
    "\n",
    "\n",
    "for key in counts_by_hour:\n",
    "        key_val_as_tuple = (counts_by_hour[key], key)\n",
    "        ordered_counts.append(key_val_as_tuple)\n",
    "\n",
    "table_sorted = sorted(ordered_counts, reverse = True)\n",
    "for entry in table_sorted:\n",
    "     print(entry[1], ':', entry[0])   \n",
    "\n",
    "print(comments_by_hour)\n"
   ]
  },
  {
   "cell_type": "markdown",
   "metadata": {
    "collapsed": true
   },
   "source": [
    "it seems that the best time is 15 in the afternoon. Next, we'll use these two dictionaries to calculate the average number of comments for posts created during each hour of the day."
   ]
  },
  {
   "cell_type": "code",
   "execution_count": 41,
   "metadata": {
    "collapsed": false
   },
   "outputs": [
    {
     "name": "stdout",
     "output_type": "stream",
     "text": [
      "[['15', 38.5948275862069], ['02', 23.810344827586206], ['20', 21.525], ['16', 16.796296296296298], ['21', 16.009174311926607], ['13', 14.741176470588234], ['10', 13.440677966101696], ['14', 13.233644859813085], ['18', 13.20183486238532], ['17', 11.46], ['01', 11.383333333333333], ['11', 11.051724137931034], ['19', 10.8], ['08', 10.25], ['05', 10.08695652173913], ['12', 9.41095890410959], ['06', 9.022727272727273], ['00', 8.127272727272727], ['23', 7.985294117647059], ['07', 7.852941176470588], ['03', 7.796296296296297], ['04', 7.170212765957447], ['22', 6.746478873239437], ['09', 5.5777777777777775]]\n"
     ]
    }
   ],
   "source": [
    "avg_by_hour = []\n",
    "\n",
    "for key in comments_by_hour:\n",
    "    avg_by_hour.append([key, comments_by_hour[key] / counts_by_hour[key]])\n",
    "        \n",
    "print(sorted(avg_by_hour, key=lambda x: x[1], reverse= True))"
   ]
  },
  {
   "cell_type": "markdown",
   "metadata": {},
   "source": [
    "Let's finish by sorting the list of lists and printing the five highest values in a format that's easier to read."
   ]
  },
  {
   "cell_type": "code",
   "execution_count": 48,
   "metadata": {
    "collapsed": false
   },
   "outputs": [
    {
     "name": "stdout",
     "output_type": "stream",
     "text": [
      "[[38.5948275862069, '15'], [23.810344827586206, '02'], [21.525, '20'], [16.796296296296298, '16'], [16.009174311926607, '21']]\n",
      "15:00:   38.59 average comments per post\n",
      "02:00:   23.81 average comments per post\n",
      "20:00:   21.52 average comments per post\n",
      "16:00:   16.80 average comments per post\n",
      "21:00:   16.01 average comments per post\n",
      "13:00:   14.74 average comments per post\n",
      "10:00:   13.44 average comments per post\n",
      "14:00:   13.23 average comments per post\n",
      "18:00:   13.20 average comments per post\n",
      "17:00:   11.46 average comments per post\n",
      "01:00:   11.38 average comments per post\n",
      "11:00:   11.05 average comments per post\n",
      "19:00:   10.80 average comments per post\n",
      "08:00:   10.25 average comments per post\n",
      "05:00:   10.09 average comments per post\n",
      "12:00:   9.41 average comments per post\n",
      "06:00:   9.02 average comments per post\n",
      "00:00:   8.13 average comments per post\n",
      "23:00:   7.99 average comments per post\n",
      "07:00:   7.85 average comments per post\n",
      "03:00:   7.80 average comments per post\n",
      "04:00:   7.17 average comments per post\n",
      "22:00:   6.75 average comments per post\n",
      "09:00:   5.58 average comments per post\n"
     ]
    }
   ],
   "source": [
    "swap_avg_by_hour = []\n",
    "\n",
    "for row in avg_by_hour:\n",
    "    swap_avg_by_hour.append([row[1], row[0]])\n",
    "\n",
    "sorted_swap = sorted(swap_avg_by_hour, reverse = True)\n",
    "print(sorted_swap[:5])\n",
    "\n",
    "for row in sorted_swap:\n",
    "    dt_object= dt.datetime.strptime(row[1], \"%H\").strftime(\"%H:%M\")\n",
    "    avg_comments = row[0]\n",
    "    print(\"{}:   {:.2f} average comments per post\".format(dt_object, avg_comments))"
   ]
  },
  {
   "cell_type": "markdown",
   "metadata": {},
   "source": [
    "We should create a post at 15:00 according to the time zone EST-US, which represent between 9pm and 10pm in Switzerland.!!"
   ]
  }
 ],
 "metadata": {
  "kernelspec": {
   "display_name": "Python 3",
   "language": "python",
   "name": "python3"
  },
  "language_info": {
   "codemirror_mode": {
    "name": "ipython",
    "version": 3
   },
   "file_extension": ".py",
   "mimetype": "text/x-python",
   "name": "python",
   "nbconvert_exporter": "python",
   "pygments_lexer": "ipython3",
   "version": "3.4.3"
  }
 },
 "nbformat": 4,
 "nbformat_minor": 2
}
