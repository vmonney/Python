{
 "cells": [
  {
   "cell_type": "markdown",
   "id": "78f2de7a",
   "metadata": {},
   "source": [
    "# Working with text data\n",
    "## Pandas string functions"
   ]
  },
  {
   "cell_type": "code",
   "execution_count": 317,
   "id": "61c3b5ee",
   "metadata": {},
   "outputs": [
    {
     "name": "stderr",
     "output_type": "stream",
     "text": [
      "[nltk_data] Downloading package stopwords to\n",
      "[nltk_data]     /Users/valentinmonney/nltk_data...\n",
      "[nltk_data]   Unzipping corpora/stopwords.zip.\n"
     ]
    }
   ],
   "source": [
    "import pandas as pd\n",
    "import numpy as np\n",
    "\n",
    "s = pd.Series(['0', 'John Wood', 'Colin Welsh', 'my list', '02456', np.nan, 'HELLO WORLD', 'water%'])"
   ]
  },
  {
   "cell_type": "code",
   "execution_count": 3,
   "id": "eacd90f4",
   "metadata": {},
   "outputs": [
    {
     "data": {
      "text/plain": [
       "0              0\n",
       "1      john wood\n",
       "2    colin welsh\n",
       "3        my list\n",
       "4          02456\n",
       "5            NaN\n",
       "6    hello world\n",
       "7         water%\n",
       "dtype: object"
      ]
     },
     "execution_count": 3,
     "metadata": {},
     "output_type": "execute_result"
    }
   ],
   "source": [
    "# lowercase\n",
    "s.str.lower()"
   ]
  },
  {
   "cell_type": "code",
   "execution_count": 4,
   "id": "c04f2ada",
   "metadata": {},
   "outputs": [
    {
     "data": {
      "text/plain": [
       "0              0\n",
       "1      JOHN WOOD\n",
       "2    COLIN WELSH\n",
       "3        MY LIST\n",
       "4          02456\n",
       "5            NaN\n",
       "6    HELLO WORLD\n",
       "7         WATER%\n",
       "dtype: object"
      ]
     },
     "execution_count": 4,
     "metadata": {},
     "output_type": "execute_result"
    }
   ],
   "source": [
    "s.str.upper()"
   ]
  },
  {
   "cell_type": "code",
   "execution_count": 5,
   "id": "828730de",
   "metadata": {},
   "outputs": [
    {
     "data": {
      "text/plain": [
       "0     1.0\n",
       "1     9.0\n",
       "2    11.0\n",
       "3     7.0\n",
       "4     5.0\n",
       "5     NaN\n",
       "6    11.0\n",
       "7     6.0\n",
       "dtype: float64"
      ]
     },
     "execution_count": 5,
     "metadata": {},
     "output_type": "execute_result"
    }
   ],
   "source": [
    "s.str.len()"
   ]
  },
  {
   "cell_type": "code",
   "execution_count": 6,
   "id": "852ebf03",
   "metadata": {},
   "outputs": [
    {
     "data": {
      "text/plain": [
       "0               [0]\n",
       "1      [John, Wood]\n",
       "2    [Colin, Welsh]\n",
       "3        [my, list]\n",
       "4           [02456]\n",
       "5               NaN\n",
       "6    [HELLO, WORLD]\n",
       "7          [water%]\n",
       "dtype: object"
      ]
     },
     "execution_count": 6,
     "metadata": {},
     "output_type": "execute_result"
    }
   ],
   "source": [
    "# split when we have a specific character\n",
    "s.str.split(' ')"
   ]
  },
  {
   "cell_type": "code",
   "execution_count": 7,
   "id": "8cae4337",
   "metadata": {},
   "outputs": [
    {
     "data": {
      "text/html": [
       "<div>\n",
       "<style scoped>\n",
       "    .dataframe tbody tr th:only-of-type {\n",
       "        vertical-align: middle;\n",
       "    }\n",
       "\n",
       "    .dataframe tbody tr th {\n",
       "        vertical-align: top;\n",
       "    }\n",
       "\n",
       "    .dataframe thead th {\n",
       "        text-align: right;\n",
       "    }\n",
       "</style>\n",
       "<table border=\"1\" class=\"dataframe\">\n",
       "  <thead>\n",
       "    <tr style=\"text-align: right;\">\n",
       "      <th></th>\n",
       "      <th>0</th>\n",
       "      <th>1</th>\n",
       "    </tr>\n",
       "  </thead>\n",
       "  <tbody>\n",
       "    <tr>\n",
       "      <th>0</th>\n",
       "      <td>0</td>\n",
       "      <td>None</td>\n",
       "    </tr>\n",
       "    <tr>\n",
       "      <th>1</th>\n",
       "      <td>John</td>\n",
       "      <td>Wood</td>\n",
       "    </tr>\n",
       "    <tr>\n",
       "      <th>2</th>\n",
       "      <td>Colin</td>\n",
       "      <td>Welsh</td>\n",
       "    </tr>\n",
       "    <tr>\n",
       "      <th>3</th>\n",
       "      <td>my</td>\n",
       "      <td>list</td>\n",
       "    </tr>\n",
       "    <tr>\n",
       "      <th>4</th>\n",
       "      <td>02456</td>\n",
       "      <td>None</td>\n",
       "    </tr>\n",
       "    <tr>\n",
       "      <th>5</th>\n",
       "      <td>NaN</td>\n",
       "      <td>NaN</td>\n",
       "    </tr>\n",
       "    <tr>\n",
       "      <th>6</th>\n",
       "      <td>HELLO</td>\n",
       "      <td>WORLD</td>\n",
       "    </tr>\n",
       "    <tr>\n",
       "      <th>7</th>\n",
       "      <td>water%</td>\n",
       "      <td>None</td>\n",
       "    </tr>\n",
       "  </tbody>\n",
       "</table>\n",
       "</div>"
      ],
      "text/plain": [
       "        0      1\n",
       "0       0   None\n",
       "1    John   Wood\n",
       "2   Colin  Welsh\n",
       "3      my   list\n",
       "4   02456   None\n",
       "5     NaN    NaN\n",
       "6   HELLO  WORLD\n",
       "7  water%   None"
      ]
     },
     "execution_count": 7,
     "metadata": {},
     "output_type": "execute_result"
    }
   ],
   "source": [
    "# return a dataframe instead of a list\n",
    "substrings = s.str.split(' ', expand=True)\n",
    "substrings"
   ]
  },
  {
   "cell_type": "code",
   "execution_count": 8,
   "id": "7edf1bd4",
   "metadata": {},
   "outputs": [
    {
     "data": {
      "text/plain": [
       "0     None\n",
       "1     Wood\n",
       "2    Welsh\n",
       "3     list\n",
       "4     None\n",
       "5      NaN\n",
       "6    WORLD\n",
       "7     None\n",
       "Name: 1, dtype: object"
      ]
     },
     "execution_count": 8,
     "metadata": {},
     "output_type": "execute_result"
    }
   ],
   "source": [
    "substrings[1]"
   ]
  },
  {
   "cell_type": "code",
   "execution_count": 9,
   "id": "b880b00b",
   "metadata": {},
   "outputs": [
    {
     "data": {
      "text/plain": [
       "0                 0\n",
       "1         John Wood\n",
       "2       Colin Welsh\n",
       "3           my list\n",
       "4             02456\n",
       "5               NaN\n",
       "6       HELLO WORLD\n",
       "7    water percent \n",
       "dtype: object"
      ]
     },
     "execution_count": 9,
     "metadata": {},
     "output_type": "execute_result"
    }
   ],
   "source": [
    "#replace a character\n",
    "s.str.replace('%', ' percent ')"
   ]
  },
  {
   "cell_type": "code",
   "execution_count": 10,
   "id": "a0278154",
   "metadata": {},
   "outputs": [
    {
     "data": {
      "text/plain": [
       "0              0\n",
       "1      John Wood\n",
       "2    Colin Welsh\n",
       "3        my list\n",
       "4          02456\n",
       "5            NaN\n",
       "6    HELLO WORLD\n",
       "7          water\n",
       "dtype: object"
      ]
     },
     "execution_count": 10,
     "metadata": {},
     "output_type": "execute_result"
    }
   ],
   "source": [
    "# remove a character\n",
    "s.str.replace('%', '')"
   ]
  },
  {
   "cell_type": "code",
   "execution_count": 11,
   "id": "fa23f348",
   "metadata": {},
   "outputs": [
    {
     "data": {
      "text/plain": [
       "0      0\n",
       "1     Jo\n",
       "2     Co\n",
       "3     my\n",
       "4     02\n",
       "5    NaN\n",
       "6     HE\n",
       "7     wa\n",
       "dtype: object"
      ]
     },
     "execution_count": 11,
     "metadata": {},
     "output_type": "execute_result"
    }
   ],
   "source": [
    "# slice each string with a specific index\n",
    "s.str[0:2]"
   ]
  },
  {
   "cell_type": "code",
   "execution_count": 12,
   "id": "1ee5b4bd",
   "metadata": {},
   "outputs": [
    {
     "data": {
      "text/plain": [
       "0      0\n",
       "1     Jo\n",
       "2     Co\n",
       "3     my\n",
       "4     02\n",
       "5    NaN\n",
       "6     HE\n",
       "7     wa\n",
       "dtype: object"
      ]
     },
     "execution_count": 12,
     "metadata": {},
     "output_type": "execute_result"
    }
   ],
   "source": [
    "# alternative to slicing\n",
    "s.str.slice(0,2)"
   ]
  },
  {
   "cell_type": "code",
   "execution_count": 13,
   "id": "b232141f",
   "metadata": {},
   "outputs": [
    {
     "data": {
      "text/plain": [
       "0             ___\n",
       "1      ___hn Wood\n",
       "2    ___lin Welsh\n",
       "3        ___ list\n",
       "4          ___456\n",
       "5             NaN\n",
       "6    ___LLO WORLD\n",
       "7         ___ter%\n",
       "dtype: object"
      ]
     },
     "execution_count": 13,
     "metadata": {},
     "output_type": "execute_result"
    }
   ],
   "source": [
    "# combination of slicing and replacing\n",
    "s.str.slice_replace(0,2, '___')"
   ]
  },
  {
   "cell_type": "code",
   "execution_count": 14,
   "id": "736db675",
   "metadata": {},
   "outputs": [
    {
     "data": {
      "text/plain": [
       "0     True\n",
       "1    False\n",
       "2    False\n",
       "3    False\n",
       "4     True\n",
       "5      NaN\n",
       "6    False\n",
       "7    False\n",
       "dtype: object"
      ]
     },
     "execution_count": 14,
     "metadata": {},
     "output_type": "execute_result"
    }
   ],
   "source": [
    "# check if contains a specific pattern\n",
    "flag = s.str.contains('0')\n",
    "flag"
   ]
  },
  {
   "cell_type": "code",
   "execution_count": 15,
   "id": "e4ca1fbb",
   "metadata": {},
   "outputs": [
    {
     "data": {
      "text/plain": [
       "0     True\n",
       "1    False\n",
       "2    False\n",
       "3    False\n",
       "4     True\n",
       "5    False\n",
       "6    False\n",
       "7    False\n",
       "dtype: bool"
      ]
     },
     "execution_count": 15,
     "metadata": {},
     "output_type": "execute_result"
    }
   ],
   "source": [
    "# the same without the Nan\n",
    "flag = s.str.contains('0', na=False)\n",
    "flag"
   ]
  },
  {
   "cell_type": "code",
   "execution_count": 16,
   "id": "a24867c3",
   "metadata": {},
   "outputs": [
    {
     "data": {
      "text/plain": [
       "0        0\n",
       "4    02456\n",
       "dtype: object"
      ]
     },
     "execution_count": 16,
     "metadata": {},
     "output_type": "execute_result"
    }
   ],
   "source": [
    "s[flag]"
   ]
  },
  {
   "cell_type": "markdown",
   "id": "a7f6c90b",
   "metadata": {},
   "source": [
    "## Example: cleaning up the movies dataset"
   ]
  },
  {
   "cell_type": "code",
   "execution_count": 180,
   "id": "2c1ec8be",
   "metadata": {},
   "outputs": [
    {
     "data": {
      "text/html": [
       "<div>\n",
       "<style scoped>\n",
       "    .dataframe tbody tr th:only-of-type {\n",
       "        vertical-align: middle;\n",
       "    }\n",
       "\n",
       "    .dataframe tbody tr th {\n",
       "        vertical-align: top;\n",
       "    }\n",
       "\n",
       "    .dataframe thead th {\n",
       "        text-align: right;\n",
       "    }\n",
       "</style>\n",
       "<table border=\"1\" class=\"dataframe\">\n",
       "  <thead>\n",
       "    <tr style=\"text-align: right;\">\n",
       "      <th></th>\n",
       "      <th>budget</th>\n",
       "      <th>genres</th>\n",
       "      <th>homepage</th>\n",
       "      <th>id</th>\n",
       "      <th>keywords</th>\n",
       "      <th>original_language</th>\n",
       "      <th>original_title</th>\n",
       "      <th>overview</th>\n",
       "      <th>popularity</th>\n",
       "      <th>production_companies</th>\n",
       "      <th>production_countries</th>\n",
       "      <th>release_date</th>\n",
       "      <th>revenue</th>\n",
       "      <th>runtime</th>\n",
       "      <th>spoken_languages</th>\n",
       "      <th>status</th>\n",
       "      <th>tagline</th>\n",
       "      <th>title</th>\n",
       "      <th>vote_average</th>\n",
       "      <th>vote_count</th>\n",
       "    </tr>\n",
       "  </thead>\n",
       "  <tbody>\n",
       "    <tr>\n",
       "      <th>0</th>\n",
       "      <td>237000000</td>\n",
       "      <td>[{\"id\": 28, \"name\": \"Action\"}, {\"id\": 12, \"nam...</td>\n",
       "      <td>http://www.avatarmovie.com/</td>\n",
       "      <td>19995</td>\n",
       "      <td>[{\"id\": 1463, \"name\": \"culture clash\"}, {\"id\":...</td>\n",
       "      <td>en</td>\n",
       "      <td>Avatar</td>\n",
       "      <td>In the 22nd century, a paraplegic Marine is di...</td>\n",
       "      <td>150.437577</td>\n",
       "      <td>[{\"name\": \"Ingenious Film Partners\", \"id\": 289...</td>\n",
       "      <td>[{\"iso_3166_1\": \"US\", \"name\": \"United States o...</td>\n",
       "      <td>2009-12-10</td>\n",
       "      <td>2787965087</td>\n",
       "      <td>162.0</td>\n",
       "      <td>[{\"iso_639_1\": \"en\", \"name\": \"English\"}, {\"iso...</td>\n",
       "      <td>Released</td>\n",
       "      <td>Enter the World of Pandora.</td>\n",
       "      <td>Avatar</td>\n",
       "      <td>7.2</td>\n",
       "      <td>11800</td>\n",
       "    </tr>\n",
       "    <tr>\n",
       "      <th>1</th>\n",
       "      <td>300000000</td>\n",
       "      <td>[{\"id\": 12, \"name\": \"Adventure\"}, {\"id\": 14, \"...</td>\n",
       "      <td>http://disney.go.com/disneypictures/pirates/</td>\n",
       "      <td>285</td>\n",
       "      <td>[{\"id\": 270, \"name\": \"ocean\"}, {\"id\": 726, \"na...</td>\n",
       "      <td>en</td>\n",
       "      <td>Pirates of the Caribbean: At World's End</td>\n",
       "      <td>Captain Barbossa, long believed to be dead, ha...</td>\n",
       "      <td>139.082615</td>\n",
       "      <td>[{\"name\": \"Walt Disney Pictures\", \"id\": 2}, {\"...</td>\n",
       "      <td>[{\"iso_3166_1\": \"US\", \"name\": \"United States o...</td>\n",
       "      <td>2007-05-19</td>\n",
       "      <td>961000000</td>\n",
       "      <td>169.0</td>\n",
       "      <td>[{\"iso_639_1\": \"en\", \"name\": \"English\"}]</td>\n",
       "      <td>Released</td>\n",
       "      <td>At the end of the world, the adventure begins.</td>\n",
       "      <td>Pirates of the Caribbean: At World's End</td>\n",
       "      <td>6.9</td>\n",
       "      <td>4500</td>\n",
       "    </tr>\n",
       "    <tr>\n",
       "      <th>2</th>\n",
       "      <td>245000000</td>\n",
       "      <td>[{\"id\": 28, \"name\": \"Action\"}, {\"id\": 12, \"nam...</td>\n",
       "      <td>http://www.sonypictures.com/movies/spectre/</td>\n",
       "      <td>206647</td>\n",
       "      <td>[{\"id\": 470, \"name\": \"spy\"}, {\"id\": 818, \"name...</td>\n",
       "      <td>en</td>\n",
       "      <td>Spectre</td>\n",
       "      <td>A cryptic message from Bond’s past sends him o...</td>\n",
       "      <td>107.376788</td>\n",
       "      <td>[{\"name\": \"Columbia Pictures\", \"id\": 5}, {\"nam...</td>\n",
       "      <td>[{\"iso_3166_1\": \"GB\", \"name\": \"United Kingdom\"...</td>\n",
       "      <td>2015-10-26</td>\n",
       "      <td>880674609</td>\n",
       "      <td>148.0</td>\n",
       "      <td>[{\"iso_639_1\": \"fr\", \"name\": \"Fran\\u00e7ais\"},...</td>\n",
       "      <td>Released</td>\n",
       "      <td>A Plan No One Escapes</td>\n",
       "      <td>Spectre</td>\n",
       "      <td>6.3</td>\n",
       "      <td>4466</td>\n",
       "    </tr>\n",
       "    <tr>\n",
       "      <th>3</th>\n",
       "      <td>250000000</td>\n",
       "      <td>[{\"id\": 28, \"name\": \"Action\"}, {\"id\": 80, \"nam...</td>\n",
       "      <td>http://www.thedarkknightrises.com/</td>\n",
       "      <td>49026</td>\n",
       "      <td>[{\"id\": 849, \"name\": \"dc comics\"}, {\"id\": 853,...</td>\n",
       "      <td>en</td>\n",
       "      <td>The Dark Knight Rises</td>\n",
       "      <td>Following the death of District Attorney Harve...</td>\n",
       "      <td>112.312950</td>\n",
       "      <td>[{\"name\": \"Legendary Pictures\", \"id\": 923}, {\"...</td>\n",
       "      <td>[{\"iso_3166_1\": \"US\", \"name\": \"United States o...</td>\n",
       "      <td>2012-07-16</td>\n",
       "      <td>1084939099</td>\n",
       "      <td>165.0</td>\n",
       "      <td>[{\"iso_639_1\": \"en\", \"name\": \"English\"}]</td>\n",
       "      <td>Released</td>\n",
       "      <td>The Legend Ends</td>\n",
       "      <td>The Dark Knight Rises</td>\n",
       "      <td>7.6</td>\n",
       "      <td>9106</td>\n",
       "    </tr>\n",
       "    <tr>\n",
       "      <th>4</th>\n",
       "      <td>260000000</td>\n",
       "      <td>[{\"id\": 28, \"name\": \"Action\"}, {\"id\": 12, \"nam...</td>\n",
       "      <td>http://movies.disney.com/john-carter</td>\n",
       "      <td>49529</td>\n",
       "      <td>[{\"id\": 818, \"name\": \"based on novel\"}, {\"id\":...</td>\n",
       "      <td>en</td>\n",
       "      <td>John Carter</td>\n",
       "      <td>John Carter is a war-weary, former military ca...</td>\n",
       "      <td>43.926995</td>\n",
       "      <td>[{\"name\": \"Walt Disney Pictures\", \"id\": 2}]</td>\n",
       "      <td>[{\"iso_3166_1\": \"US\", \"name\": \"United States o...</td>\n",
       "      <td>2012-03-07</td>\n",
       "      <td>284139100</td>\n",
       "      <td>132.0</td>\n",
       "      <td>[{\"iso_639_1\": \"en\", \"name\": \"English\"}]</td>\n",
       "      <td>Released</td>\n",
       "      <td>Lost in our world, found in another.</td>\n",
       "      <td>John Carter</td>\n",
       "      <td>6.1</td>\n",
       "      <td>2124</td>\n",
       "    </tr>\n",
       "  </tbody>\n",
       "</table>\n",
       "</div>"
      ],
      "text/plain": [
       "      budget                                             genres  \\\n",
       "0  237000000  [{\"id\": 28, \"name\": \"Action\"}, {\"id\": 12, \"nam...   \n",
       "1  300000000  [{\"id\": 12, \"name\": \"Adventure\"}, {\"id\": 14, \"...   \n",
       "2  245000000  [{\"id\": 28, \"name\": \"Action\"}, {\"id\": 12, \"nam...   \n",
       "3  250000000  [{\"id\": 28, \"name\": \"Action\"}, {\"id\": 80, \"nam...   \n",
       "4  260000000  [{\"id\": 28, \"name\": \"Action\"}, {\"id\": 12, \"nam...   \n",
       "\n",
       "                                       homepage      id  \\\n",
       "0                   http://www.avatarmovie.com/   19995   \n",
       "1  http://disney.go.com/disneypictures/pirates/     285   \n",
       "2   http://www.sonypictures.com/movies/spectre/  206647   \n",
       "3            http://www.thedarkknightrises.com/   49026   \n",
       "4          http://movies.disney.com/john-carter   49529   \n",
       "\n",
       "                                            keywords original_language  \\\n",
       "0  [{\"id\": 1463, \"name\": \"culture clash\"}, {\"id\":...                en   \n",
       "1  [{\"id\": 270, \"name\": \"ocean\"}, {\"id\": 726, \"na...                en   \n",
       "2  [{\"id\": 470, \"name\": \"spy\"}, {\"id\": 818, \"name...                en   \n",
       "3  [{\"id\": 849, \"name\": \"dc comics\"}, {\"id\": 853,...                en   \n",
       "4  [{\"id\": 818, \"name\": \"based on novel\"}, {\"id\":...                en   \n",
       "\n",
       "                             original_title  \\\n",
       "0                                    Avatar   \n",
       "1  Pirates of the Caribbean: At World's End   \n",
       "2                                   Spectre   \n",
       "3                     The Dark Knight Rises   \n",
       "4                               John Carter   \n",
       "\n",
       "                                            overview  popularity  \\\n",
       "0  In the 22nd century, a paraplegic Marine is di...  150.437577   \n",
       "1  Captain Barbossa, long believed to be dead, ha...  139.082615   \n",
       "2  A cryptic message from Bond’s past sends him o...  107.376788   \n",
       "3  Following the death of District Attorney Harve...  112.312950   \n",
       "4  John Carter is a war-weary, former military ca...   43.926995   \n",
       "\n",
       "                                production_companies  \\\n",
       "0  [{\"name\": \"Ingenious Film Partners\", \"id\": 289...   \n",
       "1  [{\"name\": \"Walt Disney Pictures\", \"id\": 2}, {\"...   \n",
       "2  [{\"name\": \"Columbia Pictures\", \"id\": 5}, {\"nam...   \n",
       "3  [{\"name\": \"Legendary Pictures\", \"id\": 923}, {\"...   \n",
       "4        [{\"name\": \"Walt Disney Pictures\", \"id\": 2}]   \n",
       "\n",
       "                                production_countries release_date     revenue  \\\n",
       "0  [{\"iso_3166_1\": \"US\", \"name\": \"United States o...   2009-12-10  2787965087   \n",
       "1  [{\"iso_3166_1\": \"US\", \"name\": \"United States o...   2007-05-19   961000000   \n",
       "2  [{\"iso_3166_1\": \"GB\", \"name\": \"United Kingdom\"...   2015-10-26   880674609   \n",
       "3  [{\"iso_3166_1\": \"US\", \"name\": \"United States o...   2012-07-16  1084939099   \n",
       "4  [{\"iso_3166_1\": \"US\", \"name\": \"United States o...   2012-03-07   284139100   \n",
       "\n",
       "   runtime                                   spoken_languages    status  \\\n",
       "0    162.0  [{\"iso_639_1\": \"en\", \"name\": \"English\"}, {\"iso...  Released   \n",
       "1    169.0           [{\"iso_639_1\": \"en\", \"name\": \"English\"}]  Released   \n",
       "2    148.0  [{\"iso_639_1\": \"fr\", \"name\": \"Fran\\u00e7ais\"},...  Released   \n",
       "3    165.0           [{\"iso_639_1\": \"en\", \"name\": \"English\"}]  Released   \n",
       "4    132.0           [{\"iso_639_1\": \"en\", \"name\": \"English\"}]  Released   \n",
       "\n",
       "                                          tagline  \\\n",
       "0                     Enter the World of Pandora.   \n",
       "1  At the end of the world, the adventure begins.   \n",
       "2                           A Plan No One Escapes   \n",
       "3                                 The Legend Ends   \n",
       "4            Lost in our world, found in another.   \n",
       "\n",
       "                                      title  vote_average  vote_count  \n",
       "0                                    Avatar           7.2       11800  \n",
       "1  Pirates of the Caribbean: At World's End           6.9        4500  \n",
       "2                                   Spectre           6.3        4466  \n",
       "3                     The Dark Knight Rises           7.6        9106  \n",
       "4                               John Carter           6.1        2124  "
      ]
     },
     "execution_count": 180,
     "metadata": {},
     "output_type": "execute_result"
    }
   ],
   "source": [
    "# Load the data\n",
    "movies = pd.read_csv(\"tmdb_5000_movies.csv\")\n",
    "movies.head()"
   ]
  },
  {
   "cell_type": "code",
   "execution_count": 181,
   "id": "43bac6dc",
   "metadata": {},
   "outputs": [
    {
     "data": {
      "text/plain": [
       "'[{\"id\": 28, \"name\": \"Action\"}, {\"id\": 12, \"name\": \"Adventure\"}, {\"id\": 14, \"name\": \"Fantasy\"}, {\"id\": 878, \"name\": \"Science Fiction\"}]'"
      ]
     },
     "execution_count": 181,
     "metadata": {},
     "output_type": "execute_result"
    }
   ],
   "source": [
    "genres = movies['genres']\n",
    "genres[0]"
   ]
  },
  {
   "cell_type": "code",
   "execution_count": 182,
   "id": "36bf5c9f",
   "metadata": {},
   "outputs": [
    {
     "data": {
      "text/plain": [
       "[{'id': 28, 'name': 'Action'},\n",
       " {'id': 12, 'name': 'Adventure'},\n",
       " {'id': 14, 'name': 'Fantasy'},\n",
       " {'id': 878, 'name': 'Science Fiction'}]"
      ]
     },
     "execution_count": 182,
     "metadata": {},
     "output_type": "execute_result"
    }
   ],
   "source": [
    "import json\n",
    "\n",
    "json_obj = json.loads(genres[0]) # Load json string\n",
    "json_obj"
   ]
  },
  {
   "cell_type": "code",
   "execution_count": 183,
   "id": "71cc5993",
   "metadata": {},
   "outputs": [
    {
     "data": {
      "text/plain": [
       "['Action', 'Adventure', 'Fantasy', 'Science Fiction']"
      ]
     },
     "execution_count": 183,
     "metadata": {},
     "output_type": "execute_result"
    }
   ],
   "source": [
    "names = [x[\"name\"] for x in json_obj]\n",
    "names"
   ]
  },
  {
   "cell_type": "code",
   "execution_count": 184,
   "id": "562534ef",
   "metadata": {},
   "outputs": [
    {
     "data": {
      "text/plain": [
       "'Action, Adventure, Fantasy, Science Fiction'"
      ]
     },
     "execution_count": 184,
     "metadata": {},
     "output_type": "execute_result"
    }
   ],
   "source": [
    "# join list of words into a string\n",
    "', '.join(names)"
   ]
  },
  {
   "cell_type": "code",
   "execution_count": 185,
   "id": "048e2221",
   "metadata": {},
   "outputs": [],
   "source": [
    "# Let's do it manualla by first striping the bracket squares\n",
    "def transform(s):\n",
    "    s = s.str.strip(\"[]\")\n",
    "    s = s.str.replace(\"{\", \"\", regex=True)\n",
    "    s = s.str.replace(\"}\", \"\", regex=True)\n",
    "    s = s.str.replace(\",\", \"\", regex=True)\n",
    "    s = s.str.replace('\"id\":', \"\", regex=True)\n",
    "    s = s.str.replace('\"name\":', \"\", regex=True)\n",
    "    s = s.str.replace('\"', \"\", regex=True)\n",
    "    s = s.str.replace(\"0\", \"\", regex=True)\n",
    "    s = s.str.replace(\"1\", \"\", regex=True)\n",
    "    s = s.str.replace(\"2\", \"\", regex=True)\n",
    "    s = s.str.replace(\"3\", \"\", regex=True)\n",
    "    s = s.str.replace(\"4\", \"\", regex=True)\n",
    "    s = s.str.replace(\"5\", \"\", regex=True)\n",
    "    s = s.str.replace(\"6\", \"\", regex=True)\n",
    "    s = s.str.replace(\"7\", \"\", regex=True)\n",
    "    s = s.str.replace(\"8\", \"\", regex=True)\n",
    "    s = s.str.replace(\"9\", \"\", regex=True)\n",
    "    s = s.str.replace('    ', ', ')\n",
    "    s = s.str.replace('   ','')\n",
    "    return s"
   ]
  },
  {
   "cell_type": "code",
   "execution_count": 186,
   "id": "646b2218",
   "metadata": {},
   "outputs": [
    {
     "data": {
      "text/plain": [
       "'Action, Adventure, Fantasy, Science Fiction'"
      ]
     },
     "execution_count": 186,
     "metadata": {},
     "output_type": "execute_result"
    }
   ],
   "source": [
    "genres = transform(genres)\n",
    "genres[0]"
   ]
  },
  {
   "cell_type": "code",
   "execution_count": 40,
   "id": "79b30c44",
   "metadata": {},
   "outputs": [],
   "source": [
    "# regular expressions to remove digits:\n",
    "s = s.str.replace('[0-9]+','', regex = True)\n",
    "s = s.str.replace('\\d+','', regex = True)"
   ]
  },
  {
   "cell_type": "code",
   "execution_count": 187,
   "id": "d2929777",
   "metadata": {},
   "outputs": [],
   "source": [
    "movies['genres'] = genres"
   ]
  },
  {
   "cell_type": "code",
   "execution_count": 188,
   "id": "55a29302",
   "metadata": {},
   "outputs": [
    {
     "data": {
      "text/html": [
       "<div>\n",
       "<style scoped>\n",
       "    .dataframe tbody tr th:only-of-type {\n",
       "        vertical-align: middle;\n",
       "    }\n",
       "\n",
       "    .dataframe tbody tr th {\n",
       "        vertical-align: top;\n",
       "    }\n",
       "\n",
       "    .dataframe thead th {\n",
       "        text-align: right;\n",
       "    }\n",
       "</style>\n",
       "<table border=\"1\" class=\"dataframe\">\n",
       "  <thead>\n",
       "    <tr style=\"text-align: right;\">\n",
       "      <th></th>\n",
       "      <th>title</th>\n",
       "      <th>genres</th>\n",
       "    </tr>\n",
       "  </thead>\n",
       "  <tbody>\n",
       "    <tr>\n",
       "      <th>0</th>\n",
       "      <td>Avatar</td>\n",
       "      <td>Action, Adventure, Fantasy, Science Fiction</td>\n",
       "    </tr>\n",
       "    <tr>\n",
       "      <th>1</th>\n",
       "      <td>Pirates of the Caribbean: At World's End</td>\n",
       "      <td>Adventure, Fantasy, Action</td>\n",
       "    </tr>\n",
       "    <tr>\n",
       "      <th>2</th>\n",
       "      <td>Spectre</td>\n",
       "      <td>Action, Adventure, Crime</td>\n",
       "    </tr>\n",
       "    <tr>\n",
       "      <th>3</th>\n",
       "      <td>The Dark Knight Rises</td>\n",
       "      <td>Action, Crime, Drama, Thriller</td>\n",
       "    </tr>\n",
       "    <tr>\n",
       "      <th>4</th>\n",
       "      <td>John Carter</td>\n",
       "      <td>Action, Adventure, Science Fiction</td>\n",
       "    </tr>\n",
       "    <tr>\n",
       "      <th>5</th>\n",
       "      <td>Spider-Man 3</td>\n",
       "      <td>Fantasy, Action, Adventure</td>\n",
       "    </tr>\n",
       "    <tr>\n",
       "      <th>6</th>\n",
       "      <td>Tangled</td>\n",
       "      <td>Animation, Family</td>\n",
       "    </tr>\n",
       "    <tr>\n",
       "      <th>7</th>\n",
       "      <td>Avengers: Age of Ultron</td>\n",
       "      <td>Action, Adventure, Science Fiction</td>\n",
       "    </tr>\n",
       "    <tr>\n",
       "      <th>8</th>\n",
       "      <td>Harry Potter and the Half-Blood Prince</td>\n",
       "      <td>Adventure, Fantasy, Family</td>\n",
       "    </tr>\n",
       "    <tr>\n",
       "      <th>9</th>\n",
       "      <td>Batman v Superman: Dawn of Justice</td>\n",
       "      <td>Action, Adventure, Fantasy</td>\n",
       "    </tr>\n",
       "  </tbody>\n",
       "</table>\n",
       "</div>"
      ],
      "text/plain": [
       "                                      title  \\\n",
       "0                                    Avatar   \n",
       "1  Pirates of the Caribbean: At World's End   \n",
       "2                                   Spectre   \n",
       "3                     The Dark Knight Rises   \n",
       "4                               John Carter   \n",
       "5                              Spider-Man 3   \n",
       "6                                   Tangled   \n",
       "7                   Avengers: Age of Ultron   \n",
       "8    Harry Potter and the Half-Blood Prince   \n",
       "9        Batman v Superman: Dawn of Justice   \n",
       "\n",
       "                                        genres  \n",
       "0  Action, Adventure, Fantasy, Science Fiction  \n",
       "1                   Adventure, Fantasy, Action  \n",
       "2                     Action, Adventure, Crime  \n",
       "3               Action, Crime, Drama, Thriller  \n",
       "4           Action, Adventure, Science Fiction  \n",
       "5                   Fantasy, Action, Adventure  \n",
       "6                            Animation, Family  \n",
       "7           Action, Adventure, Science Fiction  \n",
       "8                   Adventure, Fantasy, Family  \n",
       "9                   Action, Adventure, Fantasy  "
      ]
     },
     "execution_count": 188,
     "metadata": {},
     "output_type": "execute_result"
    }
   ],
   "source": [
    "movies.loc[:,['title', 'genres']].head(10)"
   ]
  },
  {
   "cell_type": "markdown",
   "id": "7d0b2b54",
   "metadata": {},
   "source": [
    "## Exercise: further practice with the movies dataset"
   ]
  },
  {
   "cell_type": "code",
   "execution_count": 189,
   "id": "923e98c2",
   "metadata": {},
   "outputs": [
    {
     "data": {
      "text/plain": [
       "0    culture clash, future, space war, space colony...\n",
       "1    ocean, drug abuse, exotic island, east india t...\n",
       "2    spy, based on novel, secret agent, sequel, mi,...\n",
       "3    dc comics, crime fighter, terrorist, secret id...\n",
       "4    based on novel, mars, medallion, space travel,...\n",
       "Name: keywords, dtype: object"
      ]
     },
     "execution_count": 189,
     "metadata": {},
     "output_type": "execute_result"
    }
   ],
   "source": [
    "keywords = transform(movies.keywords)\n",
    "keywords.head()"
   ]
  },
  {
   "cell_type": "code",
   "execution_count": 193,
   "id": "85358c92",
   "metadata": {},
   "outputs": [
    {
     "data": {
      "text/html": [
       "<div>\n",
       "<style scoped>\n",
       "    .dataframe tbody tr th:only-of-type {\n",
       "        vertical-align: middle;\n",
       "    }\n",
       "\n",
       "    .dataframe tbody tr th {\n",
       "        vertical-align: top;\n",
       "    }\n",
       "\n",
       "    .dataframe thead th {\n",
       "        text-align: right;\n",
       "    }\n",
       "</style>\n",
       "<table border=\"1\" class=\"dataframe\">\n",
       "  <thead>\n",
       "    <tr style=\"text-align: right;\">\n",
       "      <th></th>\n",
       "      <th>0</th>\n",
       "      <th>1</th>\n",
       "      <th>2</th>\n",
       "      <th>3</th>\n",
       "      <th>4</th>\n",
       "      <th>5</th>\n",
       "      <th>6</th>\n",
       "      <th>7</th>\n",
       "      <th>8</th>\n",
       "      <th>9</th>\n",
       "      <th>...</th>\n",
       "      <th>87</th>\n",
       "      <th>88</th>\n",
       "      <th>89</th>\n",
       "      <th>90</th>\n",
       "      <th>91</th>\n",
       "      <th>92</th>\n",
       "      <th>93</th>\n",
       "      <th>94</th>\n",
       "      <th>95</th>\n",
       "      <th>96</th>\n",
       "    </tr>\n",
       "  </thead>\n",
       "  <tbody>\n",
       "    <tr>\n",
       "      <th>0</th>\n",
       "      <td>culture clash</td>\n",
       "      <td>future</td>\n",
       "      <td>space war</td>\n",
       "      <td>space colony</td>\n",
       "      <td>society</td>\n",
       "      <td>space travel</td>\n",
       "      <td>futuristic</td>\n",
       "      <td>romance</td>\n",
       "      <td>space</td>\n",
       "      <td>alien</td>\n",
       "      <td>...</td>\n",
       "      <td>None</td>\n",
       "      <td>None</td>\n",
       "      <td>None</td>\n",
       "      <td>None</td>\n",
       "      <td>None</td>\n",
       "      <td>None</td>\n",
       "      <td>None</td>\n",
       "      <td>None</td>\n",
       "      <td>None</td>\n",
       "      <td>None</td>\n",
       "    </tr>\n",
       "    <tr>\n",
       "      <th>1</th>\n",
       "      <td>ocean</td>\n",
       "      <td>drug abuse</td>\n",
       "      <td>exotic island</td>\n",
       "      <td>east india trading company</td>\n",
       "      <td>love of one's life</td>\n",
       "      <td>traitor</td>\n",
       "      <td>shipwreck</td>\n",
       "      <td>strong woman</td>\n",
       "      <td>ship</td>\n",
       "      <td>alliance</td>\n",
       "      <td>...</td>\n",
       "      <td>None</td>\n",
       "      <td>None</td>\n",
       "      <td>None</td>\n",
       "      <td>None</td>\n",
       "      <td>None</td>\n",
       "      <td>None</td>\n",
       "      <td>None</td>\n",
       "      <td>None</td>\n",
       "      <td>None</td>\n",
       "      <td>None</td>\n",
       "    </tr>\n",
       "    <tr>\n",
       "      <th>2</th>\n",
       "      <td>spy</td>\n",
       "      <td>based on novel</td>\n",
       "      <td>secret agent</td>\n",
       "      <td>sequel</td>\n",
       "      <td>mi</td>\n",
       "      <td>british secret service</td>\n",
       "      <td>united kingdom</td>\n",
       "      <td>None</td>\n",
       "      <td>None</td>\n",
       "      <td>None</td>\n",
       "      <td>...</td>\n",
       "      <td>None</td>\n",
       "      <td>None</td>\n",
       "      <td>None</td>\n",
       "      <td>None</td>\n",
       "      <td>None</td>\n",
       "      <td>None</td>\n",
       "      <td>None</td>\n",
       "      <td>None</td>\n",
       "      <td>None</td>\n",
       "      <td>None</td>\n",
       "    </tr>\n",
       "    <tr>\n",
       "      <th>3</th>\n",
       "      <td>dc comics</td>\n",
       "      <td>crime fighter</td>\n",
       "      <td>terrorist</td>\n",
       "      <td>secret identity</td>\n",
       "      <td>burglar</td>\n",
       "      <td>hostage drama</td>\n",
       "      <td>time bomb</td>\n",
       "      <td>gotham city</td>\n",
       "      <td>vigilante</td>\n",
       "      <td>cover-up</td>\n",
       "      <td>...</td>\n",
       "      <td>None</td>\n",
       "      <td>None</td>\n",
       "      <td>None</td>\n",
       "      <td>None</td>\n",
       "      <td>None</td>\n",
       "      <td>None</td>\n",
       "      <td>None</td>\n",
       "      <td>None</td>\n",
       "      <td>None</td>\n",
       "      <td>None</td>\n",
       "    </tr>\n",
       "    <tr>\n",
       "      <th>4</th>\n",
       "      <td>based on novel</td>\n",
       "      <td>mars</td>\n",
       "      <td>medallion</td>\n",
       "      <td>space travel</td>\n",
       "      <td>princess</td>\n",
       "      <td>alien</td>\n",
       "      <td>steampunk</td>\n",
       "      <td>martian</td>\n",
       "      <td>escape</td>\n",
       "      <td>edgar rice burroughs</td>\n",
       "      <td>...</td>\n",
       "      <td>None</td>\n",
       "      <td>None</td>\n",
       "      <td>None</td>\n",
       "      <td>None</td>\n",
       "      <td>None</td>\n",
       "      <td>None</td>\n",
       "      <td>None</td>\n",
       "      <td>None</td>\n",
       "      <td>None</td>\n",
       "      <td>None</td>\n",
       "    </tr>\n",
       "  </tbody>\n",
       "</table>\n",
       "<p>5 rows × 97 columns</p>\n",
       "</div>"
      ],
      "text/plain": [
       "               0                1               2   \\\n",
       "0   culture clash           future       space war   \n",
       "1           ocean       drug abuse   exotic island   \n",
       "2             spy   based on novel    secret agent   \n",
       "3       dc comics    crime fighter       terrorist   \n",
       "4  based on novel             mars       medallion   \n",
       "\n",
       "                            3                    4                        5   \\\n",
       "0                 space colony              society             space travel   \n",
       "1   east india trading company   love of one's life                  traitor   \n",
       "2                       sequel                   mi   british secret service   \n",
       "3              secret identity              burglar            hostage drama   \n",
       "4                 space travel             princess                    alien   \n",
       "\n",
       "                6              7           8                      9   ...  \\\n",
       "0       futuristic        romance       space                  alien  ...   \n",
       "1        shipwreck   strong woman        ship               alliance  ...   \n",
       "2   united kingdom           None        None                   None  ...   \n",
       "3        time bomb    gotham city   vigilante               cover-up  ...   \n",
       "4        steampunk        martian      escape   edgar rice burroughs  ...   \n",
       "\n",
       "     87    88    89    90    91    92    93    94    95    96  \n",
       "0  None  None  None  None  None  None  None  None  None  None  \n",
       "1  None  None  None  None  None  None  None  None  None  None  \n",
       "2  None  None  None  None  None  None  None  None  None  None  \n",
       "3  None  None  None  None  None  None  None  None  None  None  \n",
       "4  None  None  None  None  None  None  None  None  None  None  \n",
       "\n",
       "[5 rows x 97 columns]"
      ]
     },
     "execution_count": 193,
     "metadata": {},
     "output_type": "execute_result"
    }
   ],
   "source": [
    "keywords_df = keywords.str.split(',', expand=True)\n",
    "keywords_df.head()"
   ]
  },
  {
   "cell_type": "code",
   "execution_count": 197,
   "id": "0ed68bc3",
   "metadata": {},
   "outputs": [],
   "source": [
    "movies.keywords = keywords_df[0]+', '+keywords_df[1]+', '+keywords_df[2]"
   ]
  },
  {
   "cell_type": "code",
   "execution_count": 199,
   "id": "ac8abf07",
   "metadata": {},
   "outputs": [
    {
     "data": {
      "text/plain": [
       "0       culture clash,  future,  space war\n",
       "1       ocean,  drug abuse,  exotic island\n",
       "2      spy,  based on novel,  secret agent\n",
       "3    dc comics,  crime fighter,  terrorist\n",
       "4        based on novel,  mars,  medallion\n",
       "Name: keywords, dtype: object"
      ]
     },
     "execution_count": 199,
     "metadata": {},
     "output_type": "execute_result"
    }
   ],
   "source": [
    "movies.keywords.head()"
   ]
  },
  {
   "cell_type": "markdown",
   "id": "2b608ee7",
   "metadata": {},
   "source": [
    "## Regular expressions"
   ]
  },
  {
   "cell_type": "code",
   "execution_count": 200,
   "id": "d52032bb",
   "metadata": {},
   "outputs": [],
   "source": [
    "s=pd.Series(['0', 'John Wood', 'Colin Welsh', 'my list', '02456', np.nan, 'HELLO WORLD', 'water%'])"
   ]
  },
  {
   "cell_type": "code",
   "execution_count": 201,
   "id": "26aa5e6b",
   "metadata": {},
   "outputs": [
    {
     "data": {
      "text/plain": [
       "0    False\n",
       "1     True\n",
       "2    False\n",
       "3    False\n",
       "4    False\n",
       "5      NaN\n",
       "6    False\n",
       "7    False\n",
       "dtype: object"
      ]
     },
     "execution_count": 201,
     "metadata": {},
     "output_type": "execute_result"
    }
   ],
   "source": [
    "s.str.contains('John')"
   ]
  },
  {
   "cell_type": "code",
   "execution_count": 202,
   "id": "ef1a2e46",
   "metadata": {},
   "outputs": [
    {
     "data": {
      "text/plain": [
       "0    False\n",
       "1     True\n",
       "2     True\n",
       "3    False\n",
       "4    False\n",
       "5    False\n",
       "6    False\n",
       "7    False\n",
       "dtype: bool"
      ]
     },
     "execution_count": 202,
     "metadata": {},
     "output_type": "execute_result"
    }
   ],
   "source": [
    "s.str.contains('John') | s.str.contains('Colin')"
   ]
  },
  {
   "cell_type": "code",
   "execution_count": 203,
   "id": "713ce4a2",
   "metadata": {},
   "outputs": [
    {
     "data": {
      "text/plain": [
       "0    False\n",
       "1     True\n",
       "2     True\n",
       "3    False\n",
       "4    False\n",
       "5      NaN\n",
       "6    False\n",
       "7    False\n",
       "dtype: object"
      ]
     },
     "execution_count": 203,
     "metadata": {},
     "output_type": "execute_result"
    }
   ],
   "source": [
    "s.str.contains('John|Colin')"
   ]
  },
  {
   "cell_type": "code",
   "execution_count": 204,
   "id": "573a4656",
   "metadata": {},
   "outputs": [],
   "source": [
    "s2 = pd.Series(['bar', 'sugar', 'cartoon', 'argon'])"
   ]
  },
  {
   "cell_type": "code",
   "execution_count": 205,
   "id": "e0968554",
   "metadata": {},
   "outputs": [
    {
     "data": {
      "text/plain": [
       "0     True\n",
       "1     True\n",
       "2     True\n",
       "3    False\n",
       "dtype: bool"
      ]
     },
     "execution_count": 205,
     "metadata": {},
     "output_type": "execute_result"
    }
   ],
   "source": [
    "s2.str.contains('.ar')"
   ]
  },
  {
   "cell_type": "code",
   "execution_count": 206,
   "id": "71e5f7ce",
   "metadata": {},
   "outputs": [
    {
     "data": {
      "text/plain": [
       "0     True\n",
       "1    False\n",
       "2     True\n",
       "3    False\n",
       "dtype: bool"
      ]
     },
     "execution_count": 206,
     "metadata": {},
     "output_type": "execute_result"
    }
   ],
   "source": [
    "s2.str.contains('[bc]ar')"
   ]
  },
  {
   "cell_type": "code",
   "execution_count": 207,
   "id": "5d838cc1",
   "metadata": {},
   "outputs": [
    {
     "data": {
      "text/plain": [
       "0        0\n",
       "4    02456\n",
       "dtype: object"
      ]
     },
     "execution_count": 207,
     "metadata": {},
     "output_type": "execute_result"
    }
   ],
   "source": [
    "s[s.str.contains('[0-9]', na=False)]"
   ]
  },
  {
   "cell_type": "code",
   "execution_count": 208,
   "id": "ff91d258",
   "metadata": {},
   "outputs": [
    {
     "data": {
      "text/plain": [
       "0        0\n",
       "4    02456\n",
       "dtype: object"
      ]
     },
     "execution_count": 208,
     "metadata": {},
     "output_type": "execute_result"
    }
   ],
   "source": [
    "s[s.str.contains('[\\d]', na=False)]"
   ]
  },
  {
   "cell_type": "code",
   "execution_count": 209,
   "id": "9e0a5bbc",
   "metadata": {},
   "outputs": [
    {
     "data": {
      "text/plain": [
       "0        bar\n",
       "2    cartoon\n",
       "dtype: object"
      ]
     },
     "execution_count": 209,
     "metadata": {},
     "output_type": "execute_result"
    }
   ],
   "source": [
    "s2[s2.str.contains('^[bc]', na=False)]"
   ]
  },
  {
   "cell_type": "code",
   "execution_count": 210,
   "id": "768316d3",
   "metadata": {},
   "outputs": [
    {
     "data": {
      "text/plain": [
       "0      bar\n",
       "1    sugar\n",
       "dtype: object"
      ]
     },
     "execution_count": 210,
     "metadata": {},
     "output_type": "execute_result"
    }
   ],
   "source": [
    "s2[s2.str.contains('ar$', na=False)]"
   ]
  },
  {
   "cell_type": "code",
   "execution_count": 211,
   "id": "57e74591",
   "metadata": {},
   "outputs": [
    {
     "data": {
      "text/plain": [
       "0    False\n",
       "1    False\n",
       "2     True\n",
       "3    False\n",
       "4     True\n",
       "dtype: bool"
      ]
     },
     "execution_count": 211,
     "metadata": {},
     "output_type": "execute_result"
    }
   ],
   "source": [
    "s3= pd.Series(['forest', 'o', 'ff', 'foo', 'fof'])\n",
    "s3.str.contains('f+o?f+')"
   ]
  },
  {
   "cell_type": "code",
   "execution_count": 212,
   "id": "7e04a7ac",
   "metadata": {},
   "outputs": [],
   "source": [
    "s4= pd.Series(['Monday5km', 'Wednesday10km', 'Saturday25km'])"
   ]
  },
  {
   "cell_type": "code",
   "execution_count": 213,
   "id": "654c633a",
   "metadata": {},
   "outputs": [
    {
     "data": {
      "text/html": [
       "<div>\n",
       "<style scoped>\n",
       "    .dataframe tbody tr th:only-of-type {\n",
       "        vertical-align: middle;\n",
       "    }\n",
       "\n",
       "    .dataframe tbody tr th {\n",
       "        vertical-align: top;\n",
       "    }\n",
       "\n",
       "    .dataframe thead th {\n",
       "        text-align: right;\n",
       "    }\n",
       "</style>\n",
       "<table border=\"1\" class=\"dataframe\">\n",
       "  <thead>\n",
       "    <tr style=\"text-align: right;\">\n",
       "      <th></th>\n",
       "      <th>0</th>\n",
       "    </tr>\n",
       "  </thead>\n",
       "  <tbody>\n",
       "    <tr>\n",
       "      <th>0</th>\n",
       "      <td>Monday</td>\n",
       "    </tr>\n",
       "    <tr>\n",
       "      <th>1</th>\n",
       "      <td>Wednesday</td>\n",
       "    </tr>\n",
       "    <tr>\n",
       "      <th>2</th>\n",
       "      <td>Saturday</td>\n",
       "    </tr>\n",
       "  </tbody>\n",
       "</table>\n",
       "</div>"
      ],
      "text/plain": [
       "           0\n",
       "0     Monday\n",
       "1  Wednesday\n",
       "2   Saturday"
      ]
     },
     "execution_count": 213,
     "metadata": {},
     "output_type": "execute_result"
    }
   ],
   "source": [
    "# Extract weekday names in a new column\n",
    "s4.str.extract(\"(\\w+day)\", expand=True)"
   ]
  },
  {
   "cell_type": "code",
   "execution_count": 214,
   "id": "48c14a34",
   "metadata": {},
   "outputs": [
    {
     "data": {
      "text/html": [
       "<div>\n",
       "<style scoped>\n",
       "    .dataframe tbody tr th:only-of-type {\n",
       "        vertical-align: middle;\n",
       "    }\n",
       "\n",
       "    .dataframe tbody tr th {\n",
       "        vertical-align: top;\n",
       "    }\n",
       "\n",
       "    .dataframe thead th {\n",
       "        text-align: right;\n",
       "    }\n",
       "</style>\n",
       "<table border=\"1\" class=\"dataframe\">\n",
       "  <thead>\n",
       "    <tr style=\"text-align: right;\">\n",
       "      <th></th>\n",
       "      <th>0</th>\n",
       "      <th>1</th>\n",
       "    </tr>\n",
       "  </thead>\n",
       "  <tbody>\n",
       "    <tr>\n",
       "      <th>0</th>\n",
       "      <td>Monday</td>\n",
       "      <td>5km</td>\n",
       "    </tr>\n",
       "    <tr>\n",
       "      <th>1</th>\n",
       "      <td>Wednesday</td>\n",
       "      <td>10km</td>\n",
       "    </tr>\n",
       "    <tr>\n",
       "      <th>2</th>\n",
       "      <td>Saturday</td>\n",
       "      <td>25km</td>\n",
       "    </tr>\n",
       "  </tbody>\n",
       "</table>\n",
       "</div>"
      ],
      "text/plain": [
       "           0     1\n",
       "0     Monday   5km\n",
       "1  Wednesday  10km\n",
       "2   Saturday  25km"
      ]
     },
     "execution_count": 214,
     "metadata": {},
     "output_type": "execute_result"
    }
   ],
   "source": [
    "# Extract weekday names and distances in km in separate columns\n",
    "s4.str.extract(\"(\\w+day)(\\d+km)\", expand=True)"
   ]
  },
  {
   "cell_type": "code",
   "execution_count": 215,
   "id": "b0661e0a",
   "metadata": {},
   "outputs": [
    {
     "data": {
      "text/plain": [
       "'Monday5km'"
      ]
     },
     "execution_count": 215,
     "metadata": {},
     "output_type": "execute_result"
    }
   ],
   "source": [
    "# Define string sample\n",
    "sample = 'Monday5km'\n",
    "sample\n",
    "# 'Monday5km'"
   ]
  },
  {
   "cell_type": "code",
   "execution_count": 216,
   "id": "90dee43b",
   "metadata": {},
   "outputs": [
    {
     "data": {
      "text/plain": [
       "('Monday', '5km')"
      ]
     },
     "execution_count": 216,
     "metadata": {},
     "output_type": "execute_result"
    }
   ],
   "source": [
    "# Import re library\n",
    "import re\n",
    "\n",
    "# Match groups according to regex pattern\n",
    "m = re.match('(\\w+day)(\\d+km)', # regex pattern\n",
    "             sample              # string sample\n",
    "            )\n",
    "\n",
    "# Show matched groups\n",
    "m.groups()\n",
    "# ('Monday', '5km')"
   ]
  },
  {
   "cell_type": "code",
   "execution_count": 217,
   "id": "92aae99a",
   "metadata": {},
   "outputs": [
    {
     "data": {
      "text/plain": [
       "'5km'"
      ]
     },
     "execution_count": 217,
     "metadata": {},
     "output_type": "execute_result"
    }
   ],
   "source": [
    "# Show first matched group\n",
    "m.groups()[0]\n",
    "# 'Monday'\n",
    "\n",
    "# Show second matched group\n",
    "m.groups()[1]"
   ]
  },
  {
   "cell_type": "code",
   "execution_count": 218,
   "id": "2429f9a4",
   "metadata": {},
   "outputs": [
    {
     "data": {
      "text/plain": [
       "'Mon'"
      ]
     },
     "execution_count": 218,
     "metadata": {},
     "output_type": "execute_result"
    }
   ],
   "source": [
    "m.groups()[0][:3]"
   ]
  },
  {
   "cell_type": "code",
   "execution_count": 219,
   "id": "52ba7586",
   "metadata": {},
   "outputs": [],
   "source": [
    "def f(x):\n",
    "    return x.groups()[0][:3]"
   ]
  },
  {
   "cell_type": "code",
   "execution_count": 220,
   "id": "b0ca17be",
   "metadata": {},
   "outputs": [
    {
     "data": {
      "text/plain": [
       "0     Mon5km\n",
       "1    Wed10km\n",
       "2    Sat25km\n",
       "dtype: object"
      ]
     },
     "execution_count": 220,
     "metadata": {},
     "output_type": "execute_result"
    }
   ],
   "source": [
    "s4.str.replace(\"(\\w+day)\",\n",
    "               f,           \n",
    "               regex=True\n",
    "              )"
   ]
  },
  {
   "cell_type": "markdown",
   "id": "b603e470",
   "metadata": {},
   "source": [
    "## Exercise: using regular expressions in pandas"
   ]
  },
  {
   "cell_type": "code",
   "execution_count": 221,
   "id": "4754603b",
   "metadata": {},
   "outputs": [],
   "source": [
    "meal_plan = ['Monday: 9:12am – Omelet,  3:30pm– Apple slices with almond butter', \n",
    "             'Tuesday: 9:35am – Banana bread, 11:00am –Sauteed veggies, 7:02pm– Taco pie',\n",
    "             'Wednesday: 9:00am – Banana pancakes',  \n",
    "             'Thursday: 7:23pm– Slow cooker pulled pork', 'Friday: 3:30pm – Can of tuna', \n",
    "             'Saturday: 9:11am: Eggs and sweet potato hash browns, 3:22pm: Almonds', \n",
    "             'Sunday: 11:00am: Meat and veggie stir fry'] "
   ]
  },
  {
   "cell_type": "code",
   "execution_count": 233,
   "id": "cd83f7b1",
   "metadata": {},
   "outputs": [
    {
     "data": {
      "text/html": [
       "<div>\n",
       "<style scoped>\n",
       "    .dataframe tbody tr th:only-of-type {\n",
       "        vertical-align: middle;\n",
       "    }\n",
       "\n",
       "    .dataframe tbody tr th {\n",
       "        vertical-align: top;\n",
       "    }\n",
       "\n",
       "    .dataframe thead th {\n",
       "        text-align: right;\n",
       "    }\n",
       "</style>\n",
       "<table border=\"1\" class=\"dataframe\">\n",
       "  <thead>\n",
       "    <tr style=\"text-align: right;\">\n",
       "      <th></th>\n",
       "      <th>text</th>\n",
       "    </tr>\n",
       "  </thead>\n",
       "  <tbody>\n",
       "    <tr>\n",
       "      <th>0</th>\n",
       "      <td>Monday: 9:12am – Omelet,  3:30pm– Apple slices...</td>\n",
       "    </tr>\n",
       "    <tr>\n",
       "      <th>1</th>\n",
       "      <td>Tuesday: 9:35am – Banana bread, 11:00am –Saute...</td>\n",
       "    </tr>\n",
       "    <tr>\n",
       "      <th>2</th>\n",
       "      <td>Wednesday: 9:00am – Banana pancakes</td>\n",
       "    </tr>\n",
       "    <tr>\n",
       "      <th>3</th>\n",
       "      <td>Thursday: 7:23pm– Slow cooker pulled pork</td>\n",
       "    </tr>\n",
       "    <tr>\n",
       "      <th>4</th>\n",
       "      <td>Friday: 3:30pm – Can of tuna</td>\n",
       "    </tr>\n",
       "    <tr>\n",
       "      <th>5</th>\n",
       "      <td>Saturday: 9:11am: Eggs and sweet potato hash b...</td>\n",
       "    </tr>\n",
       "    <tr>\n",
       "      <th>6</th>\n",
       "      <td>Sunday: 11:00am: Meat and veggie stir fry</td>\n",
       "    </tr>\n",
       "  </tbody>\n",
       "</table>\n",
       "</div>"
      ],
      "text/plain": [
       "                                                text\n",
       "0  Monday: 9:12am – Omelet,  3:30pm– Apple slices...\n",
       "1  Tuesday: 9:35am – Banana bread, 11:00am –Saute...\n",
       "2                Wednesday: 9:00am – Banana pancakes\n",
       "3          Thursday: 7:23pm– Slow cooker pulled pork\n",
       "4                       Friday: 3:30pm – Can of tuna\n",
       "5  Saturday: 9:11am: Eggs and sweet potato hash b...\n",
       "6          Sunday: 11:00am: Meat and veggie stir fry"
      ]
     },
     "execution_count": 233,
     "metadata": {},
     "output_type": "execute_result"
    }
   ],
   "source": [
    "df = pd.DataFrame(meal_plan, columns=['text'])\n",
    "df"
   ]
  },
  {
   "cell_type": "code",
   "execution_count": 296,
   "id": "1e7f1810",
   "metadata": {},
   "outputs": [],
   "source": [
    "weekdays = df['text'].str.extractall(r'(?P<weekdays>\\w+day)') # to name a column\n",
    "days = weekdays['weekdays'].str[:3]\n",
    "meals = ['breakfast', 'lunch', 'dinner']"
   ]
  },
  {
   "cell_type": "code",
   "execution_count": 304,
   "id": "1bcd47ba",
   "metadata": {},
   "outputs": [
    {
     "data": {
      "text/html": [
       "<div>\n",
       "<style scoped>\n",
       "    .dataframe tbody tr th:only-of-type {\n",
       "        vertical-align: middle;\n",
       "    }\n",
       "\n",
       "    .dataframe tbody tr th {\n",
       "        vertical-align: top;\n",
       "    }\n",
       "\n",
       "    .dataframe thead th {\n",
       "        text-align: right;\n",
       "    }\n",
       "</style>\n",
       "<table border=\"1\" class=\"dataframe\">\n",
       "  <thead>\n",
       "    <tr style=\"text-align: right;\">\n",
       "      <th></th>\n",
       "      <th></th>\n",
       "      <th>Hour</th>\n",
       "      <th>Minutes</th>\n",
       "      <th>Period</th>\n",
       "    </tr>\n",
       "    <tr>\n",
       "      <th>Day</th>\n",
       "      <th>Meal</th>\n",
       "      <th></th>\n",
       "      <th></th>\n",
       "      <th></th>\n",
       "    </tr>\n",
       "  </thead>\n",
       "  <tbody>\n",
       "    <tr>\n",
       "      <th rowspan=\"2\" valign=\"top\">Mon</th>\n",
       "      <th>breakfast</th>\n",
       "      <td>9</td>\n",
       "      <td>12</td>\n",
       "      <td>am</td>\n",
       "    </tr>\n",
       "    <tr>\n",
       "      <th>lunch</th>\n",
       "      <td>3</td>\n",
       "      <td>30</td>\n",
       "      <td>pm</td>\n",
       "    </tr>\n",
       "    <tr>\n",
       "      <th rowspan=\"3\" valign=\"top\">Tue</th>\n",
       "      <th>breakfast</th>\n",
       "      <td>9</td>\n",
       "      <td>35</td>\n",
       "      <td>am</td>\n",
       "    </tr>\n",
       "    <tr>\n",
       "      <th>lunch</th>\n",
       "      <td>11</td>\n",
       "      <td>00</td>\n",
       "      <td>am</td>\n",
       "    </tr>\n",
       "    <tr>\n",
       "      <th>dinner</th>\n",
       "      <td>7</td>\n",
       "      <td>02</td>\n",
       "      <td>pm</td>\n",
       "    </tr>\n",
       "    <tr>\n",
       "      <th>Wed</th>\n",
       "      <th>breakfast</th>\n",
       "      <td>9</td>\n",
       "      <td>00</td>\n",
       "      <td>am</td>\n",
       "    </tr>\n",
       "    <tr>\n",
       "      <th>Thu</th>\n",
       "      <th>breakfast</th>\n",
       "      <td>7</td>\n",
       "      <td>23</td>\n",
       "      <td>pm</td>\n",
       "    </tr>\n",
       "    <tr>\n",
       "      <th>Fri</th>\n",
       "      <th>breakfast</th>\n",
       "      <td>3</td>\n",
       "      <td>30</td>\n",
       "      <td>pm</td>\n",
       "    </tr>\n",
       "    <tr>\n",
       "      <th rowspan=\"2\" valign=\"top\">Sat</th>\n",
       "      <th>breakfast</th>\n",
       "      <td>9</td>\n",
       "      <td>11</td>\n",
       "      <td>am</td>\n",
       "    </tr>\n",
       "    <tr>\n",
       "      <th>lunch</th>\n",
       "      <td>3</td>\n",
       "      <td>22</td>\n",
       "      <td>pm</td>\n",
       "    </tr>\n",
       "    <tr>\n",
       "      <th>Sun</th>\n",
       "      <th>breakfast</th>\n",
       "      <td>11</td>\n",
       "      <td>00</td>\n",
       "      <td>am</td>\n",
       "    </tr>\n",
       "  </tbody>\n",
       "</table>\n",
       "</div>"
      ],
      "text/plain": [
       "              Hour Minutes Period\n",
       "Day Meal                         \n",
       "Mon breakfast    9      12     am\n",
       "    lunch        3      30     pm\n",
       "Tue breakfast    9      35     am\n",
       "    lunch       11      00     am\n",
       "    dinner       7      02     pm\n",
       "Wed breakfast    9      00     am\n",
       "Thu breakfast    7      23     pm\n",
       "Fri breakfast    3      30     pm\n",
       "Sat breakfast    9      11     am\n",
       "    lunch        3      22     pm\n",
       "Sun breakfast   11      00     am"
      ]
     },
     "execution_count": 304,
     "metadata": {},
     "output_type": "execute_result"
    }
   ],
   "source": [
    "sol = df['text'].str.extractall(\"(\\d?\\d):(\\d\\d) ?([ap]m)\")\n",
    "sol.index.set_levels([days, meals], inplace = True)\n",
    "sol.index.set_names([\"Day\", \"Meal\"], inplace = True)\n",
    "sol.columns = ['Hour', 'Minutes', 'Period']\n",
    "sol"
   ]
  },
  {
   "cell_type": "markdown",
   "id": "e7a9c1a6",
   "metadata": {},
   "source": [
    "## Sentiment Analysis"
   ]
  },
  {
   "cell_type": "code",
   "execution_count": 318,
   "id": "e2df32bd",
   "metadata": {},
   "outputs": [
    {
     "name": "stderr",
     "output_type": "stream",
     "text": [
      "[nltk_data] Downloading package stopwords to\n",
      "[nltk_data]     /Users/valentinmonney/nltk_data...\n",
      "[nltk_data]   Package stopwords is already up-to-date!\n"
     ]
    }
   ],
   "source": [
    "import nltk\n",
    "nltk.download('stopwords')\n",
    "from nltk.corpus import stopwords\n",
    "from nltk.tokenize import TweetTokenizer\n",
    "import string\n",
    "import re"
   ]
  },
  {
   "cell_type": "code",
   "execution_count": 309,
   "id": "18e4dd1f",
   "metadata": {},
   "outputs": [
    {
     "data": {
      "text/html": [
       "<div>\n",
       "<style scoped>\n",
       "    .dataframe tbody tr th:only-of-type {\n",
       "        vertical-align: middle;\n",
       "    }\n",
       "\n",
       "    .dataframe tbody tr th {\n",
       "        vertical-align: top;\n",
       "    }\n",
       "\n",
       "    .dataframe thead th {\n",
       "        text-align: right;\n",
       "    }\n",
       "</style>\n",
       "<table border=\"1\" class=\"dataframe\">\n",
       "  <thead>\n",
       "    <tr style=\"text-align: right;\">\n",
       "      <th></th>\n",
       "      <th>sentiment</th>\n",
       "      <th>text</th>\n",
       "    </tr>\n",
       "  </thead>\n",
       "  <tbody>\n",
       "    <tr>\n",
       "      <th>0</th>\n",
       "      <td>4</td>\n",
       "      <td>@stellargirl I loooooooovvvvvveee my Kindle2. ...</td>\n",
       "    </tr>\n",
       "    <tr>\n",
       "      <th>1</th>\n",
       "      <td>4</td>\n",
       "      <td>Reading my kindle2...  Love it... Lee childs i...</td>\n",
       "    </tr>\n",
       "    <tr>\n",
       "      <th>2</th>\n",
       "      <td>4</td>\n",
       "      <td>Ok, first assesment of the #kindle2 ...it fuck...</td>\n",
       "    </tr>\n",
       "    <tr>\n",
       "      <th>3</th>\n",
       "      <td>4</td>\n",
       "      <td>@kenburbary You'll love your Kindle2. I've had...</td>\n",
       "    </tr>\n",
       "    <tr>\n",
       "      <th>4</th>\n",
       "      <td>4</td>\n",
       "      <td>@mikefish  Fair enough. But i have the Kindle2...</td>\n",
       "    </tr>\n",
       "  </tbody>\n",
       "</table>\n",
       "</div>"
      ],
      "text/plain": [
       "   sentiment                                               text\n",
       "0          4  @stellargirl I loooooooovvvvvveee my Kindle2. ...\n",
       "1          4  Reading my kindle2...  Love it... Lee childs i...\n",
       "2          4  Ok, first assesment of the #kindle2 ...it fuck...\n",
       "3          4  @kenburbary You'll love your Kindle2. I've had...\n",
       "4          4  @mikefish  Fair enough. But i have the Kindle2..."
      ]
     },
     "execution_count": 309,
     "metadata": {},
     "output_type": "execute_result"
    }
   ],
   "source": [
    "df = pd.read_csv('tweets.csv', header = None)\n",
    "df.columns = ['sentiment', 'text']\n",
    "df.head()"
   ]
  },
  {
   "cell_type": "code",
   "execution_count": 314,
   "id": "c71d32b6",
   "metadata": {},
   "outputs": [
    {
     "data": {
      "text/plain": [
       "177"
      ]
     },
     "execution_count": 314,
     "metadata": {},
     "output_type": "execute_result"
    }
   ],
   "source": [
    "#total number of tweets\n",
    "df.shape[0]\n",
    "#number of positive tweets\n",
    "df[df['sentiment'] == 4].shape[0]\n",
    "#number of neutral tweets\n",
    "df[df['sentiment'] == 2].shape[0]\n",
    "#number of negative tweets\n",
    "df[df['sentiment'] == 0].shape[0]"
   ]
  },
  {
   "cell_type": "code",
   "execution_count": 316,
   "id": "74d31247",
   "metadata": {},
   "outputs": [],
   "source": [
    "pos_tweets = df.loc[df['sentiment'] == 4, 'text']\n",
    "neg_tweets = df.loc[df['sentiment'] == 0, 'text']"
   ]
  },
  {
   "cell_type": "code",
   "execution_count": 325,
   "id": "a19d7f8c",
   "metadata": {},
   "outputs": [],
   "source": [
    "stopwords_english = stopwords.words('english')\n",
    "stopwords_english\n",
    "\n",
    "# Happy Emoticons\n",
    "emoticons_happy = set([\n",
    "    ':-)', ':)', ';)', ':o)', ':]', ':3', ':c)', ':>', '=]', '8)', '=)', ':}',\n",
    "    ':^)', ':-D', ':D', '8-D', '8D', 'x-D', 'xD', 'X-D', 'XD', '=-D', '=D',\n",
    "    '=-3', '=3', ':-))', \":'-)\", \":')\", ':*', ':^*', '>:P', ':-P', ':P', 'X-P',\n",
    "    'x-p', 'xp', 'XP', ':-p', ':p', '=p', ':-b', ':b', '>:)', '>;)', '>:-)',\n",
    "    '<3'\n",
    "    ])\n",
    "\n",
    "# Sad Emoticons\n",
    "emoticons_sad = set([\n",
    "    ':L', ':-/', '>:/', ':S', '>:[', ':@', ':-(', ':[', ':-||', '=L', ':<',\n",
    "    ':-[', ':-<', '=\\\\', '=/', '>:(', ':(', '>.<', \":'-(\", \":'(\", ':\\\\', ':-c',\n",
    "    ':c', ':{', '>:\\\\', ';('\n",
    "    ])\n",
    "\n",
    "# all emoticons (happy + sad)\n",
    "emoticons = emoticons_happy.union(emoticons_sad)\n",
    "\n",
    "def clean_tweets(tweet):\n",
    "    \n",
    "    # remove hyperlinks\n",
    "    tweet = re.sub(pattern = r'https?:\\/\\/[^\\s]+', repl='', string= tweet)\n",
    "        \n",
    "    # remove hashtags\n",
    "    tweet = re.sub(r'#', '', tweet)  \n",
    "    \n",
    "    # tokenize tweets\n",
    "    tokenizer = TweetTokenizer(preserve_case = False, reduce_len=True, strip_handles=True)\n",
    "    tweet_tokens = tokenizer.tokenize(tweet)\n",
    "    \n",
    "    tweets_clean = []\n",
    "    for word in tweet_tokens:\n",
    "        if( word not in stopwords_english and # removes stopwords\n",
    "            #word not in emoticons and # removes emoticons\n",
    "            word not in string.punctuation): # removes punctuation)\n",
    "            tweets_clean.append(word)\n",
    "           \n",
    "    return(tweets_clean)"
   ]
  },
  {
   "cell_type": "code",
   "execution_count": 327,
   "id": "8d7b5b4f",
   "metadata": {},
   "outputs": [
    {
     "data": {
      "text/plain": [
       "\"@mikefish  Fair enough. But i have the Kindle2 and I think it's perfect  :)\""
      ]
     },
     "execution_count": 327,
     "metadata": {},
     "output_type": "execute_result"
    }
   ],
   "source": [
    "sample = pos_tweets.iloc[4]\n",
    "sample"
   ]
  },
  {
   "cell_type": "code",
   "execution_count": 328,
   "id": "43dc249b",
   "metadata": {},
   "outputs": [
    {
     "data": {
      "text/plain": [
       "['fair', 'enough', 'kindle', '2', 'think', 'perfect']"
      ]
     },
     "execution_count": 328,
     "metadata": {},
     "output_type": "execute_result"
    }
   ],
   "source": [
    "clean_tweets(sample)"
   ]
  },
  {
   "cell_type": "code",
   "execution_count": 356,
   "id": "3e13e6f8",
   "metadata": {},
   "outputs": [],
   "source": [
    "# defining our bag of words model\n",
    "def bag_of_words(tweet):\n",
    "    words = clean_tweets(tweet)\n",
    "    words_dictionary = dict([word,True] for word in words)\n",
    "    return words_dictionary"
   ]
  },
  {
   "cell_type": "code",
   "execution_count": 357,
   "id": "5bb19bff",
   "metadata": {},
   "outputs": [
    {
     "data": {
      "text/plain": [
       "{'fair': True,\n",
       " 'enough': True,\n",
       " 'kindle': True,\n",
       " '2': True,\n",
       " 'think': True,\n",
       " 'perfect': True}"
      ]
     },
     "execution_count": 357,
     "metadata": {},
     "output_type": "execute_result"
    }
   ],
   "source": [
    "bag_of_words(sample)"
   ]
  },
  {
   "cell_type": "code",
   "execution_count": 358,
   "id": "c5ab0bf7",
   "metadata": {},
   "outputs": [],
   "source": [
    "# Creating a feature set of positive tweets\n",
    "pos_tweets_set = []\n",
    "for tweet in pos_tweets:\n",
    "    pos_tweets_set.append((bag_of_words(tweet), 'pos'))\n",
    "    \n",
    "# Creating a feature set of negative tweets\n",
    "neg_tweets_set = []\n",
    "for tweet in neg_tweets:\n",
    "    neg_tweets_set.append((bag_of_words(tweet), 'neg'))\n",
    "\n",
    "tweets = pos_tweets_set + neg_tweets_set"
   ]
  },
  {
   "cell_type": "code",
   "execution_count": 359,
   "id": "b6ce7eec",
   "metadata": {},
   "outputs": [],
   "source": [
    "# implement the Naive Bayes algorithm\n",
    "from random import shuffle\n",
    "shuffle(pos_tweets_set)\n",
    "shuffle(neg_tweets_set)\n",
    "\n",
    "test_set = pos_tweets_set[:36] + neg_tweets_set[:36]\n",
    "train_set = pos_tweets_set[36:] + neg_tweets_set[:36]"
   ]
  },
  {
   "cell_type": "code",
   "execution_count": 360,
   "id": "92e66f14",
   "metadata": {},
   "outputs": [],
   "source": [
    "from nltk import classify\n",
    "from nltk import NaiveBayesClassifier\n",
    "\n",
    "# Classify our train data with the Naive Bayes Classifier\n",
    "classifier = NaiveBayesClassifier.train(train_set)"
   ]
  },
  {
   "cell_type": "code",
   "execution_count": 361,
   "id": "d4bf3ac6",
   "metadata": {},
   "outputs": [
    {
     "data": {
      "text/plain": [
       "0.8472222222222222"
      ]
     },
     "execution_count": 361,
     "metadata": {},
     "output_type": "execute_result"
    }
   ],
   "source": [
    "# test the accuraca of our classifier\n",
    "accuracy = classify.accuracy(classifier, test_set)\n",
    "accuracy"
   ]
  },
  {
   "cell_type": "code",
   "execution_count": 362,
   "id": "1e5f43ea",
   "metadata": {},
   "outputs": [
    {
     "name": "stdout",
     "output_type": "stream",
     "text": [
      "Most Informative Features\n",
      "                    hate = True              neg : pos    =      9.3 : 1.0\n",
      "                      .. = True              neg : pos    =      9.3 : 1.0\n",
      "                    fail = True              neg : pos    =      6.6 : 1.0\n",
      "                    time = True              neg : pos    =      6.6 : 1.0\n",
      "                customer = True              neg : pos    =      6.6 : 1.0\n",
      "                    even = True              neg : pos    =      4.0 : 1.0\n",
      "                   would = True              neg : pos    =      4.0 : 1.0\n",
      "                  office = True              neg : pos    =      4.0 : 1.0\n",
      "                   voice = True              neg : pos    =      4.0 : 1.0\n",
      "                  higher = True              neg : pos    =      4.0 : 1.0\n"
     ]
    }
   ],
   "source": [
    "# show the most importang features \n",
    "classifier.show_most_informative_features(10)"
   ]
  },
  {
   "cell_type": "code",
   "execution_count": 343,
   "id": "06223b0a",
   "metadata": {},
   "outputs": [],
   "source": [
    "from collections import defaultdict\n",
    "from nltk.metrics import ConfusionMatrix"
   ]
  },
  {
   "cell_type": "code",
   "execution_count": 352,
   "id": "8d040ecf",
   "metadata": {},
   "outputs": [
    {
     "name": "stdout",
     "output_type": "stream",
     "text": [
      "    |  n  p |\n",
      "    |  e  o |\n",
      "    |  g  s |\n",
      "----+-------+\n",
      "neg |<36> . |\n",
      "pos |  5<31>|\n",
      "----+-------+\n",
      "(row = reference; col = test)\n",
      "\n"
     ]
    }
   ],
   "source": [
    "actual_set_cm = []\n",
    "predicted_set_cm = []\n",
    "\n",
    "for index, (feature, actual_label) in enumerate(test_set):\n",
    "    actual_set[actual_label].add(index)\n",
    "    actual_set_cm.append(actual_label)\n",
    "    \n",
    "    predicted_label = classifier.classify(feature)\n",
    "    \n",
    "    predicted_set[predicted_label].add(index)\n",
    "    predicted_set_cm.append(predicted_label)\n",
    "    \n",
    "print(ConfusionMatrix(actual_set_cm, predicted_set_cm))\n",
    "    "
   ]
  },
  {
   "cell_type": "code",
   "execution_count": 368,
   "id": "15a9a248",
   "metadata": {},
   "outputs": [
    {
     "data": {
      "text/plain": [
       "['pos',\n",
       " 'pos',\n",
       " 'pos',\n",
       " 'pos',\n",
       " 'neg',\n",
       " 'pos',\n",
       " 'pos',\n",
       " 'pos',\n",
       " 'neg',\n",
       " 'pos',\n",
       " 'pos',\n",
       " 'pos',\n",
       " 'pos',\n",
       " 'pos',\n",
       " 'pos',\n",
       " 'pos',\n",
       " 'neg',\n",
       " 'pos',\n",
       " 'neg',\n",
       " 'pos',\n",
       " 'pos',\n",
       " 'neg',\n",
       " 'pos',\n",
       " 'pos',\n",
       " 'pos',\n",
       " 'pos',\n",
       " 'pos',\n",
       " 'pos',\n",
       " 'pos',\n",
       " 'pos',\n",
       " 'pos',\n",
       " 'pos',\n",
       " 'pos',\n",
       " 'pos',\n",
       " 'pos',\n",
       " 'pos',\n",
       " 'neg',\n",
       " 'neg',\n",
       " 'neg',\n",
       " 'neg',\n",
       " 'neg',\n",
       " 'neg',\n",
       " 'neg',\n",
       " 'neg',\n",
       " 'neg',\n",
       " 'neg',\n",
       " 'neg',\n",
       " 'neg',\n",
       " 'neg',\n",
       " 'neg',\n",
       " 'neg',\n",
       " 'neg',\n",
       " 'neg',\n",
       " 'neg',\n",
       " 'neg',\n",
       " 'neg',\n",
       " 'neg',\n",
       " 'neg',\n",
       " 'neg',\n",
       " 'neg',\n",
       " 'neg',\n",
       " 'neg',\n",
       " 'neg',\n",
       " 'neg',\n",
       " 'neg',\n",
       " 'neg',\n",
       " 'neg',\n",
       " 'neg',\n",
       " 'neg',\n",
       " 'neg',\n",
       " 'neg',\n",
       " 'neg']"
      ]
     },
     "execution_count": 368,
     "metadata": {},
     "output_type": "execute_result"
    }
   ],
   "source": []
  },
  {
   "cell_type": "code",
   "execution_count": null,
   "id": "f04fea9b",
   "metadata": {},
   "outputs": [],
   "source": []
  }
 ],
 "metadata": {
  "kernelspec": {
   "display_name": "Python 3",
   "language": "python",
   "name": "python3"
  },
  "language_info": {
   "codemirror_mode": {
    "name": "ipython",
    "version": 3
   },
   "file_extension": ".py",
   "mimetype": "text/x-python",
   "name": "python",
   "nbconvert_exporter": "python",
   "pygments_lexer": "ipython3",
   "version": "3.6.13"
  }
 },
 "nbformat": 4,
 "nbformat_minor": 5
}
