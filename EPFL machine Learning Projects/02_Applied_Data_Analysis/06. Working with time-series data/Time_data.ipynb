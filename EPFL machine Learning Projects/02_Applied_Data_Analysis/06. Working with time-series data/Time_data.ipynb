{
 "cells": [
  {
   "cell_type": "markdown",
   "id": "cc249e34",
   "metadata": {},
   "source": [
    "# 02. The Timestamp, Timedelta, and Period objects\n",
    "## The Timestamp object"
   ]
  },
  {
   "cell_type": "code",
   "execution_count": 33,
   "id": "d5f6c702",
   "metadata": {},
   "outputs": [
    {
     "data": {
      "text/plain": [
       "Timestamp('2009-02-13 00:00:00')"
      ]
     },
     "execution_count": 33,
     "metadata": {},
     "output_type": "execute_result"
    }
   ],
   "source": [
    "import pandas as pd\n",
    "import numpy as np\n",
    "pd.to_datetime('13th of February, 2009')"
   ]
  },
  {
   "cell_type": "code",
   "execution_count": 2,
   "id": "dfde25f2",
   "metadata": {},
   "outputs": [
    {
     "data": {
      "text/plain": [
       "Timestamp('2009-02-13 00:00:00')"
      ]
     },
     "execution_count": 2,
     "metadata": {},
     "output_type": "execute_result"
    }
   ],
   "source": [
    "pd.to_datetime('02-13-2009')"
   ]
  },
  {
   "cell_type": "code",
   "execution_count": 3,
   "id": "df370cad",
   "metadata": {},
   "outputs": [
    {
     "data": {
      "text/plain": [
       "Timestamp('2009-02-13 00:00:00')"
      ]
     },
     "execution_count": 3,
     "metadata": {},
     "output_type": "execute_result"
    }
   ],
   "source": [
    "pd.to_datetime('Feb 13, 2009')"
   ]
  },
  {
   "cell_type": "code",
   "execution_count": 4,
   "id": "df2ce6b2",
   "metadata": {},
   "outputs": [
    {
     "data": {
      "text/plain": [
       "Timestamp('2009-02-13 14:20:00')"
      ]
     },
     "execution_count": 4,
     "metadata": {},
     "output_type": "execute_result"
    }
   ],
   "source": [
    "pd.to_datetime('Feb 13, 2009 14:20:00')"
   ]
  },
  {
   "cell_type": "code",
   "execution_count": 5,
   "id": "ad96257f",
   "metadata": {},
   "outputs": [
    {
     "data": {
      "text/plain": [
       "Timestamp('2021-09-28 13:00:00')"
      ]
     },
     "execution_count": 5,
     "metadata": {},
     "output_type": "execute_result"
    }
   ],
   "source": [
    "pd.to_datetime('13:00')"
   ]
  },
  {
   "cell_type": "code",
   "execution_count": 6,
   "id": "af21da08",
   "metadata": {},
   "outputs": [
    {
     "data": {
      "text/plain": [
       "Timestamp('2021-09-28 13:29:16.602920')"
      ]
     },
     "execution_count": 6,
     "metadata": {},
     "output_type": "execute_result"
    }
   ],
   "source": [
    "pd.to_datetime('now')"
   ]
  },
  {
   "cell_type": "code",
   "execution_count": 7,
   "id": "990c847b",
   "metadata": {},
   "outputs": [
    {
     "data": {
      "text/plain": [
       "Timestamp('2009-03-13 00:00:00')"
      ]
     },
     "execution_count": 7,
     "metadata": {},
     "output_type": "execute_result"
    }
   ],
   "source": [
    "pd.to_datetime('13-03-2009')"
   ]
  },
  {
   "cell_type": "code",
   "execution_count": 8,
   "id": "cb15ec3d",
   "metadata": {},
   "outputs": [
    {
     "data": {
      "text/plain": [
       "Timestamp('2009-03-13 00:00:00')"
      ]
     },
     "execution_count": 8,
     "metadata": {},
     "output_type": "execute_result"
    }
   ],
   "source": [
    "pd.to_datetime('03-13-2009')"
   ]
  },
  {
   "cell_type": "code",
   "execution_count": 9,
   "id": "3efa4a57",
   "metadata": {},
   "outputs": [
    {
     "data": {
      "text/plain": [
       "Timestamp('2009-01-03 00:00:00')"
      ]
     },
     "execution_count": 9,
     "metadata": {},
     "output_type": "execute_result"
    }
   ],
   "source": [
    "pd.to_datetime('01-03-2009')"
   ]
  },
  {
   "cell_type": "code",
   "execution_count": 12,
   "id": "1f930415",
   "metadata": {},
   "outputs": [
    {
     "data": {
      "text/plain": [
       "'Wednesday'"
      ]
     },
     "execution_count": 12,
     "metadata": {},
     "output_type": "execute_result"
    }
   ],
   "source": [
    "pd.to_datetime('Sep 11, 1991').day_name()"
   ]
  },
  {
   "cell_type": "markdown",
   "id": "356c99fb",
   "metadata": {},
   "source": [
    "## The Timedelta object"
   ]
  },
  {
   "cell_type": "code",
   "execution_count": 13,
   "id": "18eaf741",
   "metadata": {},
   "outputs": [
    {
     "data": {
      "text/plain": [
       "Timedelta('12418 days 00:00:00')"
      ]
     },
     "execution_count": 13,
     "metadata": {},
     "output_type": "execute_result"
    }
   ],
   "source": [
    "date1 = pd.Timestamp('2018-03-03')\n",
    "date2 = pd.Timestamp('1984-03-03')\n",
    "date1-date2"
   ]
  },
  {
   "cell_type": "code",
   "execution_count": 14,
   "id": "410e12e5",
   "metadata": {},
   "outputs": [
    {
     "data": {
      "text/plain": [
       "Timedelta('54 days 03:00:00')"
      ]
     },
     "execution_count": 14,
     "metadata": {},
     "output_type": "execute_result"
    }
   ],
   "source": [
    "# Create a timedelta object\n",
    "pd.Timedelta(days=54, hours=3)"
   ]
  },
  {
   "cell_type": "code",
   "execution_count": 15,
   "id": "5d8db0d0",
   "metadata": {},
   "outputs": [
    {
     "data": {
      "text/plain": [
       "Timestamp('2018-04-26 03:00:00')"
      ]
     },
     "execution_count": 15,
     "metadata": {},
     "output_type": "execute_result"
    }
   ],
   "source": [
    "# add timedelta to timestamp\n",
    "date1 + pd.Timedelta(days=54, hours=3)"
   ]
  },
  {
   "cell_type": "code",
   "execution_count": 16,
   "id": "f7ae0752",
   "metadata": {},
   "outputs": [
    {
     "data": {
      "text/plain": [
       "0   0 days\n",
       "1   1 days\n",
       "2   2 days\n",
       "dtype: timedelta64[ns]"
      ]
     },
     "execution_count": 16,
     "metadata": {},
     "output_type": "execute_result"
    }
   ],
   "source": [
    "pd.Series([pd.Timedelta(days=i) for i in range(3)])"
   ]
  },
  {
   "cell_type": "markdown",
   "id": "362c047c",
   "metadata": {},
   "source": [
    "## The Period object"
   ]
  },
  {
   "cell_type": "code",
   "execution_count": 18,
   "id": "855108ed",
   "metadata": {},
   "outputs": [
    {
     "data": {
      "text/plain": [
       "Period('2015-01', 'M')"
      ]
     },
     "execution_count": 18,
     "metadata": {},
     "output_type": "execute_result"
    }
   ],
   "source": [
    "jan2015 = pd.Period('2015-01')\n",
    "jan2015"
   ]
  },
  {
   "cell_type": "code",
   "execution_count": 19,
   "id": "096cb172",
   "metadata": {},
   "outputs": [
    {
     "data": {
      "text/plain": [
       "Period('2015-01-01', 'D')"
      ]
     },
     "execution_count": 19,
     "metadata": {},
     "output_type": "execute_result"
    }
   ],
   "source": [
    "# defining the frequency\n",
    "pd.Period('2015-01', freq='D')"
   ]
  },
  {
   "cell_type": "code",
   "execution_count": 20,
   "id": "18962219",
   "metadata": {},
   "outputs": [
    {
     "data": {
      "text/plain": [
       "Timestamp('2015-01-01 00:00:00')"
      ]
     },
     "execution_count": 20,
     "metadata": {},
     "output_type": "execute_result"
    }
   ],
   "source": [
    "jan2015.start_time"
   ]
  },
  {
   "cell_type": "code",
   "execution_count": 21,
   "id": "dcb0394d",
   "metadata": {},
   "outputs": [
    {
     "data": {
      "text/plain": [
       "Timestamp('2015-01-31 23:59:59.999999999')"
      ]
     },
     "execution_count": 21,
     "metadata": {},
     "output_type": "execute_result"
    }
   ],
   "source": [
    "jan2015.end_time"
   ]
  },
  {
   "cell_type": "code",
   "execution_count": 23,
   "id": "fb6565a3",
   "metadata": {},
   "outputs": [
    {
     "data": {
      "text/plain": [
       "Period('2015-01-01', 'D')"
      ]
     },
     "execution_count": 23,
     "metadata": {},
     "output_type": "execute_result"
    }
   ],
   "source": [
    "# change the frequency\n",
    "period = pd.Period('2015-01', freq='H')\n",
    "period.asfreq('D')"
   ]
  },
  {
   "cell_type": "code",
   "execution_count": 24,
   "id": "a62029d1",
   "metadata": {},
   "outputs": [
    {
     "data": {
      "text/plain": [
       "Timestamp('2015-01-01 00:00:00')"
      ]
     },
     "execution_count": 24,
     "metadata": {},
     "output_type": "execute_result"
    }
   ],
   "source": [
    "period.to_timestamp()"
   ]
  },
  {
   "cell_type": "code",
   "execution_count": 25,
   "id": "d42a9fae",
   "metadata": {},
   "outputs": [
    {
     "data": {
      "text/plain": [
       "Period('2015-01', 'M')"
      ]
     },
     "execution_count": 25,
     "metadata": {},
     "output_type": "execute_result"
    }
   ],
   "source": [
    "pd.Timestamp('2015-01-01 00:00:00').to_period('M')"
   ]
  },
  {
   "cell_type": "markdown",
   "id": "085cfec3",
   "metadata": {},
   "source": [
    "# 03. The DatetimeIndex, TimedeltaIndex, and PeriodIndex objects"
   ]
  },
  {
   "cell_type": "code",
   "execution_count": 26,
   "id": "198fad2c",
   "metadata": {},
   "outputs": [
    {
     "data": {
      "text/plain": [
       "DatetimeIndex(['2015-08-05', '2015-08-06', '2015-08-07'], dtype='datetime64[ns]', freq=None)"
      ]
     },
     "execution_count": 26,
     "metadata": {},
     "output_type": "execute_result"
    }
   ],
   "source": [
    "# Creating DatetimeIndex()\n",
    "dates = pd.to_datetime([pd.Timestamp(2015,8,5), \n",
    "                        pd.Timestamp(2015,8,6),\n",
    "                        pd.Timestamp(2015,8,7)])\n",
    "dates"
   ]
  },
  {
   "cell_type": "code",
   "execution_count": 27,
   "id": "3dbc67c4",
   "metadata": {},
   "outputs": [
    {
     "data": {
      "text/plain": [
       "TimedeltaIndex(['0 days', '1 days', '2 days'], dtype='timedelta64[ns]', freq=None)"
      ]
     },
     "execution_count": 27,
     "metadata": {},
     "output_type": "execute_result"
    }
   ],
   "source": [
    "dates-dates[0]"
   ]
  },
  {
   "cell_type": "code",
   "execution_count": 28,
   "id": "edaa05e6",
   "metadata": {},
   "outputs": [
    {
     "data": {
      "text/plain": [
       "PeriodIndex(['2015-08-05', '2015-08-06', '2015-08-07'], dtype='period[D]', freq='D')"
      ]
     },
     "execution_count": 28,
     "metadata": {},
     "output_type": "execute_result"
    }
   ],
   "source": [
    "dates.to_period('D')"
   ]
  },
  {
   "cell_type": "code",
   "execution_count": 31,
   "id": "c49b0bf6",
   "metadata": {},
   "outputs": [
    {
     "data": {
      "text/plain": [
       "Timestamp('2015-08-05 23:59:59.999999999')"
      ]
     },
     "execution_count": 31,
     "metadata": {},
     "output_type": "execute_result"
    }
   ],
   "source": [
    "dates.to_period('D')[0].start_time\n",
    "dates.to_period('D')[0].end_time"
   ]
  },
  {
   "cell_type": "code",
   "execution_count": 34,
   "id": "6c11cae0",
   "metadata": {},
   "outputs": [
    {
     "data": {
      "text/plain": [
       "2015-08-05    0\n",
       "2015-08-06    1\n",
       "2015-08-07    2\n",
       "dtype: int64"
      ]
     },
     "execution_count": 34,
     "metadata": {},
     "output_type": "execute_result"
    }
   ],
   "source": [
    "ts1 = pd.Series(np.arange(3), dates)\n",
    "ts1"
   ]
  },
  {
   "cell_type": "code",
   "execution_count": 39,
   "id": "3c8bf30b",
   "metadata": {},
   "outputs": [
    {
     "data": {
      "text/plain": [
       "2015-08-05    0\n",
       "2015-08-06    1\n",
       "2015-08-07    2\n",
       "Freq: D, dtype: int64"
      ]
     },
     "execution_count": 39,
     "metadata": {},
     "output_type": "execute_result"
    }
   ],
   "source": [
    "ts2 = pd.Series(np.arange(3), dates.to_period('D'))\n",
    "ts2"
   ]
  },
  {
   "cell_type": "code",
   "execution_count": 37,
   "id": "0d4b011f",
   "metadata": {},
   "outputs": [
    {
     "data": {
      "text/plain": [
       "0 days    0\n",
       "1 days    1\n",
       "2 days    2\n",
       "dtype: int64"
      ]
     },
     "execution_count": 37,
     "metadata": {},
     "output_type": "execute_result"
    }
   ],
   "source": [
    "ts3 = pd.Series(np.arange(3), dates-dates[0])\n",
    "ts3"
   ]
  },
  {
   "cell_type": "code",
   "execution_count": 40,
   "id": "40aaec1b",
   "metadata": {},
   "outputs": [
    {
     "data": {
      "text/plain": [
       "DatetimeIndex(['2015-08-05', '2015-08-06', '2015-08-07'], dtype='datetime64[ns]', freq=None)"
      ]
     },
     "execution_count": 40,
     "metadata": {},
     "output_type": "execute_result"
    }
   ],
   "source": [
    "ts1.index"
   ]
  },
  {
   "cell_type": "code",
   "execution_count": 41,
   "id": "2370f4a8",
   "metadata": {},
   "outputs": [
    {
     "data": {
      "text/plain": [
       "PeriodIndex(['2015-08-05', '2015-08-06', '2015-08-07'], dtype='period[D]', freq='D')"
      ]
     },
     "execution_count": 41,
     "metadata": {},
     "output_type": "execute_result"
    }
   ],
   "source": [
    "ts2.index"
   ]
  },
  {
   "cell_type": "code",
   "execution_count": 42,
   "id": "46fba51b",
   "metadata": {},
   "outputs": [
    {
     "data": {
      "text/plain": [
       "TimedeltaIndex(['0 days', '1 days', '2 days'], dtype='timedelta64[ns]', freq=None)"
      ]
     },
     "execution_count": 42,
     "metadata": {},
     "output_type": "execute_result"
    }
   ],
   "source": [
    "ts3.index"
   ]
  },
  {
   "cell_type": "markdown",
   "id": "5c76a9b5",
   "metadata": {},
   "source": [
    "## Indexing by timestamp"
   ]
  },
  {
   "cell_type": "code",
   "execution_count": 44,
   "id": "ae009d28",
   "metadata": {},
   "outputs": [
    {
     "data": {
      "text/plain": [
       "0"
      ]
     },
     "execution_count": 44,
     "metadata": {},
     "output_type": "execute_result"
    }
   ],
   "source": [
    "ts1['2015.08.05']"
   ]
  },
  {
   "cell_type": "code",
   "execution_count": 45,
   "id": "204f9628",
   "metadata": {},
   "outputs": [
    {
     "data": {
      "text/plain": [
       "0"
      ]
     },
     "execution_count": 45,
     "metadata": {},
     "output_type": "execute_result"
    }
   ],
   "source": [
    "ts1['august 5, 2015']"
   ]
  },
  {
   "cell_type": "code",
   "execution_count": 46,
   "id": "242dbb72",
   "metadata": {},
   "outputs": [
    {
     "data": {
      "text/plain": [
       "2015-08-06    1\n",
       "2015-08-07    2\n",
       "dtype: int64"
      ]
     },
     "execution_count": 46,
     "metadata": {},
     "output_type": "execute_result"
    }
   ],
   "source": [
    "ts1[1:3]"
   ]
  },
  {
   "cell_type": "markdown",
   "id": "f2b74bda",
   "metadata": {},
   "source": [
    "## Regular sequences"
   ]
  },
  {
   "cell_type": "code",
   "execution_count": 52,
   "id": "f2764f64",
   "metadata": {},
   "outputs": [
    {
     "data": {
      "text/plain": [
       "DatetimeIndex(['2018-01-01', '2018-01-02', '2018-01-03', '2018-01-04',\n",
       "               '2018-01-05'],\n",
       "              dtype='datetime64[ns]', freq='D')"
      ]
     },
     "execution_count": 52,
     "metadata": {},
     "output_type": "execute_result"
    }
   ],
   "source": [
    "pd.date_range('2018-01-01', '2018-01-05')"
   ]
  },
  {
   "cell_type": "code",
   "execution_count": 53,
   "id": "8ece6700",
   "metadata": {},
   "outputs": [
    {
     "data": {
      "text/plain": [
       "DatetimeIndex(['2018-01-01', '2018-01-02', '2018-01-03', '2018-01-04',\n",
       "               '2018-01-05'],\n",
       "              dtype='datetime64[ns]', freq='D')"
      ]
     },
     "execution_count": 53,
     "metadata": {},
     "output_type": "execute_result"
    }
   ],
   "source": [
    "pd.date_range('2018-01-01', periods=5)"
   ]
  },
  {
   "cell_type": "code",
   "execution_count": 55,
   "id": "bcc7b0b0",
   "metadata": {},
   "outputs": [
    {
     "data": {
      "text/plain": [
       "DatetimeIndex(['2018-01-01 00:00:00', '2018-01-01 01:00:00',\n",
       "               '2018-01-01 02:00:00', '2018-01-01 03:00:00',\n",
       "               '2018-01-01 04:00:00'],\n",
       "              dtype='datetime64[ns]', freq='H')"
      ]
     },
     "execution_count": 55,
     "metadata": {},
     "output_type": "execute_result"
    }
   ],
   "source": [
    "pd.date_range('01-01-2018', periods=5, freq='H')"
   ]
  },
  {
   "cell_type": "code",
   "execution_count": 56,
   "id": "fc3f4c44",
   "metadata": {},
   "outputs": [
    {
     "data": {
      "text/plain": [
       "TimedeltaIndex(['00:00:00', '01:00:00', '02:00:00', '03:00:00', '04:00:00'], dtype='timedelta64[ns]', freq='H')"
      ]
     },
     "execution_count": 56,
     "metadata": {},
     "output_type": "execute_result"
    }
   ],
   "source": [
    "pd.timedelta_range(0, periods=5, freq='H')"
   ]
  },
  {
   "cell_type": "code",
   "execution_count": 58,
   "id": "3f0df600",
   "metadata": {},
   "outputs": [
    {
     "data": {
      "text/plain": [
       "PeriodIndex(['2018-01', '2018-02', '2018-03'], dtype='period[M]', freq='M')"
      ]
     },
     "execution_count": 58,
     "metadata": {},
     "output_type": "execute_result"
    }
   ],
   "source": [
    "pd.period_range('2018-01', periods=3, freq='M')"
   ]
  },
  {
   "cell_type": "markdown",
   "id": "288a2df6",
   "metadata": {},
   "source": [
    "# 05. Frequencies and offsets"
   ]
  },
  {
   "cell_type": "code",
   "execution_count": 60,
   "id": "34e3d8dd",
   "metadata": {},
   "outputs": [
    {
     "data": {
      "text/plain": [
       "<DateOffset: days=1>"
      ]
     },
     "execution_count": 60,
     "metadata": {},
     "output_type": "execute_result"
    }
   ],
   "source": [
    "pd.DateOffset(days=1)"
   ]
  },
  {
   "cell_type": "code",
   "execution_count": 61,
   "id": "b5447de1",
   "metadata": {},
   "outputs": [
    {
     "data": {
      "text/plain": [
       "Timestamp('2010-01-02 00:00:00')"
      ]
     },
     "execution_count": 61,
     "metadata": {},
     "output_type": "execute_result"
    }
   ],
   "source": [
    "pd.Timestamp('2010.01.01') +pd.DateOffset(days=1)"
   ]
  },
  {
   "cell_type": "code",
   "execution_count": 62,
   "id": "c0ecbd91",
   "metadata": {},
   "outputs": [],
   "source": [
    "from pandas.tseries.offsets import *"
   ]
  },
  {
   "cell_type": "code",
   "execution_count": 63,
   "id": "7b131f52",
   "metadata": {},
   "outputs": [
    {
     "data": {
      "text/plain": [
       "DatetimeIndex(['2010-07-07', '2010-07-08', '2010-07-09', '2010-07-12',\n",
       "               '2010-07-13'],\n",
       "              dtype='datetime64[ns]', freq='B')"
      ]
     },
     "execution_count": 63,
     "metadata": {},
     "output_type": "execute_result"
    }
   ],
   "source": [
    "pd.date_range('2010-07-07', periods=5, freq=BDay())"
   ]
  },
  {
   "cell_type": "code",
   "execution_count": 64,
   "id": "74615a18",
   "metadata": {},
   "outputs": [
    {
     "data": {
      "text/plain": [
       "DatetimeIndex(['2010-07-09', '2010-07-16', '2010-07-23', '2010-07-30',\n",
       "               '2010-08-06', '2010-08-13', '2010-08-20', '2010-08-27',\n",
       "               '2010-09-03', '2010-09-10'],\n",
       "              dtype='datetime64[ns]', freq='W-FRI')"
      ]
     },
     "execution_count": 64,
     "metadata": {},
     "output_type": "execute_result"
    }
   ],
   "source": [
    "pd.date_range('2010-07-07', periods=10, freq='W-FRI')"
   ]
  },
  {
   "cell_type": "markdown",
   "id": "060f1f10",
   "metadata": {},
   "source": []
  },
  {
   "cell_type": "code",
   "execution_count": null,
   "id": "38f2e623",
   "metadata": {},
   "outputs": [],
   "source": []
  }
 ],
 "metadata": {
  "kernelspec": {
   "display_name": "Python 3",
   "language": "python",
   "name": "python3"
  },
  "language_info": {
   "codemirror_mode": {
    "name": "ipython",
    "version": 3
   },
   "file_extension": ".py",
   "mimetype": "text/x-python",
   "name": "python",
   "nbconvert_exporter": "python",
   "pygments_lexer": "ipython3",
   "version": "3.6.13"
  }
 },
 "nbformat": 4,
 "nbformat_minor": 5
}
