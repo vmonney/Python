{
 "cells": [
  {
   "cell_type": "code",
   "execution_count": 1,
   "id": "64688553",
   "metadata": {},
   "outputs": [],
   "source": [
    "import numpy as np\n",
    "import pandas as pd\n",
    "import json\n",
    "from pandas.io.json import json_normalize\n",
    "import requests\n",
    "from bs4 import BeautifulSoup"
   ]
  },
  {
   "cell_type": "code",
   "execution_count": 2,
   "id": "bc6987d0",
   "metadata": {},
   "outputs": [
    {
     "data": {
      "text/html": [
       "<div>\n",
       "<style scoped>\n",
       "    .dataframe tbody tr th:only-of-type {\n",
       "        vertical-align: middle;\n",
       "    }\n",
       "\n",
       "    .dataframe tbody tr th {\n",
       "        vertical-align: top;\n",
       "    }\n",
       "\n",
       "    .dataframe thead th {\n",
       "        text-align: right;\n",
       "    }\n",
       "</style>\n",
       "<table border=\"1\" class=\"dataframe\">\n",
       "  <thead>\n",
       "    <tr style=\"text-align: right;\">\n",
       "      <th></th>\n",
       "      <th>a</th>\n",
       "      <th>b</th>\n",
       "      <th>c</th>\n",
       "      <th>d</th>\n",
       "    </tr>\n",
       "  </thead>\n",
       "  <tbody>\n",
       "    <tr>\n",
       "      <th>0</th>\n",
       "      <td>yellow</td>\n",
       "      <td>10</td>\n",
       "      <td>2</td>\n",
       "      <td>3.2</td>\n",
       "    </tr>\n",
       "    <tr>\n",
       "      <th>1</th>\n",
       "      <td>green</td>\n",
       "      <td>2</td>\n",
       "      <td>3</td>\n",
       "      <td>8.1</td>\n",
       "    </tr>\n",
       "    <tr>\n",
       "      <th>2</th>\n",
       "      <td>blue</td>\n",
       "      <td>7</td>\n",
       "      <td>1</td>\n",
       "      <td>0.4</td>\n",
       "    </tr>\n",
       "  </tbody>\n",
       "</table>\n",
       "</div>"
      ],
      "text/plain": [
       "        a   b  c    d\n",
       "0  yellow  10  2  3.2\n",
       "1   green   2  3  8.1\n",
       "2    blue   7  1  0.4"
      ]
     },
     "execution_count": 2,
     "metadata": {},
     "output_type": "execute_result"
    }
   ],
   "source": [
    "df = pd.read_csv('file.csv')\n",
    "df"
   ]
  },
  {
   "cell_type": "code",
   "execution_count": 3,
   "id": "be206699",
   "metadata": {},
   "outputs": [
    {
     "data": {
      "text/html": [
       "<div>\n",
       "<style scoped>\n",
       "    .dataframe tbody tr th:only-of-type {\n",
       "        vertical-align: middle;\n",
       "    }\n",
       "\n",
       "    .dataframe tbody tr th {\n",
       "        vertical-align: top;\n",
       "    }\n",
       "\n",
       "    .dataframe thead th {\n",
       "        text-align: right;\n",
       "    }\n",
       "</style>\n",
       "<table border=\"1\" class=\"dataframe\">\n",
       "  <thead>\n",
       "    <tr style=\"text-align: right;\">\n",
       "      <th></th>\n",
       "      <th>0</th>\n",
       "      <th>1</th>\n",
       "      <th>2</th>\n",
       "      <th>3</th>\n",
       "    </tr>\n",
       "  </thead>\n",
       "  <tbody>\n",
       "    <tr>\n",
       "      <th>0</th>\n",
       "      <td>a</td>\n",
       "      <td>b</td>\n",
       "      <td>c</td>\n",
       "      <td>d</td>\n",
       "    </tr>\n",
       "    <tr>\n",
       "      <th>1</th>\n",
       "      <td>yellow</td>\n",
       "      <td>10</td>\n",
       "      <td>2</td>\n",
       "      <td>3.2</td>\n",
       "    </tr>\n",
       "    <tr>\n",
       "      <th>2</th>\n",
       "      <td>green</td>\n",
       "      <td>2</td>\n",
       "      <td>3</td>\n",
       "      <td>8.1</td>\n",
       "    </tr>\n",
       "    <tr>\n",
       "      <th>3</th>\n",
       "      <td>blue</td>\n",
       "      <td>7</td>\n",
       "      <td>1</td>\n",
       "      <td>0.4</td>\n",
       "    </tr>\n",
       "  </tbody>\n",
       "</table>\n",
       "</div>"
      ],
      "text/plain": [
       "        0   1  2    3\n",
       "0       a   b  c    d\n",
       "1  yellow  10  2  3.2\n",
       "2   green   2  3  8.1\n",
       "3    blue   7  1  0.4"
      ]
     },
     "execution_count": 3,
     "metadata": {},
     "output_type": "execute_result"
    }
   ],
   "source": [
    "pd.read_csv('file.csv', header=None)"
   ]
  },
  {
   "cell_type": "code",
   "execution_count": 4,
   "id": "91504dc8",
   "metadata": {},
   "outputs": [
    {
     "data": {
      "text/html": [
       "<div>\n",
       "<style scoped>\n",
       "    .dataframe tbody tr th:only-of-type {\n",
       "        vertical-align: middle;\n",
       "    }\n",
       "\n",
       "    .dataframe tbody tr th {\n",
       "        vertical-align: top;\n",
       "    }\n",
       "\n",
       "    .dataframe thead th {\n",
       "        text-align: right;\n",
       "    }\n",
       "</style>\n",
       "<table border=\"1\" class=\"dataframe\">\n",
       "  <thead>\n",
       "    <tr style=\"text-align: right;\">\n",
       "      <th></th>\n",
       "      <th>column 1</th>\n",
       "      <th>column 2</th>\n",
       "      <th>column 3</th>\n",
       "      <th>column 4</th>\n",
       "    </tr>\n",
       "  </thead>\n",
       "  <tbody>\n",
       "    <tr>\n",
       "      <th>0</th>\n",
       "      <td>a</td>\n",
       "      <td>b</td>\n",
       "      <td>c</td>\n",
       "      <td>d</td>\n",
       "    </tr>\n",
       "    <tr>\n",
       "      <th>1</th>\n",
       "      <td>yellow</td>\n",
       "      <td>10</td>\n",
       "      <td>2</td>\n",
       "      <td>3.2</td>\n",
       "    </tr>\n",
       "    <tr>\n",
       "      <th>2</th>\n",
       "      <td>green</td>\n",
       "      <td>2</td>\n",
       "      <td>3</td>\n",
       "      <td>8.1</td>\n",
       "    </tr>\n",
       "    <tr>\n",
       "      <th>3</th>\n",
       "      <td>blue</td>\n",
       "      <td>7</td>\n",
       "      <td>1</td>\n",
       "      <td>0.4</td>\n",
       "    </tr>\n",
       "  </tbody>\n",
       "</table>\n",
       "</div>"
      ],
      "text/plain": [
       "  column 1 column 2 column 3 column 4\n",
       "0        a        b        c        d\n",
       "1   yellow       10        2      3.2\n",
       "2    green        2        3      8.1\n",
       "3     blue        7        1      0.4"
      ]
     },
     "execution_count": 4,
     "metadata": {},
     "output_type": "execute_result"
    }
   ],
   "source": [
    "pd.read_csv('file.csv', names=['column 1', 'column 2', 'column 3', 'column 4'])"
   ]
  },
  {
   "cell_type": "code",
   "execution_count": 5,
   "id": "e24f1170",
   "metadata": {},
   "outputs": [
    {
     "data": {
      "text/html": [
       "<div>\n",
       "<style scoped>\n",
       "    .dataframe tbody tr th:only-of-type {\n",
       "        vertical-align: middle;\n",
       "    }\n",
       "\n",
       "    .dataframe tbody tr th {\n",
       "        vertical-align: top;\n",
       "    }\n",
       "\n",
       "    .dataframe thead th {\n",
       "        text-align: right;\n",
       "    }\n",
       "</style>\n",
       "<table border=\"1\" class=\"dataframe\">\n",
       "  <thead>\n",
       "    <tr style=\"text-align: right;\">\n",
       "      <th></th>\n",
       "      <th>b</th>\n",
       "      <th>c</th>\n",
       "      <th>d</th>\n",
       "    </tr>\n",
       "    <tr>\n",
       "      <th>a</th>\n",
       "      <th></th>\n",
       "      <th></th>\n",
       "      <th></th>\n",
       "    </tr>\n",
       "  </thead>\n",
       "  <tbody>\n",
       "    <tr>\n",
       "      <th>yellow</th>\n",
       "      <td>10</td>\n",
       "      <td>2</td>\n",
       "      <td>3.2</td>\n",
       "    </tr>\n",
       "    <tr>\n",
       "      <th>green</th>\n",
       "      <td>2</td>\n",
       "      <td>3</td>\n",
       "      <td>8.1</td>\n",
       "    </tr>\n",
       "    <tr>\n",
       "      <th>blue</th>\n",
       "      <td>7</td>\n",
       "      <td>1</td>\n",
       "      <td>0.4</td>\n",
       "    </tr>\n",
       "  </tbody>\n",
       "</table>\n",
       "</div>"
      ],
      "text/plain": [
       "         b  c    d\n",
       "a                 \n",
       "yellow  10  2  3.2\n",
       "green    2  3  8.1\n",
       "blue     7  1  0.4"
      ]
     },
     "execution_count": 5,
     "metadata": {},
     "output_type": "execute_result"
    }
   ],
   "source": [
    "pd.read_csv('file.csv', index_col = 0)"
   ]
  },
  {
   "cell_type": "code",
   "execution_count": 6,
   "id": "9b39e357",
   "metadata": {},
   "outputs": [
    {
     "data": {
      "text/plain": [
       "a     object\n",
       "b      int64\n",
       "c      int64\n",
       "d    float64\n",
       "dtype: object"
      ]
     },
     "execution_count": 6,
     "metadata": {},
     "output_type": "execute_result"
    }
   ],
   "source": [
    "df.dtypes"
   ]
  },
  {
   "cell_type": "code",
   "execution_count": 7,
   "id": "e9ced7cb",
   "metadata": {},
   "outputs": [
    {
     "data": {
      "text/plain": [
       "a     object\n",
       "b    float64\n",
       "c      int64\n",
       "d    float64\n",
       "dtype: object"
      ]
     },
     "execution_count": 7,
     "metadata": {},
     "output_type": "execute_result"
    }
   ],
   "source": [
    "df2 = pd.read_csv('file.csv', dtype = {'b' : np.float64})\n",
    "df2.dtypes"
   ]
  },
  {
   "cell_type": "code",
   "execution_count": 8,
   "id": "f8355e9e",
   "metadata": {},
   "outputs": [
    {
     "data": {
      "text/html": [
       "<div>\n",
       "<style scoped>\n",
       "    .dataframe tbody tr th:only-of-type {\n",
       "        vertical-align: middle;\n",
       "    }\n",
       "\n",
       "    .dataframe tbody tr th {\n",
       "        vertical-align: top;\n",
       "    }\n",
       "\n",
       "    .dataframe thead th {\n",
       "        text-align: right;\n",
       "    }\n",
       "</style>\n",
       "<table border=\"1\" class=\"dataframe\">\n",
       "  <thead>\n",
       "    <tr style=\"text-align: right;\">\n",
       "      <th></th>\n",
       "      <th>a</th>\n",
       "      <th>b</th>\n",
       "    </tr>\n",
       "  </thead>\n",
       "  <tbody>\n",
       "    <tr>\n",
       "      <th>0</th>\n",
       "      <td>yellow</td>\n",
       "      <td>10</td>\n",
       "    </tr>\n",
       "    <tr>\n",
       "      <th>1</th>\n",
       "      <td>green</td>\n",
       "      <td>2</td>\n",
       "    </tr>\n",
       "    <tr>\n",
       "      <th>2</th>\n",
       "      <td>blue</td>\n",
       "      <td>7</td>\n",
       "    </tr>\n",
       "  </tbody>\n",
       "</table>\n",
       "</div>"
      ],
      "text/plain": [
       "        a   b\n",
       "0  yellow  10\n",
       "1   green   2\n",
       "2    blue   7"
      ]
     },
     "execution_count": 8,
     "metadata": {},
     "output_type": "execute_result"
    }
   ],
   "source": [
    "pd.read_csv('file.csv', usecols=['a', 'b'])"
   ]
  },
  {
   "cell_type": "code",
   "execution_count": 9,
   "id": "fdf12763",
   "metadata": {},
   "outputs": [
    {
     "data": {
      "text/html": [
       "<div>\n",
       "<style scoped>\n",
       "    .dataframe tbody tr th:only-of-type {\n",
       "        vertical-align: middle;\n",
       "    }\n",
       "\n",
       "    .dataframe tbody tr th {\n",
       "        vertical-align: top;\n",
       "    }\n",
       "\n",
       "    .dataframe thead th {\n",
       "        text-align: right;\n",
       "    }\n",
       "</style>\n",
       "<table border=\"1\" class=\"dataframe\">\n",
       "  <thead>\n",
       "    <tr style=\"text-align: right;\">\n",
       "      <th></th>\n",
       "      <th>varA</th>\n",
       "      <th>varB</th>\n",
       "      <th>varC</th>\n",
       "    </tr>\n",
       "  </thead>\n",
       "  <tbody>\n",
       "    <tr>\n",
       "      <th>0</th>\n",
       "      <td>0.391723</td>\n",
       "      <td>-0.155122</td>\n",
       "      <td>0.381104</td>\n",
       "    </tr>\n",
       "    <tr>\n",
       "      <th>1</th>\n",
       "      <td>0.575125</td>\n",
       "      <td>-0.105817</td>\n",
       "      <td>0.232245</td>\n",
       "    </tr>\n",
       "    <tr>\n",
       "      <th>2</th>\n",
       "      <td>0.672305</td>\n",
       "      <td>0.424688</td>\n",
       "      <td>-0.694795</td>\n",
       "    </tr>\n",
       "    <tr>\n",
       "      <th>3</th>\n",
       "      <td>0.766115</td>\n",
       "      <td>-0.791350</td>\n",
       "      <td>-0.028739</td>\n",
       "    </tr>\n",
       "    <tr>\n",
       "      <th>4</th>\n",
       "      <td>0.677259</td>\n",
       "      <td>-0.817543</td>\n",
       "      <td>-0.537088</td>\n",
       "    </tr>\n",
       "    <tr>\n",
       "      <th>5</th>\n",
       "      <td>-0.029702</td>\n",
       "      <td>-0.891848</td>\n",
       "      <td>-0.682719</td>\n",
       "    </tr>\n",
       "    <tr>\n",
       "      <th>6</th>\n",
       "      <td>-0.161366</td>\n",
       "      <td>-0.659600</td>\n",
       "      <td>-0.727898</td>\n",
       "    </tr>\n",
       "    <tr>\n",
       "      <th>7</th>\n",
       "      <td>0.031672</td>\n",
       "      <td>0.016607</td>\n",
       "      <td>-0.940479</td>\n",
       "    </tr>\n",
       "    <tr>\n",
       "      <th>8</th>\n",
       "      <td>0.833212</td>\n",
       "      <td>-0.503236</td>\n",
       "      <td>-0.887210</td>\n",
       "    </tr>\n",
       "    <tr>\n",
       "      <th>9</th>\n",
       "      <td>0.907753</td>\n",
       "      <td>0.265177</td>\n",
       "      <td>-0.390762</td>\n",
       "    </tr>\n",
       "  </tbody>\n",
       "</table>\n",
       "</div>"
      ],
      "text/plain": [
       "       varA      varB      varC\n",
       "0  0.391723 -0.155122  0.381104\n",
       "1  0.575125 -0.105817  0.232245\n",
       "2  0.672305  0.424688 -0.694795\n",
       "3  0.766115 -0.791350 -0.028739\n",
       "4  0.677259 -0.817543 -0.537088\n",
       "5 -0.029702 -0.891848 -0.682719\n",
       "6 -0.161366 -0.659600 -0.727898\n",
       "7  0.031672  0.016607 -0.940479\n",
       "8  0.833212 -0.503236 -0.887210\n",
       "9  0.907753  0.265177 -0.390762"
      ]
     },
     "execution_count": 9,
     "metadata": {},
     "output_type": "execute_result"
    }
   ],
   "source": [
    "pd.read_excel('data.xls')"
   ]
  },
  {
   "cell_type": "code",
   "execution_count": 10,
   "id": "e3124bec",
   "metadata": {},
   "outputs": [
    {
     "data": {
      "text/html": [
       "<div>\n",
       "<style scoped>\n",
       "    .dataframe tbody tr th:only-of-type {\n",
       "        vertical-align: middle;\n",
       "    }\n",
       "\n",
       "    .dataframe tbody tr th {\n",
       "        vertical-align: top;\n",
       "    }\n",
       "\n",
       "    .dataframe thead th {\n",
       "        text-align: right;\n",
       "    }\n",
       "</style>\n",
       "<table border=\"1\" class=\"dataframe\">\n",
       "  <thead>\n",
       "    <tr style=\"text-align: right;\">\n",
       "      <th></th>\n",
       "      <th>varD</th>\n",
       "      <th>varE</th>\n",
       "      <th>varF</th>\n",
       "    </tr>\n",
       "  </thead>\n",
       "  <tbody>\n",
       "    <tr>\n",
       "      <th>0</th>\n",
       "      <td>0.907753</td>\n",
       "      <td>0.265177</td>\n",
       "      <td>-0.390762</td>\n",
       "    </tr>\n",
       "    <tr>\n",
       "      <th>1</th>\n",
       "      <td>0.755019</td>\n",
       "      <td>-0.768056</td>\n",
       "      <td>-0.528307</td>\n",
       "    </tr>\n",
       "    <tr>\n",
       "      <th>2</th>\n",
       "      <td>0.850692</td>\n",
       "      <td>-0.537159</td>\n",
       "      <td>-0.601387</td>\n",
       "    </tr>\n",
       "    <tr>\n",
       "      <th>3</th>\n",
       "      <td>0.131663</td>\n",
       "      <td>0.941327</td>\n",
       "      <td>0.240073</td>\n",
       "    </tr>\n",
       "    <tr>\n",
       "      <th>4</th>\n",
       "      <td>0.574400</td>\n",
       "      <td>0.091735</td>\n",
       "      <td>-0.395277</td>\n",
       "    </tr>\n",
       "    <tr>\n",
       "      <th>5</th>\n",
       "      <td>0.816630</td>\n",
       "      <td>0.875612</td>\n",
       "      <td>-0.880044</td>\n",
       "    </tr>\n",
       "    <tr>\n",
       "      <th>6</th>\n",
       "      <td>0.536732</td>\n",
       "      <td>0.175428</td>\n",
       "      <td>-0.473053</td>\n",
       "    </tr>\n",
       "    <tr>\n",
       "      <th>7</th>\n",
       "      <td>-0.084641</td>\n",
       "      <td>-0.042827</td>\n",
       "      <td>0.053344</td>\n",
       "    </tr>\n",
       "    <tr>\n",
       "      <th>8</th>\n",
       "      <td>0.268271</td>\n",
       "      <td>-0.010628</td>\n",
       "      <td>-0.090952</td>\n",
       "    </tr>\n",
       "    <tr>\n",
       "      <th>9</th>\n",
       "      <td>0.166792</td>\n",
       "      <td>-0.872579</td>\n",
       "      <td>-0.556899</td>\n",
       "    </tr>\n",
       "  </tbody>\n",
       "</table>\n",
       "</div>"
      ],
      "text/plain": [
       "       varD      varE      varF\n",
       "0  0.907753  0.265177 -0.390762\n",
       "1  0.755019 -0.768056 -0.528307\n",
       "2  0.850692 -0.537159 -0.601387\n",
       "3  0.131663  0.941327  0.240073\n",
       "4  0.574400  0.091735 -0.395277\n",
       "5  0.816630  0.875612 -0.880044\n",
       "6  0.536732  0.175428 -0.473053\n",
       "7 -0.084641 -0.042827  0.053344\n",
       "8  0.268271 -0.010628 -0.090952\n",
       "9  0.166792 -0.872579 -0.556899"
      ]
     },
     "execution_count": 10,
     "metadata": {},
     "output_type": "execute_result"
    }
   ],
   "source": [
    "pd.read_excel('data.xls', sheet_name='Sheet2')"
   ]
  },
  {
   "cell_type": "code",
   "execution_count": 11,
   "id": "7c029db3",
   "metadata": {},
   "outputs": [
    {
     "data": {
      "text/html": [
       "<div>\n",
       "<style scoped>\n",
       "    .dataframe tbody tr th:only-of-type {\n",
       "        vertical-align: middle;\n",
       "    }\n",
       "\n",
       "    .dataframe tbody tr th {\n",
       "        vertical-align: top;\n",
       "    }\n",
       "\n",
       "    .dataframe thead th {\n",
       "        text-align: right;\n",
       "    }\n",
       "</style>\n",
       "<table border=\"1\" class=\"dataframe\">\n",
       "  <thead>\n",
       "    <tr style=\"text-align: right;\">\n",
       "      <th></th>\n",
       "      <th>varA</th>\n",
       "      <th>varB</th>\n",
       "    </tr>\n",
       "  </thead>\n",
       "  <tbody>\n",
       "    <tr>\n",
       "      <th>0</th>\n",
       "      <td>0.391723</td>\n",
       "      <td>-0.155122</td>\n",
       "    </tr>\n",
       "    <tr>\n",
       "      <th>1</th>\n",
       "      <td>0.575125</td>\n",
       "      <td>-0.105817</td>\n",
       "    </tr>\n",
       "    <tr>\n",
       "      <th>2</th>\n",
       "      <td>0.672305</td>\n",
       "      <td>0.424688</td>\n",
       "    </tr>\n",
       "    <tr>\n",
       "      <th>3</th>\n",
       "      <td>0.766115</td>\n",
       "      <td>-0.791350</td>\n",
       "    </tr>\n",
       "    <tr>\n",
       "      <th>4</th>\n",
       "      <td>0.677259</td>\n",
       "      <td>-0.817543</td>\n",
       "    </tr>\n",
       "    <tr>\n",
       "      <th>5</th>\n",
       "      <td>-0.029702</td>\n",
       "      <td>-0.891848</td>\n",
       "    </tr>\n",
       "    <tr>\n",
       "      <th>6</th>\n",
       "      <td>-0.161366</td>\n",
       "      <td>-0.659600</td>\n",
       "    </tr>\n",
       "    <tr>\n",
       "      <th>7</th>\n",
       "      <td>0.031672</td>\n",
       "      <td>0.016607</td>\n",
       "    </tr>\n",
       "    <tr>\n",
       "      <th>8</th>\n",
       "      <td>0.833212</td>\n",
       "      <td>-0.503236</td>\n",
       "    </tr>\n",
       "    <tr>\n",
       "      <th>9</th>\n",
       "      <td>0.907753</td>\n",
       "      <td>0.265177</td>\n",
       "    </tr>\n",
       "  </tbody>\n",
       "</table>\n",
       "</div>"
      ],
      "text/plain": [
       "       varA      varB\n",
       "0  0.391723 -0.155122\n",
       "1  0.575125 -0.105817\n",
       "2  0.672305  0.424688\n",
       "3  0.766115 -0.791350\n",
       "4  0.677259 -0.817543\n",
       "5 -0.029702 -0.891848\n",
       "6 -0.161366 -0.659600\n",
       "7  0.031672  0.016607\n",
       "8  0.833212 -0.503236\n",
       "9  0.907753  0.265177"
      ]
     },
     "execution_count": 11,
     "metadata": {},
     "output_type": "execute_result"
    }
   ],
   "source": [
    "pd.read_excel('data.xls', usecols = ['varA', 'varB'])"
   ]
  },
  {
   "cell_type": "code",
   "execution_count": 12,
   "id": "108b2600",
   "metadata": {},
   "outputs": [
    {
     "data": {
      "text/html": [
       "<div>\n",
       "<style scoped>\n",
       "    .dataframe tbody tr th:only-of-type {\n",
       "        vertical-align: middle;\n",
       "    }\n",
       "\n",
       "    .dataframe tbody tr th {\n",
       "        vertical-align: top;\n",
       "    }\n",
       "\n",
       "    .dataframe thead th {\n",
       "        text-align: right;\n",
       "    }\n",
       "</style>\n",
       "<table border=\"1\" class=\"dataframe\">\n",
       "  <thead>\n",
       "    <tr style=\"text-align: right;\">\n",
       "      <th></th>\n",
       "      <th>col1</th>\n",
       "      <th>col2</th>\n",
       "      <th>col3</th>\n",
       "      <th>col4</th>\n",
       "    </tr>\n",
       "  </thead>\n",
       "  <tbody>\n",
       "    <tr>\n",
       "      <th>row1</th>\n",
       "      <td>0</td>\n",
       "      <td>1</td>\n",
       "      <td>2</td>\n",
       "      <td>3</td>\n",
       "    </tr>\n",
       "    <tr>\n",
       "      <th>row2</th>\n",
       "      <td>4</td>\n",
       "      <td>5</td>\n",
       "      <td>6</td>\n",
       "      <td>7</td>\n",
       "    </tr>\n",
       "    <tr>\n",
       "      <th>row3</th>\n",
       "      <td>8</td>\n",
       "      <td>9</td>\n",
       "      <td>10</td>\n",
       "      <td>11</td>\n",
       "    </tr>\n",
       "    <tr>\n",
       "      <th>row4</th>\n",
       "      <td>12</td>\n",
       "      <td>13</td>\n",
       "      <td>14</td>\n",
       "      <td>15</td>\n",
       "    </tr>\n",
       "  </tbody>\n",
       "</table>\n",
       "</div>"
      ],
      "text/plain": [
       "      col1  col2  col3  col4\n",
       "row1     0     1     2     3\n",
       "row2     4     5     6     7\n",
       "row3     8     9    10    11\n",
       "row4    12    13    14    15"
      ]
     },
     "execution_count": 12,
     "metadata": {},
     "output_type": "execute_result"
    }
   ],
   "source": [
    "pd.read_json('frame.json')"
   ]
  },
  {
   "cell_type": "code",
   "execution_count": 13,
   "id": "4e668329",
   "metadata": {},
   "outputs": [
    {
     "data": {
      "text/html": [
       "<div>\n",
       "<style scoped>\n",
       "    .dataframe tbody tr th:only-of-type {\n",
       "        vertical-align: middle;\n",
       "    }\n",
       "\n",
       "    .dataframe tbody tr th {\n",
       "        vertical-align: top;\n",
       "    }\n",
       "\n",
       "    .dataframe thead th {\n",
       "        text-align: right;\n",
       "    }\n",
       "</style>\n",
       "<table border=\"1\" class=\"dataframe\">\n",
       "  <thead>\n",
       "    <tr style=\"text-align: right;\">\n",
       "      <th></th>\n",
       "      <th>books</th>\n",
       "    </tr>\n",
       "  </thead>\n",
       "  <tbody>\n",
       "    <tr>\n",
       "      <th>0</th>\n",
       "      <td>{'isbn': '9781593275846', 'title': 'Eloquent J...</td>\n",
       "    </tr>\n",
       "    <tr>\n",
       "      <th>1</th>\n",
       "      <td>{'isbn': '9781449331818', 'title': 'Learning J...</td>\n",
       "    </tr>\n",
       "    <tr>\n",
       "      <th>2</th>\n",
       "      <td>{'isbn': '9781449365035', 'title': 'Speaking J...</td>\n",
       "    </tr>\n",
       "  </tbody>\n",
       "</table>\n",
       "</div>"
      ],
      "text/plain": [
       "                                               books\n",
       "0  {'isbn': '9781593275846', 'title': 'Eloquent J...\n",
       "1  {'isbn': '9781449331818', 'title': 'Learning J...\n",
       "2  {'isbn': '9781449365035', 'title': 'Speaking J..."
      ]
     },
     "execution_count": 13,
     "metadata": {},
     "output_type": "execute_result"
    }
   ],
   "source": [
    "pd.read_json('books.json')"
   ]
  },
  {
   "cell_type": "code",
   "execution_count": 14,
   "id": "46c5c409",
   "metadata": {},
   "outputs": [],
   "source": [
    "with open('books.json', 'r') as f:\n",
    "    json_string = f.read()\n",
    "    dictionary = json.loads(json_string)"
   ]
  },
  {
   "cell_type": "code",
   "execution_count": 15,
   "id": "cdc861a9",
   "metadata": {},
   "outputs": [
    {
     "data": {
      "text/plain": [
       "{'books': [{'isbn': '9781593275846',\n",
       "   'title': 'Eloquent JavaScript, Second Edition',\n",
       "   'subtitle': 'A Modern Introduction to Programming',\n",
       "   'author': 'Marijn Haverbeke',\n",
       "   'published': '2014-12-14T00:00:00.000Z',\n",
       "   'publisher': 'No Starch Press',\n",
       "   'pages': 472,\n",
       "   'description': 'JavaScript lies at the heart of almost every modern web application, from social apps to the newest browser-based games. Though simple for beginners to pick up and play with, JavaScript is a flexible, complex language that you can use to build full-scale applications.',\n",
       "   'website': 'http://eloquentjavascript.net/'},\n",
       "  {'isbn': '9781449331818',\n",
       "   'title': 'Learning JavaScript Design Patterns',\n",
       "   'subtitle': \"A JavaScript and jQuery Developer's Guide\",\n",
       "   'author': 'Addy Osmani',\n",
       "   'published': '2012-07-01T00:00:00.000Z',\n",
       "   'publisher': \"O'Reilly Media\",\n",
       "   'pages': 254,\n",
       "   'description': \"With Learning JavaScript Design Patterns, you'll learn how to write beautiful, structured, and maintainable JavaScript by applying classical and modern design patterns to the language. If you want to keep your code efficient, more manageable, and up-to-date with the latest best practices, this book is for you.\",\n",
       "   'website': 'http://www.addyosmani.com/resources/essentialjsdesignpatterns/book/'},\n",
       "  {'isbn': '9781449365035',\n",
       "   'title': 'Speaking JavaScript',\n",
       "   'subtitle': 'An In-Depth Guide for Programmers',\n",
       "   'author': 'Axel Rauschmayer',\n",
       "   'published': '2014-02-01T00:00:00.000Z',\n",
       "   'publisher': \"O'Reilly Media\",\n",
       "   'pages': 460,\n",
       "   'description': 'Like it or not, JavaScript is everywhere these days-from browser to server to mobile-and now you, too, need to learn the language or dive deeper than you have. This concise book guides you into and through JavaScript, written by a veteran programmer who once found himself in the same position.',\n",
       "   'website': 'http://speakingjs.com/'}]}"
      ]
     },
     "execution_count": 15,
     "metadata": {},
     "output_type": "execute_result"
    }
   ],
   "source": [
    "dictionary"
   ]
  },
  {
   "cell_type": "code",
   "execution_count": 16,
   "id": "ff203f52",
   "metadata": {},
   "outputs": [
    {
     "data": {
      "text/html": [
       "<div>\n",
       "<style scoped>\n",
       "    .dataframe tbody tr th:only-of-type {\n",
       "        vertical-align: middle;\n",
       "    }\n",
       "\n",
       "    .dataframe tbody tr th {\n",
       "        vertical-align: top;\n",
       "    }\n",
       "\n",
       "    .dataframe thead th {\n",
       "        text-align: right;\n",
       "    }\n",
       "</style>\n",
       "<table border=\"1\" class=\"dataframe\">\n",
       "  <thead>\n",
       "    <tr style=\"text-align: right;\">\n",
       "      <th></th>\n",
       "      <th>author</th>\n",
       "      <th>description</th>\n",
       "      <th>isbn</th>\n",
       "      <th>pages</th>\n",
       "      <th>published</th>\n",
       "      <th>publisher</th>\n",
       "      <th>subtitle</th>\n",
       "      <th>title</th>\n",
       "      <th>website</th>\n",
       "    </tr>\n",
       "  </thead>\n",
       "  <tbody>\n",
       "    <tr>\n",
       "      <th>0</th>\n",
       "      <td>Marijn Haverbeke</td>\n",
       "      <td>JavaScript lies at the heart of almost every m...</td>\n",
       "      <td>9781593275846</td>\n",
       "      <td>472</td>\n",
       "      <td>2014-12-14T00:00:00.000Z</td>\n",
       "      <td>No Starch Press</td>\n",
       "      <td>A Modern Introduction to Programming</td>\n",
       "      <td>Eloquent JavaScript, Second Edition</td>\n",
       "      <td>http://eloquentjavascript.net/</td>\n",
       "    </tr>\n",
       "    <tr>\n",
       "      <th>1</th>\n",
       "      <td>Addy Osmani</td>\n",
       "      <td>With Learning JavaScript Design Patterns, you'...</td>\n",
       "      <td>9781449331818</td>\n",
       "      <td>254</td>\n",
       "      <td>2012-07-01T00:00:00.000Z</td>\n",
       "      <td>O'Reilly Media</td>\n",
       "      <td>A JavaScript and jQuery Developer's Guide</td>\n",
       "      <td>Learning JavaScript Design Patterns</td>\n",
       "      <td>http://www.addyosmani.com/resources/essentialj...</td>\n",
       "    </tr>\n",
       "    <tr>\n",
       "      <th>2</th>\n",
       "      <td>Axel Rauschmayer</td>\n",
       "      <td>Like it or not, JavaScript is everywhere these...</td>\n",
       "      <td>9781449365035</td>\n",
       "      <td>460</td>\n",
       "      <td>2014-02-01T00:00:00.000Z</td>\n",
       "      <td>O'Reilly Media</td>\n",
       "      <td>An In-Depth Guide for Programmers</td>\n",
       "      <td>Speaking JavaScript</td>\n",
       "      <td>http://speakingjs.com/</td>\n",
       "    </tr>\n",
       "  </tbody>\n",
       "</table>\n",
       "</div>"
      ],
      "text/plain": [
       "             author                                        description  \\\n",
       "0  Marijn Haverbeke  JavaScript lies at the heart of almost every m...   \n",
       "1       Addy Osmani  With Learning JavaScript Design Patterns, you'...   \n",
       "2  Axel Rauschmayer  Like it or not, JavaScript is everywhere these...   \n",
       "\n",
       "            isbn  pages                 published        publisher  \\\n",
       "0  9781593275846    472  2014-12-14T00:00:00.000Z  No Starch Press   \n",
       "1  9781449331818    254  2012-07-01T00:00:00.000Z   O'Reilly Media   \n",
       "2  9781449365035    460  2014-02-01T00:00:00.000Z   O'Reilly Media   \n",
       "\n",
       "                                    subtitle  \\\n",
       "0       A Modern Introduction to Programming   \n",
       "1  A JavaScript and jQuery Developer's Guide   \n",
       "2          An In-Depth Guide for Programmers   \n",
       "\n",
       "                                 title  \\\n",
       "0  Eloquent JavaScript, Second Edition   \n",
       "1  Learning JavaScript Design Patterns   \n",
       "2                  Speaking JavaScript   \n",
       "\n",
       "                                             website  \n",
       "0                     http://eloquentjavascript.net/  \n",
       "1  http://www.addyosmani.com/resources/essentialj...  \n",
       "2                             http://speakingjs.com/  "
      ]
     },
     "execution_count": 16,
     "metadata": {},
     "output_type": "execute_result"
    }
   ],
   "source": [
    "json_normalize(dictionary, 'books')"
   ]
  },
  {
   "cell_type": "code",
   "execution_count": 17,
   "id": "42330a2d",
   "metadata": {},
   "outputs": [],
   "source": [
    "page=requests.get('https://web.archive.org/web/20180908144902/en.proverbia.net/shortfamousquotes.asp')"
   ]
  },
  {
   "cell_type": "code",
   "execution_count": 18,
   "id": "4e092689",
   "metadata": {},
   "outputs": [
    {
     "data": {
      "text/plain": [
       "'\\n<!DOCTYPE html>\\n\\n<html lang=\"en\" xml:lang=\"en\">\\n<head><script src=\"//archive.org/includes/analytics'"
      ]
     },
     "execution_count": 18,
     "metadata": {},
     "output_type": "execute_result"
    }
   ],
   "source": [
    "page.text[0:100]"
   ]
  },
  {
   "cell_type": "code",
   "execution_count": 19,
   "id": "59ce9e88",
   "metadata": {},
   "outputs": [
    {
     "data": {
      "text/plain": [
       "200"
      ]
     },
     "execution_count": 19,
     "metadata": {},
     "output_type": "execute_result"
    }
   ],
   "source": [
    "page.status_code"
   ]
  },
  {
   "cell_type": "code",
   "execution_count": 20,
   "id": "bc8b0848",
   "metadata": {},
   "outputs": [
    {
     "data": {
      "text/plain": [
       "'There is a natural aristocracy among men. The grounds of this are virtue and talents. '"
      ]
     },
     "execution_count": 20,
     "metadata": {},
     "output_type": "execute_result"
    }
   ],
   "source": [
    "soup = BeautifulSoup(page.text, 'html.parser')\n",
    "quotes = soup.find_all('blockquote')\n",
    "quotes[0].text"
   ]
  },
  {
   "cell_type": "code",
   "execution_count": 21,
   "id": "8683c267",
   "metadata": {},
   "outputs": [
    {
     "data": {
      "text/html": [
       "<div>\n",
       "<style scoped>\n",
       "    .dataframe tbody tr th:only-of-type {\n",
       "        vertical-align: middle;\n",
       "    }\n",
       "\n",
       "    .dataframe tbody tr th {\n",
       "        vertical-align: top;\n",
       "    }\n",
       "\n",
       "    .dataframe thead th {\n",
       "        text-align: right;\n",
       "    }\n",
       "</style>\n",
       "<table border=\"1\" class=\"dataframe\">\n",
       "  <thead>\n",
       "    <tr style=\"text-align: right;\">\n",
       "      <th></th>\n",
       "      <th>Quote</th>\n",
       "    </tr>\n",
       "  </thead>\n",
       "  <tbody>\n",
       "    <tr>\n",
       "      <th>0</th>\n",
       "      <td>There is a natural aristocracy among men. The ...</td>\n",
       "    </tr>\n",
       "    <tr>\n",
       "      <th>1</th>\n",
       "      <td>All our words from loose using have lost their...</td>\n",
       "    </tr>\n",
       "    <tr>\n",
       "      <th>2</th>\n",
       "      <td>God couldn't be everywhere, so he created moth...</td>\n",
       "    </tr>\n",
       "    <tr>\n",
       "      <th>3</th>\n",
       "      <td>Be not afraid of going slowly, be afraid only ...</td>\n",
       "    </tr>\n",
       "    <tr>\n",
       "      <th>4</th>\n",
       "      <td>Learn from yesterday, live for today, hope for...</td>\n",
       "    </tr>\n",
       "    <tr>\n",
       "      <th>5</th>\n",
       "      <td>Do not confine your children to your own learn...</td>\n",
       "    </tr>\n",
       "    <tr>\n",
       "      <th>6</th>\n",
       "      <td>I hear and I forget, I see and I remember. I d...</td>\n",
       "    </tr>\n",
       "    <tr>\n",
       "      <th>7</th>\n",
       "      <td>In teaching others we teach ourselves.</td>\n",
       "    </tr>\n",
       "    <tr>\n",
       "      <th>8</th>\n",
       "      <td>Happiness will never come to those who fail to...</td>\n",
       "    </tr>\n",
       "    <tr>\n",
       "      <th>9</th>\n",
       "      <td>Without His love I can do nothing, with His lo...</td>\n",
       "    </tr>\n",
       "  </tbody>\n",
       "</table>\n",
       "</div>"
      ],
      "text/plain": [
       "                                               Quote\n",
       "0  There is a natural aristocracy among men. The ...\n",
       "1  All our words from loose using have lost their...\n",
       "2  God couldn't be everywhere, so he created moth...\n",
       "3  Be not afraid of going slowly, be afraid only ...\n",
       "4  Learn from yesterday, live for today, hope for...\n",
       "5  Do not confine your children to your own learn...\n",
       "6  I hear and I forget, I see and I remember. I d...\n",
       "7            In teaching others we teach ourselves. \n",
       "8  Happiness will never come to those who fail to...\n",
       "9  Without His love I can do nothing, with His lo..."
      ]
     },
     "execution_count": 21,
     "metadata": {},
     "output_type": "execute_result"
    }
   ],
   "source": [
    "quote_list = []\n",
    "for quote in quotes:\n",
    "    string = quote.text\n",
    "    quote_list.append(string)\n",
    "\n",
    "df = pd.DataFrame(quote_list, columns = ['Quote'])\n",
    "df"
   ]
  },
  {
   "cell_type": "code",
   "execution_count": 22,
   "id": "d5745290",
   "metadata": {},
   "outputs": [
    {
     "data": {
      "text/plain": [
       "'Thomas Jefferson (1743-1826) Third president of the United States.'"
      ]
     },
     "execution_count": 22,
     "metadata": {},
     "output_type": "execute_result"
    }
   ],
   "source": [
    "authors = soup.find_all('p', class_=\"a\")\n",
    "authors[0].text[1:-1]"
   ]
  },
  {
   "cell_type": "code",
   "execution_count": 23,
   "id": "ce2fcca2",
   "metadata": {},
   "outputs": [
    {
     "data": {
      "text/html": [
       "<div>\n",
       "<style scoped>\n",
       "    .dataframe tbody tr th:only-of-type {\n",
       "        vertical-align: middle;\n",
       "    }\n",
       "\n",
       "    .dataframe tbody tr th {\n",
       "        vertical-align: top;\n",
       "    }\n",
       "\n",
       "    .dataframe thead th {\n",
       "        text-align: right;\n",
       "    }\n",
       "</style>\n",
       "<table border=\"1\" class=\"dataframe\">\n",
       "  <thead>\n",
       "    <tr style=\"text-align: right;\">\n",
       "      <th></th>\n",
       "      <th>Quote</th>\n",
       "      <th>Author</th>\n",
       "    </tr>\n",
       "  </thead>\n",
       "  <tbody>\n",
       "    <tr>\n",
       "      <th>0</th>\n",
       "      <td>There is a natural aristocracy among men. The ...</td>\n",
       "      <td>Thomas Jefferson (1743-1826) Third president o...</td>\n",
       "    </tr>\n",
       "    <tr>\n",
       "      <th>1</th>\n",
       "      <td>All our words from loose using have lost their...</td>\n",
       "      <td>Ernest Hemingway (1898-1961) American Writer.</td>\n",
       "    </tr>\n",
       "    <tr>\n",
       "      <th>2</th>\n",
       "      <td>God couldn't be everywhere, so he created moth...</td>\n",
       "      <td>Jewish proverb</td>\n",
       "    </tr>\n",
       "    <tr>\n",
       "      <th>3</th>\n",
       "      <td>Be not afraid of going slowly, be afraid only ...</td>\n",
       "      <td>Chinese proverb</td>\n",
       "    </tr>\n",
       "    <tr>\n",
       "      <th>4</th>\n",
       "      <td>Learn from yesterday, live for today, hope for...</td>\n",
       "      <td>Unknown Source</td>\n",
       "    </tr>\n",
       "    <tr>\n",
       "      <th>5</th>\n",
       "      <td>Do not confine your children to your own learn...</td>\n",
       "      <td>Chinese proverb</td>\n",
       "    </tr>\n",
       "    <tr>\n",
       "      <th>6</th>\n",
       "      <td>I hear and I forget, I see and I remember. I d...</td>\n",
       "      <td>Chinese proverb</td>\n",
       "    </tr>\n",
       "    <tr>\n",
       "      <th>7</th>\n",
       "      <td>In teaching others we teach ourselves.</td>\n",
       "      <td>Proverb</td>\n",
       "    </tr>\n",
       "    <tr>\n",
       "      <th>8</th>\n",
       "      <td>Happiness will never come to those who fail to...</td>\n",
       "      <td>Unknown Source</td>\n",
       "    </tr>\n",
       "    <tr>\n",
       "      <th>9</th>\n",
       "      <td>Without His love I can do nothing, with His lo...</td>\n",
       "      <td>Unknown Source</td>\n",
       "    </tr>\n",
       "  </tbody>\n",
       "</table>\n",
       "</div>"
      ],
      "text/plain": [
       "                                               Quote  \\\n",
       "0  There is a natural aristocracy among men. The ...   \n",
       "1  All our words from loose using have lost their...   \n",
       "2  God couldn't be everywhere, so he created moth...   \n",
       "3  Be not afraid of going slowly, be afraid only ...   \n",
       "4  Learn from yesterday, live for today, hope for...   \n",
       "5  Do not confine your children to your own learn...   \n",
       "6  I hear and I forget, I see and I remember. I d...   \n",
       "7            In teaching others we teach ourselves.    \n",
       "8  Happiness will never come to those who fail to...   \n",
       "9  Without His love I can do nothing, with His lo...   \n",
       "\n",
       "                                              Author  \n",
       "0  Thomas Jefferson (1743-1826) Third president o...  \n",
       "1      Ernest Hemingway (1898-1961) American Writer.  \n",
       "2                                    Jewish proverb   \n",
       "3                                   Chinese proverb   \n",
       "4                                    Unknown Source   \n",
       "5                                   Chinese proverb   \n",
       "6                                   Chinese proverb   \n",
       "7                                           Proverb   \n",
       "8                                    Unknown Source   \n",
       "9                                    Unknown Source   "
      ]
     },
     "execution_count": 23,
     "metadata": {},
     "output_type": "execute_result"
    }
   ],
   "source": [
    "author_list =[]\n",
    "for author in authors:\n",
    "    string = author.text[1:-1]\n",
    "    author_list.append(string)\n",
    "    \n",
    "df['Author']=author_list\n",
    "df"
   ]
  },
  {
   "cell_type": "code",
   "execution_count": 24,
   "id": "3c2eb7c6",
   "metadata": {},
   "outputs": [
    {
     "name": "stdout",
     "output_type": "stream",
     "text": [
      "1\n",
      "                   Additive  Products   * Risk\n",
      "0        E330 - Citric acid    135063 NaN  NaN\n",
      "1          E322 - Lecithins     90869 NaN  NaN\n",
      "2          E322i - Lecithin     82600 NaN  NaN\n",
      "3  E500 - Sodium carbonates     57475 NaN  NaN\n",
      "4        E415 - Xanthan gum     51024 NaN  NaN\n"
     ]
    }
   ],
   "source": [
    "tables = pd.read_html('https://world.openfoodfacts.org/additives')\n",
    "print(len(tables))\n",
    "print(tables[0].head())"
   ]
  },
  {
   "cell_type": "code",
   "execution_count": 25,
   "id": "f2bbe8c4",
   "metadata": {},
   "outputs": [
    {
     "name": "stdout",
     "output_type": "stream",
     "text": [
      "9\n",
      "   Pos   Time                   Swimmer              Date          Venue   Ref\n",
      "0    1  20.91         Cesar Cielo (BRA)  17 December 2009         Brazil   NaN\n",
      "1    2  20.94  Frederick Bousquet (FRA)     22 April 2009         France   NaN\n",
      "2    3  21.04      Caeleb Dressel (USA)      27 July 2019    South Korea   NaN\n",
      "3    3  21.04      Caeleb Dressel (USA)      20 June 2021          Omaha  [18]\n",
      "4    4  21.11      Benjamin Proud (GBR)     3 August 2018  Great Britain   NaN\n"
     ]
    }
   ],
   "source": [
    "tables = pd.read_html('https://en.wikipedia.org/wiki/World_record_progression_50_metres_freestyle')\n",
    "print(len(tables))\n",
    "print(tables[4].head())"
   ]
  },
  {
   "cell_type": "code",
   "execution_count": 26,
   "id": "1491e8ac",
   "metadata": {},
   "outputs": [
    {
     "name": "stdout",
     "output_type": "stream",
     "text": [
      "   Pos  Swimmer                       Time              Date          Venue\n",
      "0    1    22.93  Ranomi Kromowidjojo (NED)     7 August 2017        Germany\n",
      "1    2    23.00       Sarah Sjöström (SWE)     7 August 2017        Germany\n",
      "2    3    23.19        Cate Campbell (AUS)   27 October 2017         Russia\n",
      "3    4    23.25     Marleen Veldhuis (NED)     13 April 2008  Great Britain\n",
      "4    5    23.27    Therese Alshammar (SWE)  21 November 2009      Singapore\n"
     ]
    }
   ],
   "source": [
    "print(tables[-2].head())"
   ]
  },
  {
   "cell_type": "code",
   "execution_count": 27,
   "id": "3225482f",
   "metadata": {},
   "outputs": [
    {
     "name": "stdout",
     "output_type": "stream",
     "text": [
      "1\n",
      "     Time          Name    Nationality\n",
      "10  22.54   Robin Leamy  United States\n",
      "11  22.52  Dano Halsall    Switzerland\n",
      "12  22.40     Tom Jager  United States\n",
      "13  22.33   Matt Biondi  United States\n",
      "14  22.33   Matt Biondi  United States\n"
     ]
    }
   ],
   "source": [
    "tables = pd.read_html('https://en.wikipedia.org/wiki/World_record_progression_50_metres_freestyle', match = \"Switzerland\")\n",
    "print(len(tables))\n",
    "print(tables[0][10:15][['Time', 'Name', 'Nationality']])"
   ]
  },
  {
   "cell_type": "code",
   "execution_count": 28,
   "id": "54cfd99d",
   "metadata": {},
   "outputs": [
    {
     "name": "stdout",
     "output_type": "stream",
     "text": [
      "Credentials: ['client_id', 'client_secret']\n"
     ]
    }
   ],
   "source": [
    "# Load credentials\n",
    "with open('client-credentials.json') as file:\n",
    "    client_credentials = json.load(file)\n",
    "    \n",
    "print('Credentials:', list(client_credentials.keys()))"
   ]
  },
  {
   "cell_type": "code",
   "execution_count": 29,
   "id": "9008bd22",
   "metadata": {},
   "outputs": [
    {
     "name": "stdout",
     "output_type": "stream",
     "text": [
      "71481\n"
     ]
    }
   ],
   "source": [
    "print(client_credentials['client_id'])"
   ]
  },
  {
   "cell_type": "code",
   "execution_count": 30,
   "id": "efc039c1",
   "metadata": {},
   "outputs": [],
   "source": [
    "oauth_params = {\n",
    "    'client_id': client_credentials['client_id'],\n",
    "    'scope' : 'read_all,profile:read_all,activity:read_all',\n",
    "    'redirect_uri': 'https://localhost',\n",
    "    'response_type': 'code'\n",
    "}"
   ]
  },
  {
   "cell_type": "code",
   "execution_count": 31,
   "id": "37116c7a",
   "metadata": {},
   "outputs": [
    {
     "name": "stdout",
     "output_type": "stream",
     "text": [
      "https://www.strava.com/oauth/authorize?client_id=71481&scope=read_all%2Cprofile%3Aread_all%2Cactivity%3Aread_all&redirect_uri=https%3A%2F%2Flocalhost&response_type=code\n"
     ]
    }
   ],
   "source": [
    "from urllib.parse import urlencode\n",
    "\n",
    "# Generate link that users can copy/paste in their browser to authorize our app\n",
    "print('https://www.strava.com/oauth/authorize' + '?' + urlencode(oauth_params))"
   ]
  },
  {
   "cell_type": "code",
   "execution_count": 32,
   "id": "a1960886",
   "metadata": {},
   "outputs": [],
   "source": [
    "from getpass import getpass"
   ]
  },
  {
   "cell_type": "code",
   "execution_count": 45,
   "id": "8cc31db7",
   "metadata": {},
   "outputs": [
    {
     "name": "stdin",
     "output_type": "stream",
     "text": [
      "https://localhost/?state=&code=a2427b05201596e9e6f7e8db6414a0097a29d3bf&scope=read,activity:read_all,profile:read_all,read_all ······························································································································\n"
     ]
    }
   ],
   "source": [
    "# After authorizing the app, user is redirected to\n",
    "authorization_response = getpass(prompt='https://localhost/?state=&code=a2427b05201596e9e6f7e8db6414a0097a29d3bf&scope=read,activity:read_all,profile:read_all,read_all')"
   ]
  },
  {
   "cell_type": "code",
   "execution_count": 46,
   "id": "44bdae77",
   "metadata": {},
   "outputs": [],
   "source": [
    "from urllib.parse import urlparse, parse_qs"
   ]
  },
  {
   "cell_type": "code",
   "execution_count": 47,
   "id": "cd31c2e7",
   "metadata": {},
   "outputs": [],
   "source": [
    "# Extract Authorization Code from URL\n",
    "authorization_code = parse_qs(urlparse(authorization_response).query)['code'][0]"
   ]
  },
  {
   "cell_type": "code",
   "execution_count": 48,
   "id": "29ec4c42",
   "metadata": {},
   "outputs": [
    {
     "data": {
      "text/plain": [
       "200"
      ]
     },
     "execution_count": 48,
     "metadata": {},
     "output_type": "execute_result"
    }
   ],
   "source": [
    "# Exchange Authorization Code for Access Token\n",
    "r = requests.post('https://www.strava.com/oauth/token', data={\n",
    "    'client_id': client_credentials['client_id'],\n",
    "    'client_secret': client_credentials['client_secret'],\n",
    "    'code': authorization_code,\n",
    "    'grant_type': 'authorization_code'\n",
    "})\n",
    "r.status_code # 200"
   ]
  },
  {
   "cell_type": "code",
   "execution_count": 49,
   "id": "bd5e7ecf",
   "metadata": {},
   "outputs": [],
   "source": [
    "# Token saver\n",
    "def token_saver(token_obj):\n",
    "    with open('token.json', 'w') as file:\n",
    "        json.dump(token_obj, file, indent=4)\n",
    "        \n",
    "token_saver(r.json())"
   ]
  },
  {
   "cell_type": "code",
   "execution_count": 50,
   "id": "848b4abf",
   "metadata": {},
   "outputs": [
    {
     "data": {
      "text/plain": [
       "dict_keys(['token_type', 'expires_at', 'expires_in', 'refresh_token', 'access_token', 'athlete'])"
      ]
     },
     "execution_count": 50,
     "metadata": {},
     "output_type": "execute_result"
    }
   ],
   "source": [
    "# token loader\n",
    "def get_token():\n",
    "    with open('token.json', 'r') as file:\n",
    "        return json.load(file)\n",
    "\n",
    "token = get_token()\n",
    "token.keys()"
   ]
  },
  {
   "cell_type": "code",
   "execution_count": 51,
   "id": "654e73dd",
   "metadata": {},
   "outputs": [
    {
     "name": "stdout",
     "output_type": "stream",
     "text": [
      "Expires in: 20952\n",
      "Expires at: 1632420865\n"
     ]
    }
   ],
   "source": [
    "print('Expires in:', token['expires_in']) # initially: 21600 (6 hours)\n",
    "print('Expires at:', token['expires_at'])"
   ]
  },
  {
   "cell_type": "code",
   "execution_count": 52,
   "id": "311777e2",
   "metadata": {},
   "outputs": [],
   "source": [
    "# get date from UNIX timestamp (number of seconds since 1. Jan 1970)\n",
    "from datetime import datetime, timedelta"
   ]
  },
  {
   "cell_type": "code",
   "execution_count": 53,
   "id": "25cb773b",
   "metadata": {},
   "outputs": [
    {
     "name": "stdout",
     "output_type": "stream",
     "text": [
      "Expires at: 2021-09-23 20:14:25\n",
      "Expires in: 5:49:12\n"
     ]
    }
   ],
   "source": [
    "print('Expires at:', datetime.fromtimestamp(token['expires_at']))\n",
    "print('Expires in:', timedelta(seconds=token['expires_in']))"
   ]
  },
  {
   "cell_type": "code",
   "execution_count": 54,
   "id": "1e5a0b1f",
   "metadata": {},
   "outputs": [],
   "source": [
    "# Refresh expired Access Tokens\n",
    "requests.post('https://www.strava.com/oauth/token', data={\n",
    "        'client_id': client_credentials['client_id'],\n",
    "    'client_secret': client_credentials['client_secret'],\n",
    "    'refresh_token': token['refresh_token'],\n",
    "    'grant_type': 'refresh_token'\n",
    "})\n",
    "\n",
    "token_saver(r.json())\n",
    "token = get_token()"
   ]
  },
  {
   "cell_type": "code",
   "execution_count": 55,
   "id": "a58acaf3",
   "metadata": {},
   "outputs": [
    {
     "data": {
      "text/plain": [
       "200"
      ]
     },
     "execution_count": 55,
     "metadata": {},
     "output_type": "execute_result"
    }
   ],
   "source": [
    "# List activities\n",
    "r = requests.get('https://www.strava.com/api/v3/athlete/activities', params={\n",
    "    'access_token': token['access_token']\n",
    "})\n",
    "r.status_code"
   ]
  },
  {
   "cell_type": "code",
   "execution_count": 56,
   "id": "193a6351",
   "metadata": {},
   "outputs": [],
   "source": [
    "# save activities\n",
    "with open('activities.json', 'w') as file:\n",
    "    json.dump(r.json(), file, indent=4)"
   ]
  },
  {
   "cell_type": "code",
   "execution_count": 57,
   "id": "09287717",
   "metadata": {},
   "outputs": [
    {
     "data": {
      "text/html": [
       "<div>\n",
       "<style scoped>\n",
       "    .dataframe tbody tr th:only-of-type {\n",
       "        vertical-align: middle;\n",
       "    }\n",
       "\n",
       "    .dataframe tbody tr th {\n",
       "        vertical-align: top;\n",
       "    }\n",
       "\n",
       "    .dataframe thead th {\n",
       "        text-align: right;\n",
       "    }\n",
       "</style>\n",
       "<table border=\"1\" class=\"dataframe\">\n",
       "  <thead>\n",
       "    <tr style=\"text-align: right;\">\n",
       "      <th></th>\n",
       "      <th>name</th>\n",
       "      <th>type</th>\n",
       "      <th>distance</th>\n",
       "      <th>elapsed_time</th>\n",
       "      <th>max_speed</th>\n",
       "    </tr>\n",
       "  </thead>\n",
       "  <tbody>\n",
       "    <tr>\n",
       "      <th>0</th>\n",
       "      <td>Course à pied de nuit</td>\n",
       "      <td>Run</td>\n",
       "      <td>4</td>\n",
       "      <td>5</td>\n",
       "      <td>1.7</td>\n",
       "    </tr>\n",
       "  </tbody>\n",
       "</table>\n",
       "</div>"
      ],
      "text/plain": [
       "                    name type  distance  elapsed_time  max_speed\n",
       "0  Course à pied de nuit  Run         4             5        1.7"
      ]
     },
     "execution_count": 57,
     "metadata": {},
     "output_type": "execute_result"
    }
   ],
   "source": [
    "# Load data into DataFrame\n",
    "activities_df = pd.read_json(r.text)\n",
    "activities_df[['name', 'type', 'distance', 'elapsed_time', 'max_speed']]"
   ]
  },
  {
   "cell_type": "markdown",
   "id": "d0e3ae09",
   "metadata": {},
   "source": [
    "# Requests-oauthlib"
   ]
  },
  {
   "cell_type": "code",
   "execution_count": 58,
   "id": "9fd024c1",
   "metadata": {},
   "outputs": [],
   "source": [
    "# import library\n",
    "from requests_oauthlib import OAuth2Session"
   ]
  },
  {
   "cell_type": "code",
   "execution_count": 59,
   "id": "7c2e9656",
   "metadata": {},
   "outputs": [],
   "source": [
    "# Create a session for initialization\n",
    "init_session = OAuth2Session(\n",
    "    client_credentials['client_id'],\n",
    "    redirect_uri='https://localhost',\n",
    "    scope='read_all,profile:read_all,activity:read_all')"
   ]
  },
  {
   "cell_type": "code",
   "execution_count": 60,
   "id": "256ae99b",
   "metadata": {},
   "outputs": [
    {
     "name": "stdout",
     "output_type": "stream",
     "text": [
      "Visit link: https://www.strava.com/oauth/authorize?response_type=code&client_id=71481&redirect_uri=https%3A%2F%2Flocalhost&scope=read_all%2Cprofile%3Aread_all%2Cactivity%3Aread_all&state=57ixy2YKXdWEO4ZG6GpTmcQ8c5MEaZ\n"
     ]
    }
   ],
   "source": [
    "# Get authorization link\n",
    "user_link, state = init_session.authorization_url('https://www.strava.com/oauth/authorize')\n",
    "print('Visit link:', user_link)"
   ]
  },
  {
   "cell_type": "code",
   "execution_count": 61,
   "id": "380ba982",
   "metadata": {},
   "outputs": [
    {
     "name": "stdin",
     "output_type": "stream",
     "text": [
      "Full callback URL ····························································································································································\n"
     ]
    }
   ],
   "source": [
    "authorization_response = getpass(prompt='Full callback URL')"
   ]
  },
  {
   "cell_type": "code",
   "execution_count": 63,
   "id": "62d88861",
   "metadata": {},
   "outputs": [],
   "source": [
    "# Get Access Token\n",
    "token = init_session.fetch_token(\n",
    "    'https://www.strava.com/oauth/token',\n",
    "    authorization_response = authorization_response,\n",
    "    include_client_id = True,\n",
    "    client_secret = client_credentials['client_secret'])"
   ]
  },
  {
   "cell_type": "code",
   "execution_count": 64,
   "id": "3f076f24",
   "metadata": {},
   "outputs": [],
   "source": [
    "token_saver(token)"
   ]
  },
  {
   "cell_type": "code",
   "execution_count": 65,
   "id": "58899be4",
   "metadata": {},
   "outputs": [],
   "source": [
    "# Create a session for reaching the API\n",
    "api_session = OAuth2Session(\n",
    "    client_credentials['client_id'],\n",
    "    token = token, # pass Access Token\n",
    "\n",
    "    # Automatically refresh expired token\n",
    "    auto_refresh_url = 'https://www.strava.com/oauth/token',\n",
    "    auto_refresh_kwargs={\n",
    "        'client_id': client_credentials['client_id'],\n",
    "        'client_secret': client_credentials['client_secret']\n",
    "    },\n",
    "    token_updater = token_saver # automatically saves new tokens\n",
    ")"
   ]
  },
  {
   "cell_type": "code",
   "execution_count": 66,
   "id": "ecb02b5c",
   "metadata": {},
   "outputs": [
    {
     "data": {
      "text/plain": [
       "200"
      ]
     },
     "execution_count": 66,
     "metadata": {},
     "output_type": "execute_result"
    }
   ],
   "source": [
    "# List activities\n",
    "r = api_session.get('https://www.strava.com/api/v3/athlete/activities')\n",
    "r.status_code"
   ]
  },
  {
   "cell_type": "code",
   "execution_count": 67,
   "id": "efb168da",
   "metadata": {},
   "outputs": [
    {
     "data": {
      "text/html": [
       "<div>\n",
       "<style scoped>\n",
       "    .dataframe tbody tr th:only-of-type {\n",
       "        vertical-align: middle;\n",
       "    }\n",
       "\n",
       "    .dataframe tbody tr th {\n",
       "        vertical-align: top;\n",
       "    }\n",
       "\n",
       "    .dataframe thead th {\n",
       "        text-align: right;\n",
       "    }\n",
       "</style>\n",
       "<table border=\"1\" class=\"dataframe\">\n",
       "  <thead>\n",
       "    <tr style=\"text-align: right;\">\n",
       "      <th></th>\n",
       "      <th>name</th>\n",
       "      <th>type</th>\n",
       "      <th>distance</th>\n",
       "      <th>elapsed_time</th>\n",
       "      <th>max_speed</th>\n",
       "    </tr>\n",
       "  </thead>\n",
       "  <tbody>\n",
       "    <tr>\n",
       "      <th>0</th>\n",
       "      <td>Course à pied de nuit</td>\n",
       "      <td>Run</td>\n",
       "      <td>4</td>\n",
       "      <td>5</td>\n",
       "      <td>1.7</td>\n",
       "    </tr>\n",
       "  </tbody>\n",
       "</table>\n",
       "</div>"
      ],
      "text/plain": [
       "                    name type  distance  elapsed_time  max_speed\n",
       "0  Course à pied de nuit  Run         4             5        1.7"
      ]
     },
     "execution_count": 67,
     "metadata": {},
     "output_type": "execute_result"
    }
   ],
   "source": [
    "activities_df = pd.read_json(r.text)\n",
    "activities_df[['name', 'type', 'distance', 'elapsed_time', 'max_speed']]"
   ]
  },
  {
   "cell_type": "markdown",
   "id": "ebb41274",
   "metadata": {},
   "source": [
    "# Stravalib"
   ]
  },
  {
   "cell_type": "code",
   "execution_count": null,
   "id": "47909f20",
   "metadata": {},
   "outputs": [],
   "source": [
    "from stravalib import Client"
   ]
  },
  {
   "cell_type": "code",
   "execution_count": null,
   "id": "148a2453",
   "metadata": {},
   "outputs": [],
   "source": [
    "# Create client\n",
    "client = Client()\n",
    "\n",
    "# Get Authorization URL\n",
    "user_link = client.authorization_url(\n",
    "    client_id = client_credentials['client_id'],\n",
    "    redirect_uri = 'https://localhost',\n",
    "    scope = ['read_all', 'profile:read_all', 'activity:read_all'])\n",
    "\n",
    "print('Visit link:', user_link)"
   ]
  },
  {
   "cell_type": "code",
   "execution_count": null,
   "id": "d521e322",
   "metadata": {},
   "outputs": [],
   "source": []
  }
 ],
 "metadata": {
  "kernelspec": {
   "display_name": "Python 3",
   "language": "python",
   "name": "python3"
  },
  "language_info": {
   "codemirror_mode": {
    "name": "ipython",
    "version": 3
   },
   "file_extension": ".py",
   "mimetype": "text/x-python",
   "name": "python",
   "nbconvert_exporter": "python",
   "pygments_lexer": "ipython3",
   "version": "3.6.13"
  }
 },
 "nbformat": 4,
 "nbformat_minor": 5
}
