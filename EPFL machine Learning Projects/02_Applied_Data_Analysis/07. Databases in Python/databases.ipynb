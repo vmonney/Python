{
 "cells": [
  {
   "cell_type": "markdown",
   "id": "1976cb13",
   "metadata": {},
   "source": [
    "# 03. Basic SQL queries"
   ]
  },
  {
   "cell_type": "code",
   "execution_count": 2,
   "id": "11e18c35",
   "metadata": {},
   "outputs": [],
   "source": [
    "# import libraries\n",
    "import pandas as pd\n",
    "import sqlite3"
   ]
  },
  {
   "cell_type": "code",
   "execution_count": 3,
   "id": "be6e357b",
   "metadata": {},
   "outputs": [],
   "source": [
    "# connect the database\n",
    "db = sqlite3.connect('database.sqlite')"
   ]
  },
  {
   "cell_type": "code",
   "execution_count": 4,
   "id": "ca3f5720",
   "metadata": {},
   "outputs": [],
   "source": [
    "# set a function for query\n",
    "def run_query(query):\n",
    "    return pd.read_sql_query(query,db)"
   ]
  },
  {
   "cell_type": "code",
   "execution_count": 4,
   "id": "30d527c6",
   "metadata": {},
   "outputs": [
    {
     "data": {
      "text/html": [
       "<div>\n",
       "<style scoped>\n",
       "    .dataframe tbody tr th:only-of-type {\n",
       "        vertical-align: middle;\n",
       "    }\n",
       "\n",
       "    .dataframe tbody tr th {\n",
       "        vertical-align: top;\n",
       "    }\n",
       "\n",
       "    .dataframe thead th {\n",
       "        text-align: right;\n",
       "    }\n",
       "</style>\n",
       "<table border=\"1\" class=\"dataframe\">\n",
       "  <thead>\n",
       "    <tr style=\"text-align: right;\">\n",
       "      <th></th>\n",
       "      <th>tbl_name</th>\n",
       "    </tr>\n",
       "  </thead>\n",
       "  <tbody>\n",
       "    <tr>\n",
       "      <th>0</th>\n",
       "      <td>station</td>\n",
       "    </tr>\n",
       "    <tr>\n",
       "      <th>1</th>\n",
       "      <td>status</td>\n",
       "    </tr>\n",
       "    <tr>\n",
       "      <th>2</th>\n",
       "      <td>trip</td>\n",
       "    </tr>\n",
       "    <tr>\n",
       "      <th>3</th>\n",
       "      <td>weather</td>\n",
       "    </tr>\n",
       "  </tbody>\n",
       "</table>\n",
       "</div>"
      ],
      "text/plain": [
       "  tbl_name\n",
       "0  station\n",
       "1   status\n",
       "2     trip\n",
       "3  weather"
      ]
     },
     "execution_count": 4,
     "metadata": {},
     "output_type": "execute_result"
    }
   ],
   "source": [
    "# Select the table names\n",
    "run_query(\"SELECT tbl_name FROM sqlite_master;\")"
   ]
  },
  {
   "cell_type": "code",
   "execution_count": 5,
   "id": "e4572021",
   "metadata": {},
   "outputs": [
    {
     "data": {
      "text/html": [
       "<div>\n",
       "<style scoped>\n",
       "    .dataframe tbody tr th:only-of-type {\n",
       "        vertical-align: middle;\n",
       "    }\n",
       "\n",
       "    .dataframe tbody tr th {\n",
       "        vertical-align: top;\n",
       "    }\n",
       "\n",
       "    .dataframe thead th {\n",
       "        text-align: right;\n",
       "    }\n",
       "</style>\n",
       "<table border=\"1\" class=\"dataframe\">\n",
       "  <thead>\n",
       "    <tr style=\"text-align: right;\">\n",
       "      <th></th>\n",
       "      <th>id</th>\n",
       "      <th>duration</th>\n",
       "      <th>start_date</th>\n",
       "      <th>start_station_name</th>\n",
       "      <th>start_station_id</th>\n",
       "      <th>end_date</th>\n",
       "      <th>end_station_name</th>\n",
       "      <th>end_station_id</th>\n",
       "      <th>bike_id</th>\n",
       "      <th>subscription_type</th>\n",
       "      <th>zip_code</th>\n",
       "    </tr>\n",
       "  </thead>\n",
       "  <tbody>\n",
       "    <tr>\n",
       "      <th>0</th>\n",
       "      <td>4069</td>\n",
       "      <td>174</td>\n",
       "      <td>8/29/2013 9:08</td>\n",
       "      <td>2nd at South Park</td>\n",
       "      <td>64</td>\n",
       "      <td>8/29/2013 9:11</td>\n",
       "      <td>2nd at South Park</td>\n",
       "      <td>64</td>\n",
       "      <td>288</td>\n",
       "      <td>Subscriber</td>\n",
       "      <td>94114</td>\n",
       "    </tr>\n",
       "    <tr>\n",
       "      <th>1</th>\n",
       "      <td>4073</td>\n",
       "      <td>1067</td>\n",
       "      <td>8/29/2013 9:24</td>\n",
       "      <td>South Van Ness at Market</td>\n",
       "      <td>66</td>\n",
       "      <td>8/29/2013 9:42</td>\n",
       "      <td>San Francisco Caltrain 2 (330 Townsend)</td>\n",
       "      <td>69</td>\n",
       "      <td>321</td>\n",
       "      <td>Subscriber</td>\n",
       "      <td>94703</td>\n",
       "    </tr>\n",
       "    <tr>\n",
       "      <th>2</th>\n",
       "      <td>4074</td>\n",
       "      <td>1131</td>\n",
       "      <td>8/29/2013 9:24</td>\n",
       "      <td>South Van Ness at Market</td>\n",
       "      <td>66</td>\n",
       "      <td>8/29/2013 9:43</td>\n",
       "      <td>San Francisco Caltrain 2 (330 Townsend)</td>\n",
       "      <td>69</td>\n",
       "      <td>317</td>\n",
       "      <td>Subscriber</td>\n",
       "      <td>94115</td>\n",
       "    </tr>\n",
       "    <tr>\n",
       "      <th>3</th>\n",
       "      <td>4075</td>\n",
       "      <td>1117</td>\n",
       "      <td>8/29/2013 9:24</td>\n",
       "      <td>South Van Ness at Market</td>\n",
       "      <td>66</td>\n",
       "      <td>8/29/2013 9:43</td>\n",
       "      <td>San Francisco Caltrain 2 (330 Townsend)</td>\n",
       "      <td>69</td>\n",
       "      <td>316</td>\n",
       "      <td>Subscriber</td>\n",
       "      <td>94122</td>\n",
       "    </tr>\n",
       "    <tr>\n",
       "      <th>4</th>\n",
       "      <td>4076</td>\n",
       "      <td>1118</td>\n",
       "      <td>8/29/2013 9:25</td>\n",
       "      <td>South Van Ness at Market</td>\n",
       "      <td>66</td>\n",
       "      <td>8/29/2013 9:43</td>\n",
       "      <td>San Francisco Caltrain 2 (330 Townsend)</td>\n",
       "      <td>69</td>\n",
       "      <td>322</td>\n",
       "      <td>Subscriber</td>\n",
       "      <td>94597</td>\n",
       "    </tr>\n",
       "  </tbody>\n",
       "</table>\n",
       "</div>"
      ],
      "text/plain": [
       "     id  duration      start_date        start_station_name  start_station_id  \\\n",
       "0  4069       174  8/29/2013 9:08         2nd at South Park                64   \n",
       "1  4073      1067  8/29/2013 9:24  South Van Ness at Market                66   \n",
       "2  4074      1131  8/29/2013 9:24  South Van Ness at Market                66   \n",
       "3  4075      1117  8/29/2013 9:24  South Van Ness at Market                66   \n",
       "4  4076      1118  8/29/2013 9:25  South Van Ness at Market                66   \n",
       "\n",
       "         end_date                         end_station_name  end_station_id  \\\n",
       "0  8/29/2013 9:11                        2nd at South Park              64   \n",
       "1  8/29/2013 9:42  San Francisco Caltrain 2 (330 Townsend)              69   \n",
       "2  8/29/2013 9:43  San Francisco Caltrain 2 (330 Townsend)              69   \n",
       "3  8/29/2013 9:43  San Francisco Caltrain 2 (330 Townsend)              69   \n",
       "4  8/29/2013 9:43  San Francisco Caltrain 2 (330 Townsend)              69   \n",
       "\n",
       "   bike_id subscription_type  zip_code  \n",
       "0      288        Subscriber     94114  \n",
       "1      321        Subscriber     94703  \n",
       "2      317        Subscriber     94115  \n",
       "3      316        Subscriber     94122  \n",
       "4      322        Subscriber     94597  "
      ]
     },
     "execution_count": 5,
     "metadata": {},
     "output_type": "execute_result"
    }
   ],
   "source": [
    "# First 5 rows of the trip table\n",
    "run_query(\"SELECT * FROM trip LIMIT 5;\")"
   ]
  },
  {
   "cell_type": "code",
   "execution_count": 6,
   "id": "a92df989",
   "metadata": {},
   "outputs": [
    {
     "data": {
      "text/html": [
       "<div>\n",
       "<style scoped>\n",
       "    .dataframe tbody tr th:only-of-type {\n",
       "        vertical-align: middle;\n",
       "    }\n",
       "\n",
       "    .dataframe tbody tr th {\n",
       "        vertical-align: top;\n",
       "    }\n",
       "\n",
       "    .dataframe thead th {\n",
       "        text-align: right;\n",
       "    }\n",
       "</style>\n",
       "<table border=\"1\" class=\"dataframe\">\n",
       "  <thead>\n",
       "    <tr style=\"text-align: right;\">\n",
       "      <th></th>\n",
       "      <th>start_station_name</th>\n",
       "      <th>end_station_name</th>\n",
       "      <th>duration</th>\n",
       "    </tr>\n",
       "  </thead>\n",
       "  <tbody>\n",
       "    <tr>\n",
       "      <th>0</th>\n",
       "      <td>2nd at South Park</td>\n",
       "      <td>2nd at South Park</td>\n",
       "      <td>174</td>\n",
       "    </tr>\n",
       "    <tr>\n",
       "      <th>1</th>\n",
       "      <td>South Van Ness at Market</td>\n",
       "      <td>San Francisco Caltrain 2 (330 Townsend)</td>\n",
       "      <td>1067</td>\n",
       "    </tr>\n",
       "    <tr>\n",
       "      <th>2</th>\n",
       "      <td>South Van Ness at Market</td>\n",
       "      <td>San Francisco Caltrain 2 (330 Townsend)</td>\n",
       "      <td>1131</td>\n",
       "    </tr>\n",
       "    <tr>\n",
       "      <th>3</th>\n",
       "      <td>South Van Ness at Market</td>\n",
       "      <td>San Francisco Caltrain 2 (330 Townsend)</td>\n",
       "      <td>1117</td>\n",
       "    </tr>\n",
       "    <tr>\n",
       "      <th>4</th>\n",
       "      <td>South Van Ness at Market</td>\n",
       "      <td>San Francisco Caltrain 2 (330 Townsend)</td>\n",
       "      <td>1118</td>\n",
       "    </tr>\n",
       "  </tbody>\n",
       "</table>\n",
       "</div>"
      ],
      "text/plain": [
       "         start_station_name                         end_station_name  duration\n",
       "0         2nd at South Park                        2nd at South Park       174\n",
       "1  South Van Ness at Market  San Francisco Caltrain 2 (330 Townsend)      1067\n",
       "2  South Van Ness at Market  San Francisco Caltrain 2 (330 Townsend)      1131\n",
       "3  South Van Ness at Market  San Francisco Caltrain 2 (330 Townsend)      1117\n",
       "4  South Van Ness at Market  San Francisco Caltrain 2 (330 Townsend)      1118"
      ]
     },
     "execution_count": 6,
     "metadata": {},
     "output_type": "execute_result"
    }
   ],
   "source": [
    "# select specific columns\n",
    "run_query(\"SELECT start_station_name, end_station_name, duration FROM trip LIMIT 5;\")"
   ]
  },
  {
   "cell_type": "code",
   "execution_count": 8,
   "id": "3e7677ed",
   "metadata": {},
   "outputs": [
    {
     "data": {
      "text/html": [
       "<div>\n",
       "<style scoped>\n",
       "    .dataframe tbody tr th:only-of-type {\n",
       "        vertical-align: middle;\n",
       "    }\n",
       "\n",
       "    .dataframe tbody tr th {\n",
       "        vertical-align: top;\n",
       "    }\n",
       "\n",
       "    .dataframe thead th {\n",
       "        text-align: right;\n",
       "    }\n",
       "</style>\n",
       "<table border=\"1\" class=\"dataframe\">\n",
       "  <thead>\n",
       "    <tr style=\"text-align: right;\">\n",
       "      <th></th>\n",
       "      <th>start_station_name</th>\n",
       "      <th>end_station_name</th>\n",
       "      <th>duration</th>\n",
       "    </tr>\n",
       "  </thead>\n",
       "  <tbody>\n",
       "    <tr>\n",
       "      <th>0</th>\n",
       "      <td>Paseo de San Antonio</td>\n",
       "      <td>Adobe on Almaden</td>\n",
       "      <td>12280</td>\n",
       "    </tr>\n",
       "    <tr>\n",
       "      <th>1</th>\n",
       "      <td>Paseo de San Antonio</td>\n",
       "      <td>San Jose Diridon Caltrain Station</td>\n",
       "      <td>454</td>\n",
       "    </tr>\n",
       "    <tr>\n",
       "      <th>2</th>\n",
       "      <td>Paseo de San Antonio</td>\n",
       "      <td>Paseo de San Antonio</td>\n",
       "      <td>1481</td>\n",
       "    </tr>\n",
       "    <tr>\n",
       "      <th>3</th>\n",
       "      <td>Paseo de San Antonio</td>\n",
       "      <td>Paseo de San Antonio</td>\n",
       "      <td>1475</td>\n",
       "    </tr>\n",
       "    <tr>\n",
       "      <th>4</th>\n",
       "      <td>Paseo de San Antonio</td>\n",
       "      <td>San Jose Diridon Caltrain Station</td>\n",
       "      <td>573</td>\n",
       "    </tr>\n",
       "  </tbody>\n",
       "</table>\n",
       "</div>"
      ],
      "text/plain": [
       "     start_station_name                   end_station_name  duration\n",
       "0  Paseo de San Antonio                   Adobe on Almaden     12280\n",
       "1  Paseo de San Antonio  San Jose Diridon Caltrain Station       454\n",
       "2  Paseo de San Antonio               Paseo de San Antonio      1481\n",
       "3  Paseo de San Antonio               Paseo de San Antonio      1475\n",
       "4  Paseo de San Antonio  San Jose Diridon Caltrain Station       573"
      ]
     },
     "execution_count": 8,
     "metadata": {},
     "output_type": "execute_result"
    }
   ],
   "source": [
    "# Filter using the WHERE keyword\n",
    "query = \"SELECT start_station_name, end_station_name, duration FROM trip WHERE start_station_name = 'Paseo de San Antonio' LIMIT 5;\"\n",
    "run_query(query)"
   ]
  },
  {
   "cell_type": "code",
   "execution_count": 9,
   "id": "f0c51c6f",
   "metadata": {},
   "outputs": [
    {
     "data": {
      "text/html": [
       "<div>\n",
       "<style scoped>\n",
       "    .dataframe tbody tr th:only-of-type {\n",
       "        vertical-align: middle;\n",
       "    }\n",
       "\n",
       "    .dataframe tbody tr th {\n",
       "        vertical-align: top;\n",
       "    }\n",
       "\n",
       "    .dataframe thead th {\n",
       "        text-align: right;\n",
       "    }\n",
       "</style>\n",
       "<table border=\"1\" class=\"dataframe\">\n",
       "  <thead>\n",
       "    <tr style=\"text-align: right;\">\n",
       "      <th></th>\n",
       "      <th>start_station_name</th>\n",
       "      <th>end_station_name</th>\n",
       "      <th>duration</th>\n",
       "    </tr>\n",
       "  </thead>\n",
       "  <tbody>\n",
       "    <tr>\n",
       "      <th>0</th>\n",
       "      <td>Mountain View City Hall</td>\n",
       "      <td>Mountain View City Hall</td>\n",
       "      <td>71</td>\n",
       "    </tr>\n",
       "    <tr>\n",
       "      <th>1</th>\n",
       "      <td>San Jose City Hall</td>\n",
       "      <td>San Jose City Hall</td>\n",
       "      <td>77</td>\n",
       "    </tr>\n",
       "    <tr>\n",
       "      <th>2</th>\n",
       "      <td>South Van Ness at Market</td>\n",
       "      <td>Market at 10th</td>\n",
       "      <td>83</td>\n",
       "    </tr>\n",
       "    <tr>\n",
       "      <th>3</th>\n",
       "      <td>South Van Ness at Market</td>\n",
       "      <td>South Van Ness at Market</td>\n",
       "      <td>63</td>\n",
       "    </tr>\n",
       "    <tr>\n",
       "      <th>4</th>\n",
       "      <td>San Jose City Hall</td>\n",
       "      <td>San Jose City Hall</td>\n",
       "      <td>70</td>\n",
       "    </tr>\n",
       "  </tbody>\n",
       "</table>\n",
       "</div>"
      ],
      "text/plain": [
       "         start_station_name          end_station_name  duration\n",
       "0   Mountain View City Hall   Mountain View City Hall        71\n",
       "1        San Jose City Hall        San Jose City Hall        77\n",
       "2  South Van Ness at Market            Market at 10th        83\n",
       "3  South Van Ness at Market  South Van Ness at Market        63\n",
       "4        San Jose City Hall        San Jose City Hall        70"
      ]
     },
     "execution_count": 9,
     "metadata": {},
     "output_type": "execute_result"
    }
   ],
   "source": [
    "# with boolean conditions\n",
    "\n",
    "query ='''SELECT start_station_name, end_station_name, duration\n",
    "          FROM trip\n",
    "          WHERE duration < 100\n",
    "          LIMIT 5;'''\n",
    "\n",
    "run_query(query)"
   ]
  },
  {
   "cell_type": "code",
   "execution_count": 10,
   "id": "52535df4",
   "metadata": {},
   "outputs": [
    {
     "data": {
      "text/html": [
       "<div>\n",
       "<style scoped>\n",
       "    .dataframe tbody tr th:only-of-type {\n",
       "        vertical-align: middle;\n",
       "    }\n",
       "\n",
       "    .dataframe tbody tr th {\n",
       "        vertical-align: top;\n",
       "    }\n",
       "\n",
       "    .dataframe thead th {\n",
       "        text-align: right;\n",
       "    }\n",
       "</style>\n",
       "<table border=\"1\" class=\"dataframe\">\n",
       "  <thead>\n",
       "    <tr style=\"text-align: right;\">\n",
       "      <th></th>\n",
       "      <th>start_station_name</th>\n",
       "      <th>end_station_name</th>\n",
       "      <th>duration</th>\n",
       "    </tr>\n",
       "  </thead>\n",
       "  <tbody>\n",
       "    <tr>\n",
       "      <th>0</th>\n",
       "      <td>Paseo de San Antonio</td>\n",
       "      <td>Paseo de San Antonio</td>\n",
       "      <td>87</td>\n",
       "    </tr>\n",
       "    <tr>\n",
       "      <th>1</th>\n",
       "      <td>Paseo de San Antonio</td>\n",
       "      <td>Paseo de San Antonio</td>\n",
       "      <td>69</td>\n",
       "    </tr>\n",
       "    <tr>\n",
       "      <th>2</th>\n",
       "      <td>Paseo de San Antonio</td>\n",
       "      <td>Paseo de San Antonio</td>\n",
       "      <td>94</td>\n",
       "    </tr>\n",
       "    <tr>\n",
       "      <th>3</th>\n",
       "      <td>Paseo de San Antonio</td>\n",
       "      <td>Paseo de San Antonio</td>\n",
       "      <td>82</td>\n",
       "    </tr>\n",
       "    <tr>\n",
       "      <th>4</th>\n",
       "      <td>Paseo de San Antonio</td>\n",
       "      <td>Paseo de San Antonio</td>\n",
       "      <td>65</td>\n",
       "    </tr>\n",
       "  </tbody>\n",
       "</table>\n",
       "</div>"
      ],
      "text/plain": [
       "     start_station_name      end_station_name  duration\n",
       "0  Paseo de San Antonio  Paseo de San Antonio        87\n",
       "1  Paseo de San Antonio  Paseo de San Antonio        69\n",
       "2  Paseo de San Antonio  Paseo de San Antonio        94\n",
       "3  Paseo de San Antonio  Paseo de San Antonio        82\n",
       "4  Paseo de San Antonio  Paseo de San Antonio        65"
      ]
     },
     "execution_count": 10,
     "metadata": {},
     "output_type": "execute_result"
    }
   ],
   "source": [
    "# AND, OR, NOT\n",
    "query= '''\n",
    "SELECT start_station_name, end_station_name, duration\n",
    "FROM trip\n",
    "WHERE (duration < 100) AND (start_station_name = 'Paseo de San Antonio')\n",
    "LIMIT 5;\n",
    "'''\n",
    "\n",
    "run_query(query)"
   ]
  },
  {
   "cell_type": "code",
   "execution_count": 11,
   "id": "446d9c3e",
   "metadata": {},
   "outputs": [
    {
     "data": {
      "text/html": [
       "<div>\n",
       "<style scoped>\n",
       "    .dataframe tbody tr th:only-of-type {\n",
       "        vertical-align: middle;\n",
       "    }\n",
       "\n",
       "    .dataframe tbody tr th {\n",
       "        vertical-align: top;\n",
       "    }\n",
       "\n",
       "    .dataframe thead th {\n",
       "        text-align: right;\n",
       "    }\n",
       "</style>\n",
       "<table border=\"1\" class=\"dataframe\">\n",
       "  <thead>\n",
       "    <tr style=\"text-align: right;\">\n",
       "      <th></th>\n",
       "      <th>start_station_name</th>\n",
       "      <th>end_station_name</th>\n",
       "      <th>duration</th>\n",
       "    </tr>\n",
       "  </thead>\n",
       "  <tbody>\n",
       "    <tr>\n",
       "      <th>0</th>\n",
       "      <td>Paseo de San Antonio</td>\n",
       "      <td>Japantown</td>\n",
       "      <td>288430</td>\n",
       "    </tr>\n",
       "    <tr>\n",
       "      <th>1</th>\n",
       "      <td>Paseo de San Antonio</td>\n",
       "      <td>MLK Library</td>\n",
       "      <td>167156</td>\n",
       "    </tr>\n",
       "    <tr>\n",
       "      <th>2</th>\n",
       "      <td>Paseo de San Antonio</td>\n",
       "      <td>SJSU 4th at San Carlos</td>\n",
       "      <td>127342</td>\n",
       "    </tr>\n",
       "    <tr>\n",
       "      <th>3</th>\n",
       "      <td>Paseo de San Antonio</td>\n",
       "      <td>San Jose City Hall</td>\n",
       "      <td>87387</td>\n",
       "    </tr>\n",
       "    <tr>\n",
       "      <th>4</th>\n",
       "      <td>Paseo de San Antonio</td>\n",
       "      <td>San Jose City Hall</td>\n",
       "      <td>87368</td>\n",
       "    </tr>\n",
       "  </tbody>\n",
       "</table>\n",
       "</div>"
      ],
      "text/plain": [
       "     start_station_name        end_station_name  duration\n",
       "0  Paseo de San Antonio               Japantown    288430\n",
       "1  Paseo de San Antonio             MLK Library    167156\n",
       "2  Paseo de San Antonio  SJSU 4th at San Carlos    127342\n",
       "3  Paseo de San Antonio      San Jose City Hall     87387\n",
       "4  Paseo de San Antonio      San Jose City Hall     87368"
      ]
     },
     "execution_count": 11,
     "metadata": {},
     "output_type": "execute_result"
    }
   ],
   "source": [
    "# ORDER BY\n",
    "query='''\n",
    "SELECT start_station_name, end_station_name, duration\n",
    "FROM trip\n",
    "WHERE start_station_name = 'Paseo de San Antonio'\n",
    "ORDER BY duration DESC\n",
    "LIMIT 5;\n",
    "'''\n",
    "\n",
    "run_query(query)"
   ]
  },
  {
   "cell_type": "code",
   "execution_count": 13,
   "id": "5abac2ca",
   "metadata": {},
   "outputs": [
    {
     "data": {
      "text/plain": [
       "[(0, 'id', 'INTEGER', 0, None, 1),\n",
       " (1, 'duration', 'INTEGER', 0, None, 0),\n",
       " (2, 'start_date', 'TEXT', 0, None, 0),\n",
       " (3, 'start_station_name', 'TEXT', 0, None, 0),\n",
       " (4, 'start_station_id', 'INTEGER', 0, None, 0),\n",
       " (5, 'end_date', 'TEXT', 0, None, 0),\n",
       " (6, 'end_station_name', 'TEXT', 0, None, 0),\n",
       " (7, 'end_station_id', 'INTEGER', 0, None, 0),\n",
       " (8, 'bike_id', 'INTEGER', 0, None, 0),\n",
       " (9, 'subscription_type', 'TEXT', 0, None, 0),\n",
       " (10, 'zip_code', 'INTEGER', 0, None, 0)]"
      ]
     },
     "execution_count": 13,
     "metadata": {},
     "output_type": "execute_result"
    }
   ],
   "source": [
    "# Check info of tables\n",
    "db.cursor().execute(\"PRAGMA table_info('trip')\").fetchall()"
   ]
  },
  {
   "cell_type": "markdown",
   "id": "ba8378b2",
   "metadata": {},
   "source": [
    "Here above, if the last number of each line is a 1, that means that this is a primary key."
   ]
  },
  {
   "cell_type": "code",
   "execution_count": 14,
   "id": "77fa2bdc",
   "metadata": {},
   "outputs": [
    {
     "data": {
      "text/html": [
       "<div>\n",
       "<style scoped>\n",
       "    .dataframe tbody tr th:only-of-type {\n",
       "        vertical-align: middle;\n",
       "    }\n",
       "\n",
       "    .dataframe tbody tr th {\n",
       "        vertical-align: top;\n",
       "    }\n",
       "\n",
       "    .dataframe thead th {\n",
       "        text-align: right;\n",
       "    }\n",
       "</style>\n",
       "<table border=\"1\" class=\"dataframe\">\n",
       "  <thead>\n",
       "    <tr style=\"text-align: right;\">\n",
       "      <th></th>\n",
       "      <th>sql</th>\n",
       "    </tr>\n",
       "  </thead>\n",
       "  <tbody>\n",
       "    <tr>\n",
       "      <th>0</th>\n",
       "      <td>CREATE TABLE station (\\n    id INTEGER PRIMARY KEY,\\n    name TEXT,\\n    lat NUMERIC,\\n    long NUMERIC,\\n    dock_count INTEGER,\\n    city TEXT,\\n    installation_date TEXT)</td>\n",
       "    </tr>\n",
       "    <tr>\n",
       "      <th>1</th>\n",
       "      <td>CREATE TABLE status (\\n    station_id INTEGER,\\n    bikes_available INTEGER,\\n    docks_available INTEGER,\\n    time TEXT)</td>\n",
       "    </tr>\n",
       "    <tr>\n",
       "      <th>2</th>\n",
       "      <td>CREATE TABLE trip (\\n    id INTEGER PRIMARY KEY,\\n    duration INTEGER,\\n    start_date TEXT,\\n    start_station_name TEXT, -- this should be removed\\n    start_station_id INTEGER,\\n    end_date TEXT,\\n    end_station_name TEXT, -- this should be removed\\n    end_station_id INTEGER,\\n    bike_id...</td>\n",
       "    </tr>\n",
       "    <tr>\n",
       "      <th>3</th>\n",
       "      <td>CREATE TABLE weather (\\n    date TEXT,\\n    max_temperature_f INTEGER,\\n    mean_temperature_f INTEGER,\\n    min_temperature_f INTEGER,\\n    max_dew_point_f INTEGER,\\n    mean_dew_point_f INTEGER,\\n    min_dew_point_f INTEGER,\\n    max_humidity INTEGER,\\n    mean_humidity INTEGER,\\n    min_humid...</td>\n",
       "    </tr>\n",
       "  </tbody>\n",
       "</table>\n",
       "</div>"
      ],
      "text/plain": [
       "                                                                                                                                                                                                                                                                                                           sql\n",
       "0                                                                                                                               CREATE TABLE station (\\n    id INTEGER PRIMARY KEY,\\n    name TEXT,\\n    lat NUMERIC,\\n    long NUMERIC,\\n    dock_count INTEGER,\\n    city TEXT,\\n    installation_date TEXT)\n",
       "1                                                                                                                                                                                   CREATE TABLE status (\\n    station_id INTEGER,\\n    bikes_available INTEGER,\\n    docks_available INTEGER,\\n    time TEXT)\n",
       "2  CREATE TABLE trip (\\n    id INTEGER PRIMARY KEY,\\n    duration INTEGER,\\n    start_date TEXT,\\n    start_station_name TEXT, -- this should be removed\\n    start_station_id INTEGER,\\n    end_date TEXT,\\n    end_station_name TEXT, -- this should be removed\\n    end_station_id INTEGER,\\n    bike_id...\n",
       "3  CREATE TABLE weather (\\n    date TEXT,\\n    max_temperature_f INTEGER,\\n    mean_temperature_f INTEGER,\\n    min_temperature_f INTEGER,\\n    max_dew_point_f INTEGER,\\n    mean_dew_point_f INTEGER,\\n    min_dew_point_f INTEGER,\\n    max_humidity INTEGER,\\n    mean_humidity INTEGER,\\n    min_humid..."
      ]
     },
     "metadata": {},
     "output_type": "display_data"
    }
   ],
   "source": [
    "# temporarily change 'display.max_colwidth' in pandas\n",
    "with pd.option_context('display.max_colwidth', 300):\n",
    "    display(run_query(\"\"\"SELECT sql FROM sqlite_master;\"\"\"))"
   ]
  },
  {
   "cell_type": "markdown",
   "id": "7d6404f7",
   "metadata": {},
   "source": [
    "# 04. Advanced SQL queries"
   ]
  },
  {
   "cell_type": "code",
   "execution_count": 15,
   "id": "d67b015c",
   "metadata": {},
   "outputs": [
    {
     "data": {
      "text/html": [
       "<div>\n",
       "<style scoped>\n",
       "    .dataframe tbody tr th:only-of-type {\n",
       "        vertical-align: middle;\n",
       "    }\n",
       "\n",
       "    .dataframe tbody tr th {\n",
       "        vertical-align: top;\n",
       "    }\n",
       "\n",
       "    .dataframe thead th {\n",
       "        text-align: right;\n",
       "    }\n",
       "</style>\n",
       "<table border=\"1\" class=\"dataframe\">\n",
       "  <thead>\n",
       "    <tr style=\"text-align: right;\">\n",
       "      <th></th>\n",
       "      <th>Average duration</th>\n",
       "    </tr>\n",
       "  </thead>\n",
       "  <tbody>\n",
       "    <tr>\n",
       "      <th>0</th>\n",
       "      <td>1107.949846</td>\n",
       "    </tr>\n",
       "  </tbody>\n",
       "</table>\n",
       "</div>"
      ],
      "text/plain": [
       "   Average duration\n",
       "0       1107.949846"
      ]
     },
     "execution_count": 15,
     "metadata": {},
     "output_type": "execute_result"
    }
   ],
   "source": [
    "# Aggregate Functions\n",
    "run_query(\"SELECT AVG(duration) AS 'Average duration' FROM trip;\")"
   ]
  },
  {
   "cell_type": "markdown",
   "id": "99806272",
   "metadata": {},
   "source": [
    "## GROUP BY"
   ]
  },
  {
   "cell_type": "code",
   "execution_count": 16,
   "id": "f0159e31",
   "metadata": {},
   "outputs": [
    {
     "data": {
      "text/html": [
       "<div>\n",
       "<style scoped>\n",
       "    .dataframe tbody tr th:only-of-type {\n",
       "        vertical-align: middle;\n",
       "    }\n",
       "\n",
       "    .dataframe tbody tr th {\n",
       "        vertical-align: top;\n",
       "    }\n",
       "\n",
       "    .dataframe thead th {\n",
       "        text-align: right;\n",
       "    }\n",
       "</style>\n",
       "<table border=\"1\" class=\"dataframe\">\n",
       "  <thead>\n",
       "    <tr style=\"text-align: right;\">\n",
       "      <th></th>\n",
       "      <th>subscription_type</th>\n",
       "      <th>Average Duration</th>\n",
       "    </tr>\n",
       "  </thead>\n",
       "  <tbody>\n",
       "    <tr>\n",
       "      <th>0</th>\n",
       "      <td>Customer</td>\n",
       "      <td>3951.761329</td>\n",
       "    </tr>\n",
       "    <tr>\n",
       "      <th>1</th>\n",
       "      <td>Subscriber</td>\n",
       "      <td>590.048856</td>\n",
       "    </tr>\n",
       "  </tbody>\n",
       "</table>\n",
       "</div>"
      ],
      "text/plain": [
       "  subscription_type  Average Duration\n",
       "0          Customer       3951.761329\n",
       "1        Subscriber        590.048856"
      ]
     },
     "execution_count": 16,
     "metadata": {},
     "output_type": "execute_result"
    }
   ],
   "source": [
    "query='''\n",
    "SELECT subscription_type, AVG(duration) AS 'Average Duration'\n",
    "FROM trip\n",
    "GROUP BY subscription_type;'''\n",
    "\n",
    "run_query(query)"
   ]
  },
  {
   "cell_type": "markdown",
   "id": "52543304",
   "metadata": {},
   "source": [
    "## JOIN"
   ]
  },
  {
   "cell_type": "code",
   "execution_count": 18,
   "id": "98d8578f",
   "metadata": {},
   "outputs": [
    {
     "data": {
      "text/html": [
       "<div>\n",
       "<style scoped>\n",
       "    .dataframe tbody tr th:only-of-type {\n",
       "        vertical-align: middle;\n",
       "    }\n",
       "\n",
       "    .dataframe tbody tr th {\n",
       "        vertical-align: top;\n",
       "    }\n",
       "\n",
       "    .dataframe thead th {\n",
       "        text-align: right;\n",
       "    }\n",
       "</style>\n",
       "<table border=\"1\" class=\"dataframe\">\n",
       "  <thead>\n",
       "    <tr style=\"text-align: right;\">\n",
       "      <th></th>\n",
       "      <th>City</th>\n",
       "      <th>Count</th>\n",
       "    </tr>\n",
       "  </thead>\n",
       "  <tbody>\n",
       "    <tr>\n",
       "      <th>0</th>\n",
       "      <td>San Francisco</td>\n",
       "      <td>592456</td>\n",
       "    </tr>\n",
       "    <tr>\n",
       "      <th>1</th>\n",
       "      <td>San Jose</td>\n",
       "      <td>37855</td>\n",
       "    </tr>\n",
       "    <tr>\n",
       "      <th>2</th>\n",
       "      <td>Mountain View</td>\n",
       "      <td>18167</td>\n",
       "    </tr>\n",
       "    <tr>\n",
       "      <th>3</th>\n",
       "      <td>Palo Alto</td>\n",
       "      <td>6773</td>\n",
       "    </tr>\n",
       "    <tr>\n",
       "      <th>4</th>\n",
       "      <td>Redwood City</td>\n",
       "      <td>3366</td>\n",
       "    </tr>\n",
       "  </tbody>\n",
       "</table>\n",
       "</div>"
      ],
      "text/plain": [
       "            City   Count\n",
       "0  San Francisco  592456\n",
       "1       San Jose   37855\n",
       "2  Mountain View   18167\n",
       "3      Palo Alto    6773\n",
       "4   Redwood City    3366"
      ]
     },
     "execution_count": 18,
     "metadata": {},
     "output_type": "execute_result"
    }
   ],
   "source": [
    "query='''\n",
    "SELECT station.city AS \"City\", COUNT(*) AS \"Count\"\n",
    "FROM trip\n",
    "INNER JOIN station\n",
    "ON trip.start_station_name = station.name\n",
    "GROUP BY station.city\n",
    "ORDER BY Count DESC;'''\n",
    "\n",
    "run_query(query)"
   ]
  },
  {
   "cell_type": "code",
   "execution_count": 20,
   "id": "1722635c",
   "metadata": {},
   "outputs": [
    {
     "data": {
      "text/html": [
       "<div>\n",
       "<style scoped>\n",
       "    .dataframe tbody tr th:only-of-type {\n",
       "        vertical-align: middle;\n",
       "    }\n",
       "\n",
       "    .dataframe tbody tr th {\n",
       "        vertical-align: top;\n",
       "    }\n",
       "\n",
       "    .dataframe thead th {\n",
       "        text-align: right;\n",
       "    }\n",
       "</style>\n",
       "<table border=\"1\" class=\"dataframe\">\n",
       "  <thead>\n",
       "    <tr style=\"text-align: right;\">\n",
       "      <th></th>\n",
       "      <th>Start city</th>\n",
       "      <th>End city</th>\n",
       "      <th>duration</th>\n",
       "    </tr>\n",
       "  </thead>\n",
       "  <tbody>\n",
       "    <tr>\n",
       "      <th>0</th>\n",
       "      <td>Palo Alto</td>\n",
       "      <td>Mountain View</td>\n",
       "      <td>611240</td>\n",
       "    </tr>\n",
       "  </tbody>\n",
       "</table>\n",
       "</div>"
      ],
      "text/plain": [
       "  Start city       End city  duration\n",
       "0  Palo Alto  Mountain View    611240"
      ]
     },
     "execution_count": 20,
     "metadata": {},
     "output_type": "execute_result"
    }
   ],
   "source": [
    "query = '''\n",
    "SELECT start.city AS \"Start city\", end.city AS \"End city\", trip.duration\n",
    "FROM trip\n",
    "INNER JOIN station AS start\n",
    "ON trip.start_station_name = start.name\n",
    "INNER JOIN station as end\n",
    "ON trip.end_station_name = end.name\n",
    "WHERE start.city != end.city\n",
    "ORDER BY duration DESC\n",
    "LIMIT 1;'''\n",
    "\n",
    "run_query(query)"
   ]
  },
  {
   "cell_type": "markdown",
   "id": "27be59b4",
   "metadata": {},
   "source": [
    "# 05. Exercise: SQL queries"
   ]
  },
  {
   "cell_type": "code",
   "execution_count": 24,
   "id": "e3b12623",
   "metadata": {},
   "outputs": [
    {
     "data": {
      "text/html": [
       "<div>\n",
       "<style scoped>\n",
       "    .dataframe tbody tr th:only-of-type {\n",
       "        vertical-align: middle;\n",
       "    }\n",
       "\n",
       "    .dataframe tbody tr th {\n",
       "        vertical-align: top;\n",
       "    }\n",
       "\n",
       "    .dataframe thead th {\n",
       "        text-align: right;\n",
       "    }\n",
       "</style>\n",
       "<table border=\"1\" class=\"dataframe\">\n",
       "  <thead>\n",
       "    <tr style=\"text-align: right;\">\n",
       "      <th></th>\n",
       "      <th>duration</th>\n",
       "    </tr>\n",
       "  </thead>\n",
       "  <tbody>\n",
       "    <tr>\n",
       "      <th>0</th>\n",
       "      <td>17270400</td>\n",
       "    </tr>\n",
       "  </tbody>\n",
       "</table>\n",
       "</div>"
      ],
      "text/plain": [
       "   duration\n",
       "0  17270400"
      ]
     },
     "execution_count": 24,
     "metadata": {},
     "output_type": "execute_result"
    }
   ],
   "source": [
    "#1\n",
    "run_query(\"SELECT duration FROM trip ORDER BY duration DESC LIMIT 1;\")"
   ]
  },
  {
   "cell_type": "code",
   "execution_count": 37,
   "id": "c711e4ac",
   "metadata": {},
   "outputs": [
    {
     "data": {
      "text/html": [
       "<div>\n",
       "<style scoped>\n",
       "    .dataframe tbody tr th:only-of-type {\n",
       "        vertical-align: middle;\n",
       "    }\n",
       "\n",
       "    .dataframe tbody tr th {\n",
       "        vertical-align: top;\n",
       "    }\n",
       "\n",
       "    .dataframe thead th {\n",
       "        text-align: right;\n",
       "    }\n",
       "</style>\n",
       "<table border=\"1\" class=\"dataframe\">\n",
       "  <thead>\n",
       "    <tr style=\"text-align: right;\">\n",
       "      <th></th>\n",
       "      <th>end_station_name</th>\n",
       "      <th>number_trips</th>\n",
       "    </tr>\n",
       "  </thead>\n",
       "  <tbody>\n",
       "    <tr>\n",
       "      <th>0</th>\n",
       "      <td>2nd at South Park</td>\n",
       "      <td>16843</td>\n",
       "    </tr>\n",
       "  </tbody>\n",
       "</table>\n",
       "</div>"
      ],
      "text/plain": [
       "    end_station_name  number_trips\n",
       "0  2nd at South Park         16843"
      ]
     },
     "execution_count": 37,
     "metadata": {},
     "output_type": "execute_result"
    }
   ],
   "source": [
    "# 2\n",
    "query= '''\n",
    "SELECT end_station_name, COUNT(*) AS number_trips \n",
    "FROM trip\n",
    "WHERE end_station_name == \"2nd at South Park\";\n",
    "'''\n",
    "\n",
    "run_query(query)"
   ]
  },
  {
   "cell_type": "code",
   "execution_count": 38,
   "id": "d51560cd",
   "metadata": {},
   "outputs": [
    {
     "data": {
      "text/html": [
       "<div>\n",
       "<style scoped>\n",
       "    .dataframe tbody tr th:only-of-type {\n",
       "        vertical-align: middle;\n",
       "    }\n",
       "\n",
       "    .dataframe tbody tr th {\n",
       "        vertical-align: top;\n",
       "    }\n",
       "\n",
       "    .dataframe thead th {\n",
       "        text-align: right;\n",
       "    }\n",
       "</style>\n",
       "<table border=\"1\" class=\"dataframe\">\n",
       "  <thead>\n",
       "    <tr style=\"text-align: right;\">\n",
       "      <th></th>\n",
       "      <th>btw_1000_2000</th>\n",
       "    </tr>\n",
       "  </thead>\n",
       "  <tbody>\n",
       "    <tr>\n",
       "      <th>0</th>\n",
       "      <td>56909</td>\n",
       "    </tr>\n",
       "  </tbody>\n",
       "</table>\n",
       "</div>"
      ],
      "text/plain": [
       "   btw_1000_2000\n",
       "0          56909"
      ]
     },
     "execution_count": 38,
     "metadata": {},
     "output_type": "execute_result"
    }
   ],
   "source": [
    "# 3\n",
    "query= '''\n",
    "SELECT COUNT(*) AS btw_1000_2000\n",
    "FROM trip\n",
    "WHERE duration BETWEEN 1000 AND 2000;\n",
    "'''\n",
    "\n",
    "run_query(query)"
   ]
  },
  {
   "cell_type": "code",
   "execution_count": 45,
   "id": "67067326",
   "metadata": {},
   "outputs": [
    {
     "data": {
      "text/html": [
       "<div>\n",
       "<style scoped>\n",
       "    .dataframe tbody tr th:only-of-type {\n",
       "        vertical-align: middle;\n",
       "    }\n",
       "\n",
       "    .dataframe tbody tr th {\n",
       "        vertical-align: top;\n",
       "    }\n",
       "\n",
       "    .dataframe thead th {\n",
       "        text-align: right;\n",
       "    }\n",
       "</style>\n",
       "<table border=\"1\" class=\"dataframe\">\n",
       "  <thead>\n",
       "    <tr style=\"text-align: right;\">\n",
       "      <th></th>\n",
       "      <th>Bike</th>\n",
       "      <th>Number of trips</th>\n",
       "    </tr>\n",
       "  </thead>\n",
       "  <tbody>\n",
       "    <tr>\n",
       "      <th>0</th>\n",
       "      <td>392</td>\n",
       "      <td>2061</td>\n",
       "    </tr>\n",
       "  </tbody>\n",
       "</table>\n",
       "</div>"
      ],
      "text/plain": [
       "   Bike  Number of trips\n",
       "0   392             2061"
      ]
     },
     "execution_count": 45,
     "metadata": {},
     "output_type": "execute_result"
    }
   ],
   "source": [
    "# 4\n",
    "query='''\n",
    "SELECT bike_id AS 'Bike', COUNT(*) AS 'Number of trips'\n",
    "FROM trip\n",
    "GROUP BY bike_id\n",
    "ORDER BY COUNT(*) DESC\n",
    "LIMIT 1;\n",
    "'''\n",
    "\n",
    "run_query(query)"
   ]
  },
  {
   "cell_type": "code",
   "execution_count": 47,
   "id": "e348b6e4",
   "metadata": {},
   "outputs": [
    {
     "data": {
      "text/html": [
       "<div>\n",
       "<style scoped>\n",
       "    .dataframe tbody tr th:only-of-type {\n",
       "        vertical-align: middle;\n",
       "    }\n",
       "\n",
       "    .dataframe tbody tr th {\n",
       "        vertical-align: top;\n",
       "    }\n",
       "\n",
       "    .dataframe thead th {\n",
       "        text-align: right;\n",
       "    }\n",
       "</style>\n",
       "<table border=\"1\" class=\"dataframe\">\n",
       "  <thead>\n",
       "    <tr style=\"text-align: right;\">\n",
       "      <th></th>\n",
       "      <th>Station</th>\n",
       "      <th>Number of trips</th>\n",
       "    </tr>\n",
       "  </thead>\n",
       "  <tbody>\n",
       "    <tr>\n",
       "      <th>0</th>\n",
       "      <td>Embarcadero at Sansome</td>\n",
       "      <td>2092</td>\n",
       "    </tr>\n",
       "    <tr>\n",
       "      <th>1</th>\n",
       "      <td>Harry Bridges Plaza (Ferry Building)</td>\n",
       "      <td>1733</td>\n",
       "    </tr>\n",
       "    <tr>\n",
       "      <th>2</th>\n",
       "      <td>University and Emerson</td>\n",
       "      <td>894</td>\n",
       "    </tr>\n",
       "    <tr>\n",
       "      <th>3</th>\n",
       "      <td>Market at 4th</td>\n",
       "      <td>724</td>\n",
       "    </tr>\n",
       "    <tr>\n",
       "      <th>4</th>\n",
       "      <td>2nd at Townsend</td>\n",
       "      <td>683</td>\n",
       "    </tr>\n",
       "  </tbody>\n",
       "</table>\n",
       "</div>"
      ],
      "text/plain": [
       "                                Station  Number of trips\n",
       "0                Embarcadero at Sansome             2092\n",
       "1  Harry Bridges Plaza (Ferry Building)             1733\n",
       "2                University and Emerson              894\n",
       "3                         Market at 4th              724\n",
       "4                       2nd at Townsend              683"
      ]
     },
     "execution_count": 47,
     "metadata": {},
     "output_type": "execute_result"
    }
   ],
   "source": [
    "# 5\n",
    "query='''\n",
    "SELECT start_station_name AS Station, COUNT(*) AS 'Number of trips'\n",
    "FROM trip\n",
    "WHERE start_station_name == end_station_name\n",
    "GROUP BY start_station_name\n",
    "ORDER BY COUNT(*) DESC\n",
    "LIMIT 5;\n",
    "'''\n",
    "\n",
    "run_query(query)\n"
   ]
  },
  {
   "cell_type": "markdown",
   "id": "bc96a65f",
   "metadata": {},
   "source": [
    "# 06. Creating and modifying databases"
   ]
  },
  {
   "cell_type": "code",
   "execution_count": 48,
   "id": "b15309f2",
   "metadata": {},
   "outputs": [],
   "source": [
    "# create empty database\n",
    "db = sqlite3.connect(\"my_database.db\")"
   ]
  },
  {
   "cell_type": "code",
   "execution_count": 49,
   "id": "e933330f",
   "metadata": {},
   "outputs": [
    {
     "data": {
      "text/plain": [
       "<sqlite3.Cursor at 0x7fe47b476ce0>"
      ]
     },
     "execution_count": 49,
     "metadata": {},
     "output_type": "execute_result"
    }
   ],
   "source": [
    "# Create tables with names of table, names of columns and data type\n",
    "query = 'CREATE TABLE customer (id INTEGER PRIMARY KEY, first_name TEXT, last_name TEXT, age INTEGER);'\n",
    "\n",
    "#Create a cursor object\n",
    "cursor = db.cursor()\n"
   ]
  },
  {
   "cell_type": "code",
   "execution_count": 50,
   "id": "16213a99",
   "metadata": {},
   "outputs": [
    {
     "data": {
      "text/plain": [
       "<sqlite3.Cursor at 0x7fe47b476ce0>"
      ]
     },
     "execution_count": 50,
     "metadata": {},
     "output_type": "execute_result"
    }
   ],
   "source": [
    "# Query our table\n",
    "cursor.execute(\"SELECT name FROM sqlite_master WHERE type='table';\")"
   ]
  },
  {
   "cell_type": "code",
   "execution_count": 51,
   "id": "a9812f4d",
   "metadata": {},
   "outputs": [
    {
     "name": "stdout",
     "output_type": "stream",
     "text": [
      "[('customer',)]\n"
     ]
    }
   ],
   "source": [
    "results = cursor.fetchall()\n",
    "print(results)"
   ]
  },
  {
   "cell_type": "markdown",
   "id": "0f34f3b8",
   "metadata": {},
   "source": [
    "## Adding rows"
   ]
  },
  {
   "cell_type": "code",
   "execution_count": 56,
   "id": "4c697079",
   "metadata": {},
   "outputs": [],
   "source": [
    "query = \"INSERT INTO customer VALUES (701, 'Mackenzie', 'Fox', 35)\"\n",
    "db.commit()"
   ]
  },
  {
   "cell_type": "code",
   "execution_count": 57,
   "id": "8fda2084",
   "metadata": {},
   "outputs": [
    {
     "name": "stdout",
     "output_type": "stream",
     "text": [
      "[(701, 'Mackenzie', 'Fox', 35)]\n"
     ]
    }
   ],
   "source": [
    "cursor.execute(\"SELECT * FROM customer;\")\n",
    "results = cursor.fetchall()\n",
    "print(results)"
   ]
  },
  {
   "cell_type": "markdown",
   "id": "bfc472ee",
   "metadata": {},
   "source": [
    "## Adding columns"
   ]
  },
  {
   "cell_type": "code",
   "execution_count": 58,
   "id": "e3ee8be6",
   "metadata": {},
   "outputs": [],
   "source": [
    "cursor.execute(\"ALTER TABLE customer ADD COLUMN city TEXT DEFAULT 'Geneva';\")\n",
    "db.commit()"
   ]
  },
  {
   "cell_type": "code",
   "execution_count": 59,
   "id": "d5c6aea3",
   "metadata": {},
   "outputs": [
    {
     "name": "stdout",
     "output_type": "stream",
     "text": [
      "[(701, 'Mackenzie', 'Fox', 35, 'Geneva')]\n"
     ]
    }
   ],
   "source": [
    "cursor.execute(\"SELECT * FROM customer;\")\n",
    "results = cursor.fetchall()\n",
    "print(results)"
   ]
  },
  {
   "cell_type": "markdown",
   "id": "671a37b3",
   "metadata": {},
   "source": [
    "## Adding data from a pandas DataFrame"
   ]
  },
  {
   "cell_type": "code",
   "execution_count": 61,
   "id": "5f981a01",
   "metadata": {},
   "outputs": [],
   "source": [
    "# creating dataframe\n",
    "df2 = pd.DataFrame([[702, 'Emily', 'Joy', '49', 'Geneva']],\n",
    "                  columns = ['id', 'first_name', 'last_name', 'age', 'city'])"
   ]
  },
  {
   "cell_type": "code",
   "execution_count": 62,
   "id": "e2a78c0d",
   "metadata": {},
   "outputs": [],
   "source": [
    "# adding the row in our database\n",
    "df2.to_sql(name='customer', con=db, if_exists='append', index=False)\n"
   ]
  },
  {
   "cell_type": "code",
   "execution_count": 63,
   "id": "a6628928",
   "metadata": {},
   "outputs": [
    {
     "name": "stdout",
     "output_type": "stream",
     "text": [
      "[(701, 'Mackenzie', 'Fox', 35, 'Geneva'), (702, 'Emily', 'Joy', 49, 'Geneva')]\n"
     ]
    }
   ],
   "source": [
    "cursor.execute(\"SELECT * FROM customer;\")\n",
    "results = cursor.fetchall()\n",
    "print(results)"
   ]
  },
  {
   "cell_type": "markdown",
   "id": "8898d1a0",
   "metadata": {},
   "source": [
    "## Updating rows"
   ]
  },
  {
   "cell_type": "code",
   "execution_count": 64,
   "id": "17e2db45",
   "metadata": {},
   "outputs": [],
   "source": [
    "update = '''\n",
    "UPDATE customer\n",
    "SET city=\"Zurich\"\n",
    "WHERE id=702;\n",
    "'''"
   ]
  },
  {
   "cell_type": "code",
   "execution_count": 65,
   "id": "968bd0cf",
   "metadata": {},
   "outputs": [],
   "source": [
    "# execute the update\n",
    "cursor.execute(update)\n",
    "db.commit()"
   ]
  },
  {
   "cell_type": "code",
   "execution_count": 67,
   "id": "17441e28",
   "metadata": {},
   "outputs": [
    {
     "name": "stdout",
     "output_type": "stream",
     "text": [
      "[(701, 'Mackenzie', 'Fox', 35, 'Geneva'), (702, 'Emily', 'Joy', 49, 'Zurich')]\n"
     ]
    }
   ],
   "source": [
    "cursor.execute(\"SELECT * FROM customer;\")\n",
    "results = cursor.fetchall()\n",
    "print(results)"
   ]
  },
  {
   "cell_type": "markdown",
   "id": "8234c770",
   "metadata": {},
   "source": [
    "## Deleting rows"
   ]
  },
  {
   "cell_type": "code",
   "execution_count": 68,
   "id": "1cd231d5",
   "metadata": {},
   "outputs": [],
   "source": [
    "delete = '''\n",
    "DELETE FROM customer\n",
    "WHERE id=702;'''\n",
    "\n",
    "cursor.execute(delete)\n",
    "db.commit()"
   ]
  },
  {
   "cell_type": "code",
   "execution_count": 69,
   "id": "a3a7acb8",
   "metadata": {},
   "outputs": [
    {
     "name": "stdout",
     "output_type": "stream",
     "text": [
      "[(701, 'Mackenzie', 'Fox', 35, 'Geneva')]\n"
     ]
    }
   ],
   "source": [
    "cursor.execute(\"SELECT * FROM customer;\")\n",
    "results = cursor.fetchall()\n",
    "print(results)"
   ]
  },
  {
   "cell_type": "markdown",
   "id": "15ef859e",
   "metadata": {},
   "source": [
    "## Creating a database from a CSV file"
   ]
  },
  {
   "cell_type": "code",
   "execution_count": 70,
   "id": "9daf25fb",
   "metadata": {},
   "outputs": [],
   "source": [
    "# loading a csv file into a database is more efficient and faster\n",
    "#create the database\n",
    "db = sqlite3.connect('songs.db')\n",
    "cursor = db.cursor()"
   ]
  },
  {
   "cell_type": "code",
   "execution_count": 71,
   "id": "2809ed3f",
   "metadata": {},
   "outputs": [
    {
     "name": "stdout",
     "output_type": "stream",
     "text": [
      "Stairway to Heaven\n",
      "Black Dog\n",
      "All My Love\n",
      "Rebel Rebel\n",
      "Golden Years\n"
     ]
    }
   ],
   "source": [
    "# loading by chungs is more efficient for big data\n",
    "for chunk in pd.read_csv(\"songs.csv\", chunksize=4):\n",
    "    chunk.to_sql(name=\"data\", con=db, if_exists=\"append\", index = False)\n",
    "    print(chunk.iloc[0,2])"
   ]
  },
  {
   "cell_type": "code",
   "execution_count": 72,
   "id": "1be7f43d",
   "metadata": {},
   "outputs": [
    {
     "data": {
      "text/html": [
       "<div>\n",
       "<style scoped>\n",
       "    .dataframe tbody tr th:only-of-type {\n",
       "        vertical-align: middle;\n",
       "    }\n",
       "\n",
       "    .dataframe tbody tr th {\n",
       "        vertical-align: top;\n",
       "    }\n",
       "\n",
       "    .dataframe thead th {\n",
       "        text-align: right;\n",
       "    }\n",
       "</style>\n",
       "<table border=\"1\" class=\"dataframe\">\n",
       "  <thead>\n",
       "    <tr style=\"text-align: right;\">\n",
       "      <th></th>\n",
       "      <th>Musician</th>\n",
       "      <th>Genre</th>\n",
       "      <th>Name</th>\n",
       "      <th>Decade</th>\n",
       "      <th>Minutes</th>\n",
       "    </tr>\n",
       "  </thead>\n",
       "  <tbody>\n",
       "    <tr>\n",
       "      <th>0</th>\n",
       "      <td>Led Zeppelin</td>\n",
       "      <td>hard rock</td>\n",
       "      <td>Stairway to Heaven</td>\n",
       "      <td>70</td>\n",
       "      <td>08:02</td>\n",
       "    </tr>\n",
       "    <tr>\n",
       "      <th>1</th>\n",
       "      <td>Led Zeppelin</td>\n",
       "      <td>hard rock</td>\n",
       "      <td>Kashmir</td>\n",
       "      <td>70</td>\n",
       "      <td>08:37</td>\n",
       "    </tr>\n",
       "    <tr>\n",
       "      <th>2</th>\n",
       "      <td>Led Zeppelin</td>\n",
       "      <td>hard rock</td>\n",
       "      <td>Immigrant Song</td>\n",
       "      <td>70</td>\n",
       "      <td>02:26</td>\n",
       "    </tr>\n",
       "    <tr>\n",
       "      <th>3</th>\n",
       "      <td>Led Zeppelin</td>\n",
       "      <td>hard rock</td>\n",
       "      <td>Whole Lotta Love</td>\n",
       "      <td>60</td>\n",
       "      <td>05:33</td>\n",
       "    </tr>\n",
       "    <tr>\n",
       "      <th>4</th>\n",
       "      <td>Led Zeppelin</td>\n",
       "      <td>hard rock</td>\n",
       "      <td>Black Dog</td>\n",
       "      <td>70</td>\n",
       "      <td>04:55</td>\n",
       "    </tr>\n",
       "    <tr>\n",
       "      <th>5</th>\n",
       "      <td>Led Zeppelin</td>\n",
       "      <td>hard rock</td>\n",
       "      <td>Good Times Bad Times</td>\n",
       "      <td>60</td>\n",
       "      <td>02:43</td>\n",
       "    </tr>\n",
       "    <tr>\n",
       "      <th>6</th>\n",
       "      <td>Led Zeppelin</td>\n",
       "      <td>hard rock</td>\n",
       "      <td>Moby Dick</td>\n",
       "      <td>60</td>\n",
       "      <td>04:25</td>\n",
       "    </tr>\n",
       "    <tr>\n",
       "      <th>7</th>\n",
       "      <td>Led Zeppelin</td>\n",
       "      <td>hard rock</td>\n",
       "      <td>Ramble On</td>\n",
       "      <td>60</td>\n",
       "      <td>04:35</td>\n",
       "    </tr>\n",
       "    <tr>\n",
       "      <th>8</th>\n",
       "      <td>Led Zeppelin</td>\n",
       "      <td>hard rock</td>\n",
       "      <td>All My Love</td>\n",
       "      <td>70</td>\n",
       "      <td>05:53</td>\n",
       "    </tr>\n",
       "    <tr>\n",
       "      <th>9</th>\n",
       "      <td>Led Zeppelin</td>\n",
       "      <td>hard rock</td>\n",
       "      <td>The Song Remains the Same</td>\n",
       "      <td>70</td>\n",
       "      <td>05:24</td>\n",
       "    </tr>\n",
       "    <tr>\n",
       "      <th>10</th>\n",
       "      <td>Led Zeppelin</td>\n",
       "      <td>hard rock</td>\n",
       "      <td>I Can't Quit You Baby</td>\n",
       "      <td>60</td>\n",
       "      <td>04:42</td>\n",
       "    </tr>\n",
       "    <tr>\n",
       "      <th>11</th>\n",
       "      <td>David Bowie</td>\n",
       "      <td>pop rock</td>\n",
       "      <td>Space Oddity</td>\n",
       "      <td>60</td>\n",
       "      <td>05:15</td>\n",
       "    </tr>\n",
       "    <tr>\n",
       "      <th>12</th>\n",
       "      <td>David Bowie</td>\n",
       "      <td>pop rock</td>\n",
       "      <td>Rebel Rebel</td>\n",
       "      <td>70</td>\n",
       "      <td>04:22</td>\n",
       "    </tr>\n",
       "    <tr>\n",
       "      <th>13</th>\n",
       "      <td>David Bowie</td>\n",
       "      <td>pop rock</td>\n",
       "      <td>Under Pressure</td>\n",
       "      <td>80</td>\n",
       "      <td>04:08</td>\n",
       "    </tr>\n",
       "    <tr>\n",
       "      <th>14</th>\n",
       "      <td>David Bowie</td>\n",
       "      <td>pop rock</td>\n",
       "      <td>China Girl</td>\n",
       "      <td>70</td>\n",
       "      <td>05:08</td>\n",
       "    </tr>\n",
       "    <tr>\n",
       "      <th>15</th>\n",
       "      <td>David Bowie</td>\n",
       "      <td>pop rock</td>\n",
       "      <td>I'm Afraid of Americans</td>\n",
       "      <td>90</td>\n",
       "      <td>05:00</td>\n",
       "    </tr>\n",
       "    <tr>\n",
       "      <th>16</th>\n",
       "      <td>David Bowie</td>\n",
       "      <td>pop rock</td>\n",
       "      <td>Golden Years</td>\n",
       "      <td>70</td>\n",
       "      <td>04:00</td>\n",
       "    </tr>\n",
       "    <tr>\n",
       "      <th>17</th>\n",
       "      <td>Bob Dylan</td>\n",
       "      <td>folk rock</td>\n",
       "      <td>Like a Rolling Stone</td>\n",
       "      <td>60</td>\n",
       "      <td>06:13</td>\n",
       "    </tr>\n",
       "    <tr>\n",
       "      <th>18</th>\n",
       "      <td>Bob Dylan</td>\n",
       "      <td>folk rock</td>\n",
       "      <td>Blowin' in the Wind</td>\n",
       "      <td>60</td>\n",
       "      <td>02:48</td>\n",
       "    </tr>\n",
       "    <tr>\n",
       "      <th>19</th>\n",
       "      <td>Bob Dylan</td>\n",
       "      <td>folk rock</td>\n",
       "      <td>Tangled Up in Blue</td>\n",
       "      <td>70</td>\n",
       "      <td>05:42</td>\n",
       "    </tr>\n",
       "  </tbody>\n",
       "</table>\n",
       "</div>"
      ],
      "text/plain": [
       "        Musician       Genre                        Name  Decade Minutes\n",
       "0   Led Zeppelin   hard rock          Stairway to Heaven      70   08:02\n",
       "1   Led Zeppelin   hard rock                     Kashmir      70   08:37\n",
       "2   Led Zeppelin   hard rock              Immigrant Song      70   02:26\n",
       "3   Led Zeppelin   hard rock            Whole Lotta Love      60   05:33\n",
       "4   Led Zeppelin   hard rock                   Black Dog      70   04:55\n",
       "5   Led Zeppelin   hard rock        Good Times Bad Times      60   02:43\n",
       "6   Led Zeppelin   hard rock                   Moby Dick      60   04:25\n",
       "7   Led Zeppelin   hard rock                   Ramble On      60   04:35\n",
       "8   Led Zeppelin   hard rock                 All My Love      70   05:53\n",
       "9   Led Zeppelin   hard rock  The Song Remains the Same       70   05:24\n",
       "10  Led Zeppelin   hard rock       I Can't Quit You Baby      60   04:42\n",
       "11   David Bowie    pop rock                Space Oddity      60   05:15\n",
       "12   David Bowie    pop rock                 Rebel Rebel      70   04:22\n",
       "13   David Bowie    pop rock              Under Pressure      80   04:08\n",
       "14   David Bowie    pop rock                  China Girl      70   05:08\n",
       "15   David Bowie    pop rock     I'm Afraid of Americans      90   05:00\n",
       "16   David Bowie    pop rock                Golden Years      70   04:00\n",
       "17     Bob Dylan  folk rock         Like a Rolling Stone      60   06:13\n",
       "18     Bob Dylan  folk rock          Blowin' in the Wind      60   02:48\n",
       "19     Bob Dylan  folk rock           Tangled Up in Blue      70   05:42"
      ]
     },
     "execution_count": 72,
     "metadata": {},
     "output_type": "execute_result"
    }
   ],
   "source": [
    "pd.read_sql_query('SELECT * FROM data;', db)"
   ]
  },
  {
   "cell_type": "markdown",
   "id": "79b9ac47",
   "metadata": {},
   "source": [
    "# 07. Exercise: the Consumer Finance Complaints data\n",
    "\n",
    "### Task 1"
   ]
  },
  {
   "cell_type": "code",
   "execution_count": 80,
   "id": "d3357661",
   "metadata": {},
   "outputs": [],
   "source": [
    "db = sqlite3.connect('consumer_complaints.db')\n",
    "cursor = db.cursor()"
   ]
  },
  {
   "cell_type": "code",
   "execution_count": 5,
   "id": "53bbe209",
   "metadata": {},
   "outputs": [],
   "source": [
    "# loading by chungs is more efficient for big data\n",
    "for chunk in pd.read_csv(\"consumer_complaints.csv\", chunksize=500):\n",
    "    chunk.to_sql(name=\"complaints\", con=db, if_exists=\"append\", index = False)"
   ]
  },
  {
   "cell_type": "code",
   "execution_count": 6,
   "id": "3cc710b5",
   "metadata": {},
   "outputs": [
    {
     "data": {
      "text/html": [
       "<div>\n",
       "<style scoped>\n",
       "    .dataframe tbody tr th:only-of-type {\n",
       "        vertical-align: middle;\n",
       "    }\n",
       "\n",
       "    .dataframe tbody tr th {\n",
       "        vertical-align: top;\n",
       "    }\n",
       "\n",
       "    .dataframe thead th {\n",
       "        text-align: right;\n",
       "    }\n",
       "</style>\n",
       "<table border=\"1\" class=\"dataframe\">\n",
       "  <thead>\n",
       "    <tr style=\"text-align: right;\">\n",
       "      <th></th>\n",
       "      <th>COUNT(*)</th>\n",
       "    </tr>\n",
       "  </thead>\n",
       "  <tbody>\n",
       "    <tr>\n",
       "      <th>0</th>\n",
       "      <td>65499</td>\n",
       "    </tr>\n",
       "  </tbody>\n",
       "</table>\n",
       "</div>"
      ],
      "text/plain": [
       "   COUNT(*)\n",
       "0     65499"
      ]
     },
     "execution_count": 6,
     "metadata": {},
     "output_type": "execute_result"
    }
   ],
   "source": [
    "run_query(\"SELECT COUNT(*) FROM complaints\")"
   ]
  },
  {
   "cell_type": "markdown",
   "id": "70bd8df9",
   "metadata": {},
   "source": [
    "### Task 2"
   ]
  },
  {
   "cell_type": "code",
   "execution_count": 21,
   "id": "7f1ec622",
   "metadata": {},
   "outputs": [
    {
     "data": {
      "text/html": [
       "<div>\n",
       "<style scoped>\n",
       "    .dataframe tbody tr th:only-of-type {\n",
       "        vertical-align: middle;\n",
       "    }\n",
       "\n",
       "    .dataframe tbody tr th {\n",
       "        vertical-align: top;\n",
       "    }\n",
       "\n",
       "    .dataframe thead th {\n",
       "        text-align: right;\n",
       "    }\n",
       "</style>\n",
       "<table border=\"1\" class=\"dataframe\">\n",
       "  <thead>\n",
       "    <tr style=\"text-align: right;\">\n",
       "      <th></th>\n",
       "      <th>Method</th>\n",
       "      <th>Number</th>\n",
       "    </tr>\n",
       "  </thead>\n",
       "  <tbody>\n",
       "    <tr>\n",
       "      <th>0</th>\n",
       "      <td>Web</td>\n",
       "      <td>43947</td>\n",
       "    </tr>\n",
       "    <tr>\n",
       "      <th>1</th>\n",
       "      <td>Referral</td>\n",
       "      <td>10587</td>\n",
       "    </tr>\n",
       "    <tr>\n",
       "      <th>2</th>\n",
       "      <td>Phone</td>\n",
       "      <td>4974</td>\n",
       "    </tr>\n",
       "    <tr>\n",
       "      <th>3</th>\n",
       "      <td>Postal mail</td>\n",
       "      <td>4894</td>\n",
       "    </tr>\n",
       "    <tr>\n",
       "      <th>4</th>\n",
       "      <td>Fax</td>\n",
       "      <td>1076</td>\n",
       "    </tr>\n",
       "    <tr>\n",
       "      <th>5</th>\n",
       "      <td>Email</td>\n",
       "      <td>21</td>\n",
       "    </tr>\n",
       "  </tbody>\n",
       "</table>\n",
       "</div>"
      ],
      "text/plain": [
       "        Method  Number\n",
       "0          Web   43947\n",
       "1     Referral   10587\n",
       "2        Phone    4974\n",
       "3  Postal mail    4894\n",
       "4          Fax    1076\n",
       "5        Email      21"
      ]
     },
     "execution_count": 21,
     "metadata": {},
     "output_type": "execute_result"
    }
   ],
   "source": [
    "query= '''\n",
    "SELECT submitted_via AS Method, COUNT(*) AS Number\n",
    "FROM complaints\n",
    "GROUP BY submitted_via\n",
    "ORDER BY COUNT(*) DESC\n",
    "'''\n",
    "\n",
    "run_query(query)"
   ]
  },
  {
   "cell_type": "markdown",
   "id": "f7cb6448",
   "metadata": {},
   "source": [
    "### Task 3"
   ]
  },
  {
   "cell_type": "code",
   "execution_count": 22,
   "id": "7f67ee44",
   "metadata": {},
   "outputs": [
    {
     "data": {
      "text/html": [
       "<div>\n",
       "<style scoped>\n",
       "    .dataframe tbody tr th:only-of-type {\n",
       "        vertical-align: middle;\n",
       "    }\n",
       "\n",
       "    .dataframe tbody tr th {\n",
       "        vertical-align: top;\n",
       "    }\n",
       "\n",
       "    .dataframe thead th {\n",
       "        text-align: right;\n",
       "    }\n",
       "</style>\n",
       "<table border=\"1\" class=\"dataframe\">\n",
       "  <thead>\n",
       "    <tr style=\"text-align: right;\">\n",
       "      <th></th>\n",
       "      <th>Method</th>\n",
       "      <th>Number</th>\n",
       "      <th>Total</th>\n",
       "    </tr>\n",
       "  </thead>\n",
       "  <tbody>\n",
       "    <tr>\n",
       "      <th>0</th>\n",
       "      <td>Web</td>\n",
       "      <td>43947</td>\n",
       "      <td>65499</td>\n",
       "    </tr>\n",
       "    <tr>\n",
       "      <th>1</th>\n",
       "      <td>Referral</td>\n",
       "      <td>10587</td>\n",
       "      <td>65499</td>\n",
       "    </tr>\n",
       "    <tr>\n",
       "      <th>2</th>\n",
       "      <td>Phone</td>\n",
       "      <td>4974</td>\n",
       "      <td>65499</td>\n",
       "    </tr>\n",
       "    <tr>\n",
       "      <th>3</th>\n",
       "      <td>Postal mail</td>\n",
       "      <td>4894</td>\n",
       "      <td>65499</td>\n",
       "    </tr>\n",
       "    <tr>\n",
       "      <th>4</th>\n",
       "      <td>Fax</td>\n",
       "      <td>1076</td>\n",
       "      <td>65499</td>\n",
       "    </tr>\n",
       "    <tr>\n",
       "      <th>5</th>\n",
       "      <td>Email</td>\n",
       "      <td>21</td>\n",
       "      <td>65499</td>\n",
       "    </tr>\n",
       "  </tbody>\n",
       "</table>\n",
       "</div>"
      ],
      "text/plain": [
       "        Method  Number  Total\n",
       "0          Web   43947  65499\n",
       "1     Referral   10587  65499\n",
       "2        Phone    4974  65499\n",
       "3  Postal mail    4894  65499\n",
       "4          Fax    1076  65499\n",
       "5        Email      21  65499"
      ]
     },
     "execution_count": 22,
     "metadata": {},
     "output_type": "execute_result"
    }
   ],
   "source": [
    "query= '''\n",
    "SELECT submitted_via AS Method, COUNT(*) AS Number,\n",
    "(SELECT COUNT(*) FROM complaints) AS Total\n",
    "FROM complaints\n",
    "GROUP BY submitted_via\n",
    "ORDER BY COUNT(*) DESC\n",
    "'''\n",
    "\n",
    "run_query(query)"
   ]
  },
  {
   "cell_type": "markdown",
   "id": "5dee6c18",
   "metadata": {},
   "source": [
    "#### Task 4"
   ]
  },
  {
   "cell_type": "code",
   "execution_count": 39,
   "id": "4db2b214",
   "metadata": {},
   "outputs": [
    {
     "data": {
      "text/html": [
       "<div>\n",
       "<style scoped>\n",
       "    .dataframe tbody tr th:only-of-type {\n",
       "        vertical-align: middle;\n",
       "    }\n",
       "\n",
       "    .dataframe tbody tr th {\n",
       "        vertical-align: top;\n",
       "    }\n",
       "\n",
       "    .dataframe thead th {\n",
       "        text-align: right;\n",
       "    }\n",
       "</style>\n",
       "<table border=\"1\" class=\"dataframe\">\n",
       "  <thead>\n",
       "    <tr style=\"text-align: right;\">\n",
       "      <th></th>\n",
       "      <th>Method</th>\n",
       "      <th>Number</th>\n",
       "      <th>Total</th>\n",
       "      <th>Percent</th>\n",
       "    </tr>\n",
       "  </thead>\n",
       "  <tbody>\n",
       "    <tr>\n",
       "      <th>0</th>\n",
       "      <td>Web</td>\n",
       "      <td>43947</td>\n",
       "      <td>65499</td>\n",
       "      <td>67.095681</td>\n",
       "    </tr>\n",
       "    <tr>\n",
       "      <th>1</th>\n",
       "      <td>Referral</td>\n",
       "      <td>10587</td>\n",
       "      <td>65499</td>\n",
       "      <td>16.163606</td>\n",
       "    </tr>\n",
       "    <tr>\n",
       "      <th>2</th>\n",
       "      <td>Phone</td>\n",
       "      <td>4974</td>\n",
       "      <td>65499</td>\n",
       "      <td>7.594009</td>\n",
       "    </tr>\n",
       "    <tr>\n",
       "      <th>3</th>\n",
       "      <td>Postal mail</td>\n",
       "      <td>4894</td>\n",
       "      <td>65499</td>\n",
       "      <td>7.471870</td>\n",
       "    </tr>\n",
       "    <tr>\n",
       "      <th>4</th>\n",
       "      <td>Fax</td>\n",
       "      <td>1076</td>\n",
       "      <td>65499</td>\n",
       "      <td>1.642773</td>\n",
       "    </tr>\n",
       "    <tr>\n",
       "      <th>5</th>\n",
       "      <td>Email</td>\n",
       "      <td>21</td>\n",
       "      <td>65499</td>\n",
       "      <td>0.032062</td>\n",
       "    </tr>\n",
       "  </tbody>\n",
       "</table>\n",
       "</div>"
      ],
      "text/plain": [
       "        Method  Number  Total    Percent\n",
       "0          Web   43947  65499  67.095681\n",
       "1     Referral   10587  65499  16.163606\n",
       "2        Phone    4974  65499   7.594009\n",
       "3  Postal mail    4894  65499   7.471870\n",
       "4          Fax    1076  65499   1.642773\n",
       "5        Email      21  65499   0.032062"
      ]
     },
     "execution_count": 39,
     "metadata": {},
     "output_type": "execute_result"
    }
   ],
   "source": [
    "query= '''\n",
    "SELECT *, (CAST (sub.Number AS double precision)/CAST (sub.Total AS double precision))* 100 AS 'Percent'\n",
    "FROM (SELECT submitted_via AS Method, COUNT(*) AS Number,\n",
    "(SELECT COUNT(*) FROM complaints) AS Total\n",
    "FROM complaints\n",
    "GROUP BY submitted_via\n",
    "ORDER BY COUNT(*) DESC) sub;\n",
    "'''\n",
    "\n",
    "run_query(query)"
   ]
  },
  {
   "cell_type": "code",
   "execution_count": null,
   "id": "6192793c",
   "metadata": {},
   "outputs": [],
   "source": []
  }
 ],
 "metadata": {
  "kernelspec": {
   "display_name": "Python 3",
   "language": "python",
   "name": "python3"
  },
  "language_info": {
   "codemirror_mode": {
    "name": "ipython",
    "version": 3
   },
   "file_extension": ".py",
   "mimetype": "text/x-python",
   "name": "python",
   "nbconvert_exporter": "python",
   "pygments_lexer": "ipython3",
   "version": "3.6.13"
  }
 },
 "nbformat": 4,
 "nbformat_minor": 5
}
