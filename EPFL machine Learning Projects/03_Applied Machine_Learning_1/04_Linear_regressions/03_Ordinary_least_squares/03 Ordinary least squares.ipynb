{
 "cells": [
  {
   "cell_type": "markdown",
   "metadata": {},
   "source": [
    "Ordinary least squares\n",
    "---"
   ]
  },
  {
   "cell_type": "code",
   "execution_count": 1,
   "metadata": {},
   "outputs": [],
   "source": [
    "import pandas as pd\n",
    "\n",
    "# Load data\n",
    "data_df = pd.read_csv('marketing-campaign.csv')\n",
    "X = data_df.drop('sales', axis=1).values\n",
    "y = data_df.sales.values"
   ]
  },
  {
   "cell_type": "code",
   "execution_count": 2,
   "metadata": {},
   "outputs": [],
   "source": [
    "import numpy as np\n",
    "\n",
    "# Create X1 matrix\n",
    "X1 = np.c_[\n",
    "    np.ones(X.shape[0]), # Column of ones, shape: (n,)\n",
    "    X # Input matrix, shape: (n,p)\n",
    "]"
   ]
  },
  {
   "cell_type": "code",
   "execution_count": 3,
   "metadata": {},
   "outputs": [
    {
     "name": "stdout",
     "output_type": "stream",
     "text": [
      "w: [0.02487092 0.39465146 0.47037002 0.30669954]\n"
     ]
    }
   ],
   "source": [
    "# Compute OLS solution\n",
    "XX = np.matmul(X1.T, X1)\n",
    "Xy = np.matmul(X1.T, y)\n",
    "w = np.matmul(np.linalg.inv(XX), Xy)\n",
    "\n",
    "print('w:', w)"
   ]
  },
  {
   "cell_type": "code",
   "execution_count": 4,
   "metadata": {},
   "outputs": [
    {
     "name": "stdout",
     "output_type": "stream",
     "text": [
      "w: [0.02487092 0.39465146 0.47037002 0.30669954]\n"
     ]
    }
   ],
   "source": [
    "from scipy.linalg import lstsq\n",
    "\n",
    "# Verify with Scipy lstsq\n",
    "w, _, _, _ = lstsq(X1, y)\n",
    "\n",
    "print('w:', w)"
   ]
  },
  {
   "cell_type": "code",
   "execution_count": null,
   "metadata": {},
   "outputs": [],
   "source": []
  }
 ],
 "metadata": {
  "kernelspec": {
   "display_name": "Python 3",
   "language": "python",
   "name": "python3"
  },
  "language_info": {
   "codemirror_mode": {
    "name": "ipython",
    "version": 3
   },
   "file_extension": ".py",
   "mimetype": "text/x-python",
   "name": "python",
   "nbconvert_exporter": "python",
   "pygments_lexer": "ipython3",
   "version": "3.6.13"
  }
 },
 "nbformat": 4,
 "nbformat_minor": 4
}
