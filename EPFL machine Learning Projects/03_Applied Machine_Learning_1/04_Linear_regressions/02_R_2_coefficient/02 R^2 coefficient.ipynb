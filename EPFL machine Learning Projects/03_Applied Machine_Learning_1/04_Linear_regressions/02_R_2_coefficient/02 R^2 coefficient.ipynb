{
 "cells": [
  {
   "cell_type": "markdown",
   "metadata": {},
   "source": [
    "R^2 coefficient\n",
    "---"
   ]
  },
  {
   "cell_type": "code",
   "execution_count": 1,
   "metadata": {},
   "outputs": [],
   "source": [
    "import pandas as pd\n",
    "\n",
    "# Load data\n",
    "data_df = pd.read_csv('marketing-campaign.csv')\n",
    "X = data_df.drop('sales', axis=1).values\n",
    "y = data_df.sales.values"
   ]
  },
  {
   "cell_type": "code",
   "execution_count": 2,
   "metadata": {},
   "outputs": [
    {
     "name": "stdout",
     "output_type": "stream",
     "text": [
      "RSS baseline: 100.86060792000002\n"
     ]
    }
   ],
   "source": [
    "import numpy as np\n",
    "\n",
    "# Define RSS measure\n",
    "def RSS(y, y_pred):\n",
    "    return np.sum(np.square(np.subtract(y, y_pred)))\n",
    "\n",
    "# RSS of the baseline\n",
    "rss_baseline = RSS(y, y.mean())\n",
    "print('RSS baseline:', rss_baseline)"
   ]
  },
  {
   "cell_type": "code",
   "execution_count": 3,
   "metadata": {},
   "outputs": [
    {
     "name": "stdout",
     "output_type": "stream",
     "text": [
      "RSS: 1.685450868082472\n"
     ]
    }
   ],
   "source": [
    "from scipy.linalg import lstsq\n",
    "\n",
    "# Fit a multiple linear regression\n",
    "X1 = np.c_[np.ones(X.shape[0]), X]\n",
    "w, model_rss, _, _ = lstsq(X1, y)\n",
    "print('RSS:', model_rss)"
   ]
  },
  {
   "cell_type": "code",
   "execution_count": 4,
   "metadata": {},
   "outputs": [
    {
     "name": "stdout",
     "output_type": "stream",
     "text": [
      "R^2 coefficient: 0.9832893048848236\n"
     ]
    }
   ],
   "source": [
    "# R^2 coefficient\n",
    "R2 = 1 - (model_rss / rss_baseline)\n",
    "print('R^2 coefficient:', R2)"
   ]
  },
  {
   "cell_type": "code",
   "execution_count": 5,
   "metadata": {},
   "outputs": [
    {
     "name": "stdout",
     "output_type": "stream",
     "text": [
      "R^2 coefficient: 0.8439430385697798\n"
     ]
    }
   ],
   "source": [
    "# R^2 of simple linear regression model\n",
    "R2 = 1 - (15.74 / rss_baseline)\n",
    "print('R^2 coefficient:', R2)"
   ]
  },
  {
   "cell_type": "code",
   "execution_count": null,
   "metadata": {},
   "outputs": [],
   "source": []
  }
 ],
 "metadata": {
  "kernelspec": {
   "display_name": "Python 3",
   "language": "python",
   "name": "python3"
  },
  "language_info": {
   "codemirror_mode": {
    "name": "ipython",
    "version": 3
   },
   "file_extension": ".py",
   "mimetype": "text/x-python",
   "name": "python",
   "nbconvert_exporter": "python",
   "pygments_lexer": "ipython3",
   "version": "3.6.13"
  }
 },
 "nbformat": 4,
 "nbformat_minor": 4
}
