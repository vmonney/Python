{
 "cells": [
  {
   "cell_type": "markdown",
   "metadata": {},
   "source": [
    "Multiple linear regressions\n",
    "---"
   ]
  },
  {
   "cell_type": "code",
   "execution_count": 1,
   "metadata": {},
   "outputs": [
    {
     "name": "stdout",
     "output_type": "stream",
     "text": [
      "data_df shape: (50, 4)\n"
     ]
    },
    {
     "data": {
      "text/html": [
       "<div>\n",
       "<style scoped>\n",
       "    .dataframe tbody tr th:only-of-type {\n",
       "        vertical-align: middle;\n",
       "    }\n",
       "\n",
       "    .dataframe tbody tr th {\n",
       "        vertical-align: top;\n",
       "    }\n",
       "\n",
       "    .dataframe thead th {\n",
       "        text-align: right;\n",
       "    }\n",
       "</style>\n",
       "<table border=\"1\" class=\"dataframe\">\n",
       "  <thead>\n",
       "    <tr style=\"text-align: right;\">\n",
       "      <th></th>\n",
       "      <th>tv</th>\n",
       "      <th>web</th>\n",
       "      <th>radio</th>\n",
       "      <th>sales</th>\n",
       "    </tr>\n",
       "  </thead>\n",
       "  <tbody>\n",
       "    <tr>\n",
       "      <th>0</th>\n",
       "      <td>0.916</td>\n",
       "      <td>1.689</td>\n",
       "      <td>0.208</td>\n",
       "      <td>1.204</td>\n",
       "    </tr>\n",
       "    <tr>\n",
       "      <th>1</th>\n",
       "      <td>9.359</td>\n",
       "      <td>1.706</td>\n",
       "      <td>1.071</td>\n",
       "      <td>4.800</td>\n",
       "    </tr>\n",
       "    <tr>\n",
       "      <th>2</th>\n",
       "      <td>5.261</td>\n",
       "      <td>2.538</td>\n",
       "      <td>2.438</td>\n",
       "      <td>3.970</td>\n",
       "    </tr>\n",
       "    <tr>\n",
       "      <th>3</th>\n",
       "      <td>8.682</td>\n",
       "      <td>2.092</td>\n",
       "      <td>1.283</td>\n",
       "      <td>5.212</td>\n",
       "    </tr>\n",
       "    <tr>\n",
       "      <th>4</th>\n",
       "      <td>11.736</td>\n",
       "      <td>1.660</td>\n",
       "      <td>1.800</td>\n",
       "      <td>5.993</td>\n",
       "    </tr>\n",
       "  </tbody>\n",
       "</table>\n",
       "</div>"
      ],
      "text/plain": [
       "       tv    web  radio  sales\n",
       "0   0.916  1.689  0.208  1.204\n",
       "1   9.359  1.706  1.071  4.800\n",
       "2   5.261  2.538  2.438  3.970\n",
       "3   8.682  2.092  1.283  5.212\n",
       "4  11.736  1.660  1.800  5.993"
      ]
     },
     "execution_count": 1,
     "metadata": {},
     "output_type": "execute_result"
    }
   ],
   "source": [
    "import pandas as pd\n",
    "\n",
    "# Load data\n",
    "data_df = pd.read_csv('marketing-campaign.csv')\n",
    "print('data_df shape:', data_df.shape)\n",
    "data_df.head()"
   ]
  },
  {
   "cell_type": "markdown",
   "metadata": {},
   "source": [
    "## Implementation with Scipy"
   ]
  },
  {
   "cell_type": "code",
   "execution_count": 2,
   "metadata": {},
   "outputs": [
    {
     "name": "stdout",
     "output_type": "stream",
     "text": [
      "X: (50, 3)\n",
      "y: (50,)\n"
     ]
    }
   ],
   "source": [
    "# Extract input matrix X\n",
    "X = data_df.drop('sales', axis=1).values\n",
    "print('X:', X.shape)\n",
    "\n",
    "# Extract target vector y\n",
    "y = data_df.sales.values\n",
    "print('y:', y.shape)"
   ]
  },
  {
   "cell_type": "code",
   "execution_count": 3,
   "metadata": {},
   "outputs": [
    {
     "name": "stdout",
     "output_type": "stream",
     "text": [
      "w: [0.3958359  0.47521518 0.31040001]\n",
      "RSS: 1.688403903300004\n"
     ]
    }
   ],
   "source": [
    "from scipy.linalg import lstsq\n",
    "\n",
    "# Fit a multiple linear regression\n",
    "w, rss, _, _ = lstsq(X, y)\n",
    "print('w:', w)\n",
    "print('RSS:', rss)"
   ]
  },
  {
   "cell_type": "markdown",
   "metadata": {},
   "source": [
    "## Adding the intercept term"
   ]
  },
  {
   "cell_type": "code",
   "execution_count": 4,
   "metadata": {},
   "outputs": [
    {
     "data": {
      "text/plain": [
       "array([[ 1.   ,  0.916,  1.689,  0.208],\n",
       "       [ 1.   ,  9.359,  1.706,  1.071],\n",
       "       [ 1.   ,  5.261,  2.538,  2.438],\n",
       "       [ 1.   ,  8.682,  2.092,  1.283],\n",
       "       [ 1.   , 11.736,  1.66 ,  1.8  ]])"
      ]
     },
     "execution_count": 4,
     "metadata": {},
     "output_type": "execute_result"
    }
   ],
   "source": [
    "import numpy as np\n",
    "\n",
    "# Add a column of ones\n",
    "X1 = np.c_[\n",
    "    np.ones(X.shape[0]), # Vector of ones of shape (n,)\n",
    "    X # X matrix of shape (n,p)\n",
    "]\n",
    "\n",
    "X1[:5, :]"
   ]
  },
  {
   "cell_type": "code",
   "execution_count": 5,
   "metadata": {},
   "outputs": [
    {
     "name": "stdout",
     "output_type": "stream",
     "text": [
      "w: [0.02487092 0.39465146 0.47037002 0.30669954]\n",
      "RSS: 1.685450868082472\n"
     ]
    }
   ],
   "source": [
    "w, rss, _, _ = lstsq(X1, y)\n",
    "\n",
    "print('w:', w)\n",
    "print('RSS:', rss)"
   ]
  },
  {
   "cell_type": "code",
   "execution_count": 6,
   "metadata": {},
   "outputs": [
    {
     "name": "stdout",
     "output_type": "stream",
     "text": [
      "y_pred: (50,)\n"
     ]
    }
   ],
   "source": [
    "# Compute predictions\n",
    "y_pred = np.matmul(X1, w)\n",
    "print('y_pred:', y_pred.shape)"
   ]
  },
  {
   "cell_type": "code",
   "execution_count": 7,
   "metadata": {},
   "outputs": [
    {
     "name": "stdout",
     "output_type": "stream",
     "text": [
      "RSS: 1.6854508680824718\n"
     ]
    }
   ],
   "source": [
    "# Verify RSS score\n",
    "def RSS(y, y_pred):\n",
    "    return np.sum(np.square(np.subtract(y, y_pred)))\n",
    "\n",
    "rss = RSS(y, y_pred)\n",
    "print('RSS:', rss)"
   ]
  },
  {
   "cell_type": "code",
   "execution_count": null,
   "metadata": {},
   "outputs": [],
   "source": []
  }
 ],
 "metadata": {
  "kernelspec": {
   "display_name": "Python 3",
   "language": "python",
   "name": "python3"
  },
  "language_info": {
   "codemirror_mode": {
    "name": "ipython",
    "version": 3
   },
   "file_extension": ".py",
   "mimetype": "text/x-python",
   "name": "python",
   "nbconvert_exporter": "python",
   "pygments_lexer": "ipython3",
   "version": "3.6.13"
  }
 },
 "nbformat": 4,
 "nbformat_minor": 4
}
