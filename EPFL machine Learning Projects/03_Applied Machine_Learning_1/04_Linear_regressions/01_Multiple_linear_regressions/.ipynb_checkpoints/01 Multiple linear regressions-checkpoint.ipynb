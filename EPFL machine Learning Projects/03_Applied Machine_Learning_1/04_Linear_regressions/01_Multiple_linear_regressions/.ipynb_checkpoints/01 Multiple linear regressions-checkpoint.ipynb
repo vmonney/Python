{
 "cells": [
  {
   "cell_type": "markdown",
   "metadata": {},
   "source": [
    "Multiple linear regressions\n",
    "---"
   ]
  },
  {
   "cell_type": "code",
   "execution_count": null,
   "metadata": {},
   "outputs": [],
   "source": [
    "import pandas as pd\n",
    "\n",
    "# Load data\n",
    "data_df = pd.read_csv('marketing-campaign.csv')\n",
    "print('data_df shape:', data_df.shape)\n",
    "data_df.head()"
   ]
  },
  {
   "cell_type": "code",
   "execution_count": null,
   "metadata": {},
   "outputs": [],
   "source": [
    "# Extract input matrix X\n",
    "X = data_df.drop('sales', axis=1).values\n",
    "print('X:', X.shape)\n",
    "\n",
    "# Extract target vector y\n",
    "y = data_df.sales.values\n",
    "print('y:', y.shape)"
   ]
  },
  {
   "cell_type": "code",
   "execution_count": null,
   "metadata": {},
   "outputs": [],
   "source": [
    "from scipy.linalg import lstsq\n",
    "\n",
    "# Fit a multiple linear regression\n",
    "w, rss, _, _ = lstsq(X, y)\n",
    "print('w:', w)\n",
    "print('RSS:', rss)"
   ]
  },
  {
   "cell_type": "code",
   "execution_count": null,
   "metadata": {},
   "outputs": [],
   "source": [
    "import numpy as np\n",
    "\n",
    "# Add a column of ones\n",
    "X1 = np.c_[\n",
    "    np.ones(X.shape[0]), # Vector of ones of shape (n,)\n",
    "    X # X matrix of shape (n,p)\n",
    "]\n",
    "\n",
    "X1[:5, :]"
   ]
  },
  {
   "cell_type": "code",
   "execution_count": null,
   "metadata": {},
   "outputs": [],
   "source": [
    "w, rss, _, _ = lstsq(X1, y)\n",
    "\n",
    "print('w:', w)\n",
    "print('RSS:', rss)"
   ]
  },
  {
   "cell_type": "code",
   "execution_count": null,
   "metadata": {},
   "outputs": [],
   "source": [
    "# Compute predictions\n",
    "y_pred = np.matmul(X1, w)\n",
    "print('y_pred:', y_pred.shape)"
   ]
  },
  {
   "cell_type": "code",
   "execution_count": null,
   "metadata": {},
   "outputs": [],
   "source": [
    "# Verify RSS score\n",
    "def RSS(y, y_pred):\n",
    "    return np.sum(np.square(np.subtract(y, y_pred)))\n",
    "\n",
    "rss = RSS(y, y_pred)\n",
    "print('RSS:', rss)"
   ]
  }
 ],
 "metadata": {
  "kernelspec": {
   "display_name": "Python 3",
   "language": "python",
   "name": "python3"
  },
  "language_info": {
   "codemirror_mode": {
    "name": "ipython",
    "version": 3
   },
   "file_extension": ".py",
   "mimetype": "text/x-python",
   "name": "python",
   "nbconvert_exporter": "python",
   "pygments_lexer": "ipython3",
   "version": "3.6.7"
  }
 },
 "nbformat": 4,
 "nbformat_minor": 2
}
