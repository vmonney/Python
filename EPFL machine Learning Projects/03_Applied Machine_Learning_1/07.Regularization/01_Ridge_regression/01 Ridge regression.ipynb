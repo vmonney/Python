{
 "cells": [
  {
   "cell_type": "markdown",
   "metadata": {},
   "source": [
    "Ridge regression\n",
    "---"
   ]
  },
  {
   "cell_type": "code",
   "execution_count": 1,
   "metadata": {},
   "outputs": [
    {
     "name": "stdout",
     "output_type": "stream",
     "text": [
      "Shape: (50, 2)\n"
     ]
    },
    {
     "data": {
      "text/html": [
       "<div>\n",
       "<style scoped>\n",
       "    .dataframe tbody tr th:only-of-type {\n",
       "        vertical-align: middle;\n",
       "    }\n",
       "\n",
       "    .dataframe tbody tr th {\n",
       "        vertical-align: top;\n",
       "    }\n",
       "\n",
       "    .dataframe thead th {\n",
       "        text-align: right;\n",
       "    }\n",
       "</style>\n",
       "<table border=\"1\" class=\"dataframe\">\n",
       "  <thead>\n",
       "    <tr style=\"text-align: right;\">\n",
       "      <th></th>\n",
       "      <th>x</th>\n",
       "      <th>y</th>\n",
       "    </tr>\n",
       "  </thead>\n",
       "  <tbody>\n",
       "    <tr>\n",
       "      <th>0</th>\n",
       "      <td>0.000</td>\n",
       "      <td>0.706</td>\n",
       "    </tr>\n",
       "    <tr>\n",
       "      <th>1</th>\n",
       "      <td>0.128</td>\n",
       "      <td>0.288</td>\n",
       "    </tr>\n",
       "    <tr>\n",
       "      <th>2</th>\n",
       "      <td>0.256</td>\n",
       "      <td>0.645</td>\n",
       "    </tr>\n",
       "    <tr>\n",
       "      <th>3</th>\n",
       "      <td>0.385</td>\n",
       "      <td>1.272</td>\n",
       "    </tr>\n",
       "    <tr>\n",
       "      <th>4</th>\n",
       "      <td>0.513</td>\n",
       "      <td>1.238</td>\n",
       "    </tr>\n",
       "  </tbody>\n",
       "</table>\n",
       "</div>"
      ],
      "text/plain": [
       "       x      y\n",
       "0  0.000  0.706\n",
       "1  0.128  0.288\n",
       "2  0.256  0.645\n",
       "3  0.385  1.272\n",
       "4  0.513  1.238"
      ]
     },
     "execution_count": 1,
     "metadata": {},
     "output_type": "execute_result"
    }
   ],
   "source": [
    "import pandas as pd\n",
    "\n",
    "# Load the data\n",
    "data_df = pd.read_csv('data-points.csv')\n",
    "\n",
    "# Print shape\n",
    "print('Shape:', data_df.shape)\n",
    "\n",
    "# First five rows\n",
    "data_df.head()"
   ]
  },
  {
   "cell_type": "code",
   "execution_count": 3,
   "metadata": {},
   "outputs": [
    {
     "data": {
      "image/png": "[encoded data removed]",
      "text/plain": [
       "<Figure size 432x288 with 1 Axes>"
      ]
     },
     "metadata": {
      "needs_background": "light"
     },
     "output_type": "display_data"
    }
   ],
   "source": [
    "%matplotlib inline\n",
    "import matplotlib.pyplot as plt\n",
    "import numpy as np\n",
    "\n",
    "# Extract x, y data\n",
    "x = data_df.x.values\n",
    "y = data_df.y.values\n",
    "\n",
    "# Plot data points\n",
    "plt.scatter(x, y)\n",
    "\n",
    "# Plot sine curve for reference\n",
    "x_values = np.linspace(min(x), max(x), num=100)\n",
    "y_sine = np.sin(x_values)\n",
    "plt.plot(x_values, y_sine, c='C3', label='sine curve')\n",
    "plt.legend()\n",
    "plt.show()"
   ]
  },
  {
   "cell_type": "code",
   "execution_count": 8,
   "metadata": {},
   "outputs": [
    {
     "name": "stdout",
     "output_type": "stream",
     "text": [
      "Shape: (50, 10)\n",
      "Features: ['x0', 'x0^2', 'x0^3', 'x0^4', 'x0^5', 'x0^6', 'x0^7', 'x0^8', 'x0^9', 'x0^10']\n"
     ]
    }
   ],
   "source": [
    "from sklearn.preprocessing import PolynomialFeatures\n",
    "\n",
    "# Create the polynomial features\n",
    "poly_obj = PolynomialFeatures(degree=10, include_bias=False)\n",
    "X_poly = poly_obj.fit_transform(x[:, np.newaxis])\n",
    "\n",
    "print('Shape:', X_poly.shape)\n",
    "print('Features:', poly_obj.get_feature_names())"
   ]
  },
  {
   "cell_type": "code",
   "execution_count": 9,
   "metadata": {},
   "outputs": [],
   "source": [
    "from sklearn.preprocessing import StandardScaler\n",
    "\n",
    "scaler = StandardScaler()\n",
    "X_rescaled = scaler.fit_transform(X_poly)"
   ]
  },
  {
   "cell_type": "code",
   "execution_count": 10,
   "metadata": {},
   "outputs": [
    {
     "data": {
      "text/plain": [
       "array([ 1.06581410e-16,  3.10862447e-16, -2.66453526e-16, -9.76996262e-17,\n",
       "       -1.33226763e-16,  6.21724894e-17, -6.21724894e-17,  1.33226763e-16,\n",
       "       -5.32907052e-17, -5.32907052e-17])"
      ]
     },
     "execution_count": 10,
     "metadata": {},
     "output_type": "execute_result"
    }
   ],
   "source": [
    "X_rescaled.mean(axis=0)"
   ]
  },
  {
   "cell_type": "code",
   "execution_count": 13,
   "metadata": {},
   "outputs": [
    {
     "data": {
      "text/plain": [
       "array([1., 1., 1., 1., 1., 1., 1., 1., 1., 1.])"
      ]
     },
     "execution_count": 13,
     "metadata": {},
     "output_type": "execute_result"
    }
   ],
   "source": [
    "X_rescaled.std(axis=0)"
   ]
  },
  {
   "cell_type": "code",
   "execution_count": 14,
   "metadata": {},
   "outputs": [
    {
     "data": {
      "image/png": "[encoded data removed]",
      "text/plain": [
       "<Figure size 432x288 with 1 Axes>"
      ]
     },
     "metadata": {
      "needs_background": "light"
     },
     "output_type": "display_data"
    }
   ],
   "source": [
    "from sklearn.linear_model import LinearRegression\n",
    "\n",
    "# Linear regression\n",
    "lr = LinearRegression()\n",
    "lr.fit(X_rescaled, y)\n",
    "\n",
    "# Pass sample x values through the preprocessing steps\n",
    "X_values_rescaled = scaler.transform(\n",
    "    poly_obj.transform(x_values[:, np.newaxis])\n",
    ")\n",
    "y_values_lr = lr.predict(X_values_rescaled)\n",
    "\n",
    "# Plot the model\n",
    "plt.scatter(X_rescaled[:, 0], y)\n",
    "plt.plot(X_values_rescaled[:, 0], y_values_lr, c='C3', label='linear regression')\n",
    "plt.legend()\n",
    "plt.show()"
   ]
  },
  {
   "cell_type": "code",
   "execution_count": 15,
   "metadata": {},
   "outputs": [
    {
     "data": {
      "image/png": "[encoded data removed]",
      "text/plain": [
       "<Figure size 432x288 with 1 Axes>"
      ]
     },
     "metadata": {
      "needs_background": "light"
     },
     "output_type": "display_data"
    }
   ],
   "source": [
    "from sklearn.linear_model import Ridge\n",
    "\n",
    "# Ridge regression\n",
    "ridge = Ridge()\n",
    "ridge.fit(X_rescaled, y)\n",
    "\n",
    "# Compute predictions\n",
    "y_values_ridge = ridge.predict(X_values_rescaled)\n",
    "\n",
    "# Plot the model\n",
    "plt.scatter(X_rescaled[:, 0], y)\n",
    "plt.plot(X_values_rescaled[:, 0], y_values_ridge, c='C3', label='rigde ression')\n",
    "plt.legend()\n",
    "plt.show()"
   ]
  },
  {
   "cell_type": "code",
   "execution_count": 16,
   "metadata": {},
   "outputs": [
    {
     "data": {
      "image/png": "[encoded data removed]",
      "text/plain": [
       "<Figure size 432x288 with 1 Axes>"
      ]
     },
     "metadata": {
      "needs_background": "light"
     },
     "output_type": "display_data"
    }
   ],
   "source": [
    "# Ridge regression\n",
    "ridge2 = Ridge(alpha=1e-4)\n",
    "ridge2.fit(X_rescaled, y)\n",
    "\n",
    "# Compute predictions\n",
    "y_values_ridge2 = ridge2.predict(X_values_rescaled)\n",
    "\n",
    "# Plot the model\n",
    "plt.scatter(X_rescaled[:, 0], y)\n",
    "plt.plot(X_values_rescaled[:, 0], y_values_ridge2, c='C3', label='tuned ridge')\n",
    "plt.legend()\n",
    "plt.show()"
   ]
  },
  {
   "cell_type": "code",
   "execution_count": 17,
   "metadata": {},
   "outputs": [
    {
     "name": "stdout",
     "output_type": "stream",
     "text": [
      "x0    :        6.3\n",
      "x0^2  :     -156.5\n",
      "x0^3  :     1604.8\n",
      "x0^4  :    -8250.8\n",
      "x0^5  :    24145.5\n",
      "x0^6  :   -42951.3\n",
      "x0^7  :    47245.0\n",
      "x0^8  :   -31285.6\n",
      "x0^9  :    11373.1\n",
      "x0^10 :    -1731.0\n"
     ]
    }
   ],
   "source": [
    "# Linear regression coefficients\n",
    "features = poly_obj.get_feature_names()\n",
    "for feature, coef in zip(features, lr.coef_):\n",
    "    print('{:<6}: {:>10.1f}'.format(feature, coef))"
   ]
  },
  {
   "cell_type": "code",
   "execution_count": 18,
   "metadata": {},
   "outputs": [
    {
     "name": "stdout",
     "output_type": "stream",
     "text": [
      "x0    :  1.4\n",
      "x0^2  : -1.6\n",
      "x0^3  : -6.8\n",
      "x0^4  :  3.9\n",
      "x0^5  :  4.5\n",
      "x0^6  :  0.5\n",
      "x0^7  : -1.7\n",
      "x0^8  : -1.1\n",
      "x0^9  :  0.2\n",
      "x0^10 :  0.1\n"
     ]
    }
   ],
   "source": [
    "# Ridge regression coefficients\n",
    "for feature, coef in zip(features, ridge2.coef_):\n",
    "    print('{:<6}: {:>4.1f}'.format(feature, coef))"
   ]
  },
  {
   "cell_type": "code",
   "execution_count": 19,
   "metadata": {},
   "outputs": [
    {
     "data": {
      "image/png": "[encoded data removed]",
      "text/plain": [
       "<Figure size 432x288 with 1 Axes>"
      ]
     },
     "metadata": {
      "needs_background": "light"
     },
     "output_type": "display_data"
    }
   ],
   "source": [
    "from sklearn.linear_model import Lasso\n",
    "\n",
    "# Lasso regression\n",
    "lasso = Lasso(alpha=1e-4, max_iter=1e5)\n",
    "lasso.fit(X_rescaled, y)\n",
    "\n",
    "# Compute predictions\n",
    "y_values_lasso = lasso.predict(X_values_rescaled)\n",
    "\n",
    "# Plot the model\n",
    "plt.scatter(X_rescaled[:, 0], y)\n",
    "plt.plot(X_values_rescaled[:, 0], y_values_lasso, c='C3', label='lasso')\n",
    "plt.legend()\n",
    "plt.show()"
   ]
  },
  {
   "cell_type": "code",
   "execution_count": 20,
   "metadata": {},
   "outputs": [
    {
     "name": "stdout",
     "output_type": "stream",
     "text": [
      "x0    :  1.8\n",
      "x0^2  : -4.4\n",
      "x0^3  : -0.2\n",
      "x0^4  :  0.0\n",
      "x0^5  :  2.2\n",
      "x0^6  :  0.9\n",
      "x0^7  :  0.0\n",
      "x0^8  :  0.0\n",
      "x0^9  : -0.0\n",
      "x0^10 : -0.7\n"
     ]
    }
   ],
   "source": [
    "# Lasso regression coefficients\n",
    "for feature, coef in zip(features, lasso.coef_):\n",
    "    print('{:<6}: {:>4.1f}'.format(feature, coef))"
   ]
  },
  {
   "cell_type": "code",
   "execution_count": null,
   "metadata": {},
   "outputs": [],
   "source": []
  }
 ],
 "metadata": {
  "kernelspec": {
   "display_name": "Python 3",
   "language": "python",
   "name": "python3"
  },
  "language_info": {
   "codemirror_mode": {
    "name": "ipython",
    "version": 3
   },
   "file_extension": ".py",
   "mimetype": "text/x-python",
   "name": "python",
   "nbconvert_exporter": "python",
   "pygments_lexer": "ipython3",
   "version": "3.6.13"
  }
 },
 "nbformat": 4,
 "nbformat_minor": 4
}
