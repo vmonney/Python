{
 "cells": [
  {
   "cell_type": "markdown",
   "metadata": {},
   "source": [
    "Tuning hyperparameters with grid search\n",
    "---"
   ]
  },
  {
   "cell_type": "code",
   "execution_count": 1,
   "metadata": {},
   "outputs": [
    {
     "data": {
      "text/html": [
       "<div>\n",
       "<style scoped>\n",
       "    .dataframe tbody tr th:only-of-type {\n",
       "        vertical-align: middle;\n",
       "    }\n",
       "\n",
       "    .dataframe tbody tr th {\n",
       "        vertical-align: top;\n",
       "    }\n",
       "\n",
       "    .dataframe thead th {\n",
       "        text-align: right;\n",
       "    }\n",
       "</style>\n",
       "<table border=\"1\" class=\"dataframe\">\n",
       "  <thead>\n",
       "    <tr style=\"text-align: right;\">\n",
       "      <th></th>\n",
       "      <th>Order</th>\n",
       "      <th>PID</th>\n",
       "      <th>MS SubClass</th>\n",
       "      <th>MS Zoning</th>\n",
       "      <th>Lot Frontage</th>\n",
       "      <th>Lot Area</th>\n",
       "      <th>Street</th>\n",
       "      <th>Alley</th>\n",
       "      <th>Lot Shape</th>\n",
       "      <th>Land Contour</th>\n",
       "      <th>...</th>\n",
       "      <th>Pool Area</th>\n",
       "      <th>Pool QC</th>\n",
       "      <th>Fence</th>\n",
       "      <th>Misc Feature</th>\n",
       "      <th>Misc Val</th>\n",
       "      <th>Mo Sold</th>\n",
       "      <th>Yr Sold</th>\n",
       "      <th>Sale Type</th>\n",
       "      <th>Sale Condition</th>\n",
       "      <th>SalePrice</th>\n",
       "    </tr>\n",
       "  </thead>\n",
       "  <tbody>\n",
       "    <tr>\n",
       "      <th>0</th>\n",
       "      <td>484</td>\n",
       "      <td>528275070</td>\n",
       "      <td>60</td>\n",
       "      <td>RL</td>\n",
       "      <td>NaN</td>\n",
       "      <td>8795</td>\n",
       "      <td>Pave</td>\n",
       "      <td>NaN</td>\n",
       "      <td>IR1</td>\n",
       "      <td>Lvl</td>\n",
       "      <td>...</td>\n",
       "      <td>0</td>\n",
       "      <td>NaN</td>\n",
       "      <td>NaN</td>\n",
       "      <td>NaN</td>\n",
       "      <td>0</td>\n",
       "      <td>4</td>\n",
       "      <td>2009</td>\n",
       "      <td>WD</td>\n",
       "      <td>Normal</td>\n",
       "      <td>236000</td>\n",
       "    </tr>\n",
       "    <tr>\n",
       "      <th>1</th>\n",
       "      <td>2586</td>\n",
       "      <td>535305120</td>\n",
       "      <td>20</td>\n",
       "      <td>RL</td>\n",
       "      <td>75.0</td>\n",
       "      <td>10170</td>\n",
       "      <td>Pave</td>\n",
       "      <td>NaN</td>\n",
       "      <td>Reg</td>\n",
       "      <td>Lvl</td>\n",
       "      <td>...</td>\n",
       "      <td>0</td>\n",
       "      <td>NaN</td>\n",
       "      <td>NaN</td>\n",
       "      <td>NaN</td>\n",
       "      <td>0</td>\n",
       "      <td>6</td>\n",
       "      <td>2006</td>\n",
       "      <td>WD</td>\n",
       "      <td>Normal</td>\n",
       "      <td>155000</td>\n",
       "    </tr>\n",
       "    <tr>\n",
       "      <th>2</th>\n",
       "      <td>2289</td>\n",
       "      <td>923228250</td>\n",
       "      <td>160</td>\n",
       "      <td>RM</td>\n",
       "      <td>21.0</td>\n",
       "      <td>2001</td>\n",
       "      <td>Pave</td>\n",
       "      <td>NaN</td>\n",
       "      <td>Reg</td>\n",
       "      <td>Lvl</td>\n",
       "      <td>...</td>\n",
       "      <td>0</td>\n",
       "      <td>NaN</td>\n",
       "      <td>NaN</td>\n",
       "      <td>NaN</td>\n",
       "      <td>0</td>\n",
       "      <td>1</td>\n",
       "      <td>2007</td>\n",
       "      <td>WD</td>\n",
       "      <td>Normal</td>\n",
       "      <td>75000</td>\n",
       "    </tr>\n",
       "    <tr>\n",
       "      <th>3</th>\n",
       "      <td>142</td>\n",
       "      <td>535152150</td>\n",
       "      <td>20</td>\n",
       "      <td>RL</td>\n",
       "      <td>70.0</td>\n",
       "      <td>10552</td>\n",
       "      <td>Pave</td>\n",
       "      <td>NaN</td>\n",
       "      <td>IR1</td>\n",
       "      <td>Lvl</td>\n",
       "      <td>...</td>\n",
       "      <td>0</td>\n",
       "      <td>NaN</td>\n",
       "      <td>NaN</td>\n",
       "      <td>NaN</td>\n",
       "      <td>0</td>\n",
       "      <td>4</td>\n",
       "      <td>2010</td>\n",
       "      <td>WD</td>\n",
       "      <td>Normal</td>\n",
       "      <td>165500</td>\n",
       "    </tr>\n",
       "    <tr>\n",
       "      <th>4</th>\n",
       "      <td>2042</td>\n",
       "      <td>903475060</td>\n",
       "      <td>190</td>\n",
       "      <td>RM</td>\n",
       "      <td>60.0</td>\n",
       "      <td>10120</td>\n",
       "      <td>Pave</td>\n",
       "      <td>NaN</td>\n",
       "      <td>IR1</td>\n",
       "      <td>Bnk</td>\n",
       "      <td>...</td>\n",
       "      <td>0</td>\n",
       "      <td>NaN</td>\n",
       "      <td>MnPrv</td>\n",
       "      <td>NaN</td>\n",
       "      <td>0</td>\n",
       "      <td>1</td>\n",
       "      <td>2007</td>\n",
       "      <td>WD</td>\n",
       "      <td>Normal</td>\n",
       "      <td>122000</td>\n",
       "    </tr>\n",
       "  </tbody>\n",
       "</table>\n",
       "<p>5 rows × 82 columns</p>\n",
       "</div>"
      ],
      "text/plain": [
       "   Order        PID  MS SubClass MS Zoning  Lot Frontage  Lot Area Street  \\\n",
       "0    484  528275070           60        RL           NaN      8795   Pave   \n",
       "1   2586  535305120           20        RL          75.0     10170   Pave   \n",
       "2   2289  923228250          160        RM          21.0      2001   Pave   \n",
       "3    142  535152150           20        RL          70.0     10552   Pave   \n",
       "4   2042  903475060          190        RM          60.0     10120   Pave   \n",
       "\n",
       "  Alley Lot Shape Land Contour  ... Pool Area Pool QC  Fence Misc Feature  \\\n",
       "0   NaN       IR1          Lvl  ...         0     NaN    NaN          NaN   \n",
       "1   NaN       Reg          Lvl  ...         0     NaN    NaN          NaN   \n",
       "2   NaN       Reg          Lvl  ...         0     NaN    NaN          NaN   \n",
       "3   NaN       IR1          Lvl  ...         0     NaN    NaN          NaN   \n",
       "4   NaN       IR1          Bnk  ...         0     NaN  MnPrv          NaN   \n",
       "\n",
       "  Misc Val Mo Sold Yr Sold Sale Type  Sale Condition  SalePrice  \n",
       "0        0       4    2009       WD           Normal     236000  \n",
       "1        0       6    2006       WD           Normal     155000  \n",
       "2        0       1    2007       WD           Normal      75000  \n",
       "3        0       4    2010       WD           Normal     165500  \n",
       "4        0       1    2007       WD           Normal     122000  \n",
       "\n",
       "[5 rows x 82 columns]"
      ]
     },
     "execution_count": 1,
     "metadata": {},
     "output_type": "execute_result"
    }
   ],
   "source": [
    "import pandas as pd\n",
    "\n",
    "# Load the data\n",
    "data_df = pd.read_csv('house-prices.csv')\n",
    "data_df.head()"
   ]
  },
  {
   "cell_type": "code",
   "execution_count": 2,
   "metadata": {},
   "outputs": [
    {
     "data": {
      "image/png": "[encoded data removed]",
      "text/plain": [
       "<Figure size 432x288 with 1 Axes>"
      ]
     },
     "metadata": {
      "needs_background": "light"
     },
     "output_type": "display_data"
    }
   ],
   "source": [
    "%matplotlib inline\n",
    "import matplotlib.pyplot as plt\n",
    "\n",
    "data_df.hist(column='SalePrice', bins=20, grid=False, xrot=45)\n",
    "plt.show()"
   ]
  },
  {
   "cell_type": "code",
   "execution_count": 3,
   "metadata": {},
   "outputs": [
    {
     "data": {
      "image/png": "[encoded data removed]",
      "text/plain": [
       "<Figure size 432x288 with 1 Axes>"
      ]
     },
     "metadata": {
      "needs_background": "light"
     },
     "output_type": "display_data"
    }
   ],
   "source": [
    "import numpy as np\n",
    "\n",
    "plt.hist(np.log10(data_df.SalePrice), bins=20)\n",
    "plt.xlabel('log10(SalePrice)')\n",
    "plt.show()"
   ]
  },
  {
   "cell_type": "code",
   "execution_count": 4,
   "metadata": {},
   "outputs": [
    {
     "data": {
      "text/html": [
       "<div>\n",
       "<style scoped>\n",
       "    .dataframe tbody tr th:only-of-type {\n",
       "        vertical-align: middle;\n",
       "    }\n",
       "\n",
       "    .dataframe tbody tr th {\n",
       "        vertical-align: top;\n",
       "    }\n",
       "\n",
       "    .dataframe thead th {\n",
       "        text-align: right;\n",
       "    }\n",
       "</style>\n",
       "<table border=\"1\" class=\"dataframe\">\n",
       "  <thead>\n",
       "    <tr style=\"text-align: right;\">\n",
       "      <th></th>\n",
       "      <th>Order</th>\n",
       "      <th>PID</th>\n",
       "      <th>MS SubClass</th>\n",
       "      <th>Lot Frontage</th>\n",
       "      <th>Lot Area</th>\n",
       "      <th>Overall Qual</th>\n",
       "      <th>Overall Cond</th>\n",
       "      <th>Year Built</th>\n",
       "      <th>Year Remod/Add</th>\n",
       "      <th>Mas Vnr Area</th>\n",
       "      <th>...</th>\n",
       "      <th>Sale Type_VWD</th>\n",
       "      <th>Sale Type_WD</th>\n",
       "      <th>Sale Type_nan</th>\n",
       "      <th>Sale Condition_Abnorml</th>\n",
       "      <th>Sale Condition_AdjLand</th>\n",
       "      <th>Sale Condition_Alloca</th>\n",
       "      <th>Sale Condition_Family</th>\n",
       "      <th>Sale Condition_Normal</th>\n",
       "      <th>Sale Condition_Partial</th>\n",
       "      <th>Sale Condition_nan</th>\n",
       "    </tr>\n",
       "  </thead>\n",
       "  <tbody>\n",
       "    <tr>\n",
       "      <th>0</th>\n",
       "      <td>484</td>\n",
       "      <td>528275070</td>\n",
       "      <td>60</td>\n",
       "      <td>68.0</td>\n",
       "      <td>8795</td>\n",
       "      <td>7</td>\n",
       "      <td>5</td>\n",
       "      <td>2000</td>\n",
       "      <td>2000</td>\n",
       "      <td>0.0</td>\n",
       "      <td>...</td>\n",
       "      <td>0</td>\n",
       "      <td>1</td>\n",
       "      <td>0</td>\n",
       "      <td>0</td>\n",
       "      <td>0</td>\n",
       "      <td>0</td>\n",
       "      <td>0</td>\n",
       "      <td>1</td>\n",
       "      <td>0</td>\n",
       "      <td>0</td>\n",
       "    </tr>\n",
       "    <tr>\n",
       "      <th>1</th>\n",
       "      <td>2586</td>\n",
       "      <td>535305120</td>\n",
       "      <td>20</td>\n",
       "      <td>75.0</td>\n",
       "      <td>10170</td>\n",
       "      <td>6</td>\n",
       "      <td>6</td>\n",
       "      <td>1951</td>\n",
       "      <td>1951</td>\n",
       "      <td>522.0</td>\n",
       "      <td>...</td>\n",
       "      <td>0</td>\n",
       "      <td>1</td>\n",
       "      <td>0</td>\n",
       "      <td>0</td>\n",
       "      <td>0</td>\n",
       "      <td>0</td>\n",
       "      <td>0</td>\n",
       "      <td>1</td>\n",
       "      <td>0</td>\n",
       "      <td>0</td>\n",
       "    </tr>\n",
       "    <tr>\n",
       "      <th>2</th>\n",
       "      <td>2289</td>\n",
       "      <td>923228250</td>\n",
       "      <td>160</td>\n",
       "      <td>21.0</td>\n",
       "      <td>2001</td>\n",
       "      <td>4</td>\n",
       "      <td>5</td>\n",
       "      <td>1970</td>\n",
       "      <td>1970</td>\n",
       "      <td>80.0</td>\n",
       "      <td>...</td>\n",
       "      <td>0</td>\n",
       "      <td>1</td>\n",
       "      <td>0</td>\n",
       "      <td>0</td>\n",
       "      <td>0</td>\n",
       "      <td>0</td>\n",
       "      <td>0</td>\n",
       "      <td>1</td>\n",
       "      <td>0</td>\n",
       "      <td>0</td>\n",
       "    </tr>\n",
       "    <tr>\n",
       "      <th>3</th>\n",
       "      <td>142</td>\n",
       "      <td>535152150</td>\n",
       "      <td>20</td>\n",
       "      <td>70.0</td>\n",
       "      <td>10552</td>\n",
       "      <td>5</td>\n",
       "      <td>5</td>\n",
       "      <td>1959</td>\n",
       "      <td>1959</td>\n",
       "      <td>0.0</td>\n",
       "      <td>...</td>\n",
       "      <td>0</td>\n",
       "      <td>1</td>\n",
       "      <td>0</td>\n",
       "      <td>0</td>\n",
       "      <td>0</td>\n",
       "      <td>0</td>\n",
       "      <td>0</td>\n",
       "      <td>1</td>\n",
       "      <td>0</td>\n",
       "      <td>0</td>\n",
       "    </tr>\n",
       "    <tr>\n",
       "      <th>4</th>\n",
       "      <td>2042</td>\n",
       "      <td>903475060</td>\n",
       "      <td>190</td>\n",
       "      <td>60.0</td>\n",
       "      <td>10120</td>\n",
       "      <td>7</td>\n",
       "      <td>4</td>\n",
       "      <td>1910</td>\n",
       "      <td>1950</td>\n",
       "      <td>0.0</td>\n",
       "      <td>...</td>\n",
       "      <td>0</td>\n",
       "      <td>1</td>\n",
       "      <td>0</td>\n",
       "      <td>0</td>\n",
       "      <td>0</td>\n",
       "      <td>0</td>\n",
       "      <td>0</td>\n",
       "      <td>1</td>\n",
       "      <td>0</td>\n",
       "      <td>0</td>\n",
       "    </tr>\n",
       "  </tbody>\n",
       "</table>\n",
       "<p>5 rows × 348 columns</p>\n",
       "</div>"
      ],
      "text/plain": [
       "   Order        PID  MS SubClass  Lot Frontage  Lot Area  Overall Qual  \\\n",
       "0    484  528275070           60          68.0      8795             7   \n",
       "1   2586  535305120           20          75.0     10170             6   \n",
       "2   2289  923228250          160          21.0      2001             4   \n",
       "3    142  535152150           20          70.0     10552             5   \n",
       "4   2042  903475060          190          60.0     10120             7   \n",
       "\n",
       "   Overall Cond  Year Built  Year Remod/Add  Mas Vnr Area  ...  Sale Type_VWD  \\\n",
       "0             5        2000            2000           0.0  ...              0   \n",
       "1             6        1951            1951         522.0  ...              0   \n",
       "2             5        1970            1970          80.0  ...              0   \n",
       "3             5        1959            1959           0.0  ...              0   \n",
       "4             4        1910            1950           0.0  ...              0   \n",
       "\n",
       "   Sale Type_WD   Sale Type_nan  Sale Condition_Abnorml  \\\n",
       "0              1              0                       0   \n",
       "1              1              0                       0   \n",
       "2              1              0                       0   \n",
       "3              1              0                       0   \n",
       "4              1              0                       0   \n",
       "\n",
       "   Sale Condition_AdjLand  Sale Condition_Alloca  Sale Condition_Family  \\\n",
       "0                       0                      0                      0   \n",
       "1                       0                      0                      0   \n",
       "2                       0                      0                      0   \n",
       "3                       0                      0                      0   \n",
       "4                       0                      0                      0   \n",
       "\n",
       "   Sale Condition_Normal  Sale Condition_Partial  Sale Condition_nan  \n",
       "0                      1                       0                   0  \n",
       "1                      1                       0                   0  \n",
       "2                      1                       0                   0  \n",
       "3                      1                       0                   0  \n",
       "4                      1                       0                   0  \n",
       "\n",
       "[5 rows x 348 columns]"
      ]
     },
     "execution_count": 4,
     "metadata": {},
     "output_type": "execute_result"
    }
   ],
   "source": [
    "def preprocess(df):\n",
    "    # Work on a copy\n",
    "    df = df.copy()\n",
    "    \n",
    "    # One-hot encoding\n",
    "    df = pd.get_dummies(df, dummy_na=True)\n",
    "    \n",
    "    # Fill missing values\n",
    "    for c in df.columns:\n",
    "        df[c] = df[c].fillna(df[c].median())\n",
    "        \n",
    "    return df\n",
    "\n",
    "preprocessed_df = preprocess(data_df)\n",
    "preprocessed_df.head()"
   ]
  },
  {
   "cell_type": "code",
   "execution_count": 5,
   "metadata": {},
   "outputs": [
    {
     "name": "stdout",
     "output_type": "stream",
     "text": [
      "Train: (1215, 347) (1215,)\n",
      "Test: (1215, 347) (1215,)\n"
     ]
    }
   ],
   "source": [
    "from sklearn.model_selection import train_test_split\n",
    "\n",
    "# Create X, y\n",
    "X = preprocessed_df.drop('SalePrice', axis=1).values\n",
    "y = np.log10(preprocessed_df.SalePrice).values\n",
    "\n",
    "# Split into train/test sets\n",
    "X_tr, X_te, y_tr, y_te = train_test_split(X, y, test_size=0.5, random_state=0)\n",
    "\n",
    "print('Train:', X_tr.shape, y_tr.shape)\n",
    "print('Test:', X_te.shape, y_te.shape)"
   ]
  },
  {
   "cell_type": "code",
   "execution_count": 6,
   "metadata": {},
   "outputs": [],
   "source": [
    "from sklearn.preprocessing import StandardScaler\n",
    "\n",
    "# Standardize features\n",
    "scaler = StandardScaler()\n",
    "X_tr_rescaled = scaler.fit_transform(X_tr)\n",
    "X_te_rescaled = scaler.transform(X_te)"
   ]
  },
  {
   "cell_type": "code",
   "execution_count": 7,
   "metadata": {},
   "outputs": [
    {
     "name": "stdout",
     "output_type": "stream",
     "text": [
      "Train MSE: 0.0014\n",
      "Test MSE: 2113181735523033496420352.0000\n"
     ]
    }
   ],
   "source": [
    "from sklearn.linear_model import LinearRegression\n",
    "from sklearn.metrics import mean_squared_error as MSE\n",
    "\n",
    "# Try with a linear regression\n",
    "lr = LinearRegression()\n",
    "lr.fit(X_tr_rescaled, y_tr)\n",
    "\n",
    "print('Train MSE: {:.4f}'.format(MSE(y_tr, lr.predict(X_tr_rescaled))))\n",
    "print('Test MSE: {:.4f}'.format(MSE(y_te, lr.predict(X_te_rescaled))))"
   ]
  },
  {
   "cell_type": "code",
   "execution_count": 8,
   "metadata": {},
   "outputs": [
    {
     "data": {
      "image/png": "[encoded data removed]",
      "text/plain": [
       "<Figure size 432x288 with 1 Axes>"
      ]
     },
     "metadata": {
      "needs_background": "light"
     },
     "output_type": "display_data"
    }
   ],
   "source": [
    "plt.hist(lr.coef_, bins=30)\n",
    "plt.xlabel('coefficients')\n",
    "plt.show()"
   ]
  },
  {
   "cell_type": "code",
   "execution_count": 9,
   "metadata": {},
   "outputs": [
    {
     "data": {
      "text/html": [
       "<div>\n",
       "<style scoped>\n",
       "    .dataframe tbody tr th:only-of-type {\n",
       "        vertical-align: middle;\n",
       "    }\n",
       "\n",
       "    .dataframe tbody tr th {\n",
       "        vertical-align: top;\n",
       "    }\n",
       "\n",
       "    .dataframe thead th {\n",
       "        text-align: right;\n",
       "    }\n",
       "</style>\n",
       "<table border=\"1\" class=\"dataframe\">\n",
       "  <thead>\n",
       "    <tr style=\"text-align: right;\">\n",
       "      <th></th>\n",
       "      <th>alpha</th>\n",
       "      <th>test_mae</th>\n",
       "      <th>test_mse</th>\n",
       "      <th>train_mae</th>\n",
       "      <th>train_mse</th>\n",
       "    </tr>\n",
       "  </thead>\n",
       "  <tbody>\n",
       "    <tr>\n",
       "      <th>0</th>\n",
       "      <td>1.000000e-10</td>\n",
       "      <td>17815.411673</td>\n",
       "      <td>0.006009</td>\n",
       "      <td>11145.427596</td>\n",
       "      <td>0.001412</td>\n",
       "    </tr>\n",
       "    <tr>\n",
       "      <th>1</th>\n",
       "      <td>1.592283e-10</td>\n",
       "      <td>17815.775032</td>\n",
       "      <td>0.006008</td>\n",
       "      <td>11145.427596</td>\n",
       "      <td>0.001412</td>\n",
       "    </tr>\n",
       "    <tr>\n",
       "      <th>2</th>\n",
       "      <td>2.535364e-10</td>\n",
       "      <td>17816.642461</td>\n",
       "      <td>0.006008</td>\n",
       "      <td>11145.427596</td>\n",
       "      <td>0.001412</td>\n",
       "    </tr>\n",
       "    <tr>\n",
       "      <th>3</th>\n",
       "      <td>4.037017e-10</td>\n",
       "      <td>17816.712462</td>\n",
       "      <td>0.006007</td>\n",
       "      <td>11145.427596</td>\n",
       "      <td>0.001412</td>\n",
       "    </tr>\n",
       "    <tr>\n",
       "      <th>4</th>\n",
       "      <td>6.428073e-10</td>\n",
       "      <td>17817.138793</td>\n",
       "      <td>0.006007</td>\n",
       "      <td>11145.427596</td>\n",
       "      <td>0.001412</td>\n",
       "    </tr>\n",
       "  </tbody>\n",
       "</table>\n",
       "</div>"
      ],
      "text/plain": [
       "          alpha      test_mae  test_mse     train_mae  train_mse\n",
       "0  1.000000e-10  17815.411673  0.006009  11145.427596   0.001412\n",
       "1  1.592283e-10  17815.775032  0.006008  11145.427596   0.001412\n",
       "2  2.535364e-10  17816.642461  0.006008  11145.427596   0.001412\n",
       "3  4.037017e-10  17816.712462  0.006007  11145.427596   0.001412\n",
       "4  6.428073e-10  17817.138793  0.006007  11145.427596   0.001412"
      ]
     },
     "execution_count": 9,
     "metadata": {},
     "output_type": "execute_result"
    }
   ],
   "source": [
    "from sklearn.linear_model import Ridge\n",
    "from sklearn.metrics import mean_absolute_error as MAE\n",
    "\n",
    "# Variable to store the results\n",
    "gs_results = []\n",
    "\n",
    "# Grid search\n",
    "for alpha in np.logspace(-10, 10, num=100):\n",
    "    # Create and fit ridge regression\n",
    "    ridge = Ridge(alpha=alpha)\n",
    "    ridge.fit(X_tr_rescaled, y_tr)\n",
    "    \n",
    "    # Save model and its performance on train/test sets\n",
    "    gs_results.append({\n",
    "        'alpha': alpha,\n",
    "        'train_mse': MSE(y_tr, ridge.predict(X_tr_rescaled)),\n",
    "        'train_mae': MAE(10**y_tr, 10**ridge.predict(X_tr_rescaled)),\n",
    "        'test_mse': MSE(y_te, ridge.predict(X_te_rescaled)),\n",
    "        'test_mae': MAE(10**y_te, 10**ridge.predict(X_te_rescaled)),\n",
    "    })\n",
    "\n",
    "# Convert results to DataFrame\n",
    "gs_results = pd.DataFrame(gs_results)\n",
    "gs_results.head()"
   ]
  },
  {
   "cell_type": "code",
   "execution_count": 10,
   "metadata": {},
   "outputs": [
    {
     "data": {
      "image/png": "[encoded data removed]",
      "text/plain": [
       "<Figure size 432x288 with 1 Axes>"
      ]
     },
     "metadata": {
      "needs_background": "light"
     },
     "output_type": "display_data"
    }
   ],
   "source": [
    "# Plot the validation curves\n",
    "plt.semilogx(gs_results['alpha'], gs_results['train_mse'], label='train curve')\n",
    "plt.semilogx(gs_results['alpha'], gs_results['test_mse'], label='test curve')\n",
    "plt.xlabel('$alpha$')\n",
    "plt.ylabel('MSE')\n",
    "plt.legend()\n",
    "plt.show()"
   ]
  },
  {
   "cell_type": "markdown",
   "metadata": {},
   "source": [
    "There are a few things to observe about this result.\n",
    "\n",
    "- The optimal range of alpha values seems to be around 10e3\n",
    "- The model starts overfitting when alpha is smaller than 10e2\n",
    "- The models starts underfitting when alpha is larger than 10e4\n",
    "\n",
    "It's also interesting to see that the test score reaches a plateau with alpha values above 10e6. This is the effect of regularization: when the regularization strength is too large, the model coefficient go to zero and the model always predicts the intercept term."
   ]
  },
  {
   "cell_type": "code",
   "execution_count": 11,
   "metadata": {},
   "outputs": [
    {
     "name": "stdout",
     "output_type": "stream",
     "text": [
      "Largest coefficient: 1.8e-08\n",
      "Intercept: 5.23\n"
     ]
    }
   ],
   "source": [
    "# Fit a model with a very strong regularization\n",
    "strong_ridge = Ridge(alpha=10**10)\n",
    "strong_ridge.fit(X_tr_rescaled, y_tr)\n",
    "\n",
    "print('Largest coefficient: {:.1e}'.format(\n",
    "    np.max(np.abs(strong_ridge.coef_))))\n",
    "print('Intercept: {:.2f}'.format(\n",
    "    strong_ridge.intercept_))"
   ]
  },
  {
   "cell_type": "markdown",
   "metadata": {},
   "source": [
    "Since all coefficients are close to zero, the model always predicts the intercept term - 5.23 in this case. It's interesting to observe that this is equal to the mean - which is, as we saw in a previous unit, the constant prediction that minimizes the MSE score i.e. the mean baseline"
   ]
  },
  {
   "cell_type": "code",
   "execution_count": 12,
   "metadata": {},
   "outputs": [
    {
     "name": "stdout",
     "output_type": "stream",
     "text": [
      "Mean target value: 5.23\n"
     ]
    }
   ],
   "source": [
    "print('Mean target value: {:.2f}'.format(np.mean(y_tr)))"
   ]
  },
  {
   "cell_type": "code",
   "execution_count": 13,
   "metadata": {},
   "outputs": [
    {
     "name": "stdout",
     "output_type": "stream",
     "text": [
      "Best alpha: 8.5e+02\n",
      "Test MSE: 0.0048\n",
      "Test MAE: 15,671$\n"
     ]
    }
   ],
   "source": [
    "# Get entry with the best test MSE\n",
    "best_result = gs_results.loc[gs_results.test_mse.idxmin()]\n",
    "\n",
    "# Print the details\n",
    "print('Best alpha: {:.1e}'.format(best_result.alpha))\n",
    "print('Test MSE: {:.4f}'.format(best_result.test_mse))\n",
    "print('Test MAE: {:,.0f}$'.format(best_result.test_mae))"
   ]
  },
  {
   "cell_type": "code",
   "execution_count": 14,
   "metadata": {},
   "outputs": [
    {
     "data": {
      "text/html": [
       "<div>\n",
       "<style scoped>\n",
       "    .dataframe tbody tr th:only-of-type {\n",
       "        vertical-align: middle;\n",
       "    }\n",
       "\n",
       "    .dataframe tbody tr th {\n",
       "        vertical-align: top;\n",
       "    }\n",
       "\n",
       "    .dataframe thead th {\n",
       "        text-align: right;\n",
       "    }\n",
       "</style>\n",
       "<table border=\"1\" class=\"dataframe\">\n",
       "  <thead>\n",
       "    <tr style=\"text-align: right;\">\n",
       "      <th></th>\n",
       "      <th>alpha</th>\n",
       "      <th>run_idx</th>\n",
       "      <th>test_mae</th>\n",
       "      <th>test_mse</th>\n",
       "      <th>train_mae</th>\n",
       "      <th>train_mse</th>\n",
       "    </tr>\n",
       "  </thead>\n",
       "  <tbody>\n",
       "    <tr>\n",
       "      <th>0</th>\n",
       "      <td>10.000000</td>\n",
       "      <td>0</td>\n",
       "      <td>17485.758076</td>\n",
       "      <td>0.005898</td>\n",
       "      <td>11151.125598</td>\n",
       "      <td>0.001416</td>\n",
       "    </tr>\n",
       "    <tr>\n",
       "      <th>1</th>\n",
       "      <td>14.384499</td>\n",
       "      <td>0</td>\n",
       "      <td>17372.165040</td>\n",
       "      <td>0.005857</td>\n",
       "      <td>11161.657456</td>\n",
       "      <td>0.001419</td>\n",
       "    </tr>\n",
       "    <tr>\n",
       "      <th>2</th>\n",
       "      <td>20.691381</td>\n",
       "      <td>0</td>\n",
       "      <td>17233.571836</td>\n",
       "      <td>0.005802</td>\n",
       "      <td>11176.962177</td>\n",
       "      <td>0.001424</td>\n",
       "    </tr>\n",
       "    <tr>\n",
       "      <th>3</th>\n",
       "      <td>29.763514</td>\n",
       "      <td>0</td>\n",
       "      <td>17067.620448</td>\n",
       "      <td>0.005733</td>\n",
       "      <td>11198.863815</td>\n",
       "      <td>0.001431</td>\n",
       "    </tr>\n",
       "    <tr>\n",
       "      <th>4</th>\n",
       "      <td>42.813324</td>\n",
       "      <td>0</td>\n",
       "      <td>16871.527796</td>\n",
       "      <td>0.005647</td>\n",
       "      <td>11233.772529</td>\n",
       "      <td>0.001442</td>\n",
       "    </tr>\n",
       "  </tbody>\n",
       "</table>\n",
       "</div>"
      ],
      "text/plain": [
       "       alpha  run_idx      test_mae  test_mse     train_mae  train_mse\n",
       "0  10.000000        0  17485.758076  0.005898  11151.125598   0.001416\n",
       "1  14.384499        0  17372.165040  0.005857  11161.657456   0.001419\n",
       "2  20.691381        0  17233.571836  0.005802  11176.962177   0.001424\n",
       "3  29.763514        0  17067.620448  0.005733  11198.863815   0.001431\n",
       "4  42.813324        0  16871.527796  0.005647  11233.772529   0.001442"
      ]
     },
     "execution_count": 14,
     "metadata": {},
     "output_type": "execute_result"
    }
   ],
   "source": [
    "# Fit/test N models\n",
    "gs_results = []\n",
    "for run_idx in range(10):\n",
    "    # Split into train/test sets\n",
    "    X_tr, X_te, y_tr, y_te = train_test_split(\n",
    "        X, y, test_size=0.5, random_state=run_idx)\n",
    "    \n",
    "    # Standardize features\n",
    "    X_tr_rescaled = scaler.fit_transform(X_tr)\n",
    "    X_te_rescaled = scaler.transform(X_te)\n",
    "\n",
    "    # Grid search\n",
    "    for alpha in np.logspace(1, 4, num=20):\n",
    "        # Create and fit ridge regression\n",
    "        ridge = Ridge(alpha=alpha)\n",
    "        ridge.fit(X_tr_rescaled, y_tr)\n",
    "\n",
    "        # Save model and its performance on train/test sets\n",
    "        gs_results.append({\n",
    "            'alpha': alpha,\n",
    "            'run_idx': run_idx,\n",
    "            'train_mse': MSE(y_tr, ridge.predict(X_tr_rescaled)),\n",
    "            'train_mae': MAE(10**y_tr, 10**ridge.predict(X_tr_rescaled)),\n",
    "            'test_mse': MSE(y_te, ridge.predict(X_te_rescaled)),\n",
    "            'test_mae': MAE(10**y_te, 10**ridge.predict(X_te_rescaled)),\n",
    "        })\n",
    "        \n",
    "# Convert results to DataFrame\n",
    "gs_results = pd.DataFrame(gs_results)\n",
    "gs_results.head()"
   ]
  },
  {
   "cell_type": "code",
   "execution_count": 15,
   "metadata": {},
   "outputs": [
    {
     "name": "stdout",
     "output_type": "stream",
     "text": [
      "Best alpha: 5.5e+02\n",
      "Test MSE: 0.0038\n",
      "Test MAE: 15,700$\n"
     ]
    }
   ],
   "source": [
    "# Group results by alpha value\n",
    "gb_alpha = gs_results.groupby('alpha')\n",
    "\n",
    "# Compute train/test mean scores with std\n",
    "mean_tr = gb_alpha.train_mse.mean()\n",
    "mean_te = gb_alpha.test_mse.mean()\n",
    "std_tr = gb_alpha.train_mse.std()\n",
    "std_te = gb_alpha.test_mse.std()\n",
    "alphas = mean_tr.index.values\n",
    "\n",
    "# Get entry with the best mean test MSE\n",
    "best_alpha = mean_te.idxmin()\n",
    "best_result = gb_alpha.get_group(best_alpha)\n",
    "\n",
    "# Print the details\n",
    "print('Best alpha: {:.1e}'.format(best_alpha))\n",
    "print('Test MSE: {:.4f}'.format(best_result.test_mse.mean()))\n",
    "print('Test MAE: {:,.0f}$'.format(best_result.test_mae.mean()))"
   ]
  },
  {
   "cell_type": "code",
   "execution_count": 16,
   "metadata": {},
   "outputs": [
    {
     "data": {
      "image/png": "[encoded data removed]",
      "text/plain": [
       "<Figure size 432x288 with 1 Axes>"
      ]
     },
     "metadata": {
      "needs_background": "light"
     },
     "output_type": "display_data"
    }
   ],
   "source": [
    "# Plot mean scores\n",
    "plt.semilogx(alphas, mean_tr, label='train')\n",
    "plt.semilogx(alphas, mean_te, label='test')\n",
    "\n",
    "# Quantify variance with ±std curves\n",
    "plt.fill_between(alphas, mean_tr-std_tr, mean_tr+std_tr, alpha=0.2)\n",
    "plt.fill_between(alphas, mean_te-std_te, mean_te+std_te, alpha=0.2)\n",
    "\n",
    "# Add marker for best score\n",
    "plt.scatter(best_alpha, mean_te.min(), marker='x', c='red', zorder=10)\n",
    "\n",
    "plt.title('Validation curves with {} runs'.format(len(gs_results.groupby('run_idx'))))\n",
    "plt.xlabel('$alpha$')\n",
    "plt.ylabel('MSE')\n",
    "plt.legend()\n",
    "plt.show()"
   ]
  },
  {
   "cell_type": "code",
   "execution_count": null,
   "metadata": {},
   "outputs": [],
   "source": []
  }
 ],
 "metadata": {
  "kernelspec": {
   "display_name": "Python 3",
   "language": "python",
   "name": "python3"
  },
  "language_info": {
   "codemirror_mode": {
    "name": "ipython",
    "version": 3
   },
   "file_extension": ".py",
   "mimetype": "text/x-python",
   "name": "python",
   "nbconvert_exporter": "python",
   "pygments_lexer": "ipython3",
   "version": "3.6.13"
  }
 },
 "nbformat": 4,
 "nbformat_minor": 4
}
