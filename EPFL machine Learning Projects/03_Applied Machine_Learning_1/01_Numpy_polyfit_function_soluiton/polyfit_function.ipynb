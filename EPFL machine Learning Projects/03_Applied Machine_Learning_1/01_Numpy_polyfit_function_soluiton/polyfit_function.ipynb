{
 "cells": [
  {
   "cell_type": "markdown",
   "id": "ebc726b0",
   "metadata": {},
   "source": [
    "# Numpy polyfit function"
   ]
  },
  {
   "cell_type": "code",
   "execution_count": 1,
   "id": "7f080712",
   "metadata": {},
   "outputs": [
    {
     "data": {
      "text/html": [
       "<div>\n",
       "<style scoped>\n",
       "    .dataframe tbody tr th:only-of-type {\n",
       "        vertical-align: middle;\n",
       "    }\n",
       "\n",
       "    .dataframe tbody tr th {\n",
       "        vertical-align: top;\n",
       "    }\n",
       "\n",
       "    .dataframe thead th {\n",
       "        text-align: right;\n",
       "    }\n",
       "</style>\n",
       "<table border=\"1\" class=\"dataframe\">\n",
       "  <thead>\n",
       "    <tr style=\"text-align: right;\">\n",
       "      <th></th>\n",
       "      <th>x</th>\n",
       "      <th>y</th>\n",
       "    </tr>\n",
       "  </thead>\n",
       "  <tbody>\n",
       "    <tr>\n",
       "      <th>0</th>\n",
       "      <td>0.375</td>\n",
       "      <td>-0.027</td>\n",
       "    </tr>\n",
       "    <tr>\n",
       "      <th>1</th>\n",
       "      <td>0.951</td>\n",
       "      <td>0.378</td>\n",
       "    </tr>\n",
       "    <tr>\n",
       "      <th>2</th>\n",
       "      <td>0.732</td>\n",
       "      <td>0.174</td>\n",
       "    </tr>\n",
       "    <tr>\n",
       "      <th>3</th>\n",
       "      <td>0.599</td>\n",
       "      <td>0.049</td>\n",
       "    </tr>\n",
       "    <tr>\n",
       "      <th>4</th>\n",
       "      <td>0.156</td>\n",
       "      <td>-0.423</td>\n",
       "    </tr>\n",
       "  </tbody>\n",
       "</table>\n",
       "</div>"
      ],
      "text/plain": [
       "       x      y\n",
       "0  0.375 -0.027\n",
       "1  0.951  0.378\n",
       "2  0.732  0.174\n",
       "3  0.599  0.049\n",
       "4  0.156 -0.423"
      ]
     },
     "execution_count": 1,
     "metadata": {},
     "output_type": "execute_result"
    }
   ],
   "source": [
    "import pandas as pd\n",
    "\n",
    "data_df = pd.read_csv('data-1.csv')\n",
    "data_df.head()"
   ]
  },
  {
   "cell_type": "markdown",
   "id": "3296ffa6",
   "metadata": {},
   "source": [
    "## Prepare the Numpy array variables"
   ]
  },
  {
   "cell_type": "code",
   "execution_count": 6,
   "id": "9b471c57",
   "metadata": {},
   "outputs": [
    {
     "name": "stdout",
     "output_type": "stream",
     "text": [
      "Type of x and y: <class 'numpy.ndarray'> <class 'numpy.ndarray'>\n"
     ]
    }
   ],
   "source": [
    "x = data_df.x.values\n",
    "y = data_df.y.values\n",
    "\n",
    "print('Type of x and y:', type(x), type(y))"
   ]
  },
  {
   "cell_type": "code",
   "execution_count": 7,
   "id": "1a643cbb",
   "metadata": {},
   "outputs": [
    {
     "data": {
      "image/png": "[encoded data removed]",
      "text/plain": [
       "<Figure size 432x288 with 1 Axes>"
      ]
     },
     "metadata": {
      "needs_background": "light"
     },
     "output_type": "display_data"
    }
   ],
   "source": [
    "%matplotlib inline\n",
    "import matplotlib.pyplot as plt\n",
    "\n",
    "# Plot data points\n",
    "plt.scatter(x, y)\n",
    "plt.xlabel(\"x values\")\n",
    "plt.ylabel('y values')\n",
    "plt.show()"
   ]
  },
  {
   "cell_type": "markdown",
   "id": "6773ec87",
   "metadata": {},
   "source": [
    "As the data points follow a linear trend, it makes sense to fit a line and set the degree to one."
   ]
  },
  {
   "cell_type": "code",
   "execution_count": 8,
   "id": "3d5889f9",
   "metadata": {},
   "outputs": [
    {
     "name": "stdout",
     "output_type": "stream",
     "text": [
      "Coefficients: [ 0.77788056 -0.3904125 ]\n"
     ]
    }
   ],
   "source": [
    "import numpy as np\n",
    "\n",
    "coefs = np.polyfit(x,y, deg=1)\n",
    "print(\"Coefficients:\", coefs)"
   ]
  },
  {
   "cell_type": "code",
   "execution_count": 9,
   "id": "e7166ea2",
   "metadata": {},
   "outputs": [
    {
     "name": "stdout",
     "output_type": "stream",
     "text": [
      "a: 0.7778805590197088\n",
      "b: -0.3904124988780683\n"
     ]
    }
   ],
   "source": [
    "# Extract a,b values\n",
    "a, b = coefs\n",
    "print('a:', a)\n",
    "print('b:', b)"
   ]
  },
  {
   "cell_type": "markdown",
   "id": "a3c01617",
   "metadata": {},
   "source": [
    "## Plotting our model"
   ]
  },
  {
   "cell_type": "code",
   "execution_count": 16,
   "id": "a1162d2f",
   "metadata": {},
   "outputs": [
    {
     "data": {
      "image/png": "[encoded data removed]",
      "text/plain": [
       "<Figure size 432x288 with 1 Axes>"
      ]
     },
     "metadata": {
      "needs_background": "light"
     },
     "output_type": "display_data"
    }
   ],
   "source": [
    "# Generate a hundred values between 0 and 1\n",
    "x_values = np.linspace(0, 1, num=100)\n",
    "\n",
    "# alternative (we only need two points to draw a line)\n",
    "x_values = np.array([0,1])\n",
    "\n",
    "# Compute the associate y values\n",
    "y_values = a*x_values + b\n",
    "\n",
    "# Plot the line\n",
    "plt.scatter(x, y) # plot the data\n",
    "plt.plot(x_values, y_values, c='C3', label='polifit(deg=1)') # Prediction line\n",
    "plt.legend()\n",
    "plt.show()"
   ]
  },
  {
   "cell_type": "markdown",
   "id": "ca5e195f",
   "metadata": {},
   "source": [
    "## Second data set"
   ]
  },
  {
   "cell_type": "code",
   "execution_count": 18,
   "id": "ddba908a",
   "metadata": {},
   "outputs": [],
   "source": [
    "# Load second set of points\n",
    "data_df = pd.read_csv('data-2.csv')\n",
    "x2 = data_df.x.values\n",
    "y2 = data_df.y.values"
   ]
  },
  {
   "cell_type": "code",
   "execution_count": 19,
   "id": "0e63c765",
   "metadata": {},
   "outputs": [
    {
     "data": {
      "image/png": "[encoded data removed]",
      "text/plain": [
       "<Figure size 432x288 with 1 Axes>"
      ]
     },
     "metadata": {
      "needs_background": "light"
     },
     "output_type": "display_data"
    }
   ],
   "source": [
    "plt.scatter(x2, y2)\n",
    "plt.xlabel('x values')\n",
    "plt.ylabel('y values')\n",
    "plt.show()"
   ]
  },
  {
   "cell_type": "code",
   "execution_count": 21,
   "id": "f610e620",
   "metadata": {},
   "outputs": [
    {
     "name": "stdout",
     "output_type": "stream",
     "text": [
      "Coefficients: [-2.25363975  1.17807746]\n"
     ]
    },
    {
     "data": {
      "image/png": "[encoded data removed]",
      "text/plain": [
       "<Figure size 432x288 with 1 Axes>"
      ]
     },
     "metadata": {
      "needs_background": "light"
     },
     "output_type": "display_data"
    }
   ],
   "source": [
    "# Fit a line\n",
    "coefs2 = np.polyfit(x2, y2, deg=1)\n",
    "print('Coefficients:', coefs2)\n",
    "\n",
    "# Generate a hundred x values between 0 and 1\n",
    "x_values2 = np.linspace(0,1, num=100)\n",
    "\n",
    "# Compute the associate y values\n",
    "a, b = coefs2\n",
    "y_values2 = a*x_values2 + b\n",
    "\n",
    "# Plot the line\n",
    "plt.scatter(x2, y2)\n",
    "plt.plot(x_values2, y_values2, c = 'C3', label = 'polyfit(deg=1)')\n",
    "plt.legend()\n",
    "plt.show()"
   ]
  },
  {
   "cell_type": "code",
   "execution_count": 30,
   "id": "e854c3cd",
   "metadata": {},
   "outputs": [
    {
     "name": "stdout",
     "output_type": "stream",
     "text": [
      "Coefficients: [ 20.52793415 -29.43676159   8.92987847   0.24324604]\n"
     ]
    }
   ],
   "source": [
    "# Fit a polynomial of degree 3\n",
    "coefs2 = np.polyfit(x2, y2, deg=3)\n",
    "print('Coefficients:', coefs2)"
   ]
  },
  {
   "cell_type": "code",
   "execution_count": 1,
   "id": "d912035c",
   "metadata": {},
   "outputs": [
    {
     "ename": "NameError",
     "evalue": "name 'coefs2' is not defined",
     "output_type": "error",
     "traceback": [
      "\u001b[0;31m---------------------------------------------------------------------------\u001b[0m",
      "\u001b[0;31mNameError\u001b[0m                                 Traceback (most recent call last)",
      "\u001b[0;32m<ipython-input-1-747c79f71889>\u001b[0m in \u001b[0;36m<module>\u001b[0;34m\u001b[0m\n\u001b[1;32m      1\u001b[0m \u001b[0;31m# extract coefficients\u001b[0m\u001b[0;34m\u001b[0m\u001b[0;34m\u001b[0m\u001b[0;34m\u001b[0m\u001b[0m\n\u001b[0;32m----> 2\u001b[0;31m \u001b[0ma\u001b[0m\u001b[0;34m,\u001b[0m \u001b[0mb\u001b[0m\u001b[0;34m,\u001b[0m \u001b[0mc\u001b[0m\u001b[0;34m,\u001b[0m \u001b[0md\u001b[0m \u001b[0;34m=\u001b[0m \u001b[0mcoefs2\u001b[0m\u001b[0;34m\u001b[0m\u001b[0;34m\u001b[0m\u001b[0m\n\u001b[0m\u001b[1;32m      3\u001b[0m \u001b[0my_values2\u001b[0m\u001b[0;34m=\u001b[0m \u001b[0ma\u001b[0m\u001b[0;34m*\u001b[0m\u001b[0;34m(\u001b[0m\u001b[0mx_values2\u001b[0m\u001b[0;34m**\u001b[0m\u001b[0;36m3\u001b[0m\u001b[0;34m)\u001b[0m \u001b[0;34m+\u001b[0m \u001b[0mb\u001b[0m\u001b[0;34m*\u001b[0m\u001b[0;34m(\u001b[0m\u001b[0mx_values2\u001b[0m\u001b[0;34m**\u001b[0m\u001b[0;36m2\u001b[0m\u001b[0;34m)\u001b[0m \u001b[0;34m+\u001b[0m \u001b[0mc\u001b[0m\u001b[0;34m*\u001b[0m\u001b[0mx_values2\u001b[0m \u001b[0;34m+\u001b[0m \u001b[0md\u001b[0m\u001b[0;34m\u001b[0m\u001b[0;34m\u001b[0m\u001b[0m\n\u001b[1;32m      4\u001b[0m \u001b[0;34m\u001b[0m\u001b[0m\n\u001b[1;32m      5\u001b[0m \u001b[0;31m# Predict y values\u001b[0m\u001b[0;34m\u001b[0m\u001b[0;34m\u001b[0m\u001b[0;34m\u001b[0m\u001b[0m\n",
      "\u001b[0;31mNameError\u001b[0m: name 'coefs2' is not defined"
     ]
    }
   ],
   "source": [
    "# extract coefficients\n",
    "a, b, c, d = coefs2\n",
    "y_values2= a*(x_values2**3) + b*(x_values2**2) + c*x_values2 + d\n",
    "\n",
    "# Predict y values\n",
    "y_values2 = np.polyval(coefs2, x_values2)\n",
    "\n",
    "# Plot the line\n",
    "plt.scatter(x2, y2)\n",
    "plt.plot(x_values2, y_values2, c = 'C3', label = 'polyfit(deg=3)')\n",
    "plt.legend()\n",
    "plt.show()"
   ]
  },
  {
   "cell_type": "markdown",
   "id": "592cf26a",
   "metadata": {},
   "source": [
    "## Third data set"
   ]
  },
  {
   "cell_type": "code",
   "execution_count": 32,
   "id": "68ab3f27",
   "metadata": {},
   "outputs": [],
   "source": [
    "# Load third set of points\n",
    "data_df = pd.read_csv('data-3.csv')\n",
    "x3 = data_df.x.values\n",
    "y3 = data_df.y.values"
   ]
  },
  {
   "cell_type": "code",
   "execution_count": 33,
   "id": "1256b281",
   "metadata": {},
   "outputs": [
    {
     "data": {
      "image/png": "[encoded data removed]",
      "text/plain": [
       "<Figure size 432x288 with 1 Axes>"
      ]
     },
     "metadata": {
      "needs_background": "light"
     },
     "output_type": "display_data"
    }
   ],
   "source": [
    "plt.scatter(x3, y3)\n",
    "plt.xlabel('x values')\n",
    "plt.ylabel('y values')\n",
    "plt.show()"
   ]
  },
  {
   "cell_type": "code",
   "execution_count": 39,
   "id": "dfacc67f",
   "metadata": {},
   "outputs": [
    {
     "name": "stdout",
     "output_type": "stream",
     "text": [
      "Coefficients: [-0.01523948  9.19141663]\n"
     ]
    },
    {
     "data": {
      "image/png": "[encoded data removed]",
      "text/plain": [
       "<Figure size 432x288 with 1 Axes>"
      ]
     },
     "metadata": {
      "needs_background": "light"
     },
     "output_type": "display_data"
    }
   ],
   "source": [
    "# Fit a line\n",
    "coefs3 = np.polyfit(x3, y3, deg=1)\n",
    "print('Coefficients:', coefs3)\n",
    "\n",
    "# Generate a hundred x values between 0 and 1\n",
    "x_values3 = np.linspace(0,1, num=100)\n",
    "\n",
    "# Predict y values\n",
    "y_values3 = np.polyval(coefs3, x_values3)\n",
    "\n",
    "# Plot the line\n",
    "plt.scatter(x3, y3)\n",
    "plt.plot(x_values3, y_values3, c = 'C3', label = 'polyfit(deg=1)')\n",
    "plt.legend()\n",
    "plt.show()"
   ]
  },
  {
   "cell_type": "code",
   "execution_count": 50,
   "id": "ad74d7c2",
   "metadata": {},
   "outputs": [
    {
     "data": {
      "image/png": "[encoded data removed]",
      "text/plain": [
       "<Figure size 432x288 with 1 Axes>"
      ]
     },
     "metadata": {
      "needs_background": "light"
     },
     "output_type": "display_data"
    }
   ],
   "source": [
    "# By increasing the function number of degrees\n",
    "def fit(x, y, deg, xlabel, ylabel, legend):\n",
    "    # Fit a polynomial\n",
    "    coefs = np.polyfit(x, y, deg=deg)\n",
    "\n",
    "    # Generate a hundred values between min(x) and max(x)\n",
    "    x_values = np.linspace(min(x), max(x), num=100)\n",
    "\n",
    "    # Predict y values\n",
    "    y_values = np.polyval(coefs, x_values)\n",
    "\n",
    "    # Plot curve\n",
    "    plt.scatter(x, y)\n",
    "    plt.plot(x_values, y_values, c='C3', label=legend)\n",
    "    plt.xlabel(xlabel)\n",
    "    plt.ylabel(ylabel)\n",
    "    plt.legend()\n",
    "    plt.show()\n",
    "\n",
    "fit(x3, y3, 2, 'x values', 'y values', 'polyfit(deg=2)')"
   ]
  },
  {
   "cell_type": "code",
   "execution_count": null,
   "id": "a950aeba",
   "metadata": {},
   "outputs": [],
   "source": []
  }
 ],
 "metadata": {
  "kernelspec": {
   "display_name": "Python 3",
   "language": "python",
   "name": "python3"
  },
  "language_info": {
   "codemirror_mode": {
    "name": "ipython",
    "version": 3
   },
   "file_extension": ".py",
   "mimetype": "text/x-python",
   "name": "python",
   "nbconvert_exporter": "python",
   "pygments_lexer": "ipython3",
   "version": "3.6.13"
  }
 },
 "nbformat": 4,
 "nbformat_minor": 5
}
