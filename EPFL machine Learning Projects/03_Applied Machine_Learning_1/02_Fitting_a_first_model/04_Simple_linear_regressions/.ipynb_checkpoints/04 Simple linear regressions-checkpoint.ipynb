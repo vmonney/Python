{
 "cells": [
  {
   "cell_type": "markdown",
   "metadata": {},
   "source": [
    "Simple linear regressions\n",
    "---"
   ]
  },
  {
   "cell_type": "code",
   "execution_count": null,
   "metadata": {},
   "outputs": [],
   "source": [
    "import pandas as pd\n",
    "\n",
    "# Load the data set\n",
    "data_df = pd.read_csv('marketing-campaign.csv')\n",
    "\n",
    "# Extract x/y values\n",
    "x = data_df.tv.values\n",
    "y = data_df.sales.values\n",
    "\n",
    "print('x shape:', x.shape)\n",
    "print('y shape:', y.shape)"
   ]
  },
  {
   "cell_type": "code",
   "execution_count": null,
   "metadata": {},
   "outputs": [],
   "source": [
    "%matplotlib inline\n",
    "import matplotlib.pyplot as plt\n",
    "\n",
    "# Plot data\n",
    "plt.scatter(x, y)\n",
    "plt.xlabel('tv budget in 1000$')\n",
    "plt.ylabel('sales in thousands')\n",
    "plt.show()"
   ]
  },
  {
   "cell_type": "code",
   "execution_count": null,
   "metadata": {},
   "outputs": [],
   "source": [
    "import numpy as np\n",
    "\n",
    "# Fit a linear regression\n",
    "coefs = np.polyfit(x, y, deg=1)\n",
    "print('Coefficients:', coefs)\n",
    "\n",
    "# Generate a hundred data points\n",
    "x_values = np.linspace(x.min(), x.max(), num=100)\n",
    "\n",
    "# Compute predictions\n",
    "y_values = np.polyval(coefs, x_values)"
   ]
  },
  {
   "cell_type": "code",
   "execution_count": null,
   "metadata": {},
   "outputs": [],
   "source": [
    "# Plot predictions\n",
    "plt.scatter(x, y)\n",
    "plt.plot(x_values, y_values, c='C3', label='linear regression')\n",
    "plt.xlabel('tv budget in 1000$')\n",
    "plt.ylabel('sales in thousands')\n",
    "plt.legend()\n",
    "plt.show()"
   ]
  },
  {
   "cell_type": "code",
   "execution_count": null,
   "metadata": {},
   "outputs": [],
   "source": [
    "# Compute predictions for each data point\n",
    "y_pred = np.polyval(coefs, {1})"
   ]
  },
  {
   "cell_type": "code",
   "execution_count": null,
   "metadata": {},
   "outputs": [],
   "source": [
    "def RSS(y, y_pred):\n",
    "    return np.sum(np.square(y - y_pred))\n",
    "\n",
    "print('RSS value:', RSS(y, y_pred))"
   ]
  }
 ],
 "metadata": {
  "kernelspec": {
   "display_name": "Python 3",
   "language": "python",
   "name": "python3"
  },
  "language_info": {
   "codemirror_mode": {
    "name": "ipython",
    "version": 3
   },
   "file_extension": ".py",
   "mimetype": "text/x-python",
   "name": "python",
   "nbconvert_exporter": "python",
   "pygments_lexer": "ipython3",
   "version": "3.6.8"
  }
 },
 "nbformat": 4,
 "nbformat_minor": 2
}
