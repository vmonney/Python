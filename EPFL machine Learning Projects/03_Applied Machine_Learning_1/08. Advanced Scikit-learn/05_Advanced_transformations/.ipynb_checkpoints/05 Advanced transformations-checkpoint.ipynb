{
 "cells": [
  {
   "cell_type": "markdown",
   "metadata": {},
   "source": [
    "Target transformers\n",
    "---"
   ]
  },
  {
   "cell_type": "code",
   "execution_count": null,
   "metadata": {},
   "outputs": [],
   "source": [
    "import pandas as pd\n",
    "\n",
    "data_df = pd.read_csv('house-prices.csv')\n",
    "data_df.head()"
   ]
  },
  {
   "cell_type": "code",
   "execution_count": null,
   "metadata": {},
   "outputs": [],
   "source": [
    "from sklearn.model_selection import train_test_split\n",
    "\n",
    "# Create X, y\n",
    "X = data_df[['Overall Qual', 'Gr Liv Area']]\n",
    "y = data_df.SalePrice\n",
    "\n",
    "# Split into train/test sets\n",
    "X_tr, X_te, y_tr, y_te = train_test_split(X, y, test_size=0.5, random_state=0)"
   ]
  },
  {
   "cell_type": "code",
   "execution_count": null,
   "metadata": {},
   "outputs": [],
   "source": [
    "from sklearn.compose import TransformedTargetRegressor\n",
    "from sklearn.linear_model import LinearRegression\n",
    "import numpy as np\n",
    "\n",
    "regressor = TransformedTargetRegressor(\n",
    "    regressor=LinearRegression(), func=np.log, inverse_func=np.exp)"
   ]
  },
  {
   "cell_type": "code",
   "execution_count": null,
   "metadata": {},
   "outputs": [],
   "source": [
    "%matplotlib inline\n",
    "import matplotlib.pyplot as plt\n",
    "\n",
    "# Make predictions\n",
    "regressor.fit(X_tr, y_tr)\n",
    "y_pred = regressor.predict(X_te)\n",
    "\n",
    "# Plot predictions\n",
    "plt.hist(y_te, bins=50, range=(0, 10**6), density=True, alpha=0.3, label='sale prices')\n",
    "plt.hist(y_pred, bins=50, range=(0, 10**6), density=True, alpha=0.3, label='predictions')\n",
    "plt.legend()\n",
    "plt.show()"
   ]
  },
  {
   "cell_type": "code",
   "execution_count": null,
   "metadata": {},
   "outputs": [],
   "source": [
    "from sklearn.metrics import mean_absolute_error as MAE\n",
    "\n",
    "print('MAE: {:,.0f}$'.format(MAE(y_te, y_pred)))"
   ]
  },
  {
   "cell_type": "code",
   "execution_count": null,
   "metadata": {},
   "outputs": [],
   "source": [
    "from sklearn.preprocessing import QuantileTransformer\n",
    "\n",
    "regressor = TransformedTargetRegressor(\n",
    "    regressor=LinearRegression(),\n",
    "    transformer=QuantileTransformer(output_distribution='normal', random_state=0))\n",
    "regressor.fit(X_tr, y_tr)\n",
    "print('MAE: {:,.0f}$'.format(MAE(y_te, regressor.predict(X_te))))"
   ]
  },
  {
   "cell_type": "code",
   "execution_count": null,
   "metadata": {},
   "outputs": [],
   "source": [
    "from sklearn.preprocessing import PowerTransformer\n",
    "from sklearn.pipeline import make_pipeline\n",
    "\n",
    "regressor = TransformedTargetRegressor(\n",
    "    regressor=make_pipeline(PowerTransformer(), LinearRegression()),\n",
    "    transformer=QuantileTransformer(output_distribution='normal', random_state=0))\n",
    "regressor.fit(X_tr, y_tr)\n",
    "print('MAE: {:,.0f}$'.format(MAE(y_te, regressor.predict(X_te))))"
   ]
  }
 ],
 "metadata": {
  "kernelspec": {
   "display_name": "Python 3",
   "language": "python",
   "name": "python3"
  },
  "language_info": {
   "codemirror_mode": {
    "name": "ipython",
    "version": 3
   },
   "file_extension": ".py",
   "mimetype": "text/x-python",
   "name": "python",
   "nbconvert_exporter": "python",
   "pygments_lexer": "ipython3",
   "version": "3.6.7"
  }
 },
 "nbformat": 4,
 "nbformat_minor": 2
}
