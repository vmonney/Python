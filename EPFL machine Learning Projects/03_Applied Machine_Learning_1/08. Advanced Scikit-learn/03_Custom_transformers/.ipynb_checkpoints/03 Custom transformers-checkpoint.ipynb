{
 "cells": [
  {
   "cell_type": "markdown",
   "metadata": {},
   "source": [
    "Custom transformers\n",
    "---"
   ]
  },
  {
   "cell_type": "code",
   "execution_count": null,
   "metadata": {},
   "outputs": [],
   "source": [
    "import pandas as pd\n",
    "\n",
    "data_df = pd.read_csv('messy-bikes.csv')\n",
    "data_df.head()"
   ]
  },
  {
   "cell_type": "code",
   "execution_count": null,
   "metadata": {},
   "outputs": [],
   "source": [
    "data_df.isnull().mean()"
   ]
  },
  {
   "cell_type": "code",
   "execution_count": null,
   "metadata": {},
   "outputs": [],
   "source": [
    "import numpy as np\n",
    "\n",
    "def preprocess_f(df):\n",
    "    # Work on a copy\n",
    "    df = df.copy()\n",
    "    \n",
    "    # Missing values in continuous features\n",
    "    cont_vars = ['temp', 'hum', 'windspeed']\n",
    "    for c in cont_vars:\n",
    "        df[c] = df[c].fillna(df[c].mean()) # replace by mean\n",
    "        \n",
    "    # Explicitely convert to string values\n",
    "    to_convert = ['yr', 'weekday']\n",
    "    convert_f = lambda x: str(int(x)) if not np.isnan(x) else np.nan\n",
    "    df[to_convert] = df[to_convert].applymap(convert_f)\n",
    "    \n",
    "    # .. in categorical ones: create 'missing' category\n",
    "    cat_vars = ['yr', 'workingday', 'holiday', 'weekday', 'season', 'weathersit']\n",
    "    df[cat_vars] = df[cat_vars].fillna('missing')\n",
    "    \n",
    "    # One-hot encoding\n",
    "    df = pd.get_dummies(df)\n",
    "    \n",
    "    return df\n",
    "    \n",
    "preprocessed = preprocess_f(data_df)\n",
    "preprocessed.head()"
   ]
  },
  {
   "cell_type": "code",
   "execution_count": null,
   "metadata": {},
   "outputs": [],
   "source": [
    "preprocessed.columns"
   ]
  },
  {
   "cell_type": "code",
   "execution_count": null,
   "metadata": {},
   "outputs": [],
   "source": [
    "from sklearn.preprocessing import FunctionTransformer\n",
    "\n",
    "preprocessor = FunctionTransformer(preprocess_f, validate=False)\n",
    "preprocessed = preprocessor.fit_transform(data_df)\n",
    "preprocessed.head()"
   ]
  },
  {
   "cell_type": "code",
   "execution_count": null,
   "metadata": {},
   "outputs": [],
   "source": [
    "preprocessor.transform(data_df.iloc[:1])"
   ]
  },
  {
   "cell_type": "code",
   "execution_count": null,
   "metadata": {},
   "outputs": [],
   "source": [
    "from sklearn.base import BaseEstimator, TransformerMixin\n",
    "\n",
    "class PandasPreprocessor(BaseEstimator, TransformerMixin):\n",
    "    def __init__(self, preprocess_f):\n",
    "        self.preprocess_f = preprocess_f\n",
    "\n",
    "    def fit(self, X_df, y=None):\n",
    "        # Check that we get a DataFrame\n",
    "        assert type(X_df) == pd.DataFrame\n",
    "        \n",
    "        # Preprocess data\n",
    "        X_preprocessed = self.preprocess_f(X_df)\n",
    "        \n",
    "        # Save columns names/order for inference time\n",
    "        self.columns_ = X_preprocessed.columns\n",
    "        \n",
    "        return self\n",
    "\n",
    "    def transform(self, X_df):\n",
    "        # Check that we get a DataFrame\n",
    "        assert type(X_df) == pd.DataFrame\n",
    "        \n",
    "        # Preprocess data\n",
    "        X_preprocessed = self.preprocess_f(X_df)\n",
    "        \n",
    "        # Make sure to have the same features\n",
    "        X_reindexed = X_preprocessed.reindex(columns=self.columns_, fill_value=0)\n",
    "        \n",
    "        return X_reindexed\n",
    "    \n",
    "preprocessor = PandasPreprocessor(preprocess_f)\n",
    "preprocessor.fit(data_df)\n",
    "preprocessor.transform(data_df.iloc[:1])"
   ]
  },
  {
   "cell_type": "code",
   "execution_count": null,
   "metadata": {},
   "outputs": [],
   "source": [
    "class PandasPreprocessor(BaseEstimator, TransformerMixin):\n",
    "    def __init__(self):\n",
    "        self.cat_vars_ = ['yr', 'workingday', 'holiday', 'weekday', 'season', 'weathersit']\n",
    "        self.cont_vars_ = ['temp', 'hum', 'windspeed']\n",
    "        self.to_convert_ = ['yr', 'weekday']\n",
    "    \n",
    "    def preprocess_f(self, X_df, train_mean):\n",
    "        # Work on a copy\n",
    "        X_df = X_df.copy()\n",
    "        \n",
    "        # Missing values in continuous features\n",
    "        for c in self.cont_vars_:\n",
    "            X_df[c] = X_df[c].fillna(train_mean[c])\n",
    "        \n",
    "        # Explicitely convert to string values\n",
    "        convert_f = lambda x: str(int(x)) if not np.isnan(x) else np.nan\n",
    "        X_df[self.to_convert_] = X_df[self.to_convert_].applymap(convert_f)\n",
    "    \n",
    "        # .. in categorical ones: create 'missing' category\n",
    "        X_df[self.cat_vars_] = X_df[self.cat_vars_].fillna('missing')\n",
    "    \n",
    "        # One-hot encoding\n",
    "        X_df = pd.get_dummies(X_df)\n",
    "        \n",
    "        return X_df\n",
    "        \n",
    "    def fit(self, X_df, y=None):\n",
    "        # Check that we get a DataFrame\n",
    "        assert type(X_df) == pd.DataFrame\n",
    "    \n",
    "        # Save train mean for continuous variables\n",
    "        self.train_mean_ = X_df[self.cont_vars_].mean() \n",
    "        \n",
    "        # Preprocess data\n",
    "        X_preprocessed = self.preprocess_f(X_df, self.train_mean_)\n",
    "        \n",
    "        # Save columns names/order for inference time\n",
    "        self.columns_ = X_preprocessed.columns \n",
    "        \n",
    "        return self\n",
    "\n",
    "    def transform(self, X_df):\n",
    "        # Check that we get a DataFrame\n",
    "        assert type(X_df) == pd.DataFrame\n",
    "        \n",
    "        # Preprocess data\n",
    "        X_preprocessed = self.preprocess_f(X_df, self.train_mean_)\n",
    "        \n",
    "        # Make sure to have the same features\n",
    "        X_reindexed = X_preprocessed.reindex(columns=self.columns_, fill_value=0)\n",
    "        \n",
    "        return X_reindexed\n",
    "    \n",
    "preprocessor = PandasPreprocessor()\n",
    "preprocessor.fit(data_df)\n",
    "preprocessor.transform(data_df.iloc[:1])"
   ]
  },
  {
   "cell_type": "code",
   "execution_count": null,
   "metadata": {},
   "outputs": [],
   "source": [
    "from sklearn.pipeline import Pipeline\n",
    "from sklearn.linear_model import LinearRegression\n",
    "\n",
    "# Use our custom transformer in a pipeline\n",
    "pipe = Pipeline([\n",
    "    ('preprocessor', PandasPreprocessor()),\n",
    "    ('estimator', LinearRegression())\n",
    "])"
   ]
  },
  {
   "cell_type": "code",
   "execution_count": null,
   "metadata": {},
   "outputs": [],
   "source": [
    "from sklearn.model_selection import train_test_split\n",
    "from sklearn.metrics import mean_absolute_error as MAE\n",
    "\n",
    "# Split data\n",
    "X = data_df.drop('casual', axis=1)\n",
    "y = data_df.casual\n",
    "X_tr, X_te, y_tr, y_te = train_test_split(X, y, test_size=0.3, random_state=0)\n",
    "\n",
    "# Evaluate estimator\n",
    "pipe.fit(X_tr, y_tr)\n",
    "print('MAE: {:.0f}'.format(MAE(y_te, pipe.predict(X_te))))"
   ]
  }
 ],
 "metadata": {
  "kernelspec": {
   "display_name": "Python 3",
   "language": "python",
   "name": "python3"
  },
  "language_info": {
   "codemirror_mode": {
    "name": "ipython",
    "version": 3
   },
   "file_extension": ".py",
   "mimetype": "text/x-python",
   "name": "python",
   "nbconvert_exporter": "python",
   "pygments_lexer": "ipython3",
   "version": "3.6.7"
  }
 },
 "nbformat": 4,
 "nbformat_minor": 2
}
