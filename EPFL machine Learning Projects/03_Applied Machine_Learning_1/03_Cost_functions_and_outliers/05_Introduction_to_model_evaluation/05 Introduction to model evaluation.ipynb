{
 "cells": [
  {
   "cell_type": "markdown",
   "metadata": {},
   "source": [
    "Introduction to model evaluation\n",
    "---"
   ]
  },
  {
   "cell_type": "code",
   "execution_count": 1,
   "metadata": {},
   "outputs": [
    {
     "data": {
      "text/html": [
       "<div>\n",
       "<style scoped>\n",
       "    .dataframe tbody tr th:only-of-type {\n",
       "        vertical-align: middle;\n",
       "    }\n",
       "\n",
       "    .dataframe tbody tr th {\n",
       "        vertical-align: top;\n",
       "    }\n",
       "\n",
       "    .dataframe thead th {\n",
       "        text-align: right;\n",
       "    }\n",
       "</style>\n",
       "<table border=\"1\" class=\"dataframe\">\n",
       "  <thead>\n",
       "    <tr style=\"text-align: right;\">\n",
       "      <th></th>\n",
       "      <th>temp</th>\n",
       "      <th>users</th>\n",
       "      <th>pred_lr</th>\n",
       "      <th>pred_poly3</th>\n",
       "      <th>pred_huber3</th>\n",
       "    </tr>\n",
       "  </thead>\n",
       "  <tbody>\n",
       "    <tr>\n",
       "      <th>0</th>\n",
       "      <td>0.1508</td>\n",
       "      <td>41</td>\n",
       "      <td>146</td>\n",
       "      <td>44</td>\n",
       "      <td>51</td>\n",
       "    </tr>\n",
       "    <tr>\n",
       "      <th>1</th>\n",
       "      <td>0.1609</td>\n",
       "      <td>54</td>\n",
       "      <td>161</td>\n",
       "      <td>53</td>\n",
       "      <td>52</td>\n",
       "    </tr>\n",
       "    <tr>\n",
       "      <th>2</th>\n",
       "      <td>0.1727</td>\n",
       "      <td>25</td>\n",
       "      <td>178</td>\n",
       "      <td>66</td>\n",
       "      <td>55</td>\n",
       "    </tr>\n",
       "    <tr>\n",
       "      <th>3</th>\n",
       "      <td>0.1775</td>\n",
       "      <td>75</td>\n",
       "      <td>185</td>\n",
       "      <td>72</td>\n",
       "      <td>57</td>\n",
       "    </tr>\n",
       "    <tr>\n",
       "      <th>4</th>\n",
       "      <td>0.1822</td>\n",
       "      <td>74</td>\n",
       "      <td>192</td>\n",
       "      <td>78</td>\n",
       "      <td>60</td>\n",
       "    </tr>\n",
       "  </tbody>\n",
       "</table>\n",
       "</div>"
      ],
      "text/plain": [
       "     temp  users  pred_lr  pred_poly3  pred_huber3\n",
       "0  0.1508     41      146          44           51\n",
       "1  0.1609     54      161          53           52\n",
       "2  0.1727     25      178          66           55\n",
       "3  0.1775     75      185          72           57\n",
       "4  0.1822     74      192          78           60"
      ]
     },
     "execution_count": 1,
     "metadata": {},
     "output_type": "execute_result"
    }
   ],
   "source": [
    "import pandas as pd\n",
    "\n",
    "# Load data\n",
    "data_df = pd.read_csv('three-models.csv')\n",
    "data_df.head()"
   ]
  },
  {
   "cell_type": "code",
   "execution_count": 2,
   "metadata": {},
   "outputs": [
    {
     "data": {
      "image/png": "[encoded data removed]",
      "text/plain": [
       "<Figure size 432x288 with 1 Axes>"
      ]
     },
     "metadata": {
      "needs_background": "light"
     },
     "output_type": "display_data"
    }
   ],
   "source": [
    "%matplotlib inline\n",
    "import matplotlib.pyplot as plt\n",
    "\n",
    "# Extract variables\n",
    "x = data_df.temp.values\n",
    "y = data_df.users.values\n",
    "\n",
    "# Plot the models\n",
    "plt.scatter(x, y, s=10)\n",
    "plt.plot(x, data_df.pred_lr, c='C0', label='linear regression')\n",
    "plt.plot(x, data_df.pred_poly3, c='C2', label='polyfit(deg=3)')\n",
    "plt.plot(x, data_df.pred_huber3, c='C3', label='with Huber loss')\n",
    "plt.legend()\n",
    "plt.show()"
   ]
  },
  {
   "cell_type": "code",
   "execution_count": 3,
   "metadata": {},
   "outputs": [
    {
     "name": "stdout",
     "output_type": "stream",
     "text": [
      "linear regression: 232.53050786099598\n",
      "polyfit(deg=3): 210.55145192395318\n",
      "with huber loss: 215.66518077491205\n"
     ]
    }
   ],
   "source": [
    "import numpy as np\n",
    "\n",
    "# Root mean squared error\n",
    "def RMSE(y, y_pred):\n",
    "    mse = np.mean(np.square(y - y_pred)) # MSE\n",
    "    return np.sqrt(mse) # RMSE\n",
    "\n",
    "rmse_lr = RMSE(y, data_df.pred_lr)\n",
    "rmse_poly3 = RMSE(y, data_df.pred_poly3)\n",
    "rmse_huber3 = RMSE(y, data_df.pred_huber3)\n",
    "\n",
    "# Print values\n",
    "print('linear regression:', rmse_lr) # 232.53\n",
    "print('polyfit(deg=3):', rmse_poly3) # 210.55\n",
    "print('with huber loss:', rmse_huber3) # 215.67"
   ]
  },
  {
   "cell_type": "code",
   "execution_count": 4,
   "metadata": {},
   "outputs": [
    {
     "name": "stdout",
     "output_type": "stream",
     "text": [
      "linear regression: 186.58278145695365\n",
      "polyfit(deg=3): 161.71523178807948\n",
      "with huber loss: 164.75496688741723\n"
     ]
    }
   ],
   "source": [
    "import numpy as np\n",
    "\n",
    "# Mean absolute error\n",
    "def MAE(y, y_pred):\n",
    "    return np.mean(np.abs(y - y_pred))\n",
    "\n",
    "mae_lr = MAE(y, data_df.pred_lr)\n",
    "mae_poly3 = MAE(y, data_df.pred_poly3)\n",
    "mae_huber3 = MAE(y, data_df.pred_huber3)\n",
    "\n",
    "# Print values\n",
    "print('linear regression:', mae_lr) # 186.58\n",
    "print('polyfit(deg=3):', mae_poly3) # 161.72\n",
    "print('with huber loss:', mae_huber3) # 164.75\n"
   ]
  },
  {
   "cell_type": "markdown",
   "metadata": {},
   "source": [
    "The advantage of MAE is that it has a clear interpretation. For instance, in our example, predictions from the poly3 model are wrong by, in average, 162 users. "
   ]
  },
  {
   "cell_type": "code",
   "execution_count": 5,
   "metadata": {},
   "outputs": [
    {
     "data": {
      "text/plain": [
       "371.11459394676217"
      ]
     },
     "execution_count": 5,
     "metadata": {},
     "output_type": "execute_result"
    }
   ],
   "source": [
    "# Compute baseline\n",
    "pred_baseline = np.mean(y) # equals to 674.7218543\n",
    "rmse_baseline = RMSE(y, pred_baseline)\n",
    "rmse_baseline # 371.11"
   ]
  },
  {
   "cell_type": "code",
   "execution_count": 6,
   "metadata": {},
   "outputs": [
    {
     "data": {
      "text/plain": [
       "array([674.7218543, 674.7218543, 674.7218543, 674.7218543, 674.7218543,\n",
       "       674.7218543, 674.7218543, 674.7218543, 674.7218543, 674.7218543,\n",
       "       674.7218543, 674.7218543, 674.7218543, 674.7218543, 674.7218543,\n",
       "       674.7218543, 674.7218543, 674.7218543, 674.7218543, 674.7218543,\n",
       "       674.7218543, 674.7218543, 674.7218543, 674.7218543, 674.7218543,\n",
       "       674.7218543, 674.7218543, 674.7218543, 674.7218543, 674.7218543,\n",
       "       674.7218543, 674.7218543, 674.7218543, 674.7218543, 674.7218543,\n",
       "       674.7218543, 674.7218543, 674.7218543, 674.7218543, 674.7218543,\n",
       "       674.7218543, 674.7218543, 674.7218543, 674.7218543, 674.7218543,\n",
       "       674.7218543, 674.7218543, 674.7218543, 674.7218543, 674.7218543,\n",
       "       674.7218543, 674.7218543, 674.7218543, 674.7218543, 674.7218543,\n",
       "       674.7218543, 674.7218543, 674.7218543, 674.7218543, 674.7218543,\n",
       "       674.7218543, 674.7218543, 674.7218543, 674.7218543, 674.7218543,\n",
       "       674.7218543, 674.7218543, 674.7218543, 674.7218543, 674.7218543,\n",
       "       674.7218543, 674.7218543, 674.7218543, 674.7218543, 674.7218543,\n",
       "       674.7218543, 674.7218543, 674.7218543, 674.7218543, 674.7218543,\n",
       "       674.7218543, 674.7218543, 674.7218543, 674.7218543, 674.7218543,\n",
       "       674.7218543, 674.7218543, 674.7218543, 674.7218543, 674.7218543,\n",
       "       674.7218543, 674.7218543, 674.7218543, 674.7218543, 674.7218543,\n",
       "       674.7218543, 674.7218543, 674.7218543, 674.7218543, 674.7218543,\n",
       "       674.7218543, 674.7218543, 674.7218543, 674.7218543, 674.7218543,\n",
       "       674.7218543, 674.7218543, 674.7218543, 674.7218543, 674.7218543,\n",
       "       674.7218543, 674.7218543, 674.7218543, 674.7218543, 674.7218543,\n",
       "       674.7218543, 674.7218543, 674.7218543, 674.7218543, 674.7218543,\n",
       "       674.7218543, 674.7218543, 674.7218543, 674.7218543, 674.7218543,\n",
       "       674.7218543, 674.7218543, 674.7218543, 674.7218543, 674.7218543,\n",
       "       674.7218543, 674.7218543, 674.7218543, 674.7218543, 674.7218543,\n",
       "       674.7218543, 674.7218543, 674.7218543, 674.7218543, 674.7218543,\n",
       "       674.7218543, 674.7218543, 674.7218543, 674.7218543, 674.7218543,\n",
       "       674.7218543, 674.7218543, 674.7218543, 674.7218543, 674.7218543,\n",
       "       674.7218543])"
      ]
     },
     "execution_count": 6,
     "metadata": {},
     "output_type": "execute_result"
    }
   ],
   "source": [
    "# Vector with predictions from the baseline\n",
    "pred_baseline = np.full_like(y, fill_value=np.mean(y), dtype=np.float)\n",
    "pred_baseline # Returns: array([ 674.7218543, 674.7218543,  ..."
   ]
  },
  {
   "cell_type": "code",
   "execution_count": 8,
   "metadata": {},
   "outputs": [
    {
     "data": {
      "text/plain": [
       "DummyRegressor(constant=None, quantile=None, strategy='mean')"
      ]
     },
     "execution_count": 8,
     "metadata": {},
     "output_type": "execute_result"
    }
   ],
   "source": [
    "from sklearn.dummy import DummyRegressor\n",
    "\n",
    "# Create the DummyRegressor object\n",
    "dummy = DummyRegressor(strategy='mean')"
   ]
  },
  {
   "cell_type": "code",
   "execution_count": 10,
   "metadata": {},
   "outputs": [],
   "source": [
    "# Fit the estimator\n",
    "dummy.fit(x[:, np.newaxis], y);"
   ]
  },
  {
   "cell_type": "code",
   "execution_count": 11,
   "metadata": {},
   "outputs": [
    {
     "data": {
      "text/plain": [
       "371.11459394676217"
      ]
     },
     "execution_count": 11,
     "metadata": {},
     "output_type": "execute_result"
    }
   ],
   "source": [
    "# Vector with predictions from the baseline\n",
    "pred_baseline = dummy.predict(x[:, np.newaxis])\n",
    "\n",
    "rmse_baseline = RMSE(y, pred_baseline)\n",
    "rmse_baseline # Returns: 371.11459394676217"
   ]
  },
  {
   "cell_type": "code",
   "execution_count": 12,
   "metadata": {},
   "outputs": [
    {
     "data": {
      "image/png": "[encoded data removed]",
      "text/plain": [
       "<Figure size 432x288 with 1 Axes>"
      ]
     },
     "metadata": {
      "needs_background": "light"
     },
     "output_type": "display_data"
    }
   ],
   "source": [
    "# Bar chart\n",
    "plt.bar([1, 2, 3, 4], [rmse_baseline, rmse_lr, rmse_poly3, rmse_huber3])\n",
    "plt.xticks([1, 2, 3, 4], ['baseline (mean)', 'linreg', 'poly3', 'huber3'])\n",
    "plt.show()"
   ]
  },
  {
   "cell_type": "code",
   "execution_count": null,
   "metadata": {},
   "outputs": [],
   "source": []
  }
 ],
 "metadata": {
  "kernelspec": {
   "display_name": "Python 3",
   "language": "python",
   "name": "python3"
  },
  "language_info": {
   "codemirror_mode": {
    "name": "ipython",
    "version": 3
   },
   "file_extension": ".py",
   "mimetype": "text/x-python",
   "name": "python",
   "nbconvert_exporter": "python",
   "pygments_lexer": "ipython3",
   "version": "3.6.13"
  }
 },
 "nbformat": 4,
 "nbformat_minor": 4
}
