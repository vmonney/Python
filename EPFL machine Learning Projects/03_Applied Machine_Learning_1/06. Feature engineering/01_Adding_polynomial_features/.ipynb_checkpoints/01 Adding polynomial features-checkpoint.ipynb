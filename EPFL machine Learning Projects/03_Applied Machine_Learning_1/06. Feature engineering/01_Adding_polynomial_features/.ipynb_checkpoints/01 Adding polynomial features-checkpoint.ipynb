{
 "cells": [
  {
   "cell_type": "markdown",
   "metadata": {},
   "source": [
    "Adding polynomial features\n",
    "---"
   ]
  },
  {
   "cell_type": "code",
   "execution_count": 1,
   "metadata": {},
   "outputs": [
    {
     "name": "stdout",
     "output_type": "stream",
     "text": [
      "Shape: (57, 2)\n"
     ]
    },
    {
     "data": {
      "text/html": [
       "<div>\n",
       "<style scoped>\n",
       "    .dataframe tbody tr th:only-of-type {\n",
       "        vertical-align: middle;\n",
       "    }\n",
       "\n",
       "    .dataframe tbody tr th {\n",
       "        vertical-align: top;\n",
       "    }\n",
       "\n",
       "    .dataframe thead th {\n",
       "        text-align: right;\n",
       "    }\n",
       "</style>\n",
       "<table border=\"1\" class=\"dataframe\">\n",
       "  <thead>\n",
       "    <tr style=\"text-align: right;\">\n",
       "      <th></th>\n",
       "      <th>Temperature [°F]</th>\n",
       "      <th>Energy Consumption [Wh/mil]</th>\n",
       "    </tr>\n",
       "  </thead>\n",
       "  <tbody>\n",
       "    <tr>\n",
       "      <th>0</th>\n",
       "      <td>-15</td>\n",
       "      <td>460</td>\n",
       "    </tr>\n",
       "    <tr>\n",
       "      <th>1</th>\n",
       "      <td>-12</td>\n",
       "      <td>398</td>\n",
       "    </tr>\n",
       "    <tr>\n",
       "      <th>2</th>\n",
       "      <td>-8</td>\n",
       "      <td>460</td>\n",
       "    </tr>\n",
       "    <tr>\n",
       "      <th>3</th>\n",
       "      <td>-7</td>\n",
       "      <td>540</td>\n",
       "    </tr>\n",
       "    <tr>\n",
       "      <th>4</th>\n",
       "      <td>-6</td>\n",
       "      <td>347</td>\n",
       "    </tr>\n",
       "  </tbody>\n",
       "</table>\n",
       "</div>"
      ],
      "text/plain": [
       "   Temperature [°F]  Energy Consumption [Wh/mil]\n",
       "0               -15                          460\n",
       "1               -12                          398\n",
       "2                -8                          460\n",
       "3                -7                          540\n",
       "4                -6                          347"
      ]
     },
     "execution_count": 1,
     "metadata": {},
     "output_type": "execute_result"
    }
   ],
   "source": [
    "import pandas as pd\n",
    "\n",
    "# Load the data\n",
    "data_df = pd.read_csv('electric-cars.csv')\n",
    "\n",
    "# Print shape\n",
    "print('Shape:', data_df.shape)\n",
    "\n",
    "# First five rows\n",
    "data_df.head()"
   ]
  },
  {
   "cell_type": "code",
   "execution_count": 2,
   "metadata": {},
   "outputs": [
    {
     "data": {
      "image/png": "[encoded data removed]",
      "text/plain": [
       "<Figure size 432x288 with 1 Axes>"
      ]
     },
     "metadata": {
      "needs_background": "light"
     },
     "output_type": "display_data"
    }
   ],
   "source": [
    "# Extract x, y data\n",
    "x = data_df.iloc[:, 0].values # Temperatures\n",
    "y = data_df.iloc[:, 1].values # Consumption\n",
    "\n",
    "# Plot data\n",
    "%matplotlib inline\n",
    "import matplotlib.pyplot as plt\n",
    "\n",
    "data_df.plot.scatter('Temperature [°F]', 'Energy Consumption [Wh/mil]')\n",
    "plt.show()"
   ]
  },
  {
   "cell_type": "code",
   "execution_count": 3,
   "metadata": {},
   "outputs": [],
   "source": [
    "from sklearn.preprocessing import PolynomialFeatures"
   ]
  },
  {
   "cell_type": "code",
   "execution_count": 4,
   "metadata": {},
   "outputs": [
    {
     "name": "stdout",
     "output_type": "stream",
     "text": [
      "Shape: (57, 3)\n"
     ]
    }
   ],
   "source": [
    "import numpy as np\n",
    "\n",
    "# Create the object\n",
    "pf_obj = PolynomialFeatures(degree=2)\n",
    "\n",
    "## all in one step\n",
    "# Create the polynomial features\n",
    "X2 = pf_obj.fit_transform(\n",
    "    # Pass two dimensional array\n",
    "    x[:, np.newaxis] # (57,) -> (57,1)\n",
    ")\n",
    "\n",
    "print('Shape:', X2.shape)"
   ]
  },
  {
   "cell_type": "code",
   "execution_count": 8,
   "metadata": {},
   "outputs": [],
   "source": [
    "# Alternative in two steps\n",
    "# Fit the preprocessor\n",
    "pf_obj.fit(x[:, np.newaxis])\n",
    "\n",
    "# Create the polynomial features\n",
    "X2 = pf_obj.transform((x[:, np.newaxis]))"
   ]
  },
  {
   "cell_type": "code",
   "execution_count": 9,
   "metadata": {},
   "outputs": [
    {
     "name": "stdout",
     "output_type": "stream",
     "text": [
      "Features: ['1', 'x0', 'x0^2']\n"
     ]
    }
   ],
   "source": [
    "# Get feature names\n",
    "feature_names = pf_obj.get_feature_names()\n",
    "\n",
    "print('Features:', feature_names)"
   ]
  },
  {
   "cell_type": "code",
   "execution_count": null,
   "metadata": {},
   "outputs": [],
   "source": [
    "# Create the object\n",
    "pf_obj = PolynomialFeatures(degree=2, include_bias=False)\n",
    "\n",
    "# Create the polynomial features\n",
    "X2 = pf_obj.fit_transform(x[:, np.newaxis])\n",
    "\n",
    "# Get feature names\n",
    "feature_names = pf_obj.get_feature_names()\n",
    "\n",
    "print('Features:', feature_names)"
   ]
  },
  {
   "cell_type": "code",
   "execution_count": null,
   "metadata": {},
   "outputs": [],
   "source": [
    "# Create the polynomial features manually\n",
    "X2 = np.c_[x, x**2]"
   ]
  },
  {
   "cell_type": "code",
   "execution_count": null,
   "metadata": {},
   "outputs": [],
   "source": [
    "from sklearn.linear_model import LinearRegression\n",
    "\n",
    "# Create linear regression\n",
    "linreg = LinearRegression()\n",
    "\n",
    "# Fit it\n",
    "linreg.fit(X2, y);"
   ]
  },
  {
   "cell_type": "code",
   "execution_count": null,
   "metadata": {},
   "outputs": [],
   "source": [
    "# Generate a hundred values between min(x) and max(x)\n",
    "x_values = np.linspace(min(x), max(x), num=100)\n",
    "X_values2 = pf_obj.transform(x_values[:, np.newaxis])"
   ]
  },
  {
   "cell_type": "code",
   "execution_count": null,
   "metadata": {},
   "outputs": [],
   "source": [
    "X_values2 = np.c_[x_values, x_values**2]"
   ]
  },
  {
   "cell_type": "code",
   "execution_count": null,
   "metadata": {},
   "outputs": [],
   "source": [
    "# Compute predictions\n",
    "y_values = linreg.predict(X_values2)\n",
    "\n",
    "# Plot predictions\n",
    "data_df.plot.scatter('Temperature [°F]', 'Energy Consumption [Wh/mil]')\n",
    "plt.plot(x_values, y_values, color='C3')\n",
    "plt.show()"
   ]
  },
  {
   "cell_type": "markdown",
   "metadata": {},
   "source": [
    "Additional info\n",
    "---\n",
    "\n",
    "Data adapted from [this paper][paper-link] - Effects of Regional Temperature on Electric Vehicle Efficiency, Range, and Emissions in the United States.\n",
    "\n",
    "[paper-link]:http://pubs.acs.org/doi/abs/10.1021/es505621s"
   ]
  }
 ],
 "metadata": {
  "kernelspec": {
   "display_name": "Python 3",
   "language": "python",
   "name": "python3"
  },
  "language_info": {
   "codemirror_mode": {
    "name": "ipython",
    "version": 3
   },
   "file_extension": ".py",
   "mimetype": "text/x-python",
   "name": "python",
   "nbconvert_exporter": "python",
   "pygments_lexer": "ipython3",
   "version": "3.6.13"
  }
 },
 "nbformat": 4,
 "nbformat_minor": 4
}
