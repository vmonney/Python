{
 "cells": [
  {
   "cell_type": "markdown",
   "metadata": {},
   "source": [
    "Support vector machines\n",
    "---"
   ]
  },
  {
   "cell_type": "code",
   "execution_count": null,
   "metadata": {},
   "outputs": [],
   "source": [
    "from sklearn.datasets import make_circles\n",
    "\n",
    "# Generate circle data set\n",
    "X, y = make_circles(\n",
    "    n_samples=200, shuffle=True, noise=0.3, random_state=0, factor=0.3)"
   ]
  },
  {
   "cell_type": "code",
   "execution_count": null,
   "metadata": {},
   "outputs": [],
   "source": [
    "from sklearn.svm import LinearSVC\n",
    "\n",
    "# Create SVM with linear kernel\n",
    "linear_svc = LinearSVC()\n",
    "\n",
    "# Fit estimator\n",
    "linear_svc.fit(X, y);"
   ]
  },
  {
   "cell_type": "code",
   "execution_count": null,
   "metadata": {},
   "outputs": [],
   "source": [
    "%matplotlib inline\n",
    "import matplotlib.pyplot as plt\n",
    "import numpy as np\n",
    "\n",
    "# Helper function\n",
    "def decision_surface(ax, x1, x2, y, estimator):\n",
    "    # Same scale for x- and y-axis\n",
    "    ax.set_aspect('equal', adjustable='box')\n",
    "\n",
    "    # Plot data points\n",
    "    class1_idx = (y == 1)\n",
    "    plt.scatter(x1[class1_idx], x2[class1_idx], color='C3', label='class 1')\n",
    "    plt.scatter(x1[~class1_idx], x2[~class1_idx], color='C0', label='class 0')\n",
    "\n",
    "    # Create a grid of values\n",
    "    xlim, ylim = ax.get_xlim(), ax.get_ylim()\n",
    "    x_values = np.linspace(*xlim, num=500)\n",
    "    y_values = np.linspace(*ylim, num=500)\n",
    "    xx, yy = np.meshgrid(x_values, y_values)\n",
    "    grid_points = np.c_[xx.flatten(), yy.flatten()]\n",
    "\n",
    "    # Compute predictions\n",
    "    preds = estimator.predict(grid_points)\n",
    "    zz = preds.reshape(xx.shape)\n",
    "\n",
    "    # Draw decision boundary\n",
    "    plt.contour(xx, yy, zz, levels=[0.5], colors='gray')\n",
    "    \n",
    "    # Plot decision surface with level curves\n",
    "    plt.contourf(xx, yy, zz, alpha=0.1, cmap=plt.cm.coolwarm)\n",
    "    plt.legend()\n",
    "    plt.show()"
   ]
  },
  {
   "cell_type": "code",
   "execution_count": null,
   "metadata": {},
   "outputs": [],
   "source": [
    "# Plot decision surface\n",
    "fig, ax = plt.subplots()\n",
    "decision_surface(ax, X[:, 0], X[:, 1], y, linear_svc)"
   ]
  },
  {
   "cell_type": "code",
   "execution_count": null,
   "metadata": {},
   "outputs": [],
   "source": [
    "from sklearn.svm import SVC\n",
    "\n",
    "# Create SVM with RBF kernel\n",
    "rbf_svc_c1 = SVC(kernel='rbf', C=1, gamma='auto')\n",
    "\n",
    "# Fit estimator\n",
    "rbf_svc_c1.fit(X, y);"
   ]
  },
  {
   "cell_type": "code",
   "execution_count": null,
   "metadata": {},
   "outputs": [],
   "source": [
    "# Plot decision surface\n",
    "fig, ax = plt.subplots()\n",
    "decision_surface(ax, X[:, 0], X[:, 1], y, rbf_svc_c1)"
   ]
  },
  {
   "cell_type": "code",
   "execution_count": null,
   "metadata": {},
   "outputs": [],
   "source": [
    "# Create SVM estimator with RBF kernel and C=0.1\n",
    "rbf_svc_c01 = SVC(kernel='rbf', C=0.1, gamma='auto')\n",
    "\n",
    "# Fit estimator\n",
    "rbf_svc_c01.fit(X, y)\n",
    "\n",
    "# Plot decision surface\n",
    "fig, ax = plt.subplots()\n",
    "decision_surface(ax, X[:, 0], X[:, 1], y, rbf_svc_c01)"
   ]
  },
  {
   "cell_type": "code",
   "execution_count": null,
   "metadata": {},
   "outputs": [],
   "source": [
    "# Create RBF SVM with C=1 and gamma=100\n",
    "rbf_svc_g100 = SVC(kernel='rbf', C=1, gamma=100)\n",
    "\n",
    "# Fit estimator\n",
    "rbf_svc_g100.fit(X, y)\n",
    "\n",
    "# Plot decision surface\n",
    "fig, ax = plt.subplots()\n",
    "decision_surface(ax, X[:, 0], X[:, 1], y, rbf_svc_g100)"
   ]
  },
  {
   "cell_type": "code",
   "execution_count": null,
   "metadata": {},
   "outputs": [],
   "source": [
    "# Create RBF SVM with C=1 and large gamma value\n",
    "rbf_svc_g1000 = SVC(kernel='rbf', C=1, gamma=1000)\n",
    "\n",
    "# Fit estimator\n",
    "rbf_svc_g1000.fit(X, y)\n",
    "\n",
    "# Plot decision surface\n",
    "fig, ax = plt.subplots()\n",
    "decision_surface(ax, X[:, 0], X[:, 1], y, rbf_svc_g1000)"
   ]
  },
  {
   "cell_type": "code",
   "execution_count": null,
   "metadata": {},
   "outputs": [],
   "source": [
    "# Create RBF SVM with C=1 and gamma=0.1\n",
    "rbf_svc_g01 = SVC(kernel='rbf', C=1, gamma=0.1)\n",
    "\n",
    "# Fit estimator\n",
    "rbf_svc_g01.fit(X, y)\n",
    "\n",
    "# Plot decision surface\n",
    "fig, ax = plt.subplots()\n",
    "decision_surface(ax, X[:, 0], X[:, 1], y, rbf_svc_g01)"
   ]
  },
  {
   "cell_type": "code",
   "execution_count": null,
   "metadata": {},
   "outputs": [],
   "source": [
    "# Create RBF SVM with C=1 and small gamma value\n",
    "rbf_svc_g001 = SVC(kernel='rbf', C=1, gamma=0.01)\n",
    "\n",
    "# Fit estimator\n",
    "rbf_svc_g001.fit(X, y)\n",
    "\n",
    "# Plot decision surface\n",
    "fig, ax = plt.subplots()\n",
    "decision_surface(ax, X[:, 0], X[:, 1], y, rbf_svc_g001)"
   ]
  }
 ],
 "metadata": {
  "kernelspec": {
   "display_name": "Python 3",
   "language": "python",
   "name": "python3"
  },
  "language_info": {
   "codemirror_mode": {
    "name": "ipython",
    "version": 3
   },
   "file_extension": ".py",
   "mimetype": "text/x-python",
   "name": "python",
   "nbconvert_exporter": "python",
   "pygments_lexer": "ipython3",
   "version": "3.6.8"
  }
 },
 "nbformat": 4,
 "nbformat_minor": 4
}
