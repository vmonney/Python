{
 "cells": [
  {
   "cell_type": "markdown",
   "metadata": {},
   "source": [
    "Random forests\n",
    "---"
   ]
  },
  {
   "cell_type": "code",
   "execution_count": null,
   "metadata": {},
   "outputs": [],
   "source": [
    "from sklearn.datasets import make_circles\n",
    "\n",
    "# Generate circle data set\n",
    "X, y = make_circles(\n",
    "    n_samples=200, shuffle=True, noise=0.3, random_state=0, factor=0.3)"
   ]
  },
  {
   "cell_type": "code",
   "execution_count": null,
   "metadata": {},
   "outputs": [],
   "source": [
    "%matplotlib inline\n",
    "import matplotlib.pyplot as plt\n",
    "\n",
    "# Same scale for x- and y-axis\n",
    "fig, ax = plt.subplots()\n",
    "ax.set_aspect('equal', adjustable='box')\n",
    "\n",
    "# Plot data\n",
    "class1_idx = (y == 1)\n",
    "ax.scatter(X[:, 0][class1_idx], X[:, 1][class1_idx], c='C3', label='class 1')\n",
    "ax.scatter(X[:, 0][~class1_idx], X[:, 1][~class1_idx], c='C0', label='class 0')\n",
    "ax.legend()\n",
    "plt.show()"
   ]
  },
  {
   "cell_type": "code",
   "execution_count": null,
   "metadata": {},
   "outputs": [],
   "source": [
    "from sklearn.ensemble import RandomForestClassifier\n",
    "\n",
    "# Create a decision tree\n",
    "dt = RandomForestClassifier(\n",
    "    n_estimators=1, max_depth=5, random_state=0)\n",
    "\n",
    "# Fit estimator\n",
    "dt.fit(X, y)"
   ]
  },
  {
   "cell_type": "code",
   "execution_count": null,
   "metadata": {},
   "outputs": [],
   "source": [
    "import numpy as np\n",
    "\n",
    "# Helper function\n",
    "def decision_surface(ax, x1, x2, y, estimator):\n",
    "    # Same scale for x- and y-axis\n",
    "    ax.set_aspect('equal', adjustable='box')\n",
    "\n",
    "    # Plot data points\n",
    "    class1_idx = (y == 1)\n",
    "    plt.scatter(x1[class1_idx], x2[class1_idx], color='C3', label='class 1')\n",
    "    plt.scatter(x1[~class1_idx], x2[~class1_idx], color='C0', label='class 0')\n",
    "\n",
    "    # Create a grid of values\n",
    "    xlim, ylim = ax.get_xlim(), ax.get_ylim()\n",
    "    x_values = np.linspace(*xlim, num=500)\n",
    "    y_values = np.linspace(*ylim, num=500)\n",
    "    xx, yy = np.meshgrid(x_values, y_values)\n",
    "    grid_points = np.c_[xx.flatten(), yy.flatten()]\n",
    "\n",
    "    # Compute predictions\n",
    "    preds = estimator.predict(grid_points)\n",
    "    zz = preds.reshape(xx.shape)\n",
    "\n",
    "    # Draw decision boundary\n",
    "    plt.contour(xx, yy, zz, levels=[0.5], colors='gray')\n",
    "    \n",
    "    # Plot decision surface with level curves\n",
    "    plt.contourf(xx, yy, zz, alpha=0.1, cmap=plt.cm.coolwarm)\n",
    "    plt.legend()\n",
    "    plt.show()"
   ]
  },
  {
   "cell_type": "code",
   "execution_count": null,
   "metadata": {},
   "outputs": [],
   "source": [
    "# Plot decision surface\n",
    "fig, ax = plt.subplots()\n",
    "decision_surface(ax, X[:, 0], X[:, 1], y, dt)"
   ]
  },
  {
   "cell_type": "code",
   "execution_count": null,
   "metadata": {},
   "outputs": [],
   "source": [
    "# Create a (deep) decision tree\n",
    "dt_max_depth = RandomForestClassifier(\n",
    "    n_estimators=1, max_depth=None, random_state=0)\n",
    "\n",
    "# Fit estimator\n",
    "dt_max_depth.fit(X, y)\n",
    "\n",
    "# Plot decision surface\n",
    "fig, ax = plt.subplots()\n",
    "decision_surface(ax, X[:, 0], X[:, 1], y, dt_max_depth)"
   ]
  },
  {
   "cell_type": "code",
   "execution_count": null,
   "metadata": {},
   "outputs": [],
   "source": [
    "# Create random forest estimator\n",
    "rf_10 = RandomForestClassifier(\n",
    "    n_estimators=10, max_depth=None, random_state=0)\n",
    "\n",
    "# Fit estimator\n",
    "rf_10.fit(X, y)\n",
    "\n",
    "# Plot decision surface\n",
    "fig, ax = plt.subplots()\n",
    "decision_surface(ax, X[:, 0], X[:, 1], y, rf_10)"
   ]
  },
  {
   "cell_type": "code",
   "execution_count": null,
   "metadata": {},
   "outputs": [],
   "source": [
    "# Create a (large) random forest estimator\n",
    "rf_200 = RandomForestClassifier(\n",
    "    n_estimators=200, max_depth=None, random_state=0)\n",
    "\n",
    "# Fit estimator\n",
    "rf_200.fit(X, y)\n",
    "\n",
    "# Plot decision surface\n",
    "fig, ax = plt.subplots()\n",
    "decision_surface(ax, X[:, 0], X[:, 1], y, rf_200)"
   ]
  },
  {
   "cell_type": "code",
   "execution_count": null,
   "metadata": {},
   "outputs": [],
   "source": [
    "from sklearn.model_selection import cross_validate\n",
    "\n",
    "# Mean test score of a single decision tree (max depth)\n",
    "dt_scores = cross_validate(dt_max_depth, X, y, cv=10)\n",
    "print('Decision tree - mean test {:.3f}'.format(\n",
    "    np.mean(dt_scores['test_score'])))\n",
    "# Prints: 0.780\n",
    "\n",
    "# Mean test score of a random forest (200x, max depth)\n",
    "rf_scores = cross_validate(rf_200, X, y, cv=10)\n",
    "print('Random forest - mean test {:.3f}'.format(\n",
    "    np.mean(rf_scores['test_score'])))\n",
    "# Prints: 0.825"
   ]
  },
  {
   "cell_type": "markdown",
   "metadata": {},
   "source": [
    "Algorithm behind random forests\n",
    "---\n",
    "\n",
    "```python\n",
    "# Build each tree from the random forest\n",
    "for tree in random forest:\n",
    "    # Bagging\n",
    "    X_subset = draw a random subset of data points\n",
    "\n",
    "    # Build each split recursively\n",
    "    for split in tree:\n",
    "        # \"Randomized feature selection\"\n",
    "        idxs = draw a random subset of features\n",
    "\n",
    "        # For each feature: find best \"split condition\"\n",
    "        for i in idxs:\n",
    "            # Conditions of form: X_subset[i] < k\n",
    "            split = Find k with minimum impurity\n",
    "\n",
    "        # Split tree\n",
    "        Use split with minimum impurity\n",
    "```"
   ]
  }
 ],
 "metadata": {
  "kernelspec": {
   "display_name": "Python 3",
   "language": "python",
   "name": "python3"
  },
  "language_info": {
   "codemirror_mode": {
    "name": "ipython",
    "version": 3
   },
   "file_extension": ".py",
   "mimetype": "text/x-python",
   "name": "python",
   "nbconvert_exporter": "python",
   "pygments_lexer": "ipython3",
   "version": "3.6.8"
  }
 },
 "nbformat": 4,
 "nbformat_minor": 4
}
