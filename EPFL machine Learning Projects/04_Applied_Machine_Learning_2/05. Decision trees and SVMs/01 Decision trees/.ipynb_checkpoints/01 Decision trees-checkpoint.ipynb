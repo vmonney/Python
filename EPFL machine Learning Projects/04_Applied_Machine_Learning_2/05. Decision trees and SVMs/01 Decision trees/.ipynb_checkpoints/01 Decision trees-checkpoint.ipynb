{
 "cells": [
  {
   "cell_type": "markdown",
   "metadata": {},
   "source": [
    "Decision trees\n",
    "---"
   ]
  },
  {
   "cell_type": "code",
   "execution_count": 1,
   "metadata": {},
   "outputs": [
    {
     "data": {
      "text/html": [
       "<div>\n",
       "<style scoped>\n",
       "    .dataframe tbody tr th:only-of-type {\n",
       "        vertical-align: middle;\n",
       "    }\n",
       "\n",
       "    .dataframe tbody tr th {\n",
       "        vertical-align: top;\n",
       "    }\n",
       "\n",
       "    .dataframe thead th {\n",
       "        text-align: right;\n",
       "    }\n",
       "</style>\n",
       "<table border=\"1\" class=\"dataframe\">\n",
       "  <thead>\n",
       "    <tr style=\"text-align: right;\">\n",
       "      <th></th>\n",
       "      <th>name</th>\n",
       "      <th>pclass</th>\n",
       "      <th>age</th>\n",
       "      <th>sex</th>\n",
       "      <th>survived</th>\n",
       "    </tr>\n",
       "  </thead>\n",
       "  <tbody>\n",
       "    <tr>\n",
       "      <th>0</th>\n",
       "      <td>Hirvonen, Miss Hildur E</td>\n",
       "      <td>3rd</td>\n",
       "      <td>2</td>\n",
       "      <td>female</td>\n",
       "      <td>0</td>\n",
       "    </tr>\n",
       "    <tr>\n",
       "      <th>1</th>\n",
       "      <td>Van Impe, Miss Catharine</td>\n",
       "      <td>3rd</td>\n",
       "      <td>10</td>\n",
       "      <td>female</td>\n",
       "      <td>0</td>\n",
       "    </tr>\n",
       "    <tr>\n",
       "      <th>2</th>\n",
       "      <td>Sjostedt, Mr Ernst Adolf</td>\n",
       "      <td>2nd</td>\n",
       "      <td>59</td>\n",
       "      <td>male</td>\n",
       "      <td>0</td>\n",
       "    </tr>\n",
       "    <tr>\n",
       "      <th>3</th>\n",
       "      <td>Fortune, Mr Mark</td>\n",
       "      <td>1st</td>\n",
       "      <td>64</td>\n",
       "      <td>male</td>\n",
       "      <td>0</td>\n",
       "    </tr>\n",
       "    <tr>\n",
       "      <th>4</th>\n",
       "      <td>Ware, Mr William J</td>\n",
       "      <td>2nd</td>\n",
       "      <td>23</td>\n",
       "      <td>male</td>\n",
       "      <td>0</td>\n",
       "    </tr>\n",
       "  </tbody>\n",
       "</table>\n",
       "</div>"
      ],
      "text/plain": [
       "                       name pclass  age     sex  survived\n",
       "0   Hirvonen, Miss Hildur E    3rd    2  female         0\n",
       "1  Van Impe, Miss Catharine    3rd   10  female         0\n",
       "2  Sjostedt, Mr Ernst Adolf    2nd   59    male         0\n",
       "3          Fortune, Mr Mark    1st   64    male         0\n",
       "4        Ware, Mr William J    2nd   23    male         0"
      ]
     },
     "execution_count": 1,
     "metadata": {},
     "output_type": "execute_result"
    }
   ],
   "source": [
    "import pandas as pd\n",
    "import os\n",
    "\n",
    "# Load data\n",
    "data_df = pd.read_csv('titanic.csv')\n",
    "\n",
    "# First five rows\n",
    "data_df.head()"
   ]
  },
  {
   "cell_type": "code",
   "execution_count": 2,
   "metadata": {},
   "outputs": [
    {
     "data": {
      "text/html": [
       "<div>\n",
       "<style scoped>\n",
       "    .dataframe tbody tr th:only-of-type {\n",
       "        vertical-align: middle;\n",
       "    }\n",
       "\n",
       "    .dataframe tbody tr th {\n",
       "        vertical-align: top;\n",
       "    }\n",
       "\n",
       "    .dataframe thead th {\n",
       "        text-align: right;\n",
       "    }\n",
       "</style>\n",
       "<table border=\"1\" class=\"dataframe\">\n",
       "  <thead>\n",
       "    <tr style=\"text-align: right;\">\n",
       "      <th></th>\n",
       "      <th>name</th>\n",
       "      <th>age</th>\n",
       "      <th>sex</th>\n",
       "      <th>survived</th>\n",
       "      <th>pclass_1st</th>\n",
       "      <th>pclass_2nd</th>\n",
       "      <th>pclass_3rd</th>\n",
       "    </tr>\n",
       "  </thead>\n",
       "  <tbody>\n",
       "    <tr>\n",
       "      <th>0</th>\n",
       "      <td>Hirvonen, Miss Hildur E</td>\n",
       "      <td>2</td>\n",
       "      <td>1</td>\n",
       "      <td>0</td>\n",
       "      <td>0</td>\n",
       "      <td>0</td>\n",
       "      <td>1</td>\n",
       "    </tr>\n",
       "    <tr>\n",
       "      <th>1</th>\n",
       "      <td>Van Impe, Miss Catharine</td>\n",
       "      <td>10</td>\n",
       "      <td>1</td>\n",
       "      <td>0</td>\n",
       "      <td>0</td>\n",
       "      <td>0</td>\n",
       "      <td>1</td>\n",
       "    </tr>\n",
       "    <tr>\n",
       "      <th>2</th>\n",
       "      <td>Sjostedt, Mr Ernst Adolf</td>\n",
       "      <td>59</td>\n",
       "      <td>0</td>\n",
       "      <td>0</td>\n",
       "      <td>0</td>\n",
       "      <td>1</td>\n",
       "      <td>0</td>\n",
       "    </tr>\n",
       "    <tr>\n",
       "      <th>3</th>\n",
       "      <td>Fortune, Mr Mark</td>\n",
       "      <td>64</td>\n",
       "      <td>0</td>\n",
       "      <td>0</td>\n",
       "      <td>1</td>\n",
       "      <td>0</td>\n",
       "      <td>0</td>\n",
       "    </tr>\n",
       "    <tr>\n",
       "      <th>4</th>\n",
       "      <td>Ware, Mr William J</td>\n",
       "      <td>23</td>\n",
       "      <td>0</td>\n",
       "      <td>0</td>\n",
       "      <td>0</td>\n",
       "      <td>1</td>\n",
       "      <td>0</td>\n",
       "    </tr>\n",
       "  </tbody>\n",
       "</table>\n",
       "</div>"
      ],
      "text/plain": [
       "                       name  age  sex  survived  pclass_1st  pclass_2nd  \\\n",
       "0   Hirvonen, Miss Hildur E    2    1         0           0           0   \n",
       "1  Van Impe, Miss Catharine   10    1         0           0           0   \n",
       "2  Sjostedt, Mr Ernst Adolf   59    0         0           0           1   \n",
       "3          Fortune, Mr Mark   64    0         0           1           0   \n",
       "4        Ware, Mr William J   23    0         0           0           1   \n",
       "\n",
       "   pclass_3rd  \n",
       "0           1  \n",
       "1           1  \n",
       "2           0  \n",
       "3           0  \n",
       "4           0  "
      ]
     },
     "execution_count": 2,
     "metadata": {},
     "output_type": "execute_result"
    }
   ],
   "source": [
    "# One-hot encoding\n",
    "encoded_df = pd.get_dummies(data_df, columns=['pclass'])\n",
    "\n",
    "# Encode binary variables with 0s and 1s\n",
    "encoded_df['sex'] = encoded_df.sex.replace({\n",
    "    'male': 0,\n",
    "    'female': 1\n",
    "})\n",
    "\n",
    "# First five rows\n",
    "encoded_df.head()"
   ]
  },
  {
   "cell_type": "code",
   "execution_count": 3,
   "metadata": {},
   "outputs": [],
   "source": [
    "import numpy as np\n",
    "\n",
    "# Select features\n",
    "features = encoded_df.drop(['name', 'survived'], axis=1)\n",
    "\n",
    "# Create X/y variables\n",
    "X = features\n",
    "y = encoded_df.survived"
   ]
  },
  {
   "cell_type": "code",
   "execution_count": 4,
   "metadata": {},
   "outputs": [],
   "source": [
    "from sklearn.tree import DecisionTreeClassifier\n",
    "\n",
    "# Create decision tree\n",
    "dt = DecisionTreeClassifier(\n",
    "    criterion='gini', max_depth=1, random_state=0)"
   ]
  },
  {
   "cell_type": "code",
   "execution_count": 5,
   "metadata": {},
   "outputs": [
    {
     "data": {
      "text/plain": [
       "0.7791005291005291"
      ]
     },
     "execution_count": 5,
     "metadata": {},
     "output_type": "execute_result"
    }
   ],
   "source": [
    "# Fit decision tree\n",
    "dt.fit(X, y)\n",
    "\n",
    "# Get score\n",
    "dt.score(X, y)"
   ]
  },
  {
   "cell_type": "markdown",
   "metadata": {},
   "source": [
    "We get an accuracy around 78% which is already much better than the \"most-frequent\" baseline.\n",
    "### Baseline"
   ]
  },
  {
   "cell_type": "code",
   "execution_count": 6,
   "metadata": {},
   "outputs": [
    {
     "data": {
      "text/plain": [
       "0    0.585979\n",
       "1    0.414021\n",
       "Name: survived, dtype: float64"
      ]
     },
     "execution_count": 6,
     "metadata": {},
     "output_type": "execute_result"
    }
   ],
   "source": [
    "# Proportion of features in each class\n",
    "pd.value_counts(y, normalize=True)"
   ]
  },
  {
   "cell_type": "markdown",
   "metadata": {},
   "source": [
    "Note that we removed part of the entries labeled with \"died\" in the titanic.csv file to have a more balanced the data set (the survival rate is around 30% according to Wikipedia and not 40% as above). Decision trees try to minimize the impurity at each split. Hence, if there are more samples from one class than the others, it will focus on building rules that correctly classify data points from this class. In our case, we want to build a decision tree that can classify well samples from both categories. Hence, it's important that they have approximately the same number of samples.\n",
    "\n",
    "This problem is not specific to decision trees. For instance, a k-NN classifier will also favor points from the dominant classes when doing the majority vote. This is called the __class imbalance problem.__"
   ]
  },
  {
   "cell_type": "code",
   "execution_count": null,
   "metadata": {},
   "outputs": [],
   "source": [
    "from sklearn.tree import export_graphviz\n",
    "\n",
    "# Export decision tree\n",
    "dot_data = export_graphviz(\n",
    "    dt, out_file=None,\n",
    "    feature_names=features.columns, class_names=['died', 'survived'],\n",
    "    filled=True, rounded=True, proportion=True   \n",
    ")"
   ]
  },
  {
   "cell_type": "code",
   "execution_count": null,
   "metadata": {},
   "outputs": [],
   "source": [
    "import graphviz\n",
    "\n",
    "# Display decision tree\n",
    "graphviz.Source(dot_data)"
   ]
  },
  {
   "cell_type": "code",
   "execution_count": null,
   "metadata": {},
   "outputs": [],
   "source": [
    "# Proportion of samples by sex\n",
    "pd.value_counts(data_df.sex, normalize=True)"
   ]
  },
  {
   "cell_type": "code",
   "execution_count": null,
   "metadata": {},
   "outputs": [],
   "source": [
    "# Cross tabulation of sex and survived\n",
    "crosstab = pd.crosstab(\n",
    "    index=data_df.sex,\n",
    "    columns=data_df.survived,\n",
    "    normalize='index' # Normalize by sex\n",
    ")\n",
    "crosstab"
   ]
  },
  {
   "cell_type": "code",
   "execution_count": null,
   "metadata": {},
   "outputs": [],
   "source": [
    "# Get p(survived) at each leaf\n",
    "p_left = crosstab.loc['male', 1]\n",
    "p_right = crosstab.loc['female', 1]\n",
    "\n",
    "# Compute Gini impurity values\n",
    "i_left = 2*p_left*(1-p_left)\n",
    "i_right = 2*p_right*(1-p_right)\n",
    "print('Gini impurity (left leaf): {:.3f}'.format(i_left))\n",
    "print('Gini impurity (right leaf): {:.3f}'.format(i_right))"
   ]
  },
  {
   "cell_type": "code",
   "execution_count": null,
   "metadata": {},
   "outputs": [],
   "source": [
    "# Create decision tree\n",
    "dt_2 = DecisionTreeClassifier(\n",
    "    criterion='gini', max_depth=2, random_state=0)\n",
    "\n",
    "# Fit decision tree\n",
    "dt_2.fit(X, y)\n",
    "\n",
    "# Get score\n",
    "dt_2.score(X, y)"
   ]
  },
  {
   "cell_type": "code",
   "execution_count": null,
   "metadata": {},
   "outputs": [],
   "source": [
    "# Export decision tree\n",
    "dot_data_2 = export_graphviz(\n",
    "    dt_2, out_file=None,\n",
    "    feature_names=features.columns, class_names=['died', 'survived'],\n",
    "    filled=True, rounded=True, proportion=True   \n",
    ")\n",
    "\n",
    "# Display it\n",
    "graphviz.Source(dot_data_2)"
   ]
  },
  {
   "cell_type": "code",
   "execution_count": null,
   "metadata": {},
   "outputs": [],
   "source": [
    "from sklearn.model_selection import train_test_split\n",
    "\n",
    "# Split into train/test sets\n",
    "X_tr, X_te, y_tr, y_te = train_test_split(\n",
    "    X, y, test_size=0.3, random_state=0)\n",
    "\n",
    "# Create decision tree\n",
    "dt_max_depth = DecisionTreeClassifier(\n",
    "    criterion='gini', max_depth=None, random_state=0)\n",
    "\n",
    "# Fit decision tree\n",
    "dt_max_depth.fit(X_tr, y_tr)\n",
    "\n",
    "# Get train/test scores\n",
    "print('Train accuracy: {:.3f}'.format(\n",
    "    dt_max_depth.score(X_tr, y_tr)))\n",
    "\n",
    "print('Test accuracy: {:.3f}'.format(\n",
    "    dt_max_depth.score(X_te, y_te)))"
   ]
  }
 ],
 "metadata": {
  "kernelspec": {
   "display_name": "Python 3",
   "language": "python",
   "name": "python3"
  },
  "language_info": {
   "codemirror_mode": {
    "name": "ipython",
    "version": 3
   },
   "file_extension": ".py",
   "mimetype": "text/x-python",
   "name": "python",
   "nbconvert_exporter": "python",
   "pygments_lexer": "ipython3",
   "version": "3.6.13"
  }
 },
 "nbformat": 4,
 "nbformat_minor": 4
}
