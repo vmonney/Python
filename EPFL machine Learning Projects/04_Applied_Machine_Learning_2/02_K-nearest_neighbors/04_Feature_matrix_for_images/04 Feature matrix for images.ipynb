{
 "cells": [
  {
   "cell_type": "markdown",
   "metadata": {},
   "source": [
    "Load the images into a feature matrix\n",
    "---"
   ]
  },
  {
   "cell_type": "code",
   "execution_count": 1,
   "metadata": {},
   "outputs": [
    {
     "name": "stdout",
     "output_type": "stream",
     "text": [
      "Shape: (32, 32, 3)\n"
     ]
    }
   ],
   "source": [
    "from PIL import Image\n",
    "import numpy as np\n",
    "\n",
    "# Load the image\n",
    "pillow_img = Image.open('cifar-1.png')\n",
    "\n",
    "# Convert it into a Numpy array\n",
    "img = np.array(pillow_img)\n",
    "\n",
    "# Print shape\n",
    "print('Shape:', img.shape)"
   ]
  },
  {
   "cell_type": "code",
   "execution_count": 3,
   "metadata": {},
   "outputs": [
    {
     "name": "stdout",
     "output_type": "stream",
     "text": [
      "Shape: (3072,)\n"
     ]
    }
   ],
   "source": [
    "# Flatten the array\n",
    "flat_img = img.flatten()\n",
    "\n",
    "# Print shape\n",
    "print('Shape:', flat_img.shape)"
   ]
  },
  {
   "cell_type": "code",
   "execution_count": 4,
   "metadata": {},
   "outputs": [],
   "source": [
    "# Five images from the CIFAR-10 data set\n",
    "files = [\n",
    "    'cifar-1.png',\n",
    "    'cifar-2.png',\n",
    "    'cifar-3.png',\n",
    "    'cifar-4.png',\n",
    "    'cifar-5.png'\n",
    "]\n",
    "\n",
    "# Feature matrix\n",
    "features = []\n",
    "\n",
    "for file in files:\n",
    "    # Load the image\n",
    "    pillow_img = Image.open(file)\n",
    "    \n",
    "    # Convert it into a Numpy array\n",
    "    img = np.array(pillow_img)\n",
    "    \n",
    "    # Flatten the array\n",
    "    flat_img = img.flatten()\n",
    "    \n",
    "    # Add it to the feature matrix\n",
    "    features.append(flat_img)"
   ]
  },
  {
   "cell_type": "code",
   "execution_count": 8,
   "metadata": {},
   "outputs": [
    {
     "name": "stdout",
     "output_type": "stream",
     "text": [
      "shape: (5, 3072)\n",
      "dtype: uint8\n"
     ]
    }
   ],
   "source": [
    "# Create input matrix\n",
    "X = np.array(features)\n",
    "\n",
    "# Print shape\n",
    "print('shape:', X.shape)\n",
    "\n",
    "# Print data type\n",
    "print('dtype:', X.dtype)"
   ]
  },
  {
   "cell_type": "code",
   "execution_count": 9,
   "metadata": {},
   "outputs": [
    {
     "name": "stderr",
     "output_type": "stream",
     "text": [
      "/Users/valentinmonney/opt/anaconda3/envs/exts-ml/lib/python3.6/site-packages/sklearn/utils/validation.py:595: DataConversionWarning: Data with input dtype uint8 was converted to float64 by StandardScaler.\n",
      "  warnings.warn(msg, DataConversionWarning)\n",
      "/Users/valentinmonney/opt/anaconda3/envs/exts-ml/lib/python3.6/site-packages/sklearn/utils/validation.py:595: DataConversionWarning: Data with input dtype uint8 was converted to float64 by StandardScaler.\n",
      "  warnings.warn(msg, DataConversionWarning)\n"
     ]
    },
    {
     "data": {
      "text/plain": [
       "array([[ 0.73671505,  0.59622324,  0.98559361, ..., -0.57902805,\n",
       "        -0.73675288,  0.11136219],\n",
       "       [ 0.52892363, -0.62119594, -0.39995103, ...,  1.59731875,\n",
       "        -1.21829071, -1.36539731],\n",
       "       [-1.94568335, -1.66692779, -1.28555688, ..., -0.01996648,\n",
       "         0.78009128,  0.49870895],\n",
       "       [ 0.05667039,  0.68987087,  1.34269274, ..., -1.39765391,\n",
       "        -0.32744572,  1.51549418],\n",
       "       [ 0.62337428,  1.00202963, -0.64277844, ...,  0.39932969,\n",
       "         1.50239803, -0.76016801]])"
      ]
     },
     "execution_count": 9,
     "metadata": {},
     "output_type": "execute_result"
    }
   ],
   "source": [
    "from sklearn.preprocessing import StandardScaler\n",
    "\n",
    "StandardScaler().fit_transform(X)"
   ]
  },
  {
   "cell_type": "markdown",
   "metadata": {},
   "source": [
    "Convert the feature matrix to float\n",
    "---"
   ]
  },
  {
   "cell_type": "code",
   "execution_count": 10,
   "metadata": {},
   "outputs": [
    {
     "name": "stdout",
     "output_type": "stream",
     "text": [
      "dtype: float64\n"
     ]
    }
   ],
   "source": [
    "# Convert to float\n",
    "X = X.astype(np.float)\n",
    "\n",
    "# Print the new data type\n",
    "print('dtype:', X.dtype) # float64"
   ]
  },
  {
   "cell_type": "code",
   "execution_count": 11,
   "metadata": {},
   "outputs": [
    {
     "data": {
      "text/plain": [
       "122880"
      ]
     },
     "execution_count": 11,
     "metadata": {},
     "output_type": "execute_result"
    }
   ],
   "source": [
    "X.nbytes"
   ]
  },
  {
   "cell_type": "code",
   "execution_count": 12,
   "metadata": {},
   "outputs": [
    {
     "name": "stdout",
     "output_type": "stream",
     "text": [
      "shape: (3072,)\n"
     ]
    }
   ],
   "source": [
    "# Extract the third image\n",
    "flat_img = X[2, :] # third row\n",
    "\n",
    "print('shape:', flat_img.shape)"
   ]
  },
  {
   "cell_type": "code",
   "execution_count": 13,
   "metadata": {},
   "outputs": [
    {
     "name": "stdout",
     "output_type": "stream",
     "text": [
      "shape: (32, 32, 3)\n"
     ]
    }
   ],
   "source": [
    "# Reshape the image\n",
    "img = flat_img.reshape(32, 32, 3)\n",
    "\n",
    "# Print shape\n",
    "print('shape:', img.shape)"
   ]
  },
  {
   "cell_type": "code",
   "execution_count": 14,
   "metadata": {},
   "outputs": [
    {
     "name": "stderr",
     "output_type": "stream",
     "text": [
      "Clipping input data to the valid range for imshow with RGB data ([0..1] for floats or [0..255] for integers).\n"
     ]
    },
    {
     "data": {
      "image/png": "[encoded data removed]",
      "text/plain": [
       "<Figure size 432x288 with 1 Axes>"
      ]
     },
     "metadata": {
      "needs_background": "light"
     },
     "output_type": "display_data"
    }
   ],
   "source": [
    "%matplotlib inline\n",
    "import matplotlib.pyplot as plt\n",
    "\n",
    "# Plot the image\n",
    "plt.imshow(img)\n",
    "plt.show()"
   ]
  },
  {
   "cell_type": "code",
   "execution_count": 16,
   "metadata": {},
   "outputs": [
    {
     "data": {
      "image/png": "[encoded data removed]",
      "text/plain": [
       "<Figure size 432x288 with 1 Axes>"
      ]
     },
     "metadata": {
      "needs_background": "light"
     },
     "output_type": "display_data"
    }
   ],
   "source": [
    "# Plot the rescaled image\n",
    "plt.imshow(img/255)\n",
    "plt.show()"
   ]
  },
  {
   "cell_type": "code",
   "execution_count": 17,
   "metadata": {},
   "outputs": [
    {
     "data": {
      "image/png": "[encoded data removed]",
      "text/plain": [
       "<Figure size 432x288 with 1 Axes>"
      ]
     },
     "metadata": {
      "needs_background": "light"
     },
     "output_type": "display_data"
    }
   ],
   "source": [
    "# Plot image\n",
    "plt.imshow(img.astype(np.uint8))\n",
    "plt.show()"
   ]
  },
  {
   "cell_type": "code",
   "execution_count": null,
   "metadata": {},
   "outputs": [],
   "source": []
  }
 ],
 "metadata": {
  "kernelspec": {
   "display_name": "Python 3",
   "language": "python",
   "name": "python3"
  },
  "language_info": {
   "codemirror_mode": {
    "name": "ipython",
    "version": 3
   },
   "file_extension": ".py",
   "mimetype": "text/x-python",
   "name": "python",
   "nbconvert_exporter": "python",
   "pygments_lexer": "ipython3",
   "version": "3.6.13"
  }
 },
 "nbformat": 4,
 "nbformat_minor": 4
}
