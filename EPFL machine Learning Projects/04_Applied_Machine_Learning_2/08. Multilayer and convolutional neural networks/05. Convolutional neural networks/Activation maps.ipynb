{
 "cells": [
  {
   "cell_type": "markdown",
   "metadata": {},
   "source": [
    "![CNN](mnist-cnn.png)"
   ]
  },
  {
   "cell_type": "markdown",
   "metadata": {},
   "source": [
    "# Plot activation map"
   ]
  },
  {
   "cell_type": "markdown",
   "metadata": {},
   "source": [
    "### Load and preprocess data"
   ]
  },
  {
   "cell_type": "code",
   "execution_count": 4,
   "metadata": {},
   "outputs": [],
   "source": [
    "import numpy as np\n",
    "import os\n",
    "\n",
    "# Load data\n",
    "with np.load(os.path.join('data', 'mnist-20k.npz'), allow_pickle=False) as npz_file:\n",
    "    mnist = dict(npz_file.items())\n",
    "    \n",
    "# Convert pixels into floating point numbers\n",
    "data = mnist['data'].astype(np.float32)\n",
    "\n",
    "# Rescale pixel values between -0.5 and 0.5\n",
    "data = (data - 128) / 255"
   ]
  },
  {
   "cell_type": "markdown",
   "metadata": {},
   "source": [
    "We saw in the previous unit that we can improve the learning process by centering the input values around zero. In our case, we are working with pixel values that range between 0 and 255. A common way to preprocess images before passing them to a ConvNet is to subtract 128 to each value and divide them by 255. With this simple procedure, we should get centered values that range between -0.5 and 0.5."
   ]
  },
  {
   "cell_type": "code",
   "execution_count": 5,
   "metadata": {},
   "outputs": [
    {
     "name": "stdout",
     "output_type": "stream",
     "text": [
      "Train: (19500, 28, 28, 1) (19500,)\n",
      "Valid: (500, 28, 28, 1) (500,)\n"
     ]
    }
   ],
   "source": [
    "from sklearn.model_selection import train_test_split\n",
    "\n",
    "# Split into train and validation sets\n",
    "X_train, X_valid, y_train, y_valid = train_test_split(\n",
    "    # Reshape images (28 by 28)\n",
    "    data.reshape(-1, 28, 28, 1), # single channel (grayscale)\n",
    "    mnist['labels'],\n",
    "    test_size=500, random_state=0\n",
    ")\n",
    "\n",
    "# Print shape\n",
    "print('Train:', X_train.shape, y_train.shape)\n",
    "print('Valid:', X_valid.shape, y_valid.shape)"
   ]
  },
  {
   "cell_type": "markdown",
   "metadata": {},
   "source": [
    "__Note:__ The last dimension, in this case representing the grayscale channel, is very important for ConvNets. It needs to be specified even if it only has one column, as is the case in our example.\n",
    "\n",
    "This time, the input X is a 4d tensor (n, 28, 28, 1) where n is the number of images that we inject into the graph and 1 is the number of channels of our input (i.e. one channel representing the grayscale values)."
   ]
  },
  {
   "cell_type": "markdown",
   "metadata": {},
   "source": [
    "### Define the network"
   ]
  },
  {
   "cell_type": "code",
   "execution_count": 6,
   "metadata": {},
   "outputs": [],
   "source": [
    "import tensorflow as tf\n",
    "\n",
    "# Define graph\n",
    "graph = tf.Graph()\n",
    "\n",
    "with graph.as_default():\n",
    "    # Placeholders\n",
    "    X = tf.placeholder(dtype=tf.float32, shape=[None, 28, 28, 1])\n",
    "    y = tf.placeholder(dtype=tf.int32, shape=[None])\n",
    "    \n",
    "    # Convolution\n",
    "    conv = tf.layers.conv2d(\n",
    "        X, # Input data\n",
    "        filters=16, # 16 filters\n",
    "        kernel_size=(5, 5), # Kernel size: 5x5\n",
    "        strides=(2, 2), # Stride: 2\n",
    "        padding='SAME', # \"same\" padding\n",
    "        activation=tf.nn.relu, # ReLU\n",
    "        kernel_initializer=tf.truncated_normal_initializer(\n",
    "            stddev=0.01, seed=0), # Small standard deviation\n",
    "        name='conv' # Add name\n",
    "    )\n",
    "    \n",
    "    # Get the kernel weights\n",
    "    with tf.variable_scope('conv', reuse=True):\n",
    "        conv_kernels = tf.get_variable('kernel')\n",
    "    \n",
    "    # Max pooling layer\n",
    "    pool = tf.layers.max_pooling2d(\n",
    "        conv, # Convolution output\n",
    "        pool_size=(2, 2), # Pool size: 2\n",
    "        strides=(2, 2), # Stride: 2\n",
    "        padding='SAME' # \"same\" padding\n",
    "    )\n",
    "    \n",
    "    # Convolution\n",
    "    conv2 = tf.layers.conv2d(\n",
    "        pool, # Max pooling output\n",
    "        filters=16, # 16 filters\n",
    "        kernel_size=(3, 3), # Kernel size: 3x3\n",
    "        strides=(1, 1), # Stride: 1\n",
    "        padding='SAME', # \"same\" padding\n",
    "        activation=tf.nn.relu, # ReLU\n",
    "        kernel_initializer=tf.truncated_normal_initializer(\n",
    "            stddev=0.01, seed=0), # Small standard deviation\n",
    "        name='conv2' # Add name\n",
    "    )\n",
    "    \n",
    "    # Max pooling layer (2x2, stride: 2)\n",
    "    pool2 = tf.layers.max_pooling2d(\n",
    "        conv2, pool_size=(2, 2), strides=(2, 2), padding='SAME')\n",
    "    \n",
    "    # Flatten output\n",
    "    flat_output = tf.contrib.layers.flatten(pool2)\n",
    "    \n",
    "    # Output layer\n",
    "    logits = tf.layers.dense(\n",
    "        flat_output, 10, # Output units: 10\n",
    "        activation=None, # No activation function\n",
    "        kernel_initializer=tf.variance_scaling_initializer(scale=1, seed=0),\n",
    "        bias_initializer=tf.zeros_initializer()\n",
    "    )\n",
    "    \n",
    "    # Mean cross-entropy\n",
    "    mean_ce = tf.reduce_mean(\n",
    "        tf.nn.sparse_softmax_cross_entropy_with_logits(\n",
    "            labels=y, logits=logits))\n",
    "    \n",
    "    # Adam optimizer\n",
    "    lr = tf.placeholder(dtype=tf.float32)\n",
    "    gd = tf.train.AdamOptimizer(learning_rate=lr)\n",
    "\n",
    "    # Minimize cross-entropy\n",
    "    train_op = gd.minimize(mean_ce)\n",
    "    \n",
    "    # Compute predictions and accuracy\n",
    "    predictions = tf.argmax(logits, axis=1, output_type=tf.int32)\n",
    "    is_correct = tf.equal(y, predictions)\n",
    "    accuracy = tf.reduce_mean(tf.cast(is_correct, dtype=tf.float32))"
   ]
  },
  {
   "cell_type": "markdown",
   "metadata": {},
   "source": [
    "Finally, let's define the loss function and the training operations. This time, we will use the Adam optimizer. __Adam__ is a very popular algorithm that was introduced in 2015. It's now one of the default choices to optimize neural networks. We won't go into the details of how the algorithm works, but one of the key differences with stochastic gradient descent (SGD) is that it maintains a different learning rate for each parameter in the network."
   ]
  },
  {
   "cell_type": "markdown",
   "metadata": {},
   "source": [
    "### Train network"
   ]
  },
  {
   "cell_type": "code",
   "execution_count": 7,
   "metadata": {},
   "outputs": [],
   "source": [
    "# Batch generator\n",
    "def get_batches(X, y, batch_size):\n",
    "    # Shuffle X,y\n",
    "    shuffled_idx = np.arange(len(y)) # 1,2,...,n\n",
    "    np.random.shuffle(shuffled_idx)\n",
    "    \n",
    "    # Enumerate indexes by steps of batch_size\n",
    "    # i: 0, b, 2b, 3b, 4b, .. where b is the batch size\n",
    "    for i in range(0, len(y), batch_size):\n",
    "        # Batch indexes\n",
    "        batch_idx = shuffled_idx[i:i+batch_size]\n",
    "        yield X[batch_idx], y[batch_idx]"
   ]
  },
  {
   "cell_type": "code",
   "execution_count": 16,
   "metadata": {},
   "outputs": [
    {
     "name": "stdout",
     "output_type": "stream",
     "text": [
      "Epoch 1 - valid: 0.934 train: 0.756 (mean)\n",
      "Epoch 2 - valid: 0.964 train: 0.938 (mean)\n",
      "Epoch 3 - valid: 0.960 train: 0.951 (mean)\n",
      "Epoch 4 - valid: 0.966 train: 0.961 (mean)\n",
      "Epoch 5 - valid: 0.982 train: 0.967 (mean)\n",
      "Epoch 6 - valid: 0.976 train: 0.971 (mean)\n",
      "Epoch 7 - valid: 0.982 train: 0.974 (mean)\n",
      "Epoch 8 - valid: 0.982 train: 0.975 (mean)\n",
      "Epoch 9 - valid: 0.980 train: 0.978 (mean)\n",
      "Epoch 10 - valid: 0.980 train: 0.979 (mean)\n"
     ]
    }
   ],
   "source": [
    "# Validation accuracy\n",
    "valid_acc_values = []\n",
    "\n",
    "with tf.Session(graph=graph) as sess:\n",
    "    # Initialize variables\n",
    "    sess.run(tf.global_variables_initializer())\n",
    "    \n",
    "    # Set seed\n",
    "    np.random.seed(0)\n",
    "    \n",
    "    # Train several epochs\n",
    "    for epoch in range(10):\n",
    "        # Accuracy values (train) after each batch\n",
    "        batch_acc = []\n",
    "        \n",
    "        for X_batch, y_batch in get_batches(X_train, y_train, 64):\n",
    "            # Run training and evaluate accuracy\n",
    "            _, acc_value = sess.run([train_op, accuracy], feed_dict={\n",
    "                X: X_batch,\n",
    "                y: y_batch,\n",
    "                lr: 0.001 # Learning rate\n",
    "            })\n",
    "            \n",
    "            # Save accuracy (current batch)\n",
    "            batch_acc.append(acc_value)\n",
    "\n",
    "        # Evaluate validation accuracy\n",
    "        valid_acc = sess.run(accuracy, feed_dict={\n",
    "            X: X_valid,\n",
    "            y: y_valid\n",
    "        })\n",
    "        valid_acc_values.append(valid_acc)\n",
    "        \n",
    "        # Print progress\n",
    "        print('Epoch {} - valid: {:.3f} train: {:.3f} (mean)'.format(\n",
    "            epoch+1, valid_acc, np.mean(batch_acc)\n",
    "        ))\n",
    "    \n",
    "    # Get 1st conv. layer kernels\n",
    "    kernels = conv_kernels.eval()\n",
    "    \n",
    "    # Pick a sample image and get 1st conv. activations\n",
    "    activation_maps = conv.eval(feed_dict={\n",
    "        X: [X_valid[300]] # Pick one image from the validation set\n",
    "    })"
   ]
  },
  {
   "cell_type": "code",
   "execution_count": 11,
   "metadata": {},
   "outputs": [
    {
     "data": {
      "image/png": "[encoded data removed]",
      "text/plain": [
       "<Figure size 432x288 with 1 Axes>"
      ]
     },
     "metadata": {
      "needs_background": "light"
     },
     "output_type": "display_data"
    }
   ],
   "source": [
    "%matplotlib inline\n",
    "import matplotlib.pyplot as plt\n",
    "\n",
    "# Plot accuracy values\n",
    "plt.plot(valid_acc_values)\n",
    "plt.title('Validation accuracy: {:.3f} (mean last 3)'.format(\n",
    "    np.mean(valid_acc_values[-3:]) # Last three values\n",
    "))\n",
    "plt.xlabel('epoch')\n",
    "plt.ylabel('accuracy')\n",
    "plt.show()"
   ]
  },
  {
   "cell_type": "markdown",
   "metadata": {},
   "source": [
    "### Plot kernels"
   ]
  },
  {
   "cell_type": "code",
   "execution_count": 14,
   "metadata": {},
   "outputs": [
    {
     "data": {
      "image/png": "[encoded data removed]",
      "text/plain": [
       "<Figure size 576x576 with 16 Axes>"
      ]
     },
     "metadata": {
      "image/png": {
       "height": 464,
       "width": 458
      },
      "needs_background": "light"
     },
     "output_type": "display_data"
    }
   ],
   "source": [
    "%matplotlib inline\n",
    "%config InlineBackend.figure_format = 'retina' # For retina screens\n",
    "import matplotlib.pyplot as plt\n",
    "\n",
    "# Create figure with subplots\n",
    "fig, axes = plt.subplots(nrows=4, ncols=4, figsize=(8, 8))\n",
    "\n",
    "# Plot the 16 kernels from the first convolutional layer\n",
    "for i, axis in enumerate(axes.flatten()):\n",
    "    # Get i-th kernel\n",
    "    kernel = kernels[:, :, :, i]\n",
    "    \n",
    "    # Kernels are 5x5x1 (height, width, channels)\n",
    "    # Remove last dimension\n",
    "    kernel = kernel[:, :, 0] # (5, 5) kernel\n",
    "    \n",
    "    # Plot kernel with imshow()\n",
    "    axis.set_title('kernel {}'.format(i+1))\n",
    "    axis.imshow(kernel, cmap=plt.cm.gray_r)\n",
    "    axis.get_xaxis().set_visible(False) # disable x-axis\n",
    "    axis.get_yaxis().set_visible(False) # disable y-axis\n",
    "    \n",
    "plt.show()"
   ]
  },
  {
   "cell_type": "markdown",
   "metadata": {},
   "source": [
    "### Plot activation maps"
   ]
  },
  {
   "cell_type": "code",
   "execution_count": 22,
   "metadata": {},
   "outputs": [
    {
     "name": "stdout",
     "output_type": "stream",
     "text": [
      "Activation maps: (1, 14, 14, 16)\n"
     ]
    }
   ],
   "source": [
    "# Print shape of the variable\n",
    "print('Activation maps:', activation_maps.shape)"
   ]
  },
  {
   "cell_type": "code",
   "execution_count": 23,
   "metadata": {},
   "outputs": [
    {
     "data": {
      "image/png": "[encoded data removed]",
      "text/plain": [
       "<Figure size 576x576 with 16 Axes>"
      ]
     },
     "metadata": {
      "image/png": {
       "height": 464,
       "width": 458
      },
      "needs_background": "light"
     },
     "output_type": "display_data"
    }
   ],
   "source": [
    "# Create figure with subplots\n",
    "fig, axes = plt.subplots(nrows=4, ncols=4, figsize=(8, 8))\n",
    "\n",
    "# Plot the activation maps of the 1st conv. layer for the sample image\n",
    "for i, axis in enumerate(axes.flatten()):\n",
    "    # Get activation map of the i-th filter\n",
    "    kernel = activation_maps[0, :, :, i]\n",
    "    \n",
    "    # Plot it with imshow()\n",
    "    axis.set_title('map {}'.format(i+1))\n",
    "    axis.imshow(kernel)\n",
    "    axis.get_xaxis().set_visible(False) # disable x-axis\n",
    "    axis.get_yaxis().set_visible(False) # disable y-axis\n",
    "    \n",
    "plt.show()"
   ]
  },
  {
   "cell_type": "code",
   "execution_count": null,
   "metadata": {},
   "outputs": [],
   "source": []
  }
 ],
 "metadata": {
  "kernelspec": {
   "display_name": "Python 3",
   "language": "python",
   "name": "python3"
  },
  "language_info": {
   "codemirror_mode": {
    "name": "ipython",
    "version": 3
   },
   "file_extension": ".py",
   "mimetype": "text/x-python",
   "name": "python",
   "nbconvert_exporter": "python",
   "pygments_lexer": "ipython3",
   "version": "3.6.13"
  }
 },
 "nbformat": 4,
 "nbformat_minor": 4
}
