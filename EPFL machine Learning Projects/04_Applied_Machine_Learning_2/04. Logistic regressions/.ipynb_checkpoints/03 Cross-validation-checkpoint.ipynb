{
 "cells": [
  {
   "cell_type": "markdown",
   "metadata": {},
   "source": [
    "Cross-validation\n",
    "---"
   ]
  },
  {
   "cell_type": "code",
   "execution_count": null,
   "metadata": {},
   "outputs": [],
   "source": [
    "from sklearn import datasets\n",
    "\n",
    "# Load data set\n",
    "iris = datasets.load_iris()\n",
    "\n",
    "# Create X/y arrays\n",
    "X = iris['data']\n",
    "y = iris['target']"
   ]
  },
  {
   "cell_type": "code",
   "execution_count": null,
   "metadata": {},
   "outputs": [],
   "source": [
    "from sklearn.model_selection import KFold\n",
    "\n",
    "# Create k-fold object\n",
    "kfold = KFold(n_splits=3)"
   ]
  },
  {
   "cell_type": "code",
   "execution_count": null,
   "metadata": {},
   "outputs": [],
   "source": [
    "from sklearn.linear_model import LogisticRegression\n",
    "from sklearn.preprocessing import StandardScaler\n",
    "from sklearn.pipeline import make_pipeline\n",
    "\n",
    "# Create a logistic regression\n",
    "logreg = make_pipeline(\n",
    "    StandardScaler(), LogisticRegression(C=1000, solver='liblinear', multi_class='ovr'))"
   ]
  },
  {
   "cell_type": "code",
   "execution_count": null,
   "metadata": {},
   "outputs": [],
   "source": [
    "from sklearn.model_selection import cross_validate\n",
    "\n",
    "# Apply cross-validation\n",
    "scores = cross_validate(logreg, X, y, cv=kfold, return_train_score=True)\n",
    "\n",
    "# The \"scores\" variable is a dictionary with the scores\n",
    "scores.keys()"
   ]
  },
  {
   "cell_type": "code",
   "execution_count": null,
   "metadata": {},
   "outputs": [],
   "source": [
    "print('Train scores:', scores['train_score'])\n",
    "print('Test scores:', scores['test_score'])"
   ]
  },
  {
   "cell_type": "code",
   "execution_count": null,
   "metadata": {},
   "outputs": [],
   "source": [
    "# Target variable\n",
    "y"
   ]
  },
  {
   "cell_type": "code",
   "execution_count": null,
   "metadata": {},
   "outputs": [],
   "source": [
    "# Create k-fold object\n",
    "kfold = KFold(n_splits=3, shuffle=True, random_state=0)"
   ]
  },
  {
   "cell_type": "code",
   "execution_count": null,
   "metadata": {},
   "outputs": [],
   "source": [
    "# Apply cross-validation\n",
    "scores = cross_validate(logreg, X, y, cv=kfold, return_train_score=True)\n",
    "\n",
    "print('Train scores:', scores['train_score'])\n",
    "print('Test scores:', scores['test_score'])"
   ]
  },
  {
   "cell_type": "code",
   "execution_count": null,
   "metadata": {},
   "outputs": [],
   "source": [
    "# Apply cross-validation\n",
    "scores = cross_validate(logreg, X, y, cv=3, return_train_score=True)\n",
    "\n",
    "print('Train scores:', scores['train_score'])\n",
    "print('Test scores:', scores['test_score'])"
   ]
  },
  {
   "cell_type": "code",
   "execution_count": null,
   "metadata": {},
   "outputs": [],
   "source": [
    "import numpy as np\n",
    "\n",
    "# Apply cross-validation\n",
    "scores = cross_validate(logreg, X, y, cv=10, return_train_score=True)\n",
    "\n",
    "# Get train/test scores\n",
    "train_scores = scores['train_score']\n",
    "test_scores = scores['test_score']\n",
    "\n",
    "# Print summary\n",
    "print('Train mean: {:.3f} std: {:.3f}'.format(\n",
    "    np.mean(train_scores), np.std(train_scores)))\n",
    "\n",
    "print('Test mean: {:.3f} std: {:.3f}'.format(\n",
    "    np.mean(test_scores), np.std(test_scores)))"
   ]
  },
  {
   "cell_type": "code",
   "execution_count": null,
   "metadata": {},
   "outputs": [],
   "source": [
    "from sklearn.model_selection import ShuffleSplit\n",
    "\n",
    "# Try \"shuffle split\" strategy\n",
    "cv_type = ShuffleSplit(n_splits=10, test_size=20, random_state=0)\n",
    "\n",
    "# Apply cross-validation\n",
    "scores = cross_validate(logreg, X, y, cv=cv_type, return_train_score=True)\n",
    "\n",
    "# Test scores\n",
    "test_scores = scores['test_score']\n",
    "print('Test mean: {:.3f} std: {:.3f}'.format(np.mean(test_scores), np.std(test_scores)))"
   ]
  }
 ],
 "metadata": {
  "kernelspec": {
   "display_name": "Python 3",
   "language": "python",
   "name": "python3"
  },
  "language_info": {
   "codemirror_mode": {
    "name": "ipython",
    "version": 3
   },
   "file_extension": ".py",
   "mimetype": "text/x-python",
   "name": "python",
   "nbconvert_exporter": "python",
   "pygments_lexer": "ipython3",
   "version": "3.6.7"
  }
 },
 "nbformat": 4,
 "nbformat_minor": 2
}
