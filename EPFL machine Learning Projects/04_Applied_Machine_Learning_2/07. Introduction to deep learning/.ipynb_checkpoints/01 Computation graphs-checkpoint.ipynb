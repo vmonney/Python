{
 "cells": [
  {
   "cell_type": "markdown",
   "metadata": {},
   "source": [
    "Computation graphs\n",
    "---"
   ]
  },
  {
   "cell_type": "code",
   "execution_count": 1,
   "metadata": {},
   "outputs": [
    {
     "data": {
      "text/html": [
       "<div>\n",
       "<style scoped>\n",
       "    .dataframe tbody tr th:only-of-type {\n",
       "        vertical-align: middle;\n",
       "    }\n",
       "\n",
       "    .dataframe tbody tr th {\n",
       "        vertical-align: top;\n",
       "    }\n",
       "\n",
       "    .dataframe thead th {\n",
       "        text-align: right;\n",
       "    }\n",
       "</style>\n",
       "<table border=\"1\" class=\"dataframe\">\n",
       "  <thead>\n",
       "    <tr style=\"text-align: right;\">\n",
       "      <th></th>\n",
       "      <th>body</th>\n",
       "      <th>brain</th>\n",
       "      <th>mammal</th>\n",
       "    </tr>\n",
       "  </thead>\n",
       "  <tbody>\n",
       "    <tr>\n",
       "      <th>0</th>\n",
       "      <td>1.6</td>\n",
       "      <td>-2.0</td>\n",
       "      <td>Lesser short-tailed shrew</td>\n",
       "    </tr>\n",
       "    <tr>\n",
       "      <th>1</th>\n",
       "      <td>2.3</td>\n",
       "      <td>-1.4</td>\n",
       "      <td>Little brown bat</td>\n",
       "    </tr>\n",
       "    <tr>\n",
       "      <th>2</th>\n",
       "      <td>3.1</td>\n",
       "      <td>-1.2</td>\n",
       "      <td>Big brown bat</td>\n",
       "    </tr>\n",
       "    <tr>\n",
       "      <th>3</th>\n",
       "      <td>3.1</td>\n",
       "      <td>-0.9</td>\n",
       "      <td>Mouse</td>\n",
       "    </tr>\n",
       "    <tr>\n",
       "      <th>4</th>\n",
       "      <td>3.9</td>\n",
       "      <td>-1.1</td>\n",
       "      <td>Musk shrew</td>\n",
       "    </tr>\n",
       "  </tbody>\n",
       "</table>\n",
       "</div>"
      ],
      "text/plain": [
       "   body  brain                     mammal\n",
       "0   1.6   -2.0  Lesser short-tailed shrew\n",
       "1   2.3   -1.4           Little brown bat\n",
       "2   3.1   -1.2              Big brown bat\n",
       "3   3.1   -0.9                      Mouse\n",
       "4   3.9   -1.1                 Musk shrew"
      ]
     },
     "execution_count": 1,
     "metadata": {},
     "output_type": "execute_result"
    }
   ],
   "source": [
    "import pandas as pd\n",
    "\n",
    "# Load data\n",
    "data_df = pd.read_csv('brain-body-weights.csv')\n",
    "\n",
    "# First five rows\n",
    "data_df.head()"
   ]
  },
  {
   "cell_type": "code",
   "execution_count": 2,
   "metadata": {},
   "outputs": [
    {
     "data": {
      "image/png": "[encoded data removed]",
      "text/plain": [
       "<Figure size 432x288 with 1 Axes>"
      ]
     },
     "metadata": {},
     "output_type": "display_data"
    }
   ],
   "source": [
    "%matplotlib inline\n",
    "import matplotlib.pyplot as plt\n",
    "import seaborn as sns\n",
    "\n",
    "# Activate Seaborn\n",
    "sns.set()\n",
    "\n",
    "# Plot data\n",
    "plt.scatter(data_df.body, data_df.brain)\n",
    "plt.xlabel('Body weight (log)')\n",
    "plt.ylabel('Brain weight (log)')\n",
    "plt.show()"
   ]
  },
  {
   "cell_type": "code",
   "execution_count": 3,
   "metadata": {},
   "outputs": [],
   "source": [
    "import tensorflow as tf"
   ]
  },
  {
   "cell_type": "markdown",
   "metadata": {},
   "source": [
    "### Variables"
   ]
  },
  {
   "cell_type": "code",
   "execution_count": 4,
   "metadata": {},
   "outputs": [],
   "source": [
    "# Slope and intercept parameters\n",
    "a = tf.Variable(initial_value=0, dtype=tf.float32)\n",
    "b = tf.Variable(initial_value=0, dtype=tf.float32)"
   ]
  },
  {
   "cell_type": "code",
   "execution_count": 5,
   "metadata": {},
   "outputs": [],
   "source": [
    "# Comment: tf will use tf.int32 if we don't specify (because of 0)"
   ]
  },
  {
   "cell_type": "markdown",
   "metadata": {},
   "source": [
    "### Placeholders"
   ]
  },
  {
   "cell_type": "code",
   "execution_count": 6,
   "metadata": {},
   "outputs": [],
   "source": [
    "# Create a placeholder for input/target data\n",
    "x = tf.placeholder(dtype=tf.float32)\n",
    "y = tf.placeholder(dtype=tf.float32)"
   ]
  },
  {
   "cell_type": "code",
   "execution_count": 7,
   "metadata": {},
   "outputs": [],
   "source": [
    "# Compute predictions\n",
    "y_hat = a*x + b"
   ]
  },
  {
   "cell_type": "markdown",
   "metadata": {},
   "source": [
    "### Loss Function"
   ]
  },
  {
   "cell_type": "code",
   "execution_count": 8,
   "metadata": {},
   "outputs": [],
   "source": [
    "# Mean squared error (MSE)\n",
    "loss = tf.reduce_mean( # Equivalent to np.mean()\n",
    "    tf.square( # Equivalent to np.square()\n",
    "        y - y_hat # Implements broadcasting like Numpy\n",
    "    )\n",
    ")"
   ]
  },
  {
   "cell_type": "code",
   "execution_count": 9,
   "metadata": {},
   "outputs": [],
   "source": [
    "# Huber loss\n",
    "loss = tf.losses.huber_loss(y, y_hat, delta=1.0)"
   ]
  },
  {
   "cell_type": "markdown",
   "metadata": {},
   "source": [
    "### Optimizer"
   ]
  },
  {
   "cell_type": "code",
   "execution_count": 10,
   "metadata": {},
   "outputs": [],
   "source": [
    "# Create the optimizer\n",
    "gd = tf.train.GradientDescentOptimizer(\n",
    "    learning_rate=0.1)"
   ]
  },
  {
   "cell_type": "code",
   "execution_count": 11,
   "metadata": {},
   "outputs": [],
   "source": [
    "# Learning rate placeholder\n",
    "lr = tf.placeholder(dtype=tf.float32)\n",
    "\n",
    "# Create the optimizer\n",
    "gd = tf.train.GradientDescentOptimizer(\n",
    "    learning_rate=lr)"
   ]
  },
  {
   "cell_type": "code",
   "execution_count": 12,
   "metadata": {},
   "outputs": [],
   "source": [
    "# Create a training operation\n",
    "train_op = gd.minimize(loss)"
   ]
  },
  {
   "cell_type": "markdown",
   "metadata": {},
   "source": [
    "### TensorFlow sessions"
   ]
  },
  {
   "cell_type": "code",
   "execution_count": null,
   "metadata": {},
   "outputs": [],
   "source": [
    "# Initialization operation\n",
    "initialization_op = tf.global_variables_initializer()\n",
    "\n",
    "with tf.Session() as sess:\n",
    "    # Initialize the graph\n",
    "    sess.run(initialization_op)\n",
    "\n",
    "    # Evaluate node \"a\"\n",
    "    result = sess.run(a)\n",
    "    print(result)"
   ]
  },
  {
   "cell_type": "code",
   "execution_count": null,
   "metadata": {},
   "outputs": [],
   "source": [
    "with tf.Session() as sess:\n",
    "    # Initialize the graph\n",
    "    sess.run(initialization_op)\n",
    "    \n",
    "    # Compute predictions without injecting an x value\n",
    "    try:\n",
    "        result = sess.run(y_hat)\n",
    "    except Exception as e:\n",
    "        print(e.message)"
   ]
  },
  {
   "cell_type": "code",
   "execution_count": null,
   "metadata": {},
   "outputs": [],
   "source": [
    "with tf.Session() as sess:\n",
    "    # Initialize the graph\n",
    "    sess.run(initialization_op)\n",
    "\n",
    "    # Compute predictions\n",
    "    result = sess.run(y_hat, feed_dict={\n",
    "        x: data_df.body # Feed body weights\n",
    "    })\n",
    "    print(result)"
   ]
  },
  {
   "cell_type": "code",
   "execution_count": null,
   "metadata": {},
   "outputs": [],
   "source": [
    "with tf.Session() as sess:\n",
    "    # Initialize the graph\n",
    "    sess.run(initialization_op)\n",
    "    \n",
    "    # Run the training operation, get loss value\n",
    "    result = sess.run([train_op, loss], feed_dict={\n",
    "        x: data_df.body, # Body weights\n",
    "        y: data_df.brain, # Brain weights\n",
    "        lr: 0.1 # Learning rate\n",
    "    })\n",
    "    print(result)"
   ]
  },
  {
   "cell_type": "code",
   "execution_count": null,
   "metadata": {},
   "outputs": [],
   "source": [
    "# Monitor the a/b and loss values\n",
    "loss_values = []\n",
    "a_values = []\n",
    "b_values = []\n",
    "\n",
    "with tf.Session() as sess:\n",
    "    # Initialize the graph\n",
    "    sess.run(initialization_op)\n",
    "    \n",
    "    # Run 100 times the training operation\n",
    "    for _ in range(100):\n",
    "        # Run training op and collect a/b and loss values\n",
    "        _, loss_val, a_val, b_val = sess.run(\n",
    "            [train_op, loss, a, b],\n",
    "            feed_dict={\n",
    "                x: data_df.body, # Body weight\n",
    "                y: data_df.brain, # Brain weight\n",
    "                lr: 0.1 # Learning rate\n",
    "        })\n",
    "        \n",
    "        # Save values\n",
    "        loss_values.append(loss_val)\n",
    "        a_values.append(a_val)\n",
    "        b_values.append(b_val)"
   ]
  },
  {
   "cell_type": "code",
   "execution_count": null,
   "metadata": {},
   "outputs": [],
   "source": [
    "# Create figure with a subplot for each list of values\n",
    "fig, (ax1, ax2, ax3) = plt.subplots(\n",
    "    nrows=1, ncols=3, figsize=(12, 3))\n",
    "\n",
    "# Plot loss values\n",
    "ax1.set_title('Loss')\n",
    "ax1.plot(loss_values)\n",
    "\n",
    "# Plot slope values\n",
    "ax2.set_title('a')\n",
    "ax2.plot(a_values)\n",
    "\n",
    "# Plot intercept values\n",
    "ax3.set_title('b')\n",
    "ax3.plot(b_values)\n",
    "\n",
    "plt.show()"
   ]
  },
  {
   "cell_type": "code",
   "execution_count": null,
   "metadata": {},
   "outputs": [],
   "source": [
    "import numpy as np\n",
    "\n",
    "# Compute mean and std of input variable\n",
    "print('Mean:', np.mean(data_df.body))\n",
    "print('Std:', np.std(data_df.body))"
   ]
  },
  {
   "cell_type": "code",
   "execution_count": null,
   "metadata": {},
   "outputs": [],
   "source": [
    "# Standardized input x\n",
    "x_standardized = (x - 8.643) / 3.539\n",
    "\n",
    "# Redefine graph (code from above)\n",
    "# ----------------\n",
    "# Compute predictions\n",
    "y_hat = a*x_standardized + b\n",
    "\n",
    "# Huber loss\n",
    "loss = tf.losses.huber_loss(y, y_hat)\n",
    "\n",
    "# Learning rate placeholder\n",
    "lr = tf.placeholder(dtype=tf.float32)\n",
    "\n",
    "# Create the optimizer\n",
    "gd = tf.train.GradientDescentOptimizer(learning_rate=lr)\n",
    "\n",
    "# Create a training operation\n",
    "train_op = gd.minimize(loss)"
   ]
  },
  {
   "cell_type": "code",
   "execution_count": null,
   "metadata": {},
   "outputs": [],
   "source": [
    "# Monitor the a/b and loss values\n",
    "loss_values = []\n",
    "a_values = []\n",
    "b_values = []\n",
    "\n",
    "with tf.Session() as sess:\n",
    "    # Initialize the graph\n",
    "    sess.run(initialization_op)\n",
    "    \n",
    "    # Run 100 times the training operation\n",
    "    for _ in range(100):\n",
    "        # Run training op and collect a/b and loss values\n",
    "        _, loss_val, a_val, b_val = sess.run(\n",
    "            [train_op, loss, a, b],\n",
    "            feed_dict={\n",
    "                x: data_df.body, # Body weight\n",
    "                y: data_df.brain, # Brain weight\n",
    "                lr: 0.1 # Learning rate\n",
    "        })\n",
    "        \n",
    "        # Save values\n",
    "        loss_values.append(loss_val)\n",
    "        a_values.append(a_val)\n",
    "        b_values.append(b_val)"
   ]
  },
  {
   "cell_type": "code",
   "execution_count": null,
   "metadata": {},
   "outputs": [],
   "source": [
    "# Create a hundred sample body weights\n",
    "x_values = np.linspace(\n",
    "    data_df.body.min(), # Between the minimum\n",
    "    data_df.body.max(), # and maximum body weight values\n",
    "    num=100\n",
    ")"
   ]
  },
  {
   "cell_type": "code",
   "execution_count": null,
   "metadata": {},
   "outputs": [],
   "source": [
    "with tf.Session() as sess:\n",
    "    # Initialize the graph\n",
    "    sess.run(initialization_op)\n",
    "    \n",
    "    # Compute predictions\n",
    "    y_values = sess.run(y_hat, feed_dict={\n",
    "        x: x_values, # Sample body weights\n",
    "        a: a_values[-1], # last slope value\n",
    "        b: b_values[-1] # last intercept value\n",
    "    })"
   ]
  },
  {
   "cell_type": "code",
   "execution_count": null,
   "metadata": {},
   "outputs": [],
   "source": [
    "# Plot data with sample predictions\n",
    "plt.scatter(data_df.body, data_df.brain, label=None)\n",
    "plt.plot(x_values, y_values, label='Huber loss', color='C3')\n",
    "plt.xlabel('Body weight (log)')\n",
    "plt.ylabel('Brain weight (log)')\n",
    "plt.legend()\n",
    "plt.show()"
   ]
  }
 ],
 "metadata": {
  "kernelspec": {
   "display_name": "Python 3",
   "language": "python",
   "name": "python3"
  },
  "language_info": {
   "codemirror_mode": {
    "name": "ipython",
    "version": 3
   },
   "file_extension": ".py",
   "mimetype": "text/x-python",
   "name": "python",
   "nbconvert_exporter": "python",
   "pygments_lexer": "ipython3",
   "version": "3.6.13"
  },
  "varInspector": {
   "cols": {
    "lenName": 16,
    "lenType": 16,
    "lenVar": 40
   },
   "kernels_config": {
    "python": {
     "delete_cmd_postfix": "",
     "delete_cmd_prefix": "del ",
     "library": "var_list.py",
     "varRefreshCmd": "print(var_dic_list())"
    },
    "r": {
     "delete_cmd_postfix": ") ",
     "delete_cmd_prefix": "rm(",
     "library": "var_list.r",
     "varRefreshCmd": "cat(var_dic_list()) "
    }
   },
   "types_to_exclude": [
    "module",
    "function",
    "builtin_function_or_method",
    "instance",
    "_Feature"
   ],
   "window_display": false
  }
 },
 "nbformat": 4,
 "nbformat_minor": 4
}
