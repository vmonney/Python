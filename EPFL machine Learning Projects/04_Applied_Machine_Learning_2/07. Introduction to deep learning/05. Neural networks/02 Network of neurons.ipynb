{
 "cells": [
  {
   "cell_type": "markdown",
   "metadata": {},
   "source": [
    "Network of neurons\n",
    "---"
   ]
  },
  {
   "cell_type": "code",
   "execution_count": 1,
   "metadata": {},
   "outputs": [
    {
     "data": {
      "text/plain": [
       "{'data': array([[0, 0, 0, ..., 0, 0, 0],\n",
       "        [0, 0, 0, ..., 0, 0, 0],\n",
       "        [0, 0, 0, ..., 0, 0, 0],\n",
       "        ...,\n",
       "        [0, 0, 0, ..., 0, 0, 0],\n",
       "        [0, 0, 0, ..., 0, 0, 0],\n",
       "        [0, 0, 0, ..., 0, 0, 0]], dtype=uint8),\n",
       " 'labels': array([5, 0, 4, ..., 8, 6, 9], dtype=int32)}"
      ]
     },
     "execution_count": 1,
     "metadata": {},
     "output_type": "execute_result"
    }
   ],
   "source": [
    "import numpy as np\n",
    "\n",
    "# Load data\n",
    "with np.load('mnist-6k.npz', allow_pickle=False) as npz_file:\n",
    "    # Load items into a dictionary\n",
    "    mnist = dict(npz_file.items())\n",
    "\n",
    "mnist"
   ]
  },
  {
   "cell_type": "code",
   "execution_count": 2,
   "metadata": {},
   "outputs": [
    {
     "name": "stdout",
     "output_type": "stream",
     "text": [
      "Train: (5000, 784) (5000,)\n",
      "Validation: (500, 784) (500,)\n",
      "Test: (500, 784) (500,)\n"
     ]
    }
   ],
   "source": [
    "from sklearn.model_selection import train_test_split\n",
    "\n",
    "# Create train/test sets\n",
    "X_train, X_test, y_train, y_test = train_test_split(\n",
    "    # Convert uint8 pixel values to float\n",
    "    mnist['data'].astype(np.float32), # that way we won't get warnings if we need to standardize later\n",
    "    mnist['labels'],\n",
    "    test_size=1000, random_state=0\n",
    ")\n",
    "\n",
    "# Split again into validation/test sets\n",
    "X_valid, X_test, y_valid, y_test = train_test_split(\n",
    "    X_test, y_test,\n",
    "    test_size=500, random_state=0\n",
    ")\n",
    "\n",
    "print('Train:', X_train.shape, y_train.shape)\n",
    "print('Validation:', X_valid.shape, y_valid.shape)\n",
    "print('Test:', X_test.shape, y_test.shape)"
   ]
  },
  {
   "cell_type": "code",
   "execution_count": 3,
   "metadata": {},
   "outputs": [],
   "source": [
    "import tensorflow as tf\n",
    "\n",
    "# Create placeholders\n",
    "X = tf.placeholder(dtype=tf.float32, shape=[None, 784]) # None if we don't know the number\n",
    "y = tf.placeholder(dtype=tf.int32, shape=[None])"
   ]
  },
  {
   "cell_type": "code",
   "execution_count": 4,
   "metadata": {},
   "outputs": [],
   "source": [
    "# Create variables\n",
    "W = tf.Variable(initial_value=tf.zeros(shape=[784, 10]))\n",
    "b = tf.Variable(initial_value=tf.zeros(shape=[10]))"
   ]
  },
  {
   "cell_type": "code",
   "execution_count": 5,
   "metadata": {},
   "outputs": [
    {
     "name": "stdout",
     "output_type": "stream",
     "text": [
      "(?, 10)\n"
     ]
    }
   ],
   "source": [
    "# Compute logits\n",
    "logits = tf.add(tf.matmul(X, W), b)\n",
    "print(logits.shape)"
   ]
  },
  {
   "cell_type": "code",
   "execution_count": 6,
   "metadata": {},
   "outputs": [
    {
     "name": "stdout",
     "output_type": "stream",
     "text": [
      "(?,)\n"
     ]
    }
   ],
   "source": [
    "# Cross-entropy loss function\n",
    "y_one_hot = tf.one_hot(indices=y, depth=10)\n",
    "ce = tf.nn.softmax_cross_entropy_with_logits_v2(\n",
    "    labels=y_one_hot, # Requires one-hot encoded labels\n",
    "    logits=logits\n",
    ")\n",
    "print(ce.shape)"
   ]
  },
  {
   "cell_type": "code",
   "execution_count": 8,
   "metadata": {},
   "outputs": [
    {
     "name": "stdout",
     "output_type": "stream",
     "text": [
      "(?,)\n"
     ]
    }
   ],
   "source": [
    "# Cross-entropy loss function (without one-hot encoding)\n",
    "ce = tf.nn.sparse_softmax_cross_entropy_with_logits(\n",
    "    labels=y, logits=logits)\n",
    "print(ce.shape)"
   ]
  },
  {
   "cell_type": "code",
   "execution_count": 9,
   "metadata": {},
   "outputs": [
    {
     "name": "stdout",
     "output_type": "stream",
     "text": [
      "()\n"
     ]
    }
   ],
   "source": [
    "# Mean cross-entropy\n",
    "mean_ce = tf.reduce_mean(ce)\n",
    "print(mean_ce.shape)"
   ]
  },
  {
   "cell_type": "code",
   "execution_count": 10,
   "metadata": {},
   "outputs": [],
   "source": [
    "# Gradient descent\n",
    "lr = tf.placeholder(dtype=tf.float32, shape=[])\n",
    "gd = tf.train.GradientDescentOptimizer(\n",
    "    learning_rate=lr)\n",
    "\n",
    "# Minimize cross-entropy\n",
    "train_op = gd.minimize(mean_ce)"
   ]
  },
  {
   "cell_type": "code",
   "execution_count": 11,
   "metadata": {},
   "outputs": [
    {
     "name": "stdout",
     "output_type": "stream",
     "text": [
      "(?,)\n"
     ]
    }
   ],
   "source": [
    "# Compute predictions\n",
    "predictions = tf.argmax(\n",
    "    logits, # shape: (n, 10)\n",
    "    axis=1, # class with max logit\n",
    "    output_type=tf.int32 # Same type as labels\n",
    ")\n",
    "print(predictions.shape)"
   ]
  },
  {
   "cell_type": "code",
   "execution_count": 12,
   "metadata": {},
   "outputs": [
    {
     "name": "stdout",
     "output_type": "stream",
     "text": [
      "(?,)\n"
     ]
    }
   ],
   "source": [
    "# Are the predictions correct?\n",
    "is_correct = tf.equal(y, predictions)\n",
    "print(is_correct.shape)"
   ]
  },
  {
   "cell_type": "code",
   "execution_count": 13,
   "metadata": {},
   "outputs": [
    {
     "name": "stdout",
     "output_type": "stream",
     "text": [
      "()\n"
     ]
    }
   ],
   "source": [
    "# Accuracy\n",
    "accuracy = tf.reduce_mean(\n",
    "    # Convert booleans (false/true) to 0/1 float numbers\n",
    "    tf.cast(is_correct, dtype=tf.float32)\n",
    ")\n",
    "print(accuracy.shape)"
   ]
  },
  {
   "cell_type": "code",
   "execution_count": 14,
   "metadata": {},
   "outputs": [
    {
     "name": "stdout",
     "output_type": "stream",
     "text": [
      "0.6\n",
      "0\n"
     ]
    }
   ],
   "source": [
    "with tf.Session() as sess:\n",
    "    # Test reduce_mean operation with different data types\n",
    "    print(sess.run(\n",
    "        tf.reduce_mean(\n",
    "            # Floating points 0/1 values\n",
    "            [0., 0., 1., 1., 1.]\n",
    "        )\n",
    "    ))\n",
    "    print(sess.run(\n",
    "        tf.reduce_mean(\n",
    "            # Integer 0/1 values\n",
    "            [0, 0, 1, 1, 1]\n",
    "        )\n",
    "    ))"
   ]
  },
  {
   "cell_type": "code",
   "execution_count": 15,
   "metadata": {},
   "outputs": [
    {
     "data": {
      "text/plain": [
       "<generator object get_batches at 0x7f81645a20f8>"
      ]
     },
     "execution_count": 15,
     "metadata": {},
     "output_type": "execute_result"
    }
   ],
   "source": [
    "# Function to get batches of data\n",
    "def get_batches(X, y, batch_size):\n",
    "    # Enumerate indexes by steps of batch_size\n",
    "    # i: 0, b, 2b, 3b, 4b, .. where b is the batch size\n",
    "    for i in range(0, len(y), batch_size):\n",
    "        # \"yield\" data between index i and i+b (not included)\n",
    "        yield X[i:i+batch_size], y[i:i+batch_size]\n",
    "\n",
    "get_batches(X_train, y_train, 64)"
   ]
  },
  {
   "cell_type": "code",
   "execution_count": 16,
   "metadata": {},
   "outputs": [
    {
     "name": "stdout",
     "output_type": "stream",
     "text": [
      "Batch X/y: (64, 784) (64,)\n",
      "Batch X/y: (64, 784) (64,)\n",
      "Batch X/y: (64, 784) (64,)\n",
      "Batch X/y: (64, 784) (64,)\n",
      "Batch X/y: (64, 784) (64,)\n",
      "Batch X/y: (64, 784) (64,)\n",
      "Batch X/y: (64, 784) (64,)\n",
      "Batch X/y: (64, 784) (64,)\n",
      "Batch X/y: (64, 784) (64,)\n",
      "Batch X/y: (64, 784) (64,)\n",
      "Batch X/y: (64, 784) (64,)\n",
      "Batch X/y: (64, 784) (64,)\n",
      "Batch X/y: (64, 784) (64,)\n",
      "Batch X/y: (64, 784) (64,)\n",
      "Batch X/y: (64, 784) (64,)\n",
      "Batch X/y: (64, 784) (64,)\n",
      "Batch X/y: (64, 784) (64,)\n",
      "Batch X/y: (64, 784) (64,)\n",
      "Batch X/y: (64, 784) (64,)\n",
      "Batch X/y: (64, 784) (64,)\n",
      "Batch X/y: (64, 784) (64,)\n",
      "Batch X/y: (64, 784) (64,)\n",
      "Batch X/y: (64, 784) (64,)\n",
      "Batch X/y: (64, 784) (64,)\n",
      "Batch X/y: (64, 784) (64,)\n",
      "Batch X/y: (64, 784) (64,)\n",
      "Batch X/y: (64, 784) (64,)\n",
      "Batch X/y: (64, 784) (64,)\n",
      "Batch X/y: (64, 784) (64,)\n",
      "Batch X/y: (64, 784) (64,)\n",
      "Batch X/y: (64, 784) (64,)\n",
      "Batch X/y: (64, 784) (64,)\n",
      "Batch X/y: (64, 784) (64,)\n",
      "Batch X/y: (64, 784) (64,)\n",
      "Batch X/y: (64, 784) (64,)\n",
      "Batch X/y: (64, 784) (64,)\n",
      "Batch X/y: (64, 784) (64,)\n",
      "Batch X/y: (64, 784) (64,)\n",
      "Batch X/y: (64, 784) (64,)\n",
      "Batch X/y: (64, 784) (64,)\n",
      "Batch X/y: (64, 784) (64,)\n",
      "Batch X/y: (64, 784) (64,)\n",
      "Batch X/y: (64, 784) (64,)\n",
      "Batch X/y: (64, 784) (64,)\n",
      "Batch X/y: (64, 784) (64,)\n",
      "Batch X/y: (64, 784) (64,)\n",
      "Batch X/y: (64, 784) (64,)\n",
      "Batch X/y: (64, 784) (64,)\n",
      "Batch X/y: (64, 784) (64,)\n",
      "Batch X/y: (64, 784) (64,)\n",
      "Batch X/y: (64, 784) (64,)\n",
      "Batch X/y: (64, 784) (64,)\n",
      "Batch X/y: (64, 784) (64,)\n",
      "Batch X/y: (64, 784) (64,)\n",
      "Batch X/y: (64, 784) (64,)\n",
      "Batch X/y: (64, 784) (64,)\n",
      "Batch X/y: (64, 784) (64,)\n",
      "Batch X/y: (64, 784) (64,)\n",
      "Batch X/y: (64, 784) (64,)\n",
      "Batch X/y: (64, 784) (64,)\n",
      "Batch X/y: (64, 784) (64,)\n",
      "Batch X/y: (64, 784) (64,)\n",
      "Batch X/y: (64, 784) (64,)\n",
      "Batch X/y: (64, 784) (64,)\n",
      "Batch X/y: (64, 784) (64,)\n",
      "Batch X/y: (64, 784) (64,)\n",
      "Batch X/y: (64, 784) (64,)\n",
      "Batch X/y: (64, 784) (64,)\n",
      "Batch X/y: (64, 784) (64,)\n",
      "Batch X/y: (64, 784) (64,)\n",
      "Batch X/y: (64, 784) (64,)\n",
      "Batch X/y: (64, 784) (64,)\n",
      "Batch X/y: (64, 784) (64,)\n",
      "Batch X/y: (64, 784) (64,)\n",
      "Batch X/y: (64, 784) (64,)\n",
      "Batch X/y: (64, 784) (64,)\n",
      "Batch X/y: (64, 784) (64,)\n",
      "Batch X/y: (64, 784) (64,)\n",
      "Batch X/y: (8, 784) (8,)\n"
     ]
    }
   ],
   "source": [
    "# Use generator in a \"for\" loop\n",
    "for X_batch, y_batch in get_batches(X_train, y_train, 64):\n",
    "    print('Batch X/y:', X_batch.shape, y_batch.shape)"
   ]
  },
  {
   "cell_type": "code",
   "execution_count": 17,
   "metadata": {},
   "outputs": [],
   "source": [
    "# Accuracy score after each batch of data\n",
    "acc_values = []\n",
    "\n",
    "# Initialization operation\n",
    "initialization_op = tf.global_variables_initializer()\n",
    "\n",
    "with tf.Session() as sess:\n",
    "    # Initialize the graph\n",
    "    sess.run(initialization_op)\n",
    "\n",
    "    # Get batches of data\n",
    "    for X_batch, y_batch in get_batches(X_train, y_train, 64):\n",
    "        # Run training and evaluate accuracy\n",
    "        _, batch_acc = sess.run([train_op, accuracy], feed_dict={\n",
    "            X: X_batch,\n",
    "            y: y_batch,\n",
    "            lr: 0.1 # learning rate\n",
    "        })\n",
    "        acc_values.append(batch_acc)\n",
    "\n",
    "    # Get weight matrix and biases\n",
    "    W_fitted = W.eval()\n",
    "    b_fitted = b.eval()\n",
    "    # .. which is equivalent to\n",
    "    W_fitted, b_fitted = sess.run([W, b])"
   ]
  },
  {
   "cell_type": "code",
   "execution_count": 18,
   "metadata": {},
   "outputs": [
    {
     "data": {
      "image/png": "[encoded data removed]",
      "text/plain": [
       "<Figure size 432x288 with 1 Axes>"
      ]
     },
     "metadata": {
      "needs_background": "light"
     },
     "output_type": "display_data"
    }
   ],
   "source": [
    "%matplotlib inline\n",
    "import matplotlib.pyplot as plt\n",
    "\n",
    "# Plot accuracy values\n",
    "plt.plot(acc_values)\n",
    "plt.title('Train accuracy (last 20 batches): {:.3f}'.format(\n",
    "    # Average accuracy value\n",
    "    np.mean(acc_values[-20:])\n",
    "))\n",
    "plt.xlabel('batch')\n",
    "plt.ylabel('accuracy')\n",
    "plt.show()"
   ]
  },
  {
   "cell_type": "code",
   "execution_count": 19,
   "metadata": {},
   "outputs": [
    {
     "data": {
      "image/png": "[encoded data removed]",
      "text/plain": [
       "<Figure size 720x144 with 10 Axes>"
      ]
     },
     "metadata": {
      "needs_background": "light"
     },
     "output_type": "display_data"
    }
   ],
   "source": [
    "# Create figure with 10 subplots\n",
    "fig, axes = plt.subplots(nrows=1, ncols=10, figsize=(10, 2))\n",
    "\n",
    "# Plot the weights for each class in a subplot\n",
    "for i, axis in enumerate(axes):\n",
    "    # Get weights of the i-th class\n",
    "    weights = W_fitted[:, i]\n",
    "    \n",
    "    # Reshape weight values into a 28x28 array\n",
    "    template = weights.reshape(28, 28)\n",
    "    \n",
    "    # Plot array\n",
    "    axis.imshow(template, plt.cm.gray_r) # Grayscale (reversed)\n",
    "    axis.get_xaxis().set_visible(False) # disable x-axis\n",
    "    axis.get_yaxis().set_visible(False) # disable y-axis\n",
    "    \n",
    "plt.show()"
   ]
  },
  {
   "cell_type": "code",
   "execution_count": 20,
   "metadata": {},
   "outputs": [],
   "source": [
    "from sklearn.preprocessing import StandardScaler\n",
    "\n",
    "# Create a StandardScaler object and fit it to train data\n",
    "scaler = StandardScaler()\n",
    "scaler.fit(X_train);"
   ]
  },
  {
   "cell_type": "code",
   "execution_count": 21,
   "metadata": {},
   "outputs": [],
   "source": [
    "# Accuracy scores after each batch\n",
    "train_acc_values = []\n",
    "valid_acc_values = []\n",
    "\n",
    "with tf.Session() as sess:\n",
    "    # Initialize the graph\n",
    "    sess.run(initialization_op)\n",
    "    \n",
    "    # Rescale input data\n",
    "    X_train_rescaled = scaler.transform(X_train)\n",
    "    X_valid_rescaled = scaler.transform(X_valid)\n",
    "    \n",
    "    # Get batches of data\n",
    "    for X_batch, y_batch in get_batches(X_train_rescaled, y_train, 64):\n",
    "        # Run training and evaluate accuracy\n",
    "        _, train_acc = sess.run([train_op, accuracy], feed_dict={\n",
    "            X: X_batch,\n",
    "            y: y_batch,\n",
    "            lr: 0.01 # decrease learning rate\n",
    "        })\n",
    "        train_acc_values.append(train_acc)\n",
    "        \n",
    "        # Evaluate validation accuracy\n",
    "        valid_acc = sess.run(accuracy, feed_dict={\n",
    "            X: X_valid_rescaled,\n",
    "            y: y_valid\n",
    "        })\n",
    "        valid_acc_values.append(valid_acc)\n",
    "        \n",
    "    # Get weight matrix and biases\n",
    "    W_fitted = W.eval()\n",
    "    b_fitted = b.eval()"
   ]
  },
  {
   "cell_type": "code",
   "execution_count": 22,
   "metadata": {},
   "outputs": [
    {
     "data": {
      "image/png": "[encoded data removed]",
      "text/plain": [
       "<Figure size 432x288 with 1 Axes>"
      ]
     },
     "metadata": {
      "needs_background": "light"
     },
     "output_type": "display_data"
    }
   ],
   "source": [
    "# Plot accuracy values\n",
    "plt.plot(train_acc_values, label='train')\n",
    "plt.plot(valid_acc_values, label='validation')\n",
    "plt.title('Validation accuracy: {:.3f}'.format(\n",
    "    valid_acc_values[-1] # Last validation accuracy value\n",
    "))\n",
    "plt.xlabel('batch')\n",
    "plt.ylabel('accuracy')\n",
    "plt.legend()\n",
    "plt.show()"
   ]
  },
  {
   "cell_type": "code",
   "execution_count": 23,
   "metadata": {},
   "outputs": [
    {
     "data": {
      "image/png": "[encoded data removed]",
      "text/plain": [
       "<Figure size 720x144 with 10 Axes>"
      ]
     },
     "metadata": {
      "needs_background": "light"
     },
     "output_type": "display_data"
    }
   ],
   "source": [
    "# Create figure with 10 subplots\n",
    "fig, axes = plt.subplots(nrows=1, ncols=10, figsize=(10, 2))\n",
    "\n",
    "# Plot the weights for each class in a subplot\n",
    "for i, axis in enumerate(axes):\n",
    "    # Get weights of the i-th class\n",
    "    weights = W_fitted[:, i]\n",
    "\n",
    "    # Reshape weight values into a 28x28 array\n",
    "    template = weights.reshape(28, 28)\n",
    "\n",
    "    # Plot array\n",
    "    axis.imshow(template, plt.cm.gray_r) # Grayscale (reversed)\n",
    "    axis.get_xaxis().set_visible(False) # disable x-axis\n",
    "    axis.get_yaxis().set_visible(False) # disable y-axis\n",
    "\n",
    "plt.show()"
   ]
  },
  {
   "cell_type": "code",
   "execution_count": 24,
   "metadata": {},
   "outputs": [
    {
     "name": "stdout",
     "output_type": "stream",
     "text": [
      "Test accuracy: 0.850\n"
     ]
    }
   ],
   "source": [
    "with tf.Session() as sess:\n",
    "    # Initialize the graph\n",
    "    sess.run(initialization_op)\n",
    "    \n",
    "    # Compute test accuracy\n",
    "    acc_val = sess.run(accuracy, feed_dict={\n",
    "        X: scaler.transform(X_test), # Rescale data\n",
    "        y: y_test,\n",
    "        W: W_fitted, # Set weights\n",
    "        b: b_fitted # Set biases\n",
    "    })\n",
    "    print('Test accuracy: {:.3f}'.format(acc_val))"
   ]
  },
  {
   "cell_type": "code",
   "execution_count": null,
   "metadata": {},
   "outputs": [],
   "source": []
  }
 ],
 "metadata": {
  "kernelspec": {
   "display_name": "Python 3",
   "language": "python",
   "name": "python3"
  },
  "language_info": {
   "codemirror_mode": {
    "name": "ipython",
    "version": 3
   },
   "file_extension": ".py",
   "mimetype": "text/x-python",
   "name": "python",
   "nbconvert_exporter": "python",
   "pygments_lexer": "ipython3",
   "version": "3.6.13"
  }
 },
 "nbformat": 4,
 "nbformat_minor": 4
}
