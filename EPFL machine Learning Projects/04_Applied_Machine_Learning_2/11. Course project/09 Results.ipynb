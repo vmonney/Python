{
 "cells": [
  {
   "cell_type": "markdown",
   "id": "ee202563",
   "metadata": {},
   "source": [
    "# Final Comparison\n",
    "\n",
    "Here, we make a final comparison of all test accuracies from the previous classifiers and discuss the results. Let's begin to retrieve the test accuracy of each model that we stored with the %store magic."
   ]
  },
  {
   "cell_type": "code",
   "execution_count": 1,
   "id": "16051e01",
   "metadata": {},
   "outputs": [
    {
     "name": "stdout",
     "output_type": "stream",
     "text": [
      "Stored variables and their in-db values:\n",
      "cnn_test_score                    ->   model  test_accuracy\n",
      "0   cnn           0.36\n",
      "dt_test_score                     ->                     model  test_accuracy\n",
      "0  desici\n",
      "knn_test_score                    ->   model  test_accuracy\n",
      "0  k-NN           0.92\n",
      "logistic_test_score               ->       model  test_accuracy\n",
      "0  logistic           0\n",
      "one_layer_test_score              ->         model  test_accuracy\n",
      "0  1-layer nn        \n",
      "rf_test_score                     ->            model  test_accuracy\n",
      "0  random forest  \n",
      "svm_linear_test_score             ->         model  test_accuracy\n",
      "0  svm linear        \n",
      "svm_rbf_test_score                ->      model  test_accuracy\n",
      "0  svm rbf           0.9\n",
      "two_layer_test_score              ->         model  test_accuracy\n",
      "0  2-layer nn        \n"
     ]
    }
   ],
   "source": [
    "import pandas as pd\n",
    "import numpy as np\n",
    "# Retrieve the stored variables\n",
    "%store"
   ]
  },
  {
   "cell_type": "code",
   "execution_count": 2,
   "id": "fb73f64b",
   "metadata": {},
   "outputs": [
    {
     "data": {
      "text/html": [
       "<div>\n",
       "<style scoped>\n",
       "    .dataframe tbody tr th:only-of-type {\n",
       "        vertical-align: middle;\n",
       "    }\n",
       "\n",
       "    .dataframe tbody tr th {\n",
       "        vertical-align: top;\n",
       "    }\n",
       "\n",
       "    .dataframe thead th {\n",
       "        text-align: right;\n",
       "    }\n",
       "</style>\n",
       "<table border=\"1\" class=\"dataframe\">\n",
       "  <thead>\n",
       "    <tr style=\"text-align: right;\">\n",
       "      <th></th>\n",
       "      <th>model</th>\n",
       "      <th>test_accuracy</th>\n",
       "    </tr>\n",
       "  </thead>\n",
       "  <tbody>\n",
       "    <tr>\n",
       "      <th>0</th>\n",
       "      <td>k-NN</td>\n",
       "      <td>0.92</td>\n",
       "    </tr>\n",
       "    <tr>\n",
       "      <th>1</th>\n",
       "      <td>desicion tree with pca</td>\n",
       "      <td>0.84</td>\n",
       "    </tr>\n",
       "    <tr>\n",
       "      <th>2</th>\n",
       "      <td>logistic</td>\n",
       "      <td>0.94</td>\n",
       "    </tr>\n",
       "    <tr>\n",
       "      <th>3</th>\n",
       "      <td>random forest</td>\n",
       "      <td>0.92</td>\n",
       "    </tr>\n",
       "    <tr>\n",
       "      <th>4</th>\n",
       "      <td>svm linear</td>\n",
       "      <td>0.92</td>\n",
       "    </tr>\n",
       "    <tr>\n",
       "      <th>5</th>\n",
       "      <td>svm rbf</td>\n",
       "      <td>0.92</td>\n",
       "    </tr>\n",
       "    <tr>\n",
       "      <th>6</th>\n",
       "      <td>1-layer nn</td>\n",
       "      <td>0.94</td>\n",
       "    </tr>\n",
       "    <tr>\n",
       "      <th>7</th>\n",
       "      <td>2-layer nn</td>\n",
       "      <td>0.94</td>\n",
       "    </tr>\n",
       "    <tr>\n",
       "      <th>8</th>\n",
       "      <td>cnn</td>\n",
       "      <td>0.36</td>\n",
       "    </tr>\n",
       "  </tbody>\n",
       "</table>\n",
       "</div>"
      ],
      "text/plain": [
       "                    model  test_accuracy\n",
       "0                    k-NN           0.92\n",
       "1  desicion tree with pca           0.84\n",
       "2                logistic           0.94\n",
       "3           random forest           0.92\n",
       "4              svm linear           0.92\n",
       "5                 svm rbf           0.92\n",
       "6              1-layer nn           0.94\n",
       "7              2-layer nn           0.94\n",
       "8                     cnn           0.36"
      ]
     },
     "execution_count": 2,
     "metadata": {},
     "output_type": "execute_result"
    }
   ],
   "source": [
    "# Extract the stored results and combine them into a DataFrame\n",
    "%store -r\n",
    "results = pd.concat([\n",
    "    knn_test_score,\n",
    "    dt_test_score,\n",
    "    logistic_test_score,\n",
    "    rf_test_score,\n",
    "    svm_linear_test_score,\n",
    "    svm_rbf_test_score,\n",
    "    one_layer_test_score,\n",
    "    two_layer_test_score,\n",
    "    cnn_test_score\n",
    "          ]).reset_index(drop=True)\n",
    "results"
   ]
  },
  {
   "cell_type": "markdown",
   "id": "330c6e2b",
   "metadata": {},
   "source": [
    "Here are our results. except my own cnn model and the decision tree with pca, all other models are quite similar. Let's visualize those data."
   ]
  },
  {
   "cell_type": "code",
   "execution_count": 3,
   "id": "b4ff1900",
   "metadata": {},
   "outputs": [],
   "source": [
    "# Create function to show value \n",
    "## this function has been taken from this website : https://www.statology.org/seaborn-barplot-show-values/\n",
    "\n",
    "def show_values(axs, orient=\"v\", space=.01):\n",
    "    def _single(ax):\n",
    "        if orient == \"v\":\n",
    "            for p in ax.patches:\n",
    "                _x = p.get_x() + p.get_width() / 2\n",
    "                _y = p.get_y() + p.get_height() + (p.get_height()*0.01)\n",
    "                value = '{:.2f}'.format(p.get_height())\n",
    "                ax.text(_x, _y, value, ha=\"center\") \n",
    "        elif orient == \"h\":\n",
    "            for p in ax.patches:\n",
    "                _x = p.get_x() + p.get_width() + float(space)\n",
    "                _y = p.get_y() + p.get_height() - (p.get_height()*0.5)\n",
    "                value = '{:.3f}'.format(p.get_width())\n",
    "                ax.text(_x, _y, value, ha=\"left\")\n",
    "\n",
    "    if isinstance(axs, np.ndarray):\n",
    "        for idx, ax in np.ndenumerate(axs):\n",
    "            _single(ax)\n",
    "    else:\n",
    "        _single(axs)\n",
    "    "
   ]
  },
  {
   "cell_type": "code",
   "execution_count": 4,
   "id": "71f0f717",
   "metadata": {},
   "outputs": [
    {
     "data": {
      "image/png": "[encoded data removed]",
      "text/plain": [
       "<Figure size 864x720 with 1 Axes>"
      ]
     },
     "metadata": {
      "needs_background": "light"
     },
     "output_type": "display_data"
    }
   ],
   "source": [
    "import matplotlib.pyplot as plt\n",
    "import seaborn as sns\n",
    "\n",
    "# Plot Barplot\n",
    "fig, ax = plt.subplots(figsize = (12,10))\n",
    "p = sns.barplot(x = results.model, y = results.test_accuracy, ax=ax)\n",
    "show_values(p)\n",
    "plt.title(\"Comparison of test accuracy for several classifiers\")\n",
    "plt.xlabel(\"Models\")\n",
    "plt.ylabel(\"Test Accuracy in %\")\n",
    "plt.xticks(rotation=45);"
   ]
  },
  {
   "cell_type": "markdown",
   "id": "18f9c4a1",
   "metadata": {},
   "source": [
    "# Conclusion\n",
    "After this long journey, three models stand out. __Logistic regression__, __1-layer neural network__ and __2-layer neural network__ with __94%__ accuracy (note, these results might change due to randomness but all lie between 92 and 94%). Several others followed closely with __92%__ accuracy. The __decision tree__ performed more poorly with only __\"84%\"__, although the result improved with the addition of the PCA as preprocessor for the data. Finally, my own __convolutional network__ is the lowest with __36%__ accuracy. We can therefore draw the conclusions of the importance of using pretrained models. Indeed, this allows to be quite accurate, even with a small dataset. My poor performance with the cnn is mainly due to the lack of data for the model to learn properly. Otherwise, the other models are quite similar. Again, it is difficult to predict in advance which model will be the best. It all depends on our data, our hyperparameters etc. This is why it is very important to always try several models in order to get the best possible result."
   ]
  }
 ],
 "metadata": {
  "kernelspec": {
   "display_name": "Python 3",
   "language": "python",
   "name": "python3"
  },
  "language_info": {
   "codemirror_mode": {
    "name": "ipython",
    "version": 3
   },
   "file_extension": ".py",
   "mimetype": "text/x-python",
   "name": "python",
   "nbconvert_exporter": "python",
   "pygments_lexer": "ipython3",
   "version": "3.6.13"
  }
 },
 "nbformat": 4,
 "nbformat_minor": 5
}
