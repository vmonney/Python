{
 "cells": [
  {
   "cell_type": "markdown",
   "id": "e963f344",
   "metadata": {},
   "source": [
    "# Dense network\n",
    "\n",
    "For the last section, I will try to use the pre-trained model with the dense network. I will first try with only 1-layer dense network and then with 2-layers. Let's start by importing the data."
   ]
  },
  {
   "cell_type": "code",
   "execution_count": 53,
   "id": "73129352",
   "metadata": {},
   "outputs": [],
   "source": [
    "import os\n",
    "import pandas as pd\n",
    "import numpy as np\n",
    "\n",
    "# Import train data\n",
    "with np.load(os.path.join('processed_data', 'features_tr.npz'), allow_pickle=False) as data:\n",
    "    features = dict(data.items())\n",
    "X_tr = features['x']\n",
    "y_tr = features['y']\n",
    "\n",
    "# import validation data\n",
    "with np.load(os.path.join('processed_data', 'features_va.npz'), allow_pickle=False) as data:\n",
    "    features_va = dict(data.items())\n",
    "X_va = features_va['x']\n",
    "y_va = features_va['y']\n",
    "\n",
    "#import raw test Images\n",
    "with np.load(os.path.join('processed_data', 'features_te.npz'), allow_pickle=False) as data:\n",
    "    features_te = dict(data.items())\n",
    "    \n",
    "# Create X/y arrays\n",
    "X_te = features_te['x']\n",
    "y_te = features_te['y']"
   ]
  },
  {
   "cell_type": "markdown",
   "id": "0b979185",
   "metadata": {},
   "source": [
    "## 1-layer dense network\n",
    "\n",
    "Now we will implement a 1-layer fully-connected (dense) neural network for our data."
   ]
  },
  {
   "cell_type": "code",
   "execution_count": 65,
   "id": "d058afbc",
   "metadata": {},
   "outputs": [
    {
     "name": "stdout",
     "output_type": "stream",
     "text": [
      "_________________________________________________________________\n",
      "Layer (type)                 Output Shape              Param #   \n",
      "=================================================================\n",
      "dense_31 (Dense)             (None, 6)                 12294     \n",
      "=================================================================\n",
      "Total params: 12,294\n",
      "Trainable params: 12,294\n",
      "Non-trainable params: 0\n",
      "_________________________________________________________________\n"
     ]
    }
   ],
   "source": [
    "import tensorflow as tf\n",
    "import tensorflow.keras as keras\n",
    "from tensorflow.keras import optimizers\n",
    "\n",
    "# Dense network\n",
    "model = keras.Sequential()\n",
    "model.add(keras.layers.InputLayer(input_shape=[2048]))\n",
    "model.add(keras.layers.Dense(trainset.num_classes, activation='softmax'))\n",
    "model.summary()\n",
    "\n",
    "# Define loss function, optimizer and metrics to track during training\n",
    "model.compile(optimizer='sgd', loss='sparse_categorical_crossentropy', metrics=['acc'])\n",
    "\n",
    "# End training when accuracy stops improving (optional)\n",
    "early_stopping = keras.callbacks.EarlyStopping(monitor='val_loss', patience=6)"
   ]
  },
  {
   "cell_type": "markdown",
   "id": "5609aa1d",
   "metadata": {},
   "source": [
    "Now that our model is prepared, we can fit the data and visualize the results"
   ]
  },
  {
   "cell_type": "code",
   "execution_count": 66,
   "id": "06c3aa93",
   "metadata": {},
   "outputs": [
    {
     "name": "stdout",
     "output_type": "stream",
     "text": [
      "Train on 280 samples, validate on 139 samples\n",
      "Epoch 1/50\n",
      "280/280 [==============================] - 0s 2ms/step - loss: 1.0413 - acc: 0.6357 - val_loss: 0.4712 - val_acc: 0.8705\n",
      "Epoch 2/50\n",
      "280/280 [==============================] - 0s 41us/step - loss: 0.2484 - acc: 0.9214 - val_loss: 0.4053 - val_acc: 0.8921\n",
      "Epoch 3/50\n",
      "280/280 [==============================] - 0s 48us/step - loss: 0.1580 - acc: 0.9536 - val_loss: 0.3778 - val_acc: 0.8993\n",
      "Epoch 4/50\n",
      "280/280 [==============================] - 0s 48us/step - loss: 0.1169 - acc: 0.9679 - val_loss: 0.3671 - val_acc: 0.8921\n",
      "Epoch 5/50\n",
      "280/280 [==============================] - 0s 53us/step - loss: 0.0925 - acc: 0.9750 - val_loss: 0.3561 - val_acc: 0.8993\n",
      "Epoch 6/50\n",
      "280/280 [==============================] - 0s 54us/step - loss: 0.0753 - acc: 0.9893 - val_loss: 0.3518 - val_acc: 0.8993\n",
      "Epoch 7/50\n",
      "280/280 [==============================] - 0s 51us/step - loss: 0.0626 - acc: 0.9929 - val_loss: 0.3518 - val_acc: 0.9065\n",
      "Epoch 8/50\n",
      "280/280 [==============================] - 0s 52us/step - loss: 0.0546 - acc: 0.9929 - val_loss: 0.3510 - val_acc: 0.9065\n",
      "Epoch 9/50\n",
      "280/280 [==============================] - 0s 54us/step - loss: 0.0470 - acc: 1.0000 - val_loss: 0.3504 - val_acc: 0.9065\n",
      "Epoch 10/50\n",
      "280/280 [==============================] - 0s 52us/step - loss: 0.0420 - acc: 1.0000 - val_loss: 0.3494 - val_acc: 0.9065\n",
      "Epoch 11/50\n",
      "280/280 [==============================] - 0s 51us/step - loss: 0.0376 - acc: 1.0000 - val_loss: 0.3478 - val_acc: 0.9137\n",
      "Epoch 12/50\n",
      "280/280 [==============================] - 0s 45us/step - loss: 0.0343 - acc: 1.0000 - val_loss: 0.3482 - val_acc: 0.9137\n",
      "Epoch 13/50\n",
      "280/280 [==============================] - 0s 56us/step - loss: 0.0313 - acc: 1.0000 - val_loss: 0.3492 - val_acc: 0.9137\n",
      "Epoch 14/50\n",
      "280/280 [==============================] - 0s 52us/step - loss: 0.0290 - acc: 1.0000 - val_loss: 0.3493 - val_acc: 0.9137\n",
      "Epoch 15/50\n",
      "280/280 [==============================] - 0s 57us/step - loss: 0.0268 - acc: 1.0000 - val_loss: 0.3501 - val_acc: 0.9137\n",
      "Epoch 16/50\n",
      "280/280 [==============================] - 0s 52us/step - loss: 0.0250 - acc: 1.0000 - val_loss: 0.3505 - val_acc: 0.9137\n",
      "Epoch 17/50\n",
      "280/280 [==============================] - 0s 49us/step - loss: 0.0233 - acc: 1.0000 - val_loss: 0.3503 - val_acc: 0.9137\n",
      "Epoch 18/50\n",
      "280/280 [==============================] - 0s 47us/step - loss: 0.0220 - acc: 1.0000 - val_loss: 0.3502 - val_acc: 0.9137\n",
      "Epoch 19/50\n",
      "280/280 [==============================] - 0s 47us/step - loss: 0.0207 - acc: 1.0000 - val_loss: 0.3498 - val_acc: 0.9137\n",
      "Epoch 20/50\n",
      "280/280 [==============================] - 0s 45us/step - loss: 0.0196 - acc: 1.0000 - val_loss: 0.3502 - val_acc: 0.9137\n",
      "Epoch 21/50\n",
      "280/280 [==============================] - 0s 47us/step - loss: 0.0187 - acc: 1.0000 - val_loss: 0.3509 - val_acc: 0.9137\n",
      "Epoch 22/50\n",
      "280/280 [==============================] - 0s 48us/step - loss: 0.0178 - acc: 1.0000 - val_loss: 0.3515 - val_acc: 0.9137\n",
      "Epoch 23/50\n",
      "280/280 [==============================] - 0s 49us/step - loss: 0.0170 - acc: 1.0000 - val_loss: 0.3525 - val_acc: 0.9137\n",
      "Epoch 24/50\n",
      "280/280 [==============================] - 0s 46us/step - loss: 0.0162 - acc: 1.0000 - val_loss: 0.3525 - val_acc: 0.9137\n",
      "Epoch 25/50\n",
      "280/280 [==============================] - 0s 47us/step - loss: 0.0155 - acc: 1.0000 - val_loss: 0.3527 - val_acc: 0.9137\n",
      "Epoch 26/50\n",
      "280/280 [==============================] - 0s 50us/step - loss: 0.0150 - acc: 1.0000 - val_loss: 0.3530 - val_acc: 0.9137\n",
      "Epoch 27/50\n",
      "280/280 [==============================] - 0s 48us/step - loss: 0.0145 - acc: 1.0000 - val_loss: 0.3532 - val_acc: 0.9137\n",
      "Epoch 28/50\n",
      "280/280 [==============================] - 0s 50us/step - loss: 0.0139 - acc: 1.0000 - val_loss: 0.3535 - val_acc: 0.9137\n",
      "Epoch 29/50\n",
      "280/280 [==============================] - 0s 49us/step - loss: 0.0134 - acc: 1.0000 - val_loss: 0.3536 - val_acc: 0.9137\n",
      "Epoch 30/50\n",
      "280/280 [==============================] - 0s 42us/step - loss: 0.0129 - acc: 1.0000 - val_loss: 0.3538 - val_acc: 0.9137\n",
      "Epoch 31/50\n",
      "280/280 [==============================] - 0s 54us/step - loss: 0.0125 - acc: 1.0000 - val_loss: 0.3539 - val_acc: 0.9137\n",
      "Epoch 32/50\n",
      "280/280 [==============================] - 0s 47us/step - loss: 0.0121 - acc: 1.0000 - val_loss: 0.3544 - val_acc: 0.9137\n",
      "Epoch 33/50\n",
      "280/280 [==============================] - 0s 50us/step - loss: 0.0118 - acc: 1.0000 - val_loss: 0.3545 - val_acc: 0.9137\n",
      "Epoch 34/50\n",
      "280/280 [==============================] - 0s 50us/step - loss: 0.0114 - acc: 1.0000 - val_loss: 0.3548 - val_acc: 0.9137\n",
      "Epoch 35/50\n",
      "280/280 [==============================] - 0s 52us/step - loss: 0.0111 - acc: 1.0000 - val_loss: 0.3548 - val_acc: 0.9137\n",
      "Epoch 36/50\n",
      "280/280 [==============================] - 0s 51us/step - loss: 0.0108 - acc: 1.0000 - val_loss: 0.3554 - val_acc: 0.9137\n",
      "Epoch 37/50\n",
      "280/280 [==============================] - 0s 46us/step - loss: 0.0105 - acc: 1.0000 - val_loss: 0.3558 - val_acc: 0.9137\n",
      "Epoch 38/50\n",
      "280/280 [==============================] - 0s 53us/step - loss: 0.0102 - acc: 1.0000 - val_loss: 0.3561 - val_acc: 0.9209\n",
      "Epoch 39/50\n",
      "280/280 [==============================] - 0s 48us/step - loss: 0.0099 - acc: 1.0000 - val_loss: 0.3563 - val_acc: 0.9209\n",
      "Epoch 40/50\n",
      "280/280 [==============================] - 0s 54us/step - loss: 0.0097 - acc: 1.0000 - val_loss: 0.3564 - val_acc: 0.9209\n",
      "Epoch 41/50\n",
      "280/280 [==============================] - 0s 52us/step - loss: 0.0094 - acc: 1.0000 - val_loss: 0.3567 - val_acc: 0.9209\n",
      "Epoch 42/50\n",
      "280/280 [==============================] - 0s 50us/step - loss: 0.0092 - acc: 1.0000 - val_loss: 0.3570 - val_acc: 0.9209\n",
      "Epoch 43/50\n",
      "280/280 [==============================] - 0s 50us/step - loss: 0.0090 - acc: 1.0000 - val_loss: 0.3572 - val_acc: 0.9209\n",
      "Epoch 44/50\n",
      "280/280 [==============================] - 0s 51us/step - loss: 0.0088 - acc: 1.0000 - val_loss: 0.3576 - val_acc: 0.9209\n",
      "Epoch 45/50\n",
      "280/280 [==============================] - 0s 46us/step - loss: 0.0086 - acc: 1.0000 - val_loss: 0.3581 - val_acc: 0.9209\n",
      "Epoch 46/50\n",
      "280/280 [==============================] - 0s 47us/step - loss: 0.0084 - acc: 1.0000 - val_loss: 0.3583 - val_acc: 0.9209\n",
      "Epoch 47/50\n",
      "280/280 [==============================] - 0s 50us/step - loss: 0.0082 - acc: 1.0000 - val_loss: 0.3586 - val_acc: 0.9209\n",
      "Epoch 48/50\n",
      "280/280 [==============================] - 0s 42us/step - loss: 0.0081 - acc: 1.0000 - val_loss: 0.3589 - val_acc: 0.9209\n",
      "Epoch 49/50\n",
      "280/280 [==============================] - 0s 46us/step - loss: 0.0079 - acc: 1.0000 - val_loss: 0.3591 - val_acc: 0.9209\n",
      "Epoch 50/50\n",
      "280/280 [==============================] - 0s 48us/step - loss: 0.0077 - acc: 1.0000 - val_loss: 0.3594 - val_acc: 0.9209\n"
     ]
    }
   ],
   "source": [
    "# Train model\n",
    "one_layer_model = model.fit(\n",
    "    x=X_tr, y=y_tr, validation_data = (X_va, y_va), epochs=50, shuffle=True)"
   ]
  },
  {
   "cell_type": "code",
   "execution_count": 67,
   "id": "482f43bf",
   "metadata": {},
   "outputs": [
    {
     "data": {
      "image/png": "[encoded data removed]",
      "text/plain": [
       "<Figure size 864x288 with 2 Axes>"
      ]
     },
     "metadata": {
      "needs_background": "light"
     },
     "output_type": "display_data"
    }
   ],
   "source": [
    "%matplotlib inline\n",
    "import matplotlib.pyplot as plt\n",
    "import numpy as np\n",
    "\n",
    "# Create two plots: one for the loss value, one for the accuracy\n",
    "fig, (ax1, ax2) = plt.subplots(nrows=1, ncols=2, figsize=(12, 4))\n",
    "\n",
    "# Plot accuracy values\n",
    "ax1.plot(one_layer_model.history['loss'], label='train loss')\n",
    "ax1.plot(one_layer_model.history['val_loss'], label='val loss')\n",
    "ax1.set_title('Validation loss {:.3f} (mean last 3)'.format(\n",
    "    np.mean(one_layer_model.history['val_loss'][-3:]) # last three values\n",
    "))\n",
    "ax1.set_xlabel('epoch')\n",
    "ax1.set_ylabel('loss value')\n",
    "ax1.legend()\n",
    "\n",
    "# Plot accuracy values\n",
    "ax2.plot(one_layer_model.history['acc'], label='train acc')\n",
    "ax2.plot(one_layer_model.history['val_acc'], label='val acc')\n",
    "ax2.set_title('Validation accuracy {:.3f} (mean last 3)'.format(\n",
    "    np.mean(one_layer_model.history['val_acc'][-3:]) # last three values\n",
    "))\n",
    "ax2.set_xlabel('epoch')\n",
    "ax2.set_ylabel('accuracy')\n",
    "ax2.legend()\n",
    "plt.show()"
   ]
  },
  {
   "cell_type": "code",
   "execution_count": 112,
   "id": "93b99274",
   "metadata": {},
   "outputs": [
    {
     "name": "stdout",
     "output_type": "stream",
     "text": [
      "50/50 [==============================] - 0s 254us/step\n"
     ]
    },
    {
     "data": {
      "text/plain": [
       "0.9199999928474426"
      ]
     },
     "execution_count": 112,
     "metadata": {},
     "output_type": "execute_result"
    }
   ],
   "source": [
    "model.evaluate(X_te, y_te)[1]"
   ]
  },
  {
   "cell_type": "code",
   "execution_count": 113,
   "id": "68fab73b",
   "metadata": {},
   "outputs": [
    {
     "name": "stdout",
     "output_type": "stream",
     "text": [
      "50/50 [==============================] - 0s 261us/step\n",
      "Stored 'one_layer_test_score' (DataFrame)\n"
     ]
    }
   ],
   "source": [
    "# Store the accuracy\n",
    "test_acurracy = model.evaluate(X_te, y_te)[1]\n",
    "one_layer_test_score = pd.DataFrame(data = {'model': [\"1-layer nn\"], 'test_accuracy': [test_acurracy]})\n",
    "%store one_layer_test_score"
   ]
  },
  {
   "cell_type": "markdown",
   "id": "1a4af7c4",
   "metadata": {},
   "source": [
    "We can see that the validation loss and accuracy reach a plateau after 10 epochs. The model then starts overfitting.\n",
    "Let's now evaluate the test score"
   ]
  },
  {
   "cell_type": "markdown",
   "id": "cc65a00f",
   "metadata": {},
   "source": [
    "We have a validation accuracy of 92%. Let's try with one hidden layer"
   ]
  },
  {
   "cell_type": "markdown",
   "id": "ea2c85e9",
   "metadata": {},
   "source": [
    "## 2-layer dense network"
   ]
  },
  {
   "cell_type": "code",
   "execution_count": 107,
   "id": "2ec6feba",
   "metadata": {},
   "outputs": [
    {
     "name": "stdout",
     "output_type": "stream",
     "text": [
      "_________________________________________________________________\n",
      "Layer (type)                 Output Shape              Param #   \n",
      "=================================================================\n",
      "dense_60 (Dense)             (None, 16)                32784     \n",
      "_________________________________________________________________\n",
      "dense_61 (Dense)             (None, 6)                 102       \n",
      "=================================================================\n",
      "Total params: 32,886\n",
      "Trainable params: 32,886\n",
      "Non-trainable params: 0\n",
      "_________________________________________________________________\n"
     ]
    }
   ],
   "source": [
    "import tensorflow as tf\n",
    "import tensorflow.keras as keras\n",
    "from tensorflow.keras import optimizers\n",
    "\n",
    "# Dense network\n",
    "model_2 = keras.Sequential()\n",
    "model_2.add(keras.layers.Dense(16, activation='relu', input_shape=[2048]))\n",
    "model_2.add(keras.layers.Dense(trainset.num_classes, activation='softmax'))\n",
    "model_2.summary()\n",
    "\n",
    "# Define loss function, optimizer and metrics to track during training\n",
    "model_2.compile(optimizer='sgd', loss='sparse_categorical_crossentropy', metrics=['acc'])"
   ]
  },
  {
   "cell_type": "code",
   "execution_count": 108,
   "id": "e984d780",
   "metadata": {},
   "outputs": [
    {
     "name": "stdout",
     "output_type": "stream",
     "text": [
      "Train on 280 samples, validate on 139 samples\n",
      "Epoch 1/50\n",
      "280/280 [==============================] - 1s 3ms/step - loss: 1.4485 - acc: 0.4179 - val_loss: 0.9486 - val_acc: 0.6619\n",
      "Epoch 2/50\n",
      "280/280 [==============================] - 0s 81us/step - loss: 0.6124 - acc: 0.8321 - val_loss: 0.6321 - val_acc: 0.8129\n",
      "Epoch 3/50\n",
      "280/280 [==============================] - 0s 83us/step - loss: 0.3838 - acc: 0.9214 - val_loss: 0.5154 - val_acc: 0.8705\n",
      "Epoch 4/50\n",
      "280/280 [==============================] - 0s 77us/step - loss: 0.2843 - acc: 0.9357 - val_loss: 0.4512 - val_acc: 0.8849\n",
      "Epoch 5/50\n",
      "280/280 [==============================] - 0s 86us/step - loss: 0.2265 - acc: 0.9464 - val_loss: 0.4126 - val_acc: 0.8849\n",
      "Epoch 6/50\n",
      "280/280 [==============================] - 0s 79us/step - loss: 0.1873 - acc: 0.9571 - val_loss: 0.3866 - val_acc: 0.8849\n",
      "Epoch 7/50\n",
      "280/280 [==============================] - 0s 81us/step - loss: 0.1589 - acc: 0.9750 - val_loss: 0.3685 - val_acc: 0.8849\n",
      "Epoch 8/50\n",
      "280/280 [==============================] - 0s 82us/step - loss: 0.1369 - acc: 0.9857 - val_loss: 0.3572 - val_acc: 0.8849\n",
      "Epoch 9/50\n",
      "280/280 [==============================] - 0s 90us/step - loss: 0.1191 - acc: 0.9929 - val_loss: 0.3443 - val_acc: 0.8777\n",
      "Epoch 10/50\n",
      "280/280 [==============================] - 0s 91us/step - loss: 0.1061 - acc: 0.9929 - val_loss: 0.3370 - val_acc: 0.8777\n",
      "Epoch 11/50\n",
      "280/280 [==============================] - 0s 88us/step - loss: 0.0950 - acc: 0.9929 - val_loss: 0.3294 - val_acc: 0.8777\n",
      "Epoch 12/50\n",
      "280/280 [==============================] - 0s 88us/step - loss: 0.0860 - acc: 0.9929 - val_loss: 0.3236 - val_acc: 0.8777\n",
      "Epoch 13/50\n",
      "280/280 [==============================] - 0s 90us/step - loss: 0.0780 - acc: 0.9964 - val_loss: 0.3200 - val_acc: 0.8777\n",
      "Epoch 14/50\n",
      "280/280 [==============================] - 0s 94us/step - loss: 0.0715 - acc: 0.9964 - val_loss: 0.3163 - val_acc: 0.8849\n",
      "Epoch 15/50\n",
      "280/280 [==============================] - 0s 90us/step - loss: 0.0656 - acc: 0.9964 - val_loss: 0.3128 - val_acc: 0.8921\n",
      "Epoch 16/50\n",
      "280/280 [==============================] - 0s 93us/step - loss: 0.0605 - acc: 0.9964 - val_loss: 0.3102 - val_acc: 0.8921\n",
      "Epoch 17/50\n",
      "280/280 [==============================] - 0s 102us/step - loss: 0.0557 - acc: 0.9964 - val_loss: 0.3077 - val_acc: 0.8921\n",
      "Epoch 18/50\n",
      "280/280 [==============================] - 0s 89us/step - loss: 0.0516 - acc: 0.9964 - val_loss: 0.3067 - val_acc: 0.8921\n",
      "Epoch 19/50\n",
      "280/280 [==============================] - 0s 83us/step - loss: 0.0481 - acc: 0.9964 - val_loss: 0.3051 - val_acc: 0.8921\n",
      "Epoch 20/50\n",
      "280/280 [==============================] - 0s 83us/step - loss: 0.0449 - acc: 0.9964 - val_loss: 0.3035 - val_acc: 0.8921\n",
      "Epoch 21/50\n",
      "280/280 [==============================] - 0s 88us/step - loss: 0.0422 - acc: 0.9964 - val_loss: 0.3026 - val_acc: 0.8921\n",
      "Epoch 22/50\n",
      "280/280 [==============================] - 0s 85us/step - loss: 0.0398 - acc: 1.0000 - val_loss: 0.3020 - val_acc: 0.8921\n",
      "Epoch 23/50\n",
      "280/280 [==============================] - 0s 90us/step - loss: 0.0374 - acc: 1.0000 - val_loss: 0.3020 - val_acc: 0.8921\n",
      "Epoch 24/50\n",
      "280/280 [==============================] - 0s 85us/step - loss: 0.0354 - acc: 1.0000 - val_loss: 0.3008 - val_acc: 0.8921\n",
      "Epoch 25/50\n",
      "280/280 [==============================] - 0s 92us/step - loss: 0.0337 - acc: 1.0000 - val_loss: 0.3006 - val_acc: 0.8921\n",
      "Epoch 26/50\n",
      "280/280 [==============================] - 0s 86us/step - loss: 0.0319 - acc: 1.0000 - val_loss: 0.3004 - val_acc: 0.8921\n",
      "Epoch 27/50\n",
      "280/280 [==============================] - 0s 88us/step - loss: 0.0306 - acc: 1.0000 - val_loss: 0.3000 - val_acc: 0.8921\n",
      "Epoch 28/50\n",
      "280/280 [==============================] - 0s 88us/step - loss: 0.0291 - acc: 1.0000 - val_loss: 0.2991 - val_acc: 0.8921\n",
      "Epoch 29/50\n",
      "280/280 [==============================] - 0s 85us/step - loss: 0.0278 - acc: 1.0000 - val_loss: 0.2988 - val_acc: 0.8921\n",
      "Epoch 30/50\n",
      "280/280 [==============================] - 0s 88us/step - loss: 0.0266 - acc: 1.0000 - val_loss: 0.2991 - val_acc: 0.8993\n",
      "Epoch 31/50\n",
      "280/280 [==============================] - 0s 95us/step - loss: 0.0255 - acc: 1.0000 - val_loss: 0.2988 - val_acc: 0.8993\n",
      "Epoch 32/50\n",
      "280/280 [==============================] - 0s 97us/step - loss: 0.0245 - acc: 1.0000 - val_loss: 0.2984 - val_acc: 0.8993\n",
      "Epoch 33/50\n",
      "280/280 [==============================] - 0s 100us/step - loss: 0.0236 - acc: 1.0000 - val_loss: 0.2985 - val_acc: 0.8993\n",
      "Epoch 34/50\n",
      "280/280 [==============================] - 0s 102us/step - loss: 0.0227 - acc: 1.0000 - val_loss: 0.2989 - val_acc: 0.8993\n",
      "Epoch 35/50\n",
      "280/280 [==============================] - 0s 95us/step - loss: 0.0218 - acc: 1.0000 - val_loss: 0.2992 - val_acc: 0.8993\n",
      "Epoch 36/50\n",
      "280/280 [==============================] - 0s 90us/step - loss: 0.0211 - acc: 1.0000 - val_loss: 0.2990 - val_acc: 0.8993\n",
      "Epoch 37/50\n",
      "280/280 [==============================] - 0s 100us/step - loss: 0.0203 - acc: 1.0000 - val_loss: 0.2988 - val_acc: 0.8993\n",
      "Epoch 38/50\n",
      "280/280 [==============================] - 0s 87us/step - loss: 0.0197 - acc: 1.0000 - val_loss: 0.2987 - val_acc: 0.8993\n",
      "Epoch 39/50\n",
      "280/280 [==============================] - 0s 89us/step - loss: 0.0190 - acc: 1.0000 - val_loss: 0.2985 - val_acc: 0.8993\n",
      "Epoch 40/50\n",
      "280/280 [==============================] - 0s 90us/step - loss: 0.0184 - acc: 1.0000 - val_loss: 0.2986 - val_acc: 0.8993\n",
      "Epoch 41/50\n",
      "280/280 [==============================] - 0s 100us/step - loss: 0.0178 - acc: 1.0000 - val_loss: 0.2989 - val_acc: 0.8993\n",
      "Epoch 42/50\n",
      "280/280 [==============================] - 0s 93us/step - loss: 0.0173 - acc: 1.0000 - val_loss: 0.2991 - val_acc: 0.8993\n",
      "Epoch 43/50\n",
      "280/280 [==============================] - 0s 89us/step - loss: 0.0168 - acc: 1.0000 - val_loss: 0.2993 - val_acc: 0.8993\n",
      "Epoch 44/50\n",
      "280/280 [==============================] - 0s 93us/step - loss: 0.0163 - acc: 1.0000 - val_loss: 0.2996 - val_acc: 0.8993\n",
      "Epoch 45/50\n",
      "280/280 [==============================] - 0s 98us/step - loss: 0.0159 - acc: 1.0000 - val_loss: 0.2994 - val_acc: 0.8993\n",
      "Epoch 46/50\n",
      "280/280 [==============================] - 0s 91us/step - loss: 0.0154 - acc: 1.0000 - val_loss: 0.2996 - val_acc: 0.8993\n",
      "Epoch 47/50\n",
      "280/280 [==============================] - 0s 91us/step - loss: 0.0150 - acc: 1.0000 - val_loss: 0.2998 - val_acc: 0.8993\n",
      "Epoch 48/50\n",
      "280/280 [==============================] - 0s 93us/step - loss: 0.0146 - acc: 1.0000 - val_loss: 0.3002 - val_acc: 0.8993\n",
      "Epoch 49/50\n",
      "280/280 [==============================] - 0s 91us/step - loss: 0.0143 - acc: 1.0000 - val_loss: 0.3004 - val_acc: 0.8993\n",
      "Epoch 50/50\n",
      "280/280 [==============================] - 0s 84us/step - loss: 0.0139 - acc: 1.0000 - val_loss: 0.3001 - val_acc: 0.8993\n"
     ]
    }
   ],
   "source": [
    "# Train model\n",
    "two_layer_model = model_2.fit(\n",
    "    x=X_tr, y=y_tr, validation_data = (X_va, y_va), epochs=50, shuffle=True)"
   ]
  },
  {
   "cell_type": "code",
   "execution_count": 109,
   "id": "a4d3eb93",
   "metadata": {},
   "outputs": [
    {
     "data": {
      "image/png": "[encoded data removed]",
      "text/plain": [
       "<Figure size 864x288 with 2 Axes>"
      ]
     },
     "metadata": {
      "needs_background": "light"
     },
     "output_type": "display_data"
    }
   ],
   "source": [
    "%matplotlib inline\n",
    "import matplotlib.pyplot as plt\n",
    "import numpy as np\n",
    "\n",
    "# Create two plots: one for the loss value, one for the accuracy\n",
    "fig, (ax1, ax2) = plt.subplots(nrows=1, ncols=2, figsize=(12, 4))\n",
    "\n",
    "# Plot accuracy values\n",
    "ax1.plot(two_layer_model.history['loss'], label='train loss')\n",
    "ax1.plot(two_layer_model.history['val_loss'], label='val loss')\n",
    "ax1.set_title('Validation loss {:.3f} (mean last 3)'.format(\n",
    "    np.mean(two_layer_model.history['val_loss'][-3:]) # last three values\n",
    "))\n",
    "ax1.set_xlabel('epoch')\n",
    "ax1.set_ylabel('loss value')\n",
    "ax1.legend()\n",
    "\n",
    "# Plot accuracy values\n",
    "ax2.plot(two_layer_model.history['acc'], label='train acc')\n",
    "ax2.plot(two_layer_model.history['val_acc'], label='val acc')\n",
    "ax2.set_title('Validation accuracy {:.3f} (mean last 3)'.format(\n",
    "    np.mean(two_layer_model.history['val_acc'][-3:]) # last three values\n",
    "))\n",
    "ax2.set_xlabel('epoch')\n",
    "ax2.set_ylabel('accuracy')\n",
    "ax2.legend()\n",
    "plt.show()"
   ]
  },
  {
   "cell_type": "markdown",
   "id": "4995175c",
   "metadata": {},
   "source": [
    "With one hidden layer, we observe that we do not get better results. It is even slightly less accurate. As already mentioned several times. The pre-trained model is already really good. It is thus difficult to have better results."
   ]
  },
  {
   "cell_type": "code",
   "execution_count": 114,
   "id": "9838305d",
   "metadata": {},
   "outputs": [
    {
     "name": "stdout",
     "output_type": "stream",
     "text": [
      "50/50 [==============================] - 0s 262us/step\n",
      "Stored 'two_layer_test_score' (DataFrame)\n"
     ]
    }
   ],
   "source": [
    "# Store the accuracy\n",
    "test_acurracy = model_2.evaluate(X_te, y_te)[1]\n",
    "two_layer_test_score = pd.DataFrame(data = {'model': [\"2-layer nn\"], 'test_accuracy': [test_acurracy]})\n",
    "%store two_layer_test_score"
   ]
  },
  {
   "cell_type": "code",
   "execution_count": null,
   "id": "53102af6",
   "metadata": {},
   "outputs": [],
   "source": []
  }
 ],
 "metadata": {
  "kernelspec": {
   "display_name": "Python 3",
   "language": "python",
   "name": "python3"
  },
  "language_info": {
   "codemirror_mode": {
    "name": "ipython",
    "version": 3
   },
   "file_extension": ".py",
   "mimetype": "text/x-python",
   "name": "python",
   "nbconvert_exporter": "python",
   "pygments_lexer": "ipython3",
   "version": "3.6.13"
  }
 },
 "nbformat": 4,
 "nbformat_minor": 5
}
