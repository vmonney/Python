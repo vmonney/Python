{
 "cells": [
  {
   "cell_type": "markdown",
   "id": "48205190",
   "metadata": {},
   "source": [
    "# 06 Nonlinear classifiers\n",
    "\n",
    "In this section, we continue our journey of testing different classifiers on the swissroads images and try to find the most accurate model."
   ]
  },
  {
   "cell_type": "code",
   "execution_count": 27,
   "id": "fa7fdda6",
   "metadata": {},
   "outputs": [],
   "source": [
    "import os\n",
    "import pandas as pd\n",
    "import numpy as np\n",
    "\n",
    "# Import train data\n",
    "with np.load(os.path.join('processed_data', 'features_tr.npz'), allow_pickle=False) as data:\n",
    "    features = dict(data.items())\n",
    "X_tr = features['x']\n",
    "y_tr = features['y']\n",
    "\n",
    "# import validation data\n",
    "with np.load(os.path.join('processed_data', 'features_va.npz'), allow_pickle=False) as data:\n",
    "    features_va = dict(data.items())\n",
    "X_va = features_va['x']\n",
    "y_va = features_va['y']\n",
    "\n",
    "#import raw test Images\n",
    "with np.load(os.path.join('processed_data', 'features_te.npz'), allow_pickle=False) as data:\n",
    "    features_te = dict(data.items())\n",
    "X_te = features_te['x']\n",
    "y_te = features_te['y']"
   ]
  },
  {
   "cell_type": "markdown",
   "id": "593a4b0a",
   "metadata": {},
   "source": [
    "## Random Forest\n",
    "\n",
    "We know that sometimes,  deep decision trees can lead to overfitting. Random Forest use the bagging method and bootstrapping to reduce the variance. Let's try to fit one model."
   ]
  },
  {
   "cell_type": "code",
   "execution_count": 2,
   "id": "8a56ef0c",
   "metadata": {},
   "outputs": [
    {
     "data": {
      "text/html": [
       "<div>\n",
       "<style scoped>\n",
       "    .dataframe tbody tr th:only-of-type {\n",
       "        vertical-align: middle;\n",
       "    }\n",
       "\n",
       "    .dataframe tbody tr th {\n",
       "        vertical-align: top;\n",
       "    }\n",
       "\n",
       "    .dataframe thead th {\n",
       "        text-align: right;\n",
       "    }\n",
       "</style>\n",
       "<table border=\"1\" class=\"dataframe\">\n",
       "  <thead>\n",
       "    <tr style=\"text-align: right;\">\n",
       "      <th></th>\n",
       "      <th>number of estimators</th>\n",
       "      <th>test_accuracy</th>\n",
       "      <th>train_accuracy</th>\n",
       "    </tr>\n",
       "  </thead>\n",
       "  <tbody>\n",
       "    <tr>\n",
       "      <th>107</th>\n",
       "      <td>108</td>\n",
       "      <td>0.928058</td>\n",
       "      <td>1.0</td>\n",
       "    </tr>\n",
       "    <tr>\n",
       "      <th>106</th>\n",
       "      <td>107</td>\n",
       "      <td>0.928058</td>\n",
       "      <td>1.0</td>\n",
       "    </tr>\n",
       "    <tr>\n",
       "      <th>110</th>\n",
       "      <td>111</td>\n",
       "      <td>0.928058</td>\n",
       "      <td>1.0</td>\n",
       "    </tr>\n",
       "    <tr>\n",
       "      <th>111</th>\n",
       "      <td>112</td>\n",
       "      <td>0.928058</td>\n",
       "      <td>1.0</td>\n",
       "    </tr>\n",
       "    <tr>\n",
       "      <th>112</th>\n",
       "      <td>113</td>\n",
       "      <td>0.928058</td>\n",
       "      <td>1.0</td>\n",
       "    </tr>\n",
       "  </tbody>\n",
       "</table>\n",
       "</div>"
      ],
      "text/plain": [
       "     number of estimators  test_accuracy  train_accuracy\n",
       "107                   108       0.928058             1.0\n",
       "106                   107       0.928058             1.0\n",
       "110                   111       0.928058             1.0\n",
       "111                   112       0.928058             1.0\n",
       "112                   113       0.928058             1.0"
      ]
     },
     "execution_count": 2,
     "metadata": {},
     "output_type": "execute_result"
    }
   ],
   "source": [
    "from sklearn.ensemble import RandomForestClassifier\n",
    "\n",
    "# Generate a set of number of estimators\n",
    "n_estimators = np.arange(1,200, 1)\n",
    "\n",
    "gs_results = []\n",
    "\n",
    "# Grid search\n",
    "for n in n_estimators:\n",
    "   # Random forest\n",
    "    rf = RandomForestClassifier(n_estimators=n, max_depth=None, random_state=0)\n",
    "    rf.fit(X_tr, y_tr)\n",
    "\n",
    "    # Save model and its performance on train/test sets\n",
    "    gs_results.append({\n",
    "        'number of estimators': n,\n",
    "        'train_accuracy': rf.score(X_tr, y_tr),\n",
    "        'test_accuracy': rf.score(X_va, y_va)\n",
    "    })\n",
    "\n",
    "# Convert results to DataFrame\n",
    "gs_results = pd.DataFrame(gs_results)\n",
    "gs_results.sort_values(\"test_accuracy\", ascending = False).head()"
   ]
  },
  {
   "cell_type": "code",
   "execution_count": 3,
   "id": "4fb90b81",
   "metadata": {},
   "outputs": [
    {
     "data": {
      "image/png": "[encoded data removed]",
      "text/plain": [
       "<Figure size 432x288 with 1 Axes>"
      ]
     },
     "metadata": {
      "needs_background": "light"
     },
     "output_type": "display_data"
    }
   ],
   "source": [
    "%matplotlib inline\n",
    "import matplotlib.pyplot as plt\n",
    "\n",
    "#Plot train and test result\n",
    "plt.plot(gs_results['number of estimators'], gs_results['train_accuracy'], label='train')\n",
    "plt.plot(gs_results['number of estimators'], gs_results['test_accuracy'], label='test')\n",
    "\n",
    "# Add marker for best score\n",
    "best_k = gs_results['test_accuracy'].idxmax()\n",
    "plt.scatter(best_k, gs_results['test_accuracy'].max(), marker='x', c='red', zorder=10)\n",
    "\n",
    "plt.xlabel('Number of trees')\n",
    "plt.ylabel('Accuracy')\n",
    "plt.legend(),\n",
    "plt.title('Best number of trees: {} with {:.1f}% accuracy'.format(best_k, 100*gs_results['test_accuracy'][best_k]));"
   ]
  },
  {
   "cell_type": "code",
   "execution_count": 28,
   "id": "e6b9cb6f",
   "metadata": {},
   "outputs": [
    {
     "name": "stdout",
     "output_type": "stream",
     "text": [
      "Stored 'rf_test_score' (DataFrame)\n"
     ]
    }
   ],
   "source": [
    "# Random forest\n",
    "rf_best = RandomForestClassifier(n_estimators=106, max_depth=None, random_state=0)\n",
    "rf_best.fit(X_tr, y_tr)\n",
    "\n",
    "test_acurracy = rf_best.score(X_te, y_te)\n",
    "rf_test_score = pd.DataFrame(data = {'model': [\"random forest\"], 'test_accuracy': [test_acurracy]})\n",
    "%store rf_test_score"
   ]
  },
  {
   "cell_type": "markdown",
   "id": "7ead9825",
   "metadata": {},
   "source": [
    "It seems that the number of trees increase the accuracy until 100 and then stagnates or even decreases.\n",
    "\n",
    "## Support Vector Machines\n",
    "\n",
    "Here with the support vector machines, we try to find the separation with the maximum margin around it, by minimizing the [hinge loss](https://en.wikipedia.org/wiki/Hinge_loss). Sometimes, The linear SVMs can be too rigid when there are nonlinear relationships between the variables. In thoses cases, we use the __kernel trick__ that basically add new features to better interpret the data. Let's see which one performs better."
   ]
  },
  {
   "cell_type": "code",
   "execution_count": 7,
   "id": "7c16e7db",
   "metadata": {},
   "outputs": [
    {
     "name": "stdout",
     "output_type": "stream",
     "text": [
      "Accuracy: 0.928\n"
     ]
    }
   ],
   "source": [
    "from sklearn.svm import LinearSVC\n",
    "\n",
    "# Create SVM with linear kernel\n",
    "linear_svc = LinearSVC()\n",
    "\n",
    "# Fit estimator\n",
    "linear_svc.fit(X_tr, y_tr)\n",
    "\n",
    "# Accuracy on test set\n",
    "accuracy = linear_svc.score(X_va, y_va)\n",
    "print('Accuracy: {:.3f}'.format(accuracy))"
   ]
  },
  {
   "cell_type": "markdown",
   "id": "6cfe0c01",
   "metadata": {},
   "source": [
    "### Support vector machines with RBF Kernel"
   ]
  },
  {
   "cell_type": "code",
   "execution_count": 25,
   "id": "764b6e5b",
   "metadata": {},
   "outputs": [
    {
     "data": {
      "text/plain": [
       "0.9280575539568345"
      ]
     },
     "execution_count": 25,
     "metadata": {},
     "output_type": "execute_result"
    }
   ],
   "source": [
    "from sklearn.svm import SVC\n",
    "\n",
    "# Create SVM with RBF kernel\n",
    "rbf_svc_c1 = SVC(kernel='rbf', C=1, gamma='auto')\n",
    "\n",
    "# Fit estimator\n",
    "rbf_svc_c1.fit(X_tr, y_tr)\n",
    "rbf_svc_c1.score(X_va, y_va)"
   ]
  },
  {
   "cell_type": "markdown",
   "id": "6c156847",
   "metadata": {},
   "source": [
    "Here, the RBF Kernel doesn't improve the accuracy. Again, pre-trained model already modified the data in such manner that it has already learned a lot from the data. Indeed, it learned from several millions of images. Learning just from our small dataset of images is not enough to hope to have better results."
   ]
  },
  {
   "cell_type": "code",
   "execution_count": 29,
   "id": "74f2140d",
   "metadata": {},
   "outputs": [
    {
     "name": "stdout",
     "output_type": "stream",
     "text": [
      "Stored 'svm_linear_test_score' (DataFrame)\n",
      "Stored 'svm_rbf_test_score' (DataFrame)\n"
     ]
    }
   ],
   "source": [
    "# Store the accuracy\n",
    "test_acurracy = linear_svc.score(X_te, y_te)\n",
    "svm_linear_test_score = pd.DataFrame(data = {'model': [\"svm linear\"], 'test_accuracy': [test_acurracy]})\n",
    "%store svm_linear_test_score\n",
    "\n",
    "test_acurracy = rbf_svc_c1.score(X_te, y_te)\n",
    "svm_rbf_test_score = pd.DataFrame(data = {'model': [\"svm rbf\"], 'test_accuracy': [test_acurracy]})\n",
    "%store svm_rbf_test_score"
   ]
  },
  {
   "cell_type": "code",
   "execution_count": null,
   "id": "28b2aae0",
   "metadata": {},
   "outputs": [],
   "source": []
  }
 ],
 "metadata": {
  "kernelspec": {
   "display_name": "Python 3",
   "language": "python",
   "name": "python3"
  },
  "language_info": {
   "codemirror_mode": {
    "name": "ipython",
    "version": 3
   },
   "file_extension": ".py",
   "mimetype": "text/x-python",
   "name": "python",
   "nbconvert_exporter": "python",
   "pygments_lexer": "ipython3",
   "version": "3.6.13"
  }
 },
 "nbformat": 4,
 "nbformat_minor": 5
}
