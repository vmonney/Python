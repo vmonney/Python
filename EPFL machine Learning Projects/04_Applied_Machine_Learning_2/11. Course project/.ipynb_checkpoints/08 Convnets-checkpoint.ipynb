{
 "cells": [
  {
   "cell_type": "markdown",
   "id": "30118e90",
   "metadata": {},
   "source": [
    "# Convnets\n",
    "Previously, we tested different model with the set of high-level features extracted from the pretrained neural network __Inception V3__. Here, I will try to create my own ConvNet from scratch using the pixel values from the original images to train the model. "
   ]
  },
  {
   "cell_type": "code",
   "execution_count": 47,
   "id": "d958f54a",
   "metadata": {},
   "outputs": [
    {
     "name": "stdout",
     "output_type": "stream",
     "text": [
      "Found 280 images belonging to 6 classes.\n",
      "Found 139 images belonging to 6 classes.\n",
      "Found 50 images belonging to 6 classes.\n"
     ]
    }
   ],
   "source": [
    "from tensorflow.keras.preprocessing.image import ImageDataGenerator\n",
    "import os\n",
    "import pandas as pd\n",
    "\n",
    "# Create image generator\n",
    "train_generator = ImageDataGenerator(rescale=1/255,\n",
    "                                    rotation_range = 40,\n",
    "                                    width_shift_range=0.2,\n",
    "                                    height_shift_range=0.2,\n",
    "                                    shear_range=0.2,\n",
    "                                    zoom_range=0.2,\n",
    "                                    horizontal_flip=True,\n",
    "                                    fill_mode='nearest')\n",
    "\n",
    "test_generator = ImageDataGenerator(rescale=1/255)\n",
    "# Create an iterator that iterates over the directory\n",
    "\n",
    "# Train, validation and test sets\n",
    "trainset = train_generator.flow_from_directory(\n",
    "    os.path.join('swissroads', 'train'), target_size=(299, 299),\n",
    "    shuffle=True, class_mode = 'categorical', batch_size = 280)\n",
    "validset = train_generator.flow_from_directory(\n",
    "    os.path.join('swissroads', 'valid'), target_size=(299, 299),\n",
    "    shuffle=False, class_mode = 'categorical', batch_size = 280)\n",
    "testset = test_generator.flow_from_directory(\n",
    "    os.path.join('swissroads', 'test'), target_size=(299, 299),\n",
    "    shuffle=False, class_mode = 'categorical', batch_size = 280)"
   ]
  },
  {
   "cell_type": "code",
   "execution_count": 42,
   "id": "930cbd54",
   "metadata": {},
   "outputs": [
    {
     "name": "stdout",
     "output_type": "stream",
     "text": [
      "_________________________________________________________________\n",
      "Layer (type)                 Output Shape              Param #   \n",
      "=================================================================\n",
      "conv2d_44 (Conv2D)           (None, 297, 297, 32)      896       \n",
      "_________________________________________________________________\n",
      "max_pooling2d_42 (MaxPooling (None, 148, 148, 32)      0         \n",
      "_________________________________________________________________\n",
      "conv2d_45 (Conv2D)           (None, 146, 146, 32)      9248      \n",
      "_________________________________________________________________\n",
      "max_pooling2d_43 (MaxPooling (None, 73, 73, 32)        0         \n",
      "_________________________________________________________________\n",
      "conv2d_46 (Conv2D)           (None, 71, 71, 64)        18496     \n",
      "_________________________________________________________________\n",
      "max_pooling2d_44 (MaxPooling (None, 35, 35, 64)        0         \n",
      "_________________________________________________________________\n",
      "flatten_17 (Flatten)         (None, 78400)             0         \n",
      "_________________________________________________________________\n",
      "dense_21 (Dense)             (None, 64)                5017664   \n",
      "_________________________________________________________________\n",
      "dropout_2 (Dropout)          (None, 64)                0         \n",
      "_________________________________________________________________\n",
      "dense_22 (Dense)             (None, 6)                 390       \n",
      "=================================================================\n",
      "Total params: 5,046,694\n",
      "Trainable params: 5,046,694\n",
      "Non-trainable params: 0\n",
      "_________________________________________________________________\n"
     ]
    }
   ],
   "source": [
    "import tensorflow.keras as keras\n",
    "from tensorflow.keras import datasets, layers, models\n",
    "\n",
    "# Convolutional Network\n",
    "model = keras.Sequential()\n",
    "model.add(keras.layers.Conv2D(filters=32, kernel_size=3, strides=1,\n",
    "                              activation='relu', input_shape=(299, 299, 3)))\n",
    "model.add(keras.layers.MaxPool2D(pool_size=2))\n",
    "model.add(keras.layers.Conv2D(filters=32, kernel_size=3, strides=1,\n",
    "                              activation='relu'))\n",
    "model.add(keras.layers.MaxPool2D(pool_size=2))\n",
    "model.add(keras.layers.Conv2D(filters=64, kernel_size=3, strides=1, activation='relu'))\n",
    "model.add(keras.layers.MaxPool2D(pool_size=2))\n",
    "\n",
    "# Dense layers\n",
    "model.add(keras.layers.Flatten())\n",
    "model.add(keras.layers.Dense(units=64, activation='relu'))\n",
    "model.add(keras.layers.Dropout(0.5))\n",
    "model.add(keras.layers.Dense(units=trainset.num_classes, activation='softmax'))\n",
    "model.summary()\n",
    "\n",
    "# Compile the model\n",
    "model.compile(optimizer=keras.optimizers.Adam(), loss='categorical_crossentropy', metrics=['acc'])\n",
    "\n",
    "# End training when accuracy stops improving (optional)\n",
    "early_stopping = keras.callbacks.EarlyStopping(monitor='val_loss', patience=6)"
   ]
  },
  {
   "cell_type": "code",
   "execution_count": 43,
   "id": "f766e352",
   "metadata": {},
   "outputs": [
    {
     "name": "stdout",
     "output_type": "stream",
     "text": [
      "Epoch 1/20\n",
      "1/1 [==============================] - 62s 62s/step - loss: 1.7934 - acc: 0.1786 - val_loss: 2.2683 - val_acc: 0.1799\n",
      "Epoch 2/20\n",
      "1/1 [==============================] - 56s 56s/step - loss: 2.5487 - acc: 0.1964 - val_loss: 1.7788 - val_acc: 0.2374\n",
      "Epoch 3/20\n",
      "1/1 [==============================] - 56s 56s/step - loss: 1.8751 - acc: 0.2393 - val_loss: 1.7888 - val_acc: 0.2662\n",
      "Epoch 4/20\n",
      "1/1 [==============================] - 55s 55s/step - loss: 1.8392 - acc: 0.1714 - val_loss: 1.7792 - val_acc: 0.1655\n",
      "Epoch 5/20\n",
      "1/1 [==============================] - 56s 56s/step - loss: 1.7887 - acc: 0.1821 - val_loss: 1.7700 - val_acc: 0.2302\n",
      "Epoch 6/20\n",
      "1/1 [==============================] - 55s 55s/step - loss: 1.7780 - acc: 0.2286 - val_loss: 1.7623 - val_acc: 0.2302\n",
      "Epoch 7/20\n",
      "1/1 [==============================] - 56s 56s/step - loss: 1.7746 - acc: 0.2286 - val_loss: 1.7405 - val_acc: 0.2446\n",
      "Epoch 8/20\n",
      "1/1 [==============================] - 56s 56s/step - loss: 1.7484 - acc: 0.2286 - val_loss: 1.7361 - val_acc: 0.2662\n",
      "Epoch 9/20\n",
      "1/1 [==============================] - 55s 55s/step - loss: 1.7527 - acc: 0.2286 - val_loss: 1.7354 - val_acc: 0.2518\n",
      "Epoch 10/20\n",
      "1/1 [==============================] - 55s 55s/step - loss: 1.7446 - acc: 0.2250 - val_loss: 1.7337 - val_acc: 0.2518\n",
      "Epoch 11/20\n",
      "1/1 [==============================] - 56s 56s/step - loss: 1.7390 - acc: 0.2357 - val_loss: 1.7296 - val_acc: 0.3022\n",
      "Epoch 12/20\n",
      "1/1 [==============================] - 55s 55s/step - loss: 1.7362 - acc: 0.2500 - val_loss: 1.7223 - val_acc: 0.3453\n",
      "Epoch 13/20\n",
      "1/1 [==============================] - 56s 56s/step - loss: 1.7519 - acc: 0.2214 - val_loss: 1.7229 - val_acc: 0.2590\n",
      "Epoch 14/20\n",
      "1/1 [==============================] - 55s 55s/step - loss: 1.7405 - acc: 0.2429 - val_loss: 1.7118 - val_acc: 0.3381\n",
      "Epoch 15/20\n",
      "1/1 [==============================] - 55s 55s/step - loss: 1.7243 - acc: 0.2786 - val_loss: 1.7051 - val_acc: 0.3022\n",
      "Epoch 16/20\n",
      "1/1 [==============================] - 55s 55s/step - loss: 1.7231 - acc: 0.2893 - val_loss: 1.6936 - val_acc: 0.3165\n",
      "Epoch 17/20\n",
      "1/1 [==============================] - 54s 54s/step - loss: 1.7153 - acc: 0.2714 - val_loss: 1.6954 - val_acc: 0.2950\n",
      "Epoch 18/20\n",
      "1/1 [==============================] - 55s 55s/step - loss: 1.7131 - acc: 0.2571 - val_loss: 1.6923 - val_acc: 0.3165\n",
      "Epoch 19/20\n",
      "1/1 [==============================] - 55s 55s/step - loss: 1.7026 - acc: 0.2786 - val_loss: 1.6838 - val_acc: 0.3022\n",
      "Epoch 20/20\n",
      "1/1 [==============================] - 55s 55s/step - loss: 1.7080 - acc: 0.2714 - val_loss: 1.6697 - val_acc: 0.3094\n"
     ]
    }
   ],
   "source": [
    "# Train model\n",
    "history = model.fit_generator(\n",
    "    generator=trainset, validation_data=validset, epochs=20, callbacks=[early_stopping], verbose=1)"
   ]
  },
  {
   "cell_type": "code",
   "execution_count": 44,
   "id": "c10e8be5",
   "metadata": {},
   "outputs": [
    {
     "data": {
      "image/png": "[encoded data removed]",
      "text/plain": [
       "<Figure size 864x288 with 2 Axes>"
      ]
     },
     "metadata": {
      "needs_background": "light"
     },
     "output_type": "display_data"
    }
   ],
   "source": [
    "%matplotlib inline\n",
    "import matplotlib.pyplot as plt\n",
    "\n",
    "fig, (ax1, ax2) = plt.subplots(nrows=1, ncols=2, figsize=(12, 4))\n",
    "\n",
    "# Plot loss values\n",
    "ax1.set_title('loss: {:.4f}'.format(history.history['val_loss'][-1]))\n",
    "ax1.plot(history.history['val_loss'], label='validation')\n",
    "ax1.plot(history.history['loss'], label='training')\n",
    "ax1.legend()\n",
    "\n",
    "# plot accuracy values\n",
    "ax2.set_title('accuracy: {:.2f}%'.format(history.history['val_acc'][-1]*100))\n",
    "ax2.plot(history.history['val_acc'], label='validation')\n",
    "ax2.plot(history.history['acc'], label='training')\n",
    "ax2.legend()\n",
    "\n",
    "plt.show()"
   ]
  },
  {
   "cell_type": "code",
   "execution_count": 45,
   "id": "136907f5",
   "metadata": {},
   "outputs": [
    {
     "name": "stdout",
     "output_type": "stream",
     "text": [
      "Test loss: 1.68, accuracy: 26.00%\n"
     ]
    }
   ],
   "source": [
    "test_loss, test_acurracy = model.evaluate_generator(testset)\n",
    "print('Test loss: {:.2f}, accuracy: {:.2f}%'.format(test_loss, test_acurracy*100))"
   ]
  },
  {
   "cell_type": "markdown",
   "id": "e4c2ccd7",
   "metadata": {},
   "source": [
    "After a few tries of different models, even my best model predicts poorly the class of the images, reaching an accuracy of 30.19% on the validation set. This is due to several reasons:\n",
    "- CNN works well only when we have sufficiently large data. Traditional CNN architecture need large number of parameters and a huge dataset. If we supply small data to a model having a large number of parameters the model will fail to learn the patterns and thus it gets easily overfitted. We can use several techniques to counter the problem with small datasets such as data augmentation and learning transfert. In this section, I tried with data augmentation, but augmentation will not increase the real world variability. (There is a difference between seeing 100 samples of the same class and 100 variations of a single sample). Ex: Seeing 100 Images of cat and 100 variations of single cat image. Augmentation will help just to make the model invariant to (rotation, flips etc)transformation. Learning Transfert however could really help us in this case. As we saw on the previous notebook.\n",
    "- The images are similar. They are all vehicles with wheels, in an urban environment (roads, building ...) and it is difficult to distinguish them. \n",
    "- Pretrained model have been prepared on millions of images and by experts. It is thus normal that it gives better results.\n"
   ]
  },
  {
   "cell_type": "code",
   "execution_count": 48,
   "id": "4479f6ff",
   "metadata": {},
   "outputs": [
    {
     "name": "stdout",
     "output_type": "stream",
     "text": [
      "Stored 'cnn_test_score' (DataFrame)\n"
     ]
    }
   ],
   "source": [
    "# Store the accuracy\n",
    "cnn_test_score = pd.DataFrame(data = {'model': [\"cnn\"], 'test_accuracy': [test_acurracy]})\n",
    "%store cnn_test_score"
   ]
  }
 ],
 "metadata": {
  "kernelspec": {
   "display_name": "Python 3",
   "language": "python",
   "name": "python3"
  },
  "language_info": {
   "codemirror_mode": {
    "name": "ipython",
    "version": 3
   },
   "file_extension": ".py",
   "mimetype": "text/x-python",
   "name": "python",
   "nbconvert_exporter": "python",
   "pygments_lexer": "ipython3",
   "version": "3.6.13"
  }
 },
 "nbformat": 4,
 "nbformat_minor": 5
}
