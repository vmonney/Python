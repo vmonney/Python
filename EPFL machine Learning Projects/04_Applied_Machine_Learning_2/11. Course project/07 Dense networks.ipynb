{
 "cells": [
  {
   "cell_type": "markdown",
   "id": "d95fe65c",
   "metadata": {},
   "source": [
    "# Dense network\n",
    "\n",
    "For the last section, I will try to use the pre-trained model with the dense network. I will first try with only 1-layer dense network and then with 2-layers. Let's start by importing the data."
   ]
  },
  {
   "cell_type": "code",
   "execution_count": 1,
   "id": "3a8b7742",
   "metadata": {},
   "outputs": [],
   "source": [
    "import os\n",
    "import pandas as pd\n",
    "import numpy as np\n",
    "\n",
    "# Import train data\n",
    "with np.load(os.path.join('processed_data', 'features_tr.npz'), allow_pickle=False) as data:\n",
    "    features = dict(data.items())\n",
    "X_tr = features['x']\n",
    "y_tr = features['y']\n",
    "\n",
    "# import validation data\n",
    "with np.load(os.path.join('processed_data', 'features_va.npz'), allow_pickle=False) as data:\n",
    "    features_va = dict(data.items())\n",
    "X_va = features_va['x']\n",
    "y_va = features_va['y']\n",
    "\n",
    "#import raw test Images\n",
    "with np.load(os.path.join('processed_data', 'features_te.npz'), allow_pickle=False) as data:\n",
    "    features_te = dict(data.items())\n",
    "    \n",
    "# Create X/y arrays\n",
    "X_te = features_te['x']\n",
    "y_te = features_te['y']"
   ]
  },
  {
   "cell_type": "markdown",
   "id": "5507d707",
   "metadata": {},
   "source": [
    "## 1-layer dense network\n",
    "\n",
    "Now we will implement a 1-layer fully-connected (dense) neural network for our data."
   ]
  },
  {
   "cell_type": "code",
   "execution_count": 2,
   "id": "c168cae5",
   "metadata": {},
   "outputs": [
    {
     "name": "stdout",
     "output_type": "stream",
     "text": [
      "_________________________________________________________________\n",
      "Layer (type)                 Output Shape              Param #   \n",
      "=================================================================\n",
      "dense (Dense)                (None, 6)                 12294     \n",
      "=================================================================\n",
      "Total params: 12,294\n",
      "Trainable params: 12,294\n",
      "Non-trainable params: 0\n",
      "_________________________________________________________________\n"
     ]
    }
   ],
   "source": [
    "import tensorflow as tf\n",
    "import tensorflow.keras as keras\n",
    "from tensorflow.keras import optimizers\n",
    "\n",
    "# Dense network\n",
    "model = keras.Sequential()\n",
    "model.add(keras.layers.InputLayer(input_shape=[2048]))\n",
    "model.add(keras.layers.Dense(6, activation='softmax'))\n",
    "model.summary()\n",
    "\n",
    "# Define loss function, optimizer and metrics to track during training\n",
    "model.compile(optimizer='sgd', loss='sparse_categorical_crossentropy', metrics=['acc'])\n",
    "\n",
    "# End training when accuracy stops improving (optional)\n",
    "early_stopping = keras.callbacks.EarlyStopping(monitor='val_loss', patience=6)"
   ]
  },
  {
   "cell_type": "markdown",
   "id": "63e2ead0",
   "metadata": {},
   "source": [
    "Now that our model is prepared, we can fit the data and visualize the results"
   ]
  },
  {
   "cell_type": "code",
   "execution_count": 3,
   "id": "b729349f",
   "metadata": {},
   "outputs": [
    {
     "name": "stdout",
     "output_type": "stream",
     "text": [
      "Train on 280 samples, validate on 139 samples\n",
      "Epoch 1/50\n",
      "280/280 [==============================] - 0s 847us/step - loss: 0.9783 - acc: 0.6893 - val_loss: 0.4353 - val_acc: 0.8705\n",
      "Epoch 2/50\n",
      "280/280 [==============================] - 0s 39us/step - loss: 0.2717 - acc: 0.9286 - val_loss: 0.3335 - val_acc: 0.8777\n",
      "Epoch 3/50\n",
      "280/280 [==============================] - 0s 44us/step - loss: 0.1712 - acc: 0.9464 - val_loss: 0.2962 - val_acc: 0.8849\n",
      "Epoch 4/50\n",
      "280/280 [==============================] - 0s 46us/step - loss: 0.1223 - acc: 0.9679 - val_loss: 0.2848 - val_acc: 0.9065\n",
      "Epoch 5/50\n",
      "280/280 [==============================] - 0s 42us/step - loss: 0.0928 - acc: 0.9893 - val_loss: 0.2754 - val_acc: 0.9065\n",
      "Epoch 6/50\n",
      "280/280 [==============================] - 0s 43us/step - loss: 0.0757 - acc: 0.9893 - val_loss: 0.2698 - val_acc: 0.9065\n",
      "Epoch 7/50\n",
      "280/280 [==============================] - 0s 39us/step - loss: 0.0625 - acc: 0.9929 - val_loss: 0.2665 - val_acc: 0.9065\n",
      "Epoch 8/50\n",
      "280/280 [==============================] - 0s 43us/step - loss: 0.0535 - acc: 1.0000 - val_loss: 0.2654 - val_acc: 0.8993\n",
      "Epoch 9/50\n",
      "280/280 [==============================] - 0s 42us/step - loss: 0.0473 - acc: 1.0000 - val_loss: 0.2634 - val_acc: 0.8993\n",
      "Epoch 10/50\n",
      "280/280 [==============================] - 0s 41us/step - loss: 0.0418 - acc: 1.0000 - val_loss: 0.2636 - val_acc: 0.8993\n",
      "Epoch 11/50\n",
      "280/280 [==============================] - 0s 39us/step - loss: 0.0377 - acc: 1.0000 - val_loss: 0.2628 - val_acc: 0.9065\n",
      "Epoch 12/50\n",
      "280/280 [==============================] - 0s 42us/step - loss: 0.0343 - acc: 1.0000 - val_loss: 0.2627 - val_acc: 0.9065\n",
      "Epoch 13/50\n",
      "280/280 [==============================] - 0s 41us/step - loss: 0.0314 - acc: 1.0000 - val_loss: 0.2623 - val_acc: 0.9065\n",
      "Epoch 14/50\n",
      "280/280 [==============================] - 0s 40us/step - loss: 0.0289 - acc: 1.0000 - val_loss: 0.2625 - val_acc: 0.9065\n",
      "Epoch 15/50\n",
      "280/280 [==============================] - 0s 43us/step - loss: 0.0268 - acc: 1.0000 - val_loss: 0.2635 - val_acc: 0.9065\n",
      "Epoch 16/50\n",
      "280/280 [==============================] - 0s 41us/step - loss: 0.0251 - acc: 1.0000 - val_loss: 0.2625 - val_acc: 0.9065\n",
      "Epoch 17/50\n",
      "280/280 [==============================] - 0s 41us/step - loss: 0.0235 - acc: 1.0000 - val_loss: 0.2627 - val_acc: 0.9065\n",
      "Epoch 18/50\n",
      "280/280 [==============================] - 0s 40us/step - loss: 0.0221 - acc: 1.0000 - val_loss: 0.2632 - val_acc: 0.8993\n",
      "Epoch 19/50\n",
      "280/280 [==============================] - 0s 41us/step - loss: 0.0209 - acc: 1.0000 - val_loss: 0.2636 - val_acc: 0.8993\n",
      "Epoch 20/50\n",
      "280/280 [==============================] - 0s 43us/step - loss: 0.0197 - acc: 1.0000 - val_loss: 0.2639 - val_acc: 0.8993\n",
      "Epoch 21/50\n",
      "280/280 [==============================] - 0s 40us/step - loss: 0.0188 - acc: 1.0000 - val_loss: 0.2636 - val_acc: 0.8993\n",
      "Epoch 22/50\n",
      "280/280 [==============================] - 0s 42us/step - loss: 0.0179 - acc: 1.0000 - val_loss: 0.2645 - val_acc: 0.8993\n",
      "Epoch 23/50\n",
      "280/280 [==============================] - 0s 41us/step - loss: 0.0171 - acc: 1.0000 - val_loss: 0.2650 - val_acc: 0.8993\n",
      "Epoch 24/50\n",
      "280/280 [==============================] - 0s 41us/step - loss: 0.0163 - acc: 1.0000 - val_loss: 0.2649 - val_acc: 0.8993\n",
      "Epoch 25/50\n",
      "280/280 [==============================] - 0s 40us/step - loss: 0.0156 - acc: 1.0000 - val_loss: 0.2657 - val_acc: 0.8993\n",
      "Epoch 26/50\n",
      "280/280 [==============================] - 0s 42us/step - loss: 0.0151 - acc: 1.0000 - val_loss: 0.2660 - val_acc: 0.8993\n",
      "Epoch 27/50\n",
      "280/280 [==============================] - 0s 41us/step - loss: 0.0145 - acc: 1.0000 - val_loss: 0.2667 - val_acc: 0.8993\n",
      "Epoch 28/50\n",
      "280/280 [==============================] - 0s 40us/step - loss: 0.0139 - acc: 1.0000 - val_loss: 0.2671 - val_acc: 0.8993\n",
      "Epoch 29/50\n",
      "280/280 [==============================] - 0s 43us/step - loss: 0.0135 - acc: 1.0000 - val_loss: 0.2676 - val_acc: 0.8993\n",
      "Epoch 30/50\n",
      "280/280 [==============================] - 0s 41us/step - loss: 0.0130 - acc: 1.0000 - val_loss: 0.2678 - val_acc: 0.8993\n",
      "Epoch 31/50\n",
      "280/280 [==============================] - 0s 42us/step - loss: 0.0126 - acc: 1.0000 - val_loss: 0.2686 - val_acc: 0.8993\n",
      "Epoch 32/50\n",
      "280/280 [==============================] - 0s 40us/step - loss: 0.0122 - acc: 1.0000 - val_loss: 0.2689 - val_acc: 0.8993\n",
      "Epoch 33/50\n",
      "280/280 [==============================] - 0s 41us/step - loss: 0.0118 - acc: 1.0000 - val_loss: 0.2692 - val_acc: 0.8993\n",
      "Epoch 34/50\n",
      "280/280 [==============================] - 0s 40us/step - loss: 0.0114 - acc: 1.0000 - val_loss: 0.2694 - val_acc: 0.8993\n",
      "Epoch 35/50\n",
      "280/280 [==============================] - 0s 41us/step - loss: 0.0111 - acc: 1.0000 - val_loss: 0.2696 - val_acc: 0.8993\n",
      "Epoch 36/50\n",
      "280/280 [==============================] - 0s 42us/step - loss: 0.0108 - acc: 1.0000 - val_loss: 0.2701 - val_acc: 0.8993\n",
      "Epoch 37/50\n",
      "280/280 [==============================] - 0s 42us/step - loss: 0.0105 - acc: 1.0000 - val_loss: 0.2705 - val_acc: 0.8993\n",
      "Epoch 38/50\n",
      "280/280 [==============================] - 0s 43us/step - loss: 0.0102 - acc: 1.0000 - val_loss: 0.2710 - val_acc: 0.8993\n",
      "Epoch 39/50\n",
      "280/280 [==============================] - 0s 40us/step - loss: 0.0100 - acc: 1.0000 - val_loss: 0.2714 - val_acc: 0.8993\n",
      "Epoch 40/50\n",
      "280/280 [==============================] - 0s 43us/step - loss: 0.0097 - acc: 1.0000 - val_loss: 0.2716 - val_acc: 0.8993\n",
      "Epoch 41/50\n",
      "280/280 [==============================] - 0s 40us/step - loss: 0.0095 - acc: 1.0000 - val_loss: 0.2719 - val_acc: 0.8993\n",
      "Epoch 42/50\n",
      "280/280 [==============================] - 0s 47us/step - loss: 0.0092 - acc: 1.0000 - val_loss: 0.2724 - val_acc: 0.8993\n",
      "Epoch 43/50\n",
      "280/280 [==============================] - 0s 41us/step - loss: 0.0090 - acc: 1.0000 - val_loss: 0.2730 - val_acc: 0.8993\n",
      "Epoch 44/50\n",
      "280/280 [==============================] - 0s 45us/step - loss: 0.0088 - acc: 1.0000 - val_loss: 0.2733 - val_acc: 0.8993\n",
      "Epoch 45/50\n",
      "280/280 [==============================] - 0s 39us/step - loss: 0.0086 - acc: 1.0000 - val_loss: 0.2736 - val_acc: 0.8993\n",
      "Epoch 46/50\n",
      "280/280 [==============================] - 0s 45us/step - loss: 0.0084 - acc: 1.0000 - val_loss: 0.2740 - val_acc: 0.8993\n",
      "Epoch 47/50\n",
      "280/280 [==============================] - 0s 44us/step - loss: 0.0083 - acc: 1.0000 - val_loss: 0.2743 - val_acc: 0.8993\n",
      "Epoch 48/50\n",
      "280/280 [==============================] - 0s 44us/step - loss: 0.0081 - acc: 1.0000 - val_loss: 0.2745 - val_acc: 0.8993\n",
      "Epoch 49/50\n",
      "280/280 [==============================] - 0s 40us/step - loss: 0.0079 - acc: 1.0000 - val_loss: 0.2749 - val_acc: 0.8993\n",
      "Epoch 50/50\n",
      "280/280 [==============================] - 0s 46us/step - loss: 0.0078 - acc: 1.0000 - val_loss: 0.2752 - val_acc: 0.8993\n"
     ]
    }
   ],
   "source": [
    "# Train model\n",
    "one_layer_model = model.fit(\n",
    "    x=X_tr, y=y_tr, validation_data = (X_va, y_va), epochs=50, shuffle=True)"
   ]
  },
  {
   "cell_type": "code",
   "execution_count": 4,
   "id": "eb4ded62",
   "metadata": {},
   "outputs": [
    {
     "data": {
      "image/png": "[encoded data removed]",
      "text/plain": [
       "<Figure size 864x288 with 2 Axes>"
      ]
     },
     "metadata": {
      "needs_background": "light"
     },
     "output_type": "display_data"
    }
   ],
   "source": [
    "%matplotlib inline\n",
    "import matplotlib.pyplot as plt\n",
    "import numpy as np\n",
    "\n",
    "# Create two plots: one for the loss value, one for the accuracy\n",
    "fig, (ax1, ax2) = plt.subplots(nrows=1, ncols=2, figsize=(12, 4))\n",
    "\n",
    "# Plot accuracy values\n",
    "ax1.plot(one_layer_model.history['loss'], label='train loss')\n",
    "ax1.plot(one_layer_model.history['val_loss'], label='val loss')\n",
    "ax1.set_title('Validation loss {:.3f} (mean last 3)'.format(\n",
    "    np.mean(one_layer_model.history['val_loss'][-3:]) # last three values\n",
    "))\n",
    "ax1.set_xlabel('epoch')\n",
    "ax1.set_ylabel('loss value')\n",
    "ax1.legend()\n",
    "\n",
    "# Plot accuracy values\n",
    "ax2.plot(one_layer_model.history['acc'], label='train acc')\n",
    "ax2.plot(one_layer_model.history['val_acc'], label='val acc')\n",
    "ax2.set_title('Validation accuracy {:.3f} (mean last 3)'.format(\n",
    "    np.mean(one_layer_model.history['val_acc'][-3:]) # last three values\n",
    "))\n",
    "ax2.set_xlabel('epoch')\n",
    "ax2.set_ylabel('accuracy')\n",
    "ax2.legend()\n",
    "plt.show()"
   ]
  },
  {
   "cell_type": "markdown",
   "id": "5d5c930a",
   "metadata": {},
   "source": [
    "With the 1-layer dense network, we reach a validation accuracy of ~89%. We can see that the validation loss and accuracy reach a plateau after 10 epochs. The model then starts overfitting. Let's now evaluate the test score."
   ]
  },
  {
   "cell_type": "code",
   "execution_count": 5,
   "id": "f0daed57",
   "metadata": {},
   "outputs": [
    {
     "name": "stdout",
     "output_type": "stream",
     "text": [
      "50/50 [==============================] - 0s 38us/step\n",
      "Stored 'one_layer_test_score' (DataFrame)\n"
     ]
    }
   ],
   "source": [
    "# Store the accuracy\n",
    "test_acurracy = model.evaluate(X_te, y_te)[1]\n",
    "one_layer_test_score = pd.DataFrame(data = {'model': [\"1-layer nn\"], 'test_accuracy': [test_acurracy]})\n",
    "%store one_layer_test_score"
   ]
  },
  {
   "cell_type": "markdown",
   "id": "cfc0ce95",
   "metadata": {},
   "source": [
    "## 2-layer dense network\n",
    "What happens if we add a second \"hidden layer\"?"
   ]
  },
  {
   "cell_type": "code",
   "execution_count": 6,
   "id": "ecc2fd71",
   "metadata": {},
   "outputs": [
    {
     "name": "stdout",
     "output_type": "stream",
     "text": [
      "_________________________________________________________________\n",
      "Layer (type)                 Output Shape              Param #   \n",
      "=================================================================\n",
      "dense_1 (Dense)              (None, 16)                32784     \n",
      "_________________________________________________________________\n",
      "dense_2 (Dense)              (None, 6)                 102       \n",
      "=================================================================\n",
      "Total params: 32,886\n",
      "Trainable params: 32,886\n",
      "Non-trainable params: 0\n",
      "_________________________________________________________________\n"
     ]
    }
   ],
   "source": [
    "import tensorflow as tf\n",
    "import tensorflow.keras as keras\n",
    "from tensorflow.keras import optimizers\n",
    "\n",
    "# Dense network\n",
    "model_2 = keras.Sequential()\n",
    "model_2.add(keras.layers.Dense(16, activation='relu', input_shape=[2048]))\n",
    "model_2.add(keras.layers.Dense(6, activation='softmax'))\n",
    "model_2.summary()\n",
    "\n",
    "# Define loss function, optimizer and metrics to track during training\n",
    "model_2.compile(optimizer='sgd', loss='sparse_categorical_crossentropy', metrics=['acc'])"
   ]
  },
  {
   "cell_type": "code",
   "execution_count": 7,
   "id": "c51c1a65",
   "metadata": {},
   "outputs": [
    {
     "name": "stdout",
     "output_type": "stream",
     "text": [
      "Train on 280 samples, validate on 139 samples\n",
      "Epoch 1/50\n",
      "280/280 [==============================] - 0s 1ms/step - loss: 1.3071 - acc: 0.4786 - val_loss: 0.6220 - val_acc: 0.8201\n",
      "Epoch 2/50\n",
      "280/280 [==============================] - 0s 74us/step - loss: 0.5345 - acc: 0.8464 - val_loss: 0.4290 - val_acc: 0.8633\n",
      "Epoch 3/50\n",
      "280/280 [==============================] - 0s 81us/step - loss: 0.3464 - acc: 0.9000 - val_loss: 0.3577 - val_acc: 0.8921\n",
      "Epoch 4/50\n",
      "280/280 [==============================] - 0s 73us/step - loss: 0.2556 - acc: 0.9357 - val_loss: 0.3208 - val_acc: 0.9065\n",
      "Epoch 5/50\n",
      "280/280 [==============================] - 0s 74us/step - loss: 0.2010 - acc: 0.9607 - val_loss: 0.2986 - val_acc: 0.9281\n",
      "Epoch 6/50\n",
      "280/280 [==============================] - 0s 77us/step - loss: 0.1643 - acc: 0.9714 - val_loss: 0.2828 - val_acc: 0.9281\n",
      "Epoch 7/50\n",
      "280/280 [==============================] - 0s 78us/step - loss: 0.1391 - acc: 0.9786 - val_loss: 0.2713 - val_acc: 0.9424\n",
      "Epoch 8/50\n",
      "280/280 [==============================] - 0s 75us/step - loss: 0.1190 - acc: 0.9821 - val_loss: 0.2644 - val_acc: 0.9353\n",
      "Epoch 9/50\n",
      "280/280 [==============================] - 0s 78us/step - loss: 0.1034 - acc: 0.9893 - val_loss: 0.2593 - val_acc: 0.9281\n",
      "Epoch 10/50\n",
      "280/280 [==============================] - 0s 79us/step - loss: 0.0911 - acc: 0.9929 - val_loss: 0.2548 - val_acc: 0.9281\n",
      "Epoch 11/50\n",
      "280/280 [==============================] - 0s 77us/step - loss: 0.0808 - acc: 0.9929 - val_loss: 0.2504 - val_acc: 0.9281\n",
      "Epoch 12/50\n",
      "280/280 [==============================] - 0s 79us/step - loss: 0.0728 - acc: 0.9964 - val_loss: 0.2487 - val_acc: 0.9281\n",
      "Epoch 13/50\n",
      "280/280 [==============================] - 0s 77us/step - loss: 0.0663 - acc: 1.0000 - val_loss: 0.2446 - val_acc: 0.9281\n",
      "Epoch 14/50\n",
      "280/280 [==============================] - 0s 80us/step - loss: 0.0604 - acc: 1.0000 - val_loss: 0.2430 - val_acc: 0.9281\n",
      "Epoch 15/50\n",
      "280/280 [==============================] - 0s 75us/step - loss: 0.0556 - acc: 1.0000 - val_loss: 0.2393 - val_acc: 0.9281\n",
      "Epoch 16/50\n",
      "280/280 [==============================] - 0s 76us/step - loss: 0.0512 - acc: 1.0000 - val_loss: 0.2381 - val_acc: 0.9281\n",
      "Epoch 17/50\n",
      "280/280 [==============================] - 0s 78us/step - loss: 0.0474 - acc: 1.0000 - val_loss: 0.2359 - val_acc: 0.9281\n",
      "Epoch 18/50\n",
      "280/280 [==============================] - 0s 77us/step - loss: 0.0441 - acc: 1.0000 - val_loss: 0.2349 - val_acc: 0.9281\n",
      "Epoch 19/50\n",
      "280/280 [==============================] - 0s 78us/step - loss: 0.0415 - acc: 1.0000 - val_loss: 0.2338 - val_acc: 0.9281\n",
      "Epoch 20/50\n",
      "280/280 [==============================] - 0s 85us/step - loss: 0.0390 - acc: 1.0000 - val_loss: 0.2332 - val_acc: 0.9281\n",
      "Epoch 21/50\n",
      "280/280 [==============================] - 0s 78us/step - loss: 0.0368 - acc: 1.0000 - val_loss: 0.2321 - val_acc: 0.9281\n",
      "Epoch 22/50\n",
      "280/280 [==============================] - 0s 77us/step - loss: 0.0342 - acc: 1.0000 - val_loss: 0.2313 - val_acc: 0.9281\n",
      "Epoch 23/50\n",
      "280/280 [==============================] - 0s 80us/step - loss: 0.0323 - acc: 1.0000 - val_loss: 0.2306 - val_acc: 0.9281\n",
      "Epoch 24/50\n",
      "280/280 [==============================] - 0s 77us/step - loss: 0.0304 - acc: 1.0000 - val_loss: 0.2304 - val_acc: 0.9281\n",
      "Epoch 25/50\n",
      "280/280 [==============================] - 0s 78us/step - loss: 0.0287 - acc: 1.0000 - val_loss: 0.2299 - val_acc: 0.9281\n",
      "Epoch 26/50\n",
      "280/280 [==============================] - 0s 76us/step - loss: 0.0272 - acc: 1.0000 - val_loss: 0.2297 - val_acc: 0.9281\n",
      "Epoch 27/50\n",
      "280/280 [==============================] - 0s 79us/step - loss: 0.0259 - acc: 1.0000 - val_loss: 0.2284 - val_acc: 0.9281\n",
      "Epoch 28/50\n",
      "280/280 [==============================] - 0s 77us/step - loss: 0.0246 - acc: 1.0000 - val_loss: 0.2278 - val_acc: 0.9281\n",
      "Epoch 29/50\n",
      "280/280 [==============================] - 0s 71us/step - loss: 0.0235 - acc: 1.0000 - val_loss: 0.2277 - val_acc: 0.9209\n",
      "Epoch 30/50\n",
      "280/280 [==============================] - 0s 76us/step - loss: 0.0225 - acc: 1.0000 - val_loss: 0.2272 - val_acc: 0.9209\n",
      "Epoch 31/50\n",
      "280/280 [==============================] - 0s 78us/step - loss: 0.0216 - acc: 1.0000 - val_loss: 0.2272 - val_acc: 0.9209\n",
      "Epoch 32/50\n",
      "280/280 [==============================] - 0s 73us/step - loss: 0.0208 - acc: 1.0000 - val_loss: 0.2265 - val_acc: 0.9209\n",
      "Epoch 33/50\n",
      "280/280 [==============================] - 0s 84us/step - loss: 0.0199 - acc: 1.0000 - val_loss: 0.2264 - val_acc: 0.9209\n",
      "Epoch 34/50\n",
      "280/280 [==============================] - 0s 78us/step - loss: 0.0192 - acc: 1.0000 - val_loss: 0.2261 - val_acc: 0.9209\n",
      "Epoch 35/50\n",
      "280/280 [==============================] - 0s 74us/step - loss: 0.0185 - acc: 1.0000 - val_loss: 0.2261 - val_acc: 0.9209\n",
      "Epoch 36/50\n",
      "280/280 [==============================] - 0s 82us/step - loss: 0.0179 - acc: 1.0000 - val_loss: 0.2254 - val_acc: 0.9209\n",
      "Epoch 37/50\n",
      "280/280 [==============================] - 0s 81us/step - loss: 0.0172 - acc: 1.0000 - val_loss: 0.2256 - val_acc: 0.9209\n",
      "Epoch 38/50\n",
      "280/280 [==============================] - 0s 82us/step - loss: 0.0167 - acc: 1.0000 - val_loss: 0.2257 - val_acc: 0.9209\n",
      "Epoch 39/50\n",
      "280/280 [==============================] - 0s 80us/step - loss: 0.0161 - acc: 1.0000 - val_loss: 0.2255 - val_acc: 0.9209\n",
      "Epoch 40/50\n",
      "280/280 [==============================] - 0s 85us/step - loss: 0.0156 - acc: 1.0000 - val_loss: 0.2256 - val_acc: 0.9209\n",
      "Epoch 41/50\n",
      "280/280 [==============================] - 0s 82us/step - loss: 0.0151 - acc: 1.0000 - val_loss: 0.2258 - val_acc: 0.9209\n",
      "Epoch 42/50\n",
      "280/280 [==============================] - 0s 82us/step - loss: 0.0146 - acc: 1.0000 - val_loss: 0.2257 - val_acc: 0.9209\n",
      "Epoch 43/50\n",
      "280/280 [==============================] - 0s 76us/step - loss: 0.0142 - acc: 1.0000 - val_loss: 0.2254 - val_acc: 0.9209\n",
      "Epoch 44/50\n",
      "280/280 [==============================] - 0s 82us/step - loss: 0.0138 - acc: 1.0000 - val_loss: 0.2254 - val_acc: 0.9209\n",
      "Epoch 45/50\n",
      "280/280 [==============================] - 0s 75us/step - loss: 0.0134 - acc: 1.0000 - val_loss: 0.2255 - val_acc: 0.9209\n",
      "Epoch 46/50\n",
      "280/280 [==============================] - 0s 83us/step - loss: 0.0130 - acc: 1.0000 - val_loss: 0.2255 - val_acc: 0.9209\n",
      "Epoch 47/50\n",
      "280/280 [==============================] - 0s 77us/step - loss: 0.0127 - acc: 1.0000 - val_loss: 0.2250 - val_acc: 0.9209\n",
      "Epoch 48/50\n",
      "280/280 [==============================] - 0s 82us/step - loss: 0.0123 - acc: 1.0000 - val_loss: 0.2250 - val_acc: 0.9209\n",
      "Epoch 49/50\n",
      "280/280 [==============================] - 0s 77us/step - loss: 0.0120 - acc: 1.0000 - val_loss: 0.2252 - val_acc: 0.9209\n",
      "Epoch 50/50\n",
      "280/280 [==============================] - 0s 77us/step - loss: 0.0117 - acc: 1.0000 - val_loss: 0.2252 - val_acc: 0.9209\n"
     ]
    }
   ],
   "source": [
    "# Train model\n",
    "two_layer_model = model_2.fit(\n",
    "    x=X_tr, y=y_tr, validation_data = (X_va, y_va), epochs=50, shuffle=True)"
   ]
  },
  {
   "cell_type": "code",
   "execution_count": 8,
   "id": "133a44d5",
   "metadata": {},
   "outputs": [
    {
     "data": {
      "image/png": "[encoded data removed]",
      "text/plain": [
       "<Figure size 864x288 with 2 Axes>"
      ]
     },
     "metadata": {
      "needs_background": "light"
     },
     "output_type": "display_data"
    }
   ],
   "source": [
    "%matplotlib inline\n",
    "import matplotlib.pyplot as plt\n",
    "import numpy as np\n",
    "\n",
    "# Create two plots: one for the loss value, one for the accuracy\n",
    "fig, (ax1, ax2) = plt.subplots(nrows=1, ncols=2, figsize=(12, 4))\n",
    "\n",
    "# Plot accuracy values\n",
    "ax1.plot(two_layer_model.history['loss'], label='train loss')\n",
    "ax1.plot(two_layer_model.history['val_loss'], label='val loss')\n",
    "ax1.set_title('Validation loss {:.3f} (mean last 3)'.format(\n",
    "    np.mean(two_layer_model.history['val_loss'][-3:]) # last three values\n",
    "))\n",
    "ax1.set_xlabel('epoch')\n",
    "ax1.set_ylabel('loss value')\n",
    "ax1.legend()\n",
    "\n",
    "# Plot accuracy values\n",
    "ax2.plot(two_layer_model.history['acc'], label='train acc')\n",
    "ax2.plot(two_layer_model.history['val_acc'], label='val acc')\n",
    "ax2.set_title('Validation accuracy {:.3f} (mean last 3)'.format(\n",
    "    np.mean(two_layer_model.history['val_acc'][-3:]) # last three values\n",
    "))\n",
    "ax2.set_xlabel('epoch')\n",
    "ax2.set_ylabel('accuracy')\n",
    "ax2.legend()\n",
    "plt.show()"
   ]
  },
  {
   "cell_type": "markdown",
   "id": "63fcb8ec",
   "metadata": {},
   "source": [
    "With one hidden layer, we observe that we get more or less the same results. It depends on the randomness of algorithms and approximaiton. As already mentioned several times. The pre-trained model is already really good. It is thus difficult to have better results."
   ]
  },
  {
   "cell_type": "code",
   "execution_count": 9,
   "id": "ab981be0",
   "metadata": {},
   "outputs": [
    {
     "name": "stdout",
     "output_type": "stream",
     "text": [
      "50/50 [==============================] - 0s 75us/step\n",
      "Stored 'two_layer_test_score' (DataFrame)\n"
     ]
    }
   ],
   "source": [
    "# Store the accuracy\n",
    "test_acurracy = model_2.evaluate(X_te, y_te)[1]\n",
    "two_layer_test_score = pd.DataFrame(data = {'model': [\"2-layer nn\"], 'test_accuracy': [test_acurracy]})\n",
    "%store two_layer_test_score"
   ]
  }
 ],
 "metadata": {
  "kernelspec": {
   "display_name": "Python 3",
   "language": "python",
   "name": "python3"
  },
  "language_info": {
   "codemirror_mode": {
    "name": "ipython",
    "version": 3
   },
   "file_extension": ".py",
   "mimetype": "text/x-python",
   "name": "python",
   "nbconvert_exporter": "python",
   "pygments_lexer": "ipython3",
   "version": "3.6.13"
  }
 },
 "nbformat": 4,
 "nbformat_minor": 5
}
