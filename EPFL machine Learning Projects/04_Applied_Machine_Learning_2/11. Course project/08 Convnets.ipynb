{
 "cells": [
  {
   "cell_type": "markdown",
   "id": "0c23d06c",
   "metadata": {},
   "source": [
    "# Convnets\n",
    "Previously, we tested different model with the set of high-level features extracted from the pretrained neural network __Inception V3__. Here, I will try to create my own ConvNet from scratch using the pixel values from the original images to train the model. Since I have a small dataset to train, I'll try to use Data augmentation (rescaling, horizontal_flip ...) in order to better catch the different images."
   ]
  },
  {
   "cell_type": "code",
   "execution_count": 1,
   "id": "dd827cbd",
   "metadata": {},
   "outputs": [
    {
     "name": "stdout",
     "output_type": "stream",
     "text": [
      "Found 280 images belonging to 6 classes.\n",
      "Found 139 images belonging to 6 classes.\n",
      "Found 50 images belonging to 6 classes.\n"
     ]
    }
   ],
   "source": [
    "from tensorflow.keras.preprocessing.image import ImageDataGenerator\n",
    "import os\n",
    "import pandas as pd\n",
    "\n",
    "# Create image generator\n",
    "train_generator = ImageDataGenerator(rescale=1/255,\n",
    "                                    rotation_range = 40,\n",
    "                                    width_shift_range=0.2,\n",
    "                                    height_shift_range=0.2,\n",
    "                                    shear_range=0.2,\n",
    "                                    zoom_range=0.2,\n",
    "                                    horizontal_flip=True,\n",
    "                                    fill_mode='nearest')\n",
    "\n",
    "test_generator = ImageDataGenerator(rescale=1/255)\n",
    "# Create an iterator that iterates over the directory\n",
    "\n",
    "# Train, validation and test sets\n",
    "trainset = train_generator.flow_from_directory(\n",
    "    os.path.join('swissroads', 'train'), target_size=(299, 299),\n",
    "    shuffle=True, class_mode = 'categorical', batch_size = 280)\n",
    "validset = train_generator.flow_from_directory(\n",
    "    os.path.join('swissroads', 'valid'), target_size=(299, 299),\n",
    "    shuffle=False, class_mode = 'categorical', batch_size = 280)\n",
    "testset = test_generator.flow_from_directory(\n",
    "    os.path.join('swissroads', 'test'), target_size=(299, 299),\n",
    "    shuffle=False, class_mode = 'categorical', batch_size = 280)"
   ]
  },
  {
   "cell_type": "markdown",
   "id": "4c3a89f2",
   "metadata": {},
   "source": [
    "Now I'll try to build my convolutional Network using three convolutional layers, three pooling layers, and one Dropout for regularization. The reason is just because I have read somewhere on internet that this sequence could be good for small datasets. Actually, I really don't know how to improve this neural network other than by trial and errors. I tried several networks and this one seemed to perform the best, although (spoiler alert) it is not that good. During the course, I haven't learn how to improve my model. I guess it was juste an introductory course to understand how convolutional networks actually work."
   ]
  },
  {
   "cell_type": "code",
   "execution_count": 2,
   "id": "e90f9955",
   "metadata": {},
   "outputs": [
    {
     "name": "stdout",
     "output_type": "stream",
     "text": [
      "_________________________________________________________________\n",
      "Layer (type)                 Output Shape              Param #   \n",
      "=================================================================\n",
      "conv2d (Conv2D)              (None, 297, 297, 32)      896       \n",
      "_________________________________________________________________\n",
      "max_pooling2d (MaxPooling2D) (None, 148, 148, 32)      0         \n",
      "_________________________________________________________________\n",
      "conv2d_1 (Conv2D)            (None, 146, 146, 32)      9248      \n",
      "_________________________________________________________________\n",
      "max_pooling2d_1 (MaxPooling2 (None, 73, 73, 32)        0         \n",
      "_________________________________________________________________\n",
      "conv2d_2 (Conv2D)            (None, 71, 71, 64)        18496     \n",
      "_________________________________________________________________\n",
      "max_pooling2d_2 (MaxPooling2 (None, 35, 35, 64)        0         \n",
      "_________________________________________________________________\n",
      "flatten (Flatten)            (None, 78400)             0         \n",
      "_________________________________________________________________\n",
      "dense (Dense)                (None, 64)                5017664   \n",
      "_________________________________________________________________\n",
      "dropout (Dropout)            (None, 64)                0         \n",
      "_________________________________________________________________\n",
      "dense_1 (Dense)              (None, 6)                 390       \n",
      "=================================================================\n",
      "Total params: 5,046,694\n",
      "Trainable params: 5,046,694\n",
      "Non-trainable params: 0\n",
      "_________________________________________________________________\n"
     ]
    }
   ],
   "source": [
    "import tensorflow.keras as keras\n",
    "from tensorflow.keras import datasets, layers, models\n",
    "\n",
    "# Convolutional Network\n",
    "model = keras.Sequential()\n",
    "model.add(keras.layers.Conv2D(filters=32, kernel_size=3, strides=1,\n",
    "                              activation='relu', input_shape=(299, 299, 3)))\n",
    "model.add(keras.layers.MaxPool2D(pool_size=2))\n",
    "model.add(keras.layers.Conv2D(filters=32, kernel_size=3, strides=1,\n",
    "                              activation='relu'))\n",
    "model.add(keras.layers.MaxPool2D(pool_size=2))\n",
    "model.add(keras.layers.Conv2D(filters=64, kernel_size=3, strides=1, activation='relu'))\n",
    "model.add(keras.layers.MaxPool2D(pool_size=2))\n",
    "\n",
    "# Dense layers\n",
    "model.add(keras.layers.Flatten())\n",
    "model.add(keras.layers.Dense(units=64, activation='relu'))\n",
    "model.add(keras.layers.Dropout(0.5))\n",
    "model.add(keras.layers.Dense(units=trainset.num_classes, activation='softmax'))\n",
    "model.summary()\n",
    "\n",
    "# Compile the model\n",
    "model.compile(optimizer=keras.optimizers.Adam(), loss='categorical_crossentropy', metrics=['acc'])\n",
    "\n",
    "# End training when accuracy stops improving (optional)\n",
    "early_stopping = keras.callbacks.EarlyStopping(monitor='val_loss', patience=6)"
   ]
  },
  {
   "cell_type": "code",
   "execution_count": 3,
   "id": "99aaa3e7",
   "metadata": {},
   "outputs": [
    {
     "name": "stdout",
     "output_type": "stream",
     "text": [
      "Epoch 1/20\n",
      "1/1 [==============================] - 67s 67s/step - loss: 1.7942 - acc: 0.1607 - val_loss: 1.9576 - val_acc: 0.2374\n",
      "Epoch 2/20\n",
      "1/1 [==============================] - 57s 57s/step - loss: 2.3206 - acc: 0.2286 - val_loss: 2.1387 - val_acc: 0.1799\n",
      "Epoch 3/20\n",
      "1/1 [==============================] - 58s 58s/step - loss: 2.2453 - acc: 0.1607 - val_loss: 1.7933 - val_acc: 0.1511\n",
      "Epoch 4/20\n",
      "1/1 [==============================] - 59s 59s/step - loss: 1.8226 - acc: 0.1679 - val_loss: 1.7682 - val_acc: 0.3237\n",
      "Epoch 5/20\n",
      "1/1 [==============================] - 56s 56s/step - loss: 1.7990 - acc: 0.2143 - val_loss: 1.7680 - val_acc: 0.2446\n",
      "Epoch 6/20\n",
      "1/1 [==============================] - 56s 56s/step - loss: 1.7878 - acc: 0.2107 - val_loss: 1.7683 - val_acc: 0.2446\n",
      "Epoch 7/20\n",
      "1/1 [==============================] - 54s 54s/step - loss: 1.7724 - acc: 0.2536 - val_loss: 1.7677 - val_acc: 0.2662\n",
      "Epoch 8/20\n",
      "1/1 [==============================] - 55s 55s/step - loss: 1.7642 - acc: 0.2536 - val_loss: 1.7649 - val_acc: 0.2878\n",
      "Epoch 9/20\n",
      "1/1 [==============================] - 54s 54s/step - loss: 1.7673 - acc: 0.2536 - val_loss: 1.7577 - val_acc: 0.2446\n",
      "Epoch 10/20\n",
      "1/1 [==============================] - 54s 54s/step - loss: 1.7614 - acc: 0.2679 - val_loss: 1.7414 - val_acc: 0.2374\n",
      "Epoch 11/20\n",
      "1/1 [==============================] - 55s 55s/step - loss: 1.7489 - acc: 0.2464 - val_loss: 1.7269 - val_acc: 0.2374\n",
      "Epoch 12/20\n",
      "1/1 [==============================] - 55s 55s/step - loss: 1.7435 - acc: 0.2321 - val_loss: 1.7144 - val_acc: 0.2374\n",
      "Epoch 13/20\n",
      "1/1 [==============================] - 55s 55s/step - loss: 1.7341 - acc: 0.2321 - val_loss: 1.7187 - val_acc: 0.2590\n",
      "Epoch 14/20\n",
      "1/1 [==============================] - 55s 55s/step - loss: 1.7485 - acc: 0.2214 - val_loss: 1.7180 - val_acc: 0.2806\n",
      "Epoch 15/20\n",
      "1/1 [==============================] - 55s 55s/step - loss: 1.7341 - acc: 0.2643 - val_loss: 1.7058 - val_acc: 0.3022\n",
      "Epoch 16/20\n",
      "1/1 [==============================] - 55s 55s/step - loss: 1.7223 - acc: 0.2679 - val_loss: 1.6977 - val_acc: 0.3165\n",
      "Epoch 17/20\n",
      "1/1 [==============================] - 58s 58s/step - loss: 1.7026 - acc: 0.3179 - val_loss: 1.6843 - val_acc: 0.2878\n",
      "Epoch 18/20\n",
      "1/1 [==============================] - 55s 55s/step - loss: 1.7095 - acc: 0.2857 - val_loss: 1.6818 - val_acc: 0.2878\n",
      "Epoch 19/20\n",
      "1/1 [==============================] - 55s 55s/step - loss: 1.6971 - acc: 0.2786 - val_loss: 1.6737 - val_acc: 0.3094\n",
      "Epoch 20/20\n",
      "1/1 [==============================] - 56s 56s/step - loss: 1.6904 - acc: 0.2893 - val_loss: 1.6631 - val_acc: 0.3381\n"
     ]
    }
   ],
   "source": [
    "# Train model\n",
    "history = model.fit_generator(\n",
    "    generator=trainset, validation_data=validset, epochs=20, callbacks=[early_stopping], verbose=1)"
   ]
  },
  {
   "cell_type": "code",
   "execution_count": 4,
   "id": "77962e08",
   "metadata": {},
   "outputs": [
    {
     "data": {
      "image/png": "[encoded data removed]",
      "text/plain": [
       "<Figure size 864x288 with 2 Axes>"
      ]
     },
     "metadata": {
      "needs_background": "light"
     },
     "output_type": "display_data"
    }
   ],
   "source": [
    "%matplotlib inline\n",
    "import matplotlib.pyplot as plt\n",
    "\n",
    "fig, (ax1, ax2) = plt.subplots(nrows=1, ncols=2, figsize=(12, 4))\n",
    "\n",
    "# Plot loss values\n",
    "ax1.set_title('loss: {:.4f}'.format(history.history['val_loss'][-1]))\n",
    "ax1.plot(history.history['val_loss'], label='validation')\n",
    "ax1.plot(history.history['loss'], label='training')\n",
    "ax1.legend()\n",
    "\n",
    "# plot accuracy values\n",
    "ax2.set_title('accuracy: {:.2f}%'.format(history.history['val_acc'][-1]*100))\n",
    "ax2.plot(history.history['val_acc'], label='validation')\n",
    "ax2.plot(history.history['acc'], label='training')\n",
    "ax2.legend()\n",
    "\n",
    "plt.show()"
   ]
  },
  {
   "cell_type": "code",
   "execution_count": 5,
   "id": "8f6b1ea8",
   "metadata": {},
   "outputs": [
    {
     "name": "stdout",
     "output_type": "stream",
     "text": [
      "Test loss: 1.67, accuracy: 36.00%\n"
     ]
    }
   ],
   "source": [
    "test_loss, test_acurracy = model.evaluate_generator(testset)\n",
    "print('Test loss: {:.2f}, accuracy: {:.2f}%'.format(test_loss, test_acurracy*100))"
   ]
  },
  {
   "cell_type": "markdown",
   "id": "08fd88e4",
   "metadata": {},
   "source": [
    "After a few tries of different models, even my best model predicts poorly the class of the images, reaching an accuracy of ~30% on the validation set. This is due to several reasons:\n",
    "- CNN works well only when we have sufficiently large data. Traditional CNN architecture need large number of parameters and a huge dataset. If we supply small data to a model having a large number of parameters the model will fail to learn the patterns and thus it gets easily overfitted. We can use several techniques to counter the problem with small datasets such as data augmentation and learning transfert. In this section, I tried with data augmentation, but augmentation will not increase the real world variability. (There is a difference between seeing 100 samples of the same class and 100 variations of a single sample). Ex: Seeing 100 Images of cat and 100 variations of single cat image. Augmentation will help just to make the model invariant to (rotation, flips etc)transformation. Learning Transfert however could really help us in this case. As we saw on the previous notebook.\n",
    "- The images are similar. They are all vehicles with wheels, in an urban environment (roads, building ...) and it is difficult to distinguish them. \n",
    "- Pretrained model have been prepared on millions of images and by experts. It is thus normal that it gives better results.\n"
   ]
  },
  {
   "cell_type": "code",
   "execution_count": 6,
   "id": "f0a67d85",
   "metadata": {},
   "outputs": [
    {
     "name": "stdout",
     "output_type": "stream",
     "text": [
      "Stored 'cnn_test_score' (DataFrame)\n"
     ]
    }
   ],
   "source": [
    "# Store the accuracy\n",
    "cnn_test_score = pd.DataFrame(data = {'model': [\"cnn\"], 'test_accuracy': [test_acurracy]})\n",
    "%store cnn_test_score"
   ]
  }
 ],
 "metadata": {
  "kernelspec": {
   "display_name": "Python 3",
   "language": "python",
   "name": "python3"
  },
  "language_info": {
   "codemirror_mode": {
    "name": "ipython",
    "version": 3
   },
   "file_extension": ".py",
   "mimetype": "text/x-python",
   "name": "python",
   "nbconvert_exporter": "python",
   "pygments_lexer": "ipython3",
   "version": "3.6.13"
  }
 },
 "nbformat": 4,
 "nbformat_minor": 5
}
