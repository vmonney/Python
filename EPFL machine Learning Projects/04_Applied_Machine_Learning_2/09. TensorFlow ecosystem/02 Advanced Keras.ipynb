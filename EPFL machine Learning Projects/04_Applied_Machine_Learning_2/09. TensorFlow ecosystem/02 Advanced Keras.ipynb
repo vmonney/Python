{
 "cells": [
  {
   "cell_type": "markdown",
   "metadata": {},
   "source": [
    "Keras generators\n",
    "---"
   ]
  },
  {
   "cell_type": "code",
   "execution_count": 1,
   "metadata": {},
   "outputs": [],
   "source": [
    "from tensorflow.keras.preprocessing.image import ImageDataGenerator\n",
    "\n",
    "# Create image generator\n",
    "train_generator = ImageDataGenerator(\n",
    "    rescale=1/255, horizontal_flip=True, rotation_range=5, validation_split=0.2)\n",
    "test_generator = ImageDataGenerator(rescale=1/255)"
   ]
  },
  {
   "cell_type": "markdown",
   "metadata": {},
   "source": [
    "We use the rescale parameter to normalize the images between zero and one, and the horizontal_flip and rotation_range transformations to get slightly different variants of the images each time we sample from the images to fight overfitting and virtually augment the data set to improve training. This is why we only use those parameters for the train_generator and not the test_generator one. Optionally, we can also keep a fraction of the data for validation. In this case, we keep 20% of the data as a validation set. Note that they will also go through the training transformations.\n",
    "\n",
    "The second step is to create an iterator that iterates over the directory of CIFAR-10 .png images. The cifar10 folder can be downloaded from the resources of this unit. To iterate over the directory we can use the flow_from_directory() function from our image generators which takes the path to the directory, the batch size and the target size. This can be useful if we need to resize the images before inserting them into our network. However, in our case, we will keep the 32x32 .png images and set target_size=(32, 32)"
   ]
  },
  {
   "cell_type": "code",
   "execution_count": 2,
   "metadata": {},
   "outputs": [
    {
     "name": "stdout",
     "output_type": "stream",
     "text": [
      "Found 4000 images belonging to 10 classes.\n",
      "Found 1000 images belonging to 10 classes.\n",
      "Found 1000 images belonging to 10 classes.\n"
     ]
    }
   ],
   "source": [
    "import os\n",
    "\n",
    "# Train, validation and test sets\n",
    "trainset = train_generator.flow_from_directory(\n",
    "    os.path.join('cifar10', 'train'), batch_size=32, target_size=(32, 32),\n",
    "    shuffle=True, subset='training', class_mode = 'categorical') # 'sparse' if we want just the integer class\n",
    "validset = train_generator.flow_from_directory(\n",
    "    os.path.join('cifar10', 'train'), batch_size=32, target_size=(32, 32),\n",
    "    shuffle=False, subset='validation', class_mode = 'categorical')\n",
    "testset = test_generator.flow_from_directory(\n",
    "    os.path.join('cifar10', 'test'), batch_size=32, target_size=(32, 32),\n",
    "    shuffle=False, class_mode = 'categorical')"
   ]
  },
  {
   "cell_type": "markdown",
   "metadata": {},
   "source": [
    "We create a trainset and a validset iterator for the images from the train directory and a testset one for the images from the test directory. Note that we don't need to shuffle the validation and test data (i.e we set shuffle=False) since shuffling only affects training. Also, we only need to specify the subset argument for the train and validation sets since we used above the optional validation_split parameter from the train_generator.\n",
    "\n",
    "We can always verify which images are assigned to each data set by looking at the filenames attribute"
   ]
  },
  {
   "cell_type": "code",
   "execution_count": 3,
   "metadata": {},
   "outputs": [
    {
     "data": {
      "text/plain": [
       "['airplane/airplane-101.png',\n",
       " 'airplane/airplane-102.png',\n",
       " 'airplane/airplane-103.png',\n",
       " 'airplane/airplane-104.png',\n",
       " 'airplane/airplane-105.png']"
      ]
     },
     "execution_count": 3,
     "metadata": {},
     "output_type": "execute_result"
    }
   ],
   "source": [
    "trainset.filenames[:5]"
   ]
  },
  {
   "cell_type": "code",
   "execution_count": 4,
   "metadata": {},
   "outputs": [
    {
     "data": {
      "text/plain": [
       "['airplane/airplane-001.png',\n",
       " 'airplane/airplane-002.png',\n",
       " 'airplane/airplane-003.png',\n",
       " 'airplane/airplane-004.png']"
      ]
     },
     "execution_count": 4,
     "metadata": {},
     "output_type": "execute_result"
    }
   ],
   "source": [
    "validset.filenames[:4]"
   ]
  },
  {
   "cell_type": "code",
   "execution_count": 5,
   "metadata": {},
   "outputs": [
    {
     "data": {
      "text/plain": [
       "set()"
      ]
     },
     "execution_count": 5,
     "metadata": {},
     "output_type": "execute_result"
    }
   ],
   "source": [
    "set(trainset.filenames).intersection(set(validset.filenames))"
   ]
  },
  {
   "cell_type": "markdown",
   "metadata": {},
   "source": [
    "As we can see, for each class the first 100 images (1000 validation images/10 class) were assigned to the validation set and the rest to the training one. We can verify that those two sets don't intersect with.\n",
    "\n",
    "which returns an empty set for the intersection.\n",
    "\n",
    "The directory iterators can be used like normal Python iterators ex. in a for loop. By calling next(), we get the next batch of images with their labels"
   ]
  },
  {
   "cell_type": "code",
   "execution_count": 6,
   "metadata": {},
   "outputs": [
    {
     "name": "stdout",
     "output_type": "stream",
     "text": [
      "Batch images: (32, 32, 32, 3)\n",
      "Batch labels: (32, 10)\n"
     ]
    }
   ],
   "source": [
    "batch_imgs, batch_labels = trainset.next()\n",
    "\n",
    "print('Batch images:', batch_imgs.shape)\n",
    "print('Batch labels:', batch_labels.shape)"
   ]
  },
  {
   "cell_type": "markdown",
   "metadata": {},
   "source": [
    "It's important to note that the iterator returns one-hot encoded labels by default. In our case, we have 10 classes, so batch_label is a 32x10 array"
   ]
  },
  {
   "cell_type": "code",
   "execution_count": 7,
   "metadata": {},
   "outputs": [
    {
     "data": {
      "text/plain": [
       "array([[0., 0., 0., 0., 0., 0., 0., 0., 0., 1.],\n",
       "       [0., 0., 0., 0., 0., 0., 0., 1., 0., 0.],\n",
       "       [0., 0., 0., 0., 0., 0., 0., 1., 0., 0.],\n",
       "       [0., 0., 0., 0., 0., 0., 0., 1., 0., 0.],\n",
       "       [0., 0., 1., 0., 0., 0., 0., 0., 0., 0.]], dtype=float32)"
      ]
     },
     "execution_count": 7,
     "metadata": {},
     "output_type": "execute_result"
    }
   ],
   "source": [
    "batch_labels[:5]"
   ]
  },
  {
   "cell_type": "code",
   "execution_count": 8,
   "metadata": {},
   "outputs": [
    {
     "data": {
      "text/plain": [
       "{'airplane': 0,\n",
       " 'automobile': 1,\n",
       " 'bird': 2,\n",
       " 'cat': 3,\n",
       " 'deer': 4,\n",
       " 'dog': 5,\n",
       " 'frog': 6,\n",
       " 'horse': 7,\n",
       " 'ship': 8,\n",
       " 'truck': 9}"
      ]
     },
     "execution_count": 8,
     "metadata": {},
     "output_type": "execute_result"
    }
   ],
   "source": [
    "# get the original class name\n",
    "trainset.class_indices"
   ]
  },
  {
   "cell_type": "markdown",
   "metadata": {},
   "source": [
    "Note that it is possible to obtain integer encoded labels with the iterator. To do that, one can change the default parameter class_mode = 'categorical' in flow_from_directory() function to class_mode = 'sparse'"
   ]
  },
  {
   "cell_type": "markdown",
   "metadata": {},
   "source": [
    "Training with generators\n",
    "---"
   ]
  },
  {
   "cell_type": "code",
   "execution_count": 9,
   "metadata": {},
   "outputs": [
    {
     "name": "stdout",
     "output_type": "stream",
     "text": [
      "_________________________________________________________________\n",
      "Layer (type)                 Output Shape              Param #   \n",
      "=================================================================\n",
      "conv2d (Conv2D)              (None, 14, 14, 64)        4864      \n",
      "_________________________________________________________________\n",
      "max_pooling2d (MaxPooling2D) (None, 7, 7, 64)          0         \n",
      "_________________________________________________________________\n",
      "conv2d_1 (Conv2D)            (None, 5, 5, 64)          36928     \n",
      "_________________________________________________________________\n",
      "max_pooling2d_1 (MaxPooling2 (None, 2, 2, 64)          0         \n",
      "_________________________________________________________________\n",
      "flatten (Flatten)            (None, 256)               0         \n",
      "_________________________________________________________________\n",
      "dense (Dense)                (None, 10)                2570      \n",
      "=================================================================\n",
      "Total params: 44,362\n",
      "Trainable params: 44,362\n",
      "Non-trainable params: 0\n",
      "_________________________________________________________________\n"
     ]
    }
   ],
   "source": [
    "import tensorflow.keras as keras\n",
    "\n",
    "# Convolutional Network\n",
    "model = keras.Sequential()\n",
    "model.add(keras.layers.Conv2D(filters=64, kernel_size=5, strides=2,\n",
    "                              activation='relu', input_shape=(32, 32, 3)))\n",
    "model.add(keras.layers.MaxPool2D(pool_size=2))\n",
    "model.add(keras.layers.Conv2D(filters=64, kernel_size=3, strides=1,\n",
    "                              activation='relu'))\n",
    "model.add(keras.layers.MaxPool2D(pool_size=2))\n",
    "model.add(keras.layers.Flatten())\n",
    "model.add(keras.layers.Dense(units=trainset.num_classes, activation='softmax'))\n",
    "model.summary()"
   ]
  },
  {
   "cell_type": "markdown",
   "metadata": {},
   "source": [
    "Let's compile the model with the Adam optimizer and the categorical_crossentropy loss function which is equivalent to the sparse_categorical_crossentropy one from the last unit, but works with one-hot encoded labels"
   ]
  },
  {
   "cell_type": "code",
   "execution_count": 10,
   "metadata": {},
   "outputs": [],
   "source": [
    "# Compile the model\n",
    "model.compile(optimizer=keras.optimizers.Adam(), loss='categorical_crossentropy', metrics=['acc'])"
   ]
  },
  {
   "cell_type": "code",
   "execution_count": 11,
   "metadata": {},
   "outputs": [
    {
     "name": "stdout",
     "output_type": "stream",
     "text": [
      "Epoch 1/100\n",
      "125/125 [==============================] - 4s 35ms/step - loss: 2.1525 - acc: 0.1988 - val_loss: 2.0324 - val_acc: 0.2530\n",
      "Epoch 2/100\n",
      "125/125 [==============================] - 4s 31ms/step - loss: 1.9256 - acc: 0.3038 - val_loss: 1.8645 - val_acc: 0.3180\n",
      "Epoch 3/100\n",
      "125/125 [==============================] - 4s 31ms/step - loss: 1.7791 - acc: 0.3535 - val_loss: 1.6813 - val_acc: 0.3890\n",
      "Epoch 4/100\n",
      "125/125 [==============================] - 4s 30ms/step - loss: 1.6820 - acc: 0.4037 - val_loss: 1.6565 - val_acc: 0.4060\n",
      "Epoch 5/100\n",
      "125/125 [==============================] - 4s 32ms/step - loss: 1.6205 - acc: 0.4222 - val_loss: 1.7154 - val_acc: 0.4000\n",
      "Epoch 6/100\n",
      "125/125 [==============================] - 4s 33ms/step - loss: 1.5553 - acc: 0.4435 - val_loss: 1.5831 - val_acc: 0.4310\n",
      "Epoch 7/100\n",
      "125/125 [==============================] - 4s 31ms/step - loss: 1.5099 - acc: 0.4733 - val_loss: 1.5161 - val_acc: 0.4630\n",
      "Epoch 8/100\n",
      "125/125 [==============================] - 4s 31ms/step - loss: 1.4609 - acc: 0.4718 - val_loss: 1.5153 - val_acc: 0.4390\n",
      "Epoch 9/100\n",
      "125/125 [==============================] - 4s 30ms/step - loss: 1.4251 - acc: 0.4858 - val_loss: 1.4518 - val_acc: 0.4870\n",
      "Epoch 10/100\n",
      "125/125 [==============================] - 4s 30ms/step - loss: 1.3888 - acc: 0.5060 - val_loss: 1.4802 - val_acc: 0.4750\n",
      "Epoch 11/100\n",
      "125/125 [==============================] - 4s 30ms/step - loss: 1.3684 - acc: 0.5175 - val_loss: 1.4623 - val_acc: 0.4650\n",
      "Epoch 12/100\n",
      "125/125 [==============================] - 4s 30ms/step - loss: 1.3565 - acc: 0.5180 - val_loss: 1.4467 - val_acc: 0.4770\n",
      "Epoch 13/100\n",
      "125/125 [==============================] - 4s 31ms/step - loss: 1.3172 - acc: 0.5325 - val_loss: 1.4087 - val_acc: 0.4950\n",
      "Epoch 14/100\n",
      "125/125 [==============================] - 4s 31ms/step - loss: 1.2781 - acc: 0.5553 - val_loss: 1.3905 - val_acc: 0.5070\n",
      "Epoch 15/100\n",
      "125/125 [==============================] - 4s 31ms/step - loss: 1.2580 - acc: 0.5523 - val_loss: 1.4098 - val_acc: 0.4860\n",
      "Epoch 16/100\n",
      "125/125 [==============================] - 4s 31ms/step - loss: 1.2672 - acc: 0.5503 - val_loss: 1.4229 - val_acc: 0.4870\n",
      "Epoch 17/100\n",
      "125/125 [==============================] - 4s 31ms/step - loss: 1.2006 - acc: 0.5785 - val_loss: 1.4255 - val_acc: 0.4890\n",
      "Epoch 18/100\n",
      "125/125 [==============================] - 4s 31ms/step - loss: 1.1939 - acc: 0.5883 - val_loss: 1.4104 - val_acc: 0.4980\n",
      "Epoch 19/100\n",
      "125/125 [==============================] - 4s 31ms/step - loss: 1.1851 - acc: 0.5830 - val_loss: 1.3757 - val_acc: 0.5180\n",
      "Epoch 20/100\n",
      "125/125 [==============================] - 4s 31ms/step - loss: 1.1305 - acc: 0.6045 - val_loss: 1.4567 - val_acc: 0.4840\n",
      "Epoch 21/100\n",
      "125/125 [==============================] - 4s 32ms/step - loss: 1.1464 - acc: 0.5978 - val_loss: 1.3578 - val_acc: 0.5050\n",
      "Epoch 22/100\n",
      "125/125 [==============================] - 4s 33ms/step - loss: 1.1244 - acc: 0.6100 - val_loss: 1.4296 - val_acc: 0.5000\n",
      "Epoch 23/100\n",
      "125/125 [==============================] - 4s 31ms/step - loss: 1.0996 - acc: 0.6100 - val_loss: 1.3431 - val_acc: 0.5230\n",
      "Epoch 24/100\n",
      "125/125 [==============================] - 4s 31ms/step - loss: 1.0993 - acc: 0.6188 - val_loss: 1.3922 - val_acc: 0.5260\n",
      "Epoch 25/100\n",
      "125/125 [==============================] - 4s 30ms/step - loss: 1.0740 - acc: 0.6208 - val_loss: 1.3921 - val_acc: 0.5320\n",
      "Epoch 26/100\n",
      "125/125 [==============================] - 4s 31ms/step - loss: 1.0629 - acc: 0.6298 - val_loss: 1.3635 - val_acc: 0.5110\n",
      "Epoch 27/100\n",
      "125/125 [==============================] - 4s 31ms/step - loss: 1.0359 - acc: 0.6455 - val_loss: 1.3829 - val_acc: 0.5120\n",
      "Epoch 28/100\n",
      "125/125 [==============================] - 4s 30ms/step - loss: 1.0444 - acc: 0.6322 - val_loss: 1.3930 - val_acc: 0.5100\n",
      "Epoch 29/100\n",
      "125/125 [==============================] - 4s 31ms/step - loss: 1.0156 - acc: 0.6530 - val_loss: 1.3522 - val_acc: 0.5200\n"
     ]
    }
   ],
   "source": [
    "# End training when accuracy stops improving (optional)\n",
    "early_stopping = keras.callbacks.EarlyStopping(monitor='val_loss', patience=6)\n",
    "\n",
    "# Train model\n",
    "history = model.fit_generator(\n",
    "    generator=trainset, validation_data=validset, epochs=100, callbacks=[early_stopping])"
   ]
  },
  {
   "cell_type": "code",
   "execution_count": 12,
   "metadata": {},
   "outputs": [
    {
     "data": {
      "image/png": "[encoded data removed]",
      "text/plain": [
       "<Figure size 864x288 with 2 Axes>"
      ]
     },
     "metadata": {
      "needs_background": "light"
     },
     "output_type": "display_data"
    }
   ],
   "source": [
    "%matplotlib inline\n",
    "import matplotlib.pyplot as plt\n",
    "\n",
    "fig, (ax1, ax2) = plt.subplots(nrows=1, ncols=2, figsize=(12, 4))\n",
    "\n",
    "# Plot loss values\n",
    "ax1.set_title('loss: {:.4f}'.format(history.history['val_loss'][-1]))\n",
    "ax1.plot(history.history['val_loss'], label='validation')\n",
    "ax1.plot(history.history['loss'], label='training')\n",
    "ax1.legend()\n",
    "\n",
    "# plot accuracy values\n",
    "ax2.set_title('accuracy: {:.2f}%'.format(history.history['val_acc'][-1]*100))\n",
    "ax2.plot(history.history['val_acc'], label='validation')\n",
    "ax2.plot(history.history['acc'], label='training')\n",
    "ax2.legend()\n",
    "\n",
    "plt.show()"
   ]
  },
  {
   "cell_type": "markdown",
   "metadata": {},
   "source": [
    "Note that, unlike Scikit-learn library, Keras API can handle both integer encoded labels and one-hot encoded labels in order to perform multiclass classification. However, one needs to use the appropriate loss function: sparse_categorical_crossentropy for integer encoded labels and categorical_crossentropy for one-hot encoded labels."
   ]
  },
  {
   "cell_type": "markdown",
   "metadata": {},
   "source": [
    "Prediction and final test estimations\n",
    "---"
   ]
  },
  {
   "cell_type": "code",
   "execution_count": 13,
   "metadata": {},
   "outputs": [
    {
     "name": "stdout",
     "output_type": "stream",
     "text": [
      "Predictions: (1000, 10)\n"
     ]
    }
   ],
   "source": [
    "test_preds = model.predict_generator(testset)\n",
    "print('Predictions:', test_preds.shape)"
   ]
  },
  {
   "cell_type": "code",
   "execution_count": 14,
   "metadata": {},
   "outputs": [
    {
     "data": {
      "text/html": [
       "<div>\n",
       "<style scoped>\n",
       "    .dataframe tbody tr th:only-of-type {\n",
       "        vertical-align: middle;\n",
       "    }\n",
       "\n",
       "    .dataframe tbody tr th {\n",
       "        vertical-align: top;\n",
       "    }\n",
       "\n",
       "    .dataframe thead th {\n",
       "        text-align: right;\n",
       "    }\n",
       "</style>\n",
       "<table border=\"1\" class=\"dataframe\">\n",
       "  <thead>\n",
       "    <tr style=\"text-align: right;\">\n",
       "      <th>Predictions</th>\n",
       "      <th>airplane</th>\n",
       "      <th>automobile</th>\n",
       "      <th>bird</th>\n",
       "      <th>cat</th>\n",
       "      <th>deer</th>\n",
       "      <th>dog</th>\n",
       "      <th>frog</th>\n",
       "      <th>horse</th>\n",
       "      <th>ship</th>\n",
       "      <th>truck</th>\n",
       "    </tr>\n",
       "    <tr>\n",
       "      <th>True class</th>\n",
       "      <th></th>\n",
       "      <th></th>\n",
       "      <th></th>\n",
       "      <th></th>\n",
       "      <th></th>\n",
       "      <th></th>\n",
       "      <th></th>\n",
       "      <th></th>\n",
       "      <th></th>\n",
       "      <th></th>\n",
       "    </tr>\n",
       "  </thead>\n",
       "  <tbody>\n",
       "    <tr>\n",
       "      <th>airplane</th>\n",
       "      <td>30</td>\n",
       "      <td>5</td>\n",
       "      <td>6</td>\n",
       "      <td>4</td>\n",
       "      <td>11</td>\n",
       "      <td>0</td>\n",
       "      <td>5</td>\n",
       "      <td>4</td>\n",
       "      <td>21</td>\n",
       "      <td>14</td>\n",
       "    </tr>\n",
       "    <tr>\n",
       "      <th>automobile</th>\n",
       "      <td>2</td>\n",
       "      <td>65</td>\n",
       "      <td>2</td>\n",
       "      <td>1</td>\n",
       "      <td>1</td>\n",
       "      <td>1</td>\n",
       "      <td>2</td>\n",
       "      <td>5</td>\n",
       "      <td>3</td>\n",
       "      <td>18</td>\n",
       "    </tr>\n",
       "    <tr>\n",
       "      <th>bird</th>\n",
       "      <td>4</td>\n",
       "      <td>1</td>\n",
       "      <td>26</td>\n",
       "      <td>15</td>\n",
       "      <td>20</td>\n",
       "      <td>9</td>\n",
       "      <td>13</td>\n",
       "      <td>5</td>\n",
       "      <td>2</td>\n",
       "      <td>5</td>\n",
       "    </tr>\n",
       "    <tr>\n",
       "      <th>cat</th>\n",
       "      <td>0</td>\n",
       "      <td>3</td>\n",
       "      <td>4</td>\n",
       "      <td>33</td>\n",
       "      <td>12</td>\n",
       "      <td>15</td>\n",
       "      <td>13</td>\n",
       "      <td>11</td>\n",
       "      <td>2</td>\n",
       "      <td>7</td>\n",
       "    </tr>\n",
       "    <tr>\n",
       "      <th>deer</th>\n",
       "      <td>0</td>\n",
       "      <td>2</td>\n",
       "      <td>6</td>\n",
       "      <td>9</td>\n",
       "      <td>41</td>\n",
       "      <td>7</td>\n",
       "      <td>13</td>\n",
       "      <td>17</td>\n",
       "      <td>1</td>\n",
       "      <td>4</td>\n",
       "    </tr>\n",
       "    <tr>\n",
       "      <th>dog</th>\n",
       "      <td>1</td>\n",
       "      <td>1</td>\n",
       "      <td>6</td>\n",
       "      <td>24</td>\n",
       "      <td>13</td>\n",
       "      <td>33</td>\n",
       "      <td>4</td>\n",
       "      <td>13</td>\n",
       "      <td>0</td>\n",
       "      <td>5</td>\n",
       "    </tr>\n",
       "    <tr>\n",
       "      <th>frog</th>\n",
       "      <td>0</td>\n",
       "      <td>0</td>\n",
       "      <td>2</td>\n",
       "      <td>8</td>\n",
       "      <td>5</td>\n",
       "      <td>3</td>\n",
       "      <td>76</td>\n",
       "      <td>1</td>\n",
       "      <td>0</td>\n",
       "      <td>5</td>\n",
       "    </tr>\n",
       "    <tr>\n",
       "      <th>horse</th>\n",
       "      <td>0</td>\n",
       "      <td>0</td>\n",
       "      <td>3</td>\n",
       "      <td>11</td>\n",
       "      <td>9</td>\n",
       "      <td>3</td>\n",
       "      <td>1</td>\n",
       "      <td>70</td>\n",
       "      <td>1</td>\n",
       "      <td>2</td>\n",
       "    </tr>\n",
       "    <tr>\n",
       "      <th>ship</th>\n",
       "      <td>13</td>\n",
       "      <td>11</td>\n",
       "      <td>0</td>\n",
       "      <td>3</td>\n",
       "      <td>2</td>\n",
       "      <td>2</td>\n",
       "      <td>2</td>\n",
       "      <td>3</td>\n",
       "      <td>57</td>\n",
       "      <td>7</td>\n",
       "    </tr>\n",
       "    <tr>\n",
       "      <th>truck</th>\n",
       "      <td>0</td>\n",
       "      <td>5</td>\n",
       "      <td>3</td>\n",
       "      <td>4</td>\n",
       "      <td>1</td>\n",
       "      <td>2</td>\n",
       "      <td>6</td>\n",
       "      <td>2</td>\n",
       "      <td>6</td>\n",
       "      <td>71</td>\n",
       "    </tr>\n",
       "  </tbody>\n",
       "</table>\n",
       "</div>"
      ],
      "text/plain": [
       "Predictions  airplane  automobile  bird  cat  deer  dog  frog  horse  ship  \\\n",
       "True class                                                                   \n",
       "airplane           30           5     6    4    11    0     5      4    21   \n",
       "automobile          2          65     2    1     1    1     2      5     3   \n",
       "bird                4           1    26   15    20    9    13      5     2   \n",
       "cat                 0           3     4   33    12   15    13     11     2   \n",
       "deer                0           2     6    9    41    7    13     17     1   \n",
       "dog                 1           1     6   24    13   33     4     13     0   \n",
       "frog                0           0     2    8     5    3    76      1     0   \n",
       "horse               0           0     3   11     9    3     1     70     1   \n",
       "ship               13          11     0    3     2    2     2      3    57   \n",
       "truck               0           5     3    4     1    2     6      2     6   \n",
       "\n",
       "Predictions  truck  \n",
       "True class          \n",
       "airplane        14  \n",
       "automobile      18  \n",
       "bird             5  \n",
       "cat              7  \n",
       "deer             4  \n",
       "dog              5  \n",
       "frog             5  \n",
       "horse            2  \n",
       "ship             7  \n",
       "truck           71  "
      ]
     },
     "execution_count": 14,
     "metadata": {},
     "output_type": "execute_result"
    }
   ],
   "source": [
    "from sklearn.metrics import confusion_matrix\n",
    "import pandas as pd\n",
    "\n",
    "# Compute confusion matrix\n",
    "matrix = confusion_matrix(\n",
    "    y_true=testset.classes, # array with true labels\n",
    "    y_pred=test_preds.argmax(axis=1) # array with predicted labels\n",
    ")\n",
    "\n",
    "# Format as a DataFrame\n",
    "class_names = list(testset.class_indices.keys())\n",
    "matrix_df = pd.DataFrame(data=matrix, columns=class_names, index=class_names)\n",
    "matrix_df.columns.name = 'Predictions'\n",
    "matrix_df.index.name = 'True class'\n",
    "matrix_df"
   ]
  },
  {
   "cell_type": "code",
   "execution_count": 15,
   "metadata": {},
   "outputs": [
    {
     "name": "stdout",
     "output_type": "stream",
     "text": [
      "Test loss: 1.45, accuracy: 50.20%\n"
     ]
    }
   ],
   "source": [
    "test_loss, test_acurracy = model.evaluate_generator(testset)\n",
    "print('Test loss: {:.2f}, accuracy: {:.2f}%'.format(test_loss, test_acurracy*100))"
   ]
  },
  {
   "cell_type": "markdown",
   "metadata": {},
   "source": [
    "__Why dividing by 255 is better than standardization__ \n",
    "The goal of scaling is to make all features (i.e. here the values for the pixels) comparable between each other and to bring it to a range somewhere around 0 (here between 0 and 1). We know that images are stored in integer values between 0 and 255, so dividing them by 255 will make all features map to the same space between 0 and 1. In contrast to this, using a scaler like StandardScaler()will scale each feature (i.e. pixel) individually, i.e. based on the value distribution at a given voxel location. Now, in a strange case, where for example all of your images have dark corners, the standard deviation for these images would be smaller than the centers and therefore the StandardScaler would amplify them. This could eventually lead to an unwanted bias.\n",
    "\n",
    "__How to use StandardScaler() with TensorFlow__ \n",
    "Using some custom layers, it would be possible to use Scikit-Learn's StandardScaler within the TensorFlow framework. At least I assume so. But what is important to know here is the following: TensorFlow is super efficient because they use a slightly augmented version of data arrays. It's similar to numpy arrays but even more optimized. In the context of TensorFlow, they are called Tensor Arrays. Scikit-Learn's StandardScaler wouldn't know how to handle them, and using StandardScaler within Tensorflow would force the framework to transform the data first into numpy array, and as such loose precious time. So instead of trying to force a different framework into Tensorflow, an alternative is to use a Tensorflow functionality, like the normalization layer or to just normalize the data before feeding it into the model."
   ]
  },
  {
   "cell_type": "code",
   "execution_count": null,
   "metadata": {},
   "outputs": [],
   "source": []
  }
 ],
 "metadata": {
  "kernelspec": {
   "display_name": "Python 3",
   "language": "python",
   "name": "python3"
  },
  "language_info": {
   "codemirror_mode": {
    "name": "ipython",
    "version": 3
   },
   "file_extension": ".py",
   "mimetype": "text/x-python",
   "name": "python",
   "nbconvert_exporter": "python",
   "pygments_lexer": "ipython3",
   "version": "3.6.13"
  }
 },
 "nbformat": 4,
 "nbformat_minor": 4
}
