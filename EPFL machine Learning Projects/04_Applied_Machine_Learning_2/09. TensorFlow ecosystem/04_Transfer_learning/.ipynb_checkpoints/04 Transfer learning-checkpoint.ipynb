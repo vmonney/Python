{
 "cells": [
  {
   "cell_type": "markdown",
   "metadata": {},
   "source": [
    "TensorFlow Hub\n",
    "---"
   ]
  },
  {
   "cell_type": "code",
   "execution_count": null,
   "metadata": {},
   "outputs": [],
   "source": [
    "import tensorflow as tf\n",
    "import tensorflow_hub as hub"
   ]
  },
  {
   "cell_type": "markdown",
   "metadata": {},
   "source": [
    "Image feature extraction\n",
    "---"
   ]
  },
  {
   "cell_type": "code",
   "execution_count": null,
   "metadata": {},
   "outputs": [],
   "source": [
    "import PIL.Image as Image\n",
    "import numpy as np\n",
    "\n",
    "# Load image\n",
    "img = Image.open('photo.jpg')\n",
    "\n",
    "# Create batch for network\n",
    "img_resized = img.resize([224, 224], resample=Image.BILINEAR) # Expected size\n",
    "img_batch = np.array(img, dtype=np.float32)[np.newaxis, :, :, :]/255\n",
    "print('Batch size:', img_batch.shape)\n",
    "\n",
    "img"
   ]
  },
  {
   "cell_type": "code",
   "execution_count": null,
   "metadata": {},
   "outputs": [],
   "source": [
    "# Create graph\n",
    "img_graph = tf.Graph()\n",
    "\n",
    "with img_graph.as_default():\n",
    "    # Download module\n",
    "    module_url = 'https://tfhub.dev/google/imagenet/mobilenet_v2_100_224/feature_vector/2'\n",
    "    feature_extractor = hub.Module(module_url)\n",
    "    \n",
    "    # Create input placeholder\n",
    "    input_imgs = tf.placeholder(dtype=tf.float32, shape=[None, 224, 224, 3])\n",
    "    \n",
    "    # A node with the features\n",
    "    imgs_features = feature_extractor(input_imgs)\n",
    "    \n",
    "    # Collect initializers\n",
    "    init_op = tf.group([\n",
    "        tf.global_variables_initializer(), tf.tables_initializer()\n",
    "    ])\n",
    "    \n",
    "img_graph.finalize() # Good practice: make the graph \"read-only\""
   ]
  },
  {
   "cell_type": "code",
   "execution_count": null,
   "metadata": {},
   "outputs": [],
   "source": [
    "# Create a session\n",
    "sess = tf.Session(graph=img_graph)\n",
    "\n",
    "# Initialize it\n",
    "sess.run(init_op)\n",
    "\n",
    "# Extract features\n",
    "features = sess.run(imgs_features, feed_dict={input_imgs: img_batch})\n",
    "features.shape"
   ]
  },
  {
   "cell_type": "code",
   "execution_count": null,
   "metadata": {},
   "outputs": [],
   "source": [
    "%matplotlib inline\n",
    "import matplotlib.pyplot as plt\n",
    "\n",
    "plt.hist(features[0], bins=30)\n",
    "plt.title('Image high-level feature distribution')\n",
    "plt.show()"
   ]
  },
  {
   "cell_type": "markdown",
   "metadata": {},
   "source": [
    "Text embeddings\n",
    "---"
   ]
  },
  {
   "cell_type": "code",
   "execution_count": null,
   "metadata": {},
   "outputs": [],
   "source": [
    "# Create graph\n",
    "text_graph = tf.Graph()\n",
    "\n",
    "with text_graph.as_default():\n",
    "    # Download module\n",
    "    module_url = 'https://tfhub.dev/google/elmo/3'\n",
    "    embedding_model = hub.Module(module_url)\n",
    "    \n",
    "    # Create input placeholder\n",
    "    input_text = tf.placeholder(dtype=tf.string, shape=[None])\n",
    "    \n",
    "    # A node with the embedding\n",
    "    embedded_text = embedding_model(input_text)\n",
    "    \n",
    "    # Collect initializers\n",
    "    init_op = tf.group([\n",
    "        tf.global_variables_initializer(), tf.tables_initializer()\n",
    "    ])\n",
    "    \n",
    "text_graph.finalize() # Good practice: make the graph \"read-only\""
   ]
  },
  {
   "cell_type": "code",
   "execution_count": null,
   "metadata": {},
   "outputs": [],
   "source": [
    "# Create a session\n",
    "sess = tf.Session(graph=text_graph)\n",
    "\n",
    "# Initialize it\n",
    "sess.run(init_op)\n",
    "\n",
    "# Get embeddings\n",
    "topics = [\n",
    "    'Data science involves math, programming and substantive expertise',\n",
    "    'There are many mountains and cows in Switzerland',\n",
    "    'The idea behind Machine learning is to learn a model that generalizes from data using code',\n",
    "    'In winter, swiss people often ski and eat cheese'\n",
    "]\n",
    "\n",
    "embedded_topics = sess.run(embedded_text, feed_dict={input_text: topics})\n",
    "embedded_topics.shape # (4, 1024)"
   ]
  },
  {
   "cell_type": "code",
   "execution_count": null,
   "metadata": {},
   "outputs": [],
   "source": [
    "import numpy as np\n",
    "\n",
    "np.inner(embedded_topics, embedded_topics)"
   ]
  }
 ],
 "metadata": {
  "kernelspec": {
   "display_name": "Python 3",
   "language": "python",
   "name": "python3"
  },
  "language_info": {
   "codemirror_mode": {
    "name": "ipython",
    "version": 3
   },
   "file_extension": ".py",
   "mimetype": "text/x-python",
   "name": "python",
   "nbconvert_exporter": "python",
   "pygments_lexer": "ipython3",
   "version": "3.6.13"
  }
 },
 "nbformat": 4,
 "nbformat_minor": 4
}
