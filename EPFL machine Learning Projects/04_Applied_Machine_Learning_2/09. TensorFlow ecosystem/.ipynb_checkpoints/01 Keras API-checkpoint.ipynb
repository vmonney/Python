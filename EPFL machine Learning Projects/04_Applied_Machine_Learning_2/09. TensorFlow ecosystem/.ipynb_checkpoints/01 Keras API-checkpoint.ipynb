{
 "cells": [
  {
   "cell_type": "markdown",
   "metadata": {},
   "source": [
    "Keras API\n",
    "---"
   ]
  },
  {
   "cell_type": "code",
   "execution_count": 120,
   "metadata": {},
   "outputs": [],
   "source": [
    "import tensorflow as tf\n",
    "from tensorflow.keras import Sequential\n",
    "from tensorflow.keras.layers import Dense\n",
    "from tensorflow.keras.layers import Dropout"
   ]
  },
  {
   "cell_type": "code",
   "execution_count": 128,
   "metadata": {},
   "outputs": [
    {
     "name": "stdout",
     "output_type": "stream",
     "text": [
      "_________________________________________________________________\n",
      "Layer (type)                 Output Shape              Param #   \n",
      "=================================================================\n",
      "dense_51 (Dense)             (None, 16)                12560     \n",
      "_________________________________________________________________\n",
      "dropout_19 (Dropout)         (None, 16)                0         \n",
      "_________________________________________________________________\n",
      "dense_52 (Dense)             (None, 10)                170       \n",
      "=================================================================\n",
      "Total params: 12,730\n",
      "Trainable params: 12,730\n",
      "Non-trainable params: 0\n",
      "_________________________________________________________________\n"
     ]
    }
   ],
   "source": [
    "model = Sequential()\n",
    "model.add(Dense(16, activation='relu', input_dim=28*28, kernel_regularizer=tf.keras.regularizers.l2(l=0.005)))\n",
    "model.add(Dropout(rate=0.1))\n",
    "model.add(Dense(10, activation='softmax'))\n",
    "model.summary()"
   ]
  },
  {
   "cell_type": "markdown",
   "metadata": {},
   "source": [
    "By default, Keras initializes the weights with the variance scaling technique that we have seen in the last subject. However, we can also manually specify the initializers."
   ]
  },
  {
   "cell_type": "code",
   "execution_count": 44,
   "metadata": {},
   "outputs": [
    {
     "name": "stdout",
     "output_type": "stream",
     "text": [
      "_________________________________________________________________\n",
      "Layer (type)                 Output Shape              Param #   \n",
      "=================================================================\n",
      "dense_18 (Dense)             (None, 16)                12560     \n",
      "_________________________________________________________________\n",
      "dense_19 (Dense)             (None, 10)                170       \n",
      "=================================================================\n",
      "Total params: 12,730\n",
      "Trainable params: 12,730\n",
      "Non-trainable params: 0\n",
      "_________________________________________________________________\n"
     ]
    }
   ],
   "source": [
    "from tensorflow.keras import activations\n",
    "from tensorflow.keras import initializers\n",
    "\n",
    "# Create model\n",
    "model = Sequential()\n",
    "\n",
    "# First hidden layer\n",
    "model.add(Dense(\n",
    "    units=16, activation=activations.relu, input_dim=28*28,\n",
    "    kernel_initializer=initializers.VarianceScaling(scale=2.0, seed=0)))\n",
    "\n",
    "# Second hidden layer\n",
    "model.add(Dense(\n",
    "    units=10, activation=activations.softmax,\n",
    "    kernel_initializer=initializers.VarianceScaling(scale=1.0, seed=0)))\n",
    "\n",
    "# Print network summary\n",
    "model.summary()"
   ]
  },
  {
   "cell_type": "markdown",
   "metadata": {},
   "source": [
    "This network is equivalent to the one from above but fixes the seed number to get reproducible results.\n",
    "\n",
    "As you can see, we didn't specify a graph. Keras automatically adds the network nodes, variables, placeholders, and operations to the default graph and connects them together according to our Sequential model definition."
   ]
  },
  {
   "cell_type": "markdown",
   "metadata": {},
   "source": [
    "Loss function and training operation\n",
    "--"
   ]
  },
  {
   "cell_type": "code",
   "execution_count": 129,
   "metadata": {},
   "outputs": [],
   "source": [
    "from tensorflow.keras import optimizers\n",
    "\n",
    "# Define loss function, optimizer and metrics to track during training\n",
    "model.compile(optimizer='adam', loss='sparse_categorical_crossentropy', metrics=['acc'])"
   ]
  },
  {
   "cell_type": "markdown",
   "metadata": {},
   "source": [
    "Keras models provide a compile() function where we can specify the optimizer, the loss function and the metrics to monitor.\n",
    "\n",
    "In the code from above, we used predefined tokens such as sgd or acc which are good defaults values. Again, we can also have more control over the different parameters by manually defining the objects from the Keras modules"
   ]
  },
  {
   "cell_type": "code",
   "execution_count": 123,
   "metadata": {},
   "outputs": [],
   "source": [
    "from tensorflow.keras import losses\n",
    "from tensorflow.keras import metrics\n",
    "\n",
    "# Define loss function, optimizer and metrics to track during training\n",
    "model.compile(\n",
    "    optimizer='sgd', # .. or optimizers.SGD(lr=0.01)\n",
    "    loss='sparse_categorical_crossentropy', # .. or losses.sparse_categorical_crossentropy\n",
    "    metrics=['acc'] # .. or metrics.sparse_categorical_accuracy\n",
    ")"
   ]
  },
  {
   "cell_type": "markdown",
   "metadata": {},
   "source": [
    "This code is equivalent to the one from above, but we can now specify the learning rate and the other parameters of the optimizer."
   ]
  },
  {
   "cell_type": "markdown",
   "metadata": {},
   "source": [
    "Load/split data\n",
    "---"
   ]
  },
  {
   "cell_type": "code",
   "execution_count": 130,
   "metadata": {},
   "outputs": [
    {
     "name": "stdout",
     "output_type": "stream",
     "text": [
      "Train: (60000, 28, 28) (60000,)\n",
      "Test: (10000, 28, 28) (10000,)\n"
     ]
    }
   ],
   "source": [
    "from tensorflow.keras.datasets.mnist import load_data\n",
    "\n",
    "(X_train, y_train), (X_test, y_test) = load_data()\n",
    "\n",
    "print('Train:', X_train.shape, y_train.shape)\n",
    "print('Test:', X_test.shape, y_test.shape)"
   ]
  },
  {
   "cell_type": "markdown",
   "metadata": {},
   "source": [
    "Our dense network works with flat input vectors. So let's reshape and standardize the data"
   ]
  },
  {
   "cell_type": "code",
   "execution_count": 131,
   "metadata": {},
   "outputs": [
    {
     "name": "stdout",
     "output_type": "stream",
     "text": [
      "Train: (60000, 784)\n",
      "Test: (10000, 784)\n"
     ]
    }
   ],
   "source": [
    "from sklearn.preprocessing import StandardScaler\n",
    "\n",
    "# Rescale train and validation data\n",
    "scaler = StandardScaler()\n",
    "X_train_preprocessed = scaler.fit_transform(X_train.reshape([-1, 784]).astype(float))\n",
    "X_test_preprocessed = scaler.transform(X_test.reshape([-1, 784]).astype(float))\n",
    "\n",
    "print('Train:', X_train_preprocessed.shape)\n",
    "print('Test:', X_test_preprocessed.shape)"
   ]
  },
  {
   "cell_type": "markdown",
   "metadata": {},
   "source": [
    "Train network\n",
    "---"
   ]
  },
  {
   "cell_type": "markdown",
   "metadata": {},
   "source": [
    "So far, we manually implemented our own training loops from tf.Session objects. Keras encapsulates this process in its Model fit() function"
   ]
  },
  {
   "cell_type": "code",
   "execution_count": 132,
   "metadata": {},
   "outputs": [
    {
     "name": "stdout",
     "output_type": "stream",
     "text": [
      "Train on 11999 samples, validate on 48001 samples\n",
      "Epoch 1/30\n",
      "11999/11999 [==============================] - 3s 226us/step - loss: 0.9611 - acc: 0.7522 - val_loss: 0.5510 - val_acc: 0.8763\n",
      "Epoch 2/30\n",
      "11999/11999 [==============================] - 2s 155us/step - loss: 0.5486 - acc: 0.8698 - val_loss: 0.4661 - val_acc: 0.8956\n",
      "Epoch 3/30\n",
      "11999/11999 [==============================] - 2s 156us/step - loss: 0.4627 - acc: 0.8937 - val_loss: 0.4202 - val_acc: 0.9059\n",
      "Epoch 4/30\n",
      "11999/11999 [==============================] - 2s 156us/step - loss: 0.4263 - acc: 0.9012 - val_loss: 0.3993 - val_acc: 0.9086\n",
      "Epoch 5/30\n",
      "11999/11999 [==============================] - 2s 156us/step - loss: 0.3980 - acc: 0.9056 - val_loss: 0.3882 - val_acc: 0.9120\n",
      "Epoch 6/30\n",
      "11999/11999 [==============================] - 2s 156us/step - loss: 0.3708 - acc: 0.9130 - val_loss: 0.3740 - val_acc: 0.9150\n",
      "Epoch 7/30\n",
      "11999/11999 [==============================] - 2s 156us/step - loss: 0.3667 - acc: 0.9133 - val_loss: 0.3730 - val_acc: 0.9144\n",
      "Epoch 8/30\n",
      "11999/11999 [==============================] - 2s 156us/step - loss: 0.3533 - acc: 0.9178 - val_loss: 0.3687 - val_acc: 0.9158\n",
      "Epoch 9/30\n",
      "11999/11999 [==============================] - 2s 157us/step - loss: 0.3523 - acc: 0.9137 - val_loss: 0.3632 - val_acc: 0.9167\n",
      "Epoch 10/30\n",
      "11999/11999 [==============================] - 2s 157us/step - loss: 0.3379 - acc: 0.9195 - val_loss: 0.3651 - val_acc: 0.9171\n",
      "Epoch 11/30\n",
      "11999/11999 [==============================] - 2s 156us/step - loss: 0.3273 - acc: 0.9244 - val_loss: 0.3607 - val_acc: 0.9186\n",
      "Epoch 12/30\n",
      "11999/11999 [==============================] - 2s 156us/step - loss: 0.3301 - acc: 0.9208 - val_loss: 0.3582 - val_acc: 0.9191\n",
      "Epoch 13/30\n",
      "11999/11999 [==============================] - 2s 156us/step - loss: 0.3254 - acc: 0.9242 - val_loss: 0.3572 - val_acc: 0.9172\n",
      "Epoch 14/30\n",
      "11999/11999 [==============================] - 2s 157us/step - loss: 0.3269 - acc: 0.9243 - val_loss: 0.3511 - val_acc: 0.9196\n",
      "Epoch 15/30\n",
      "11999/11999 [==============================] - 2s 166us/step - loss: 0.3148 - acc: 0.9255 - val_loss: 0.3542 - val_acc: 0.9186\n",
      "Epoch 16/30\n",
      "11999/11999 [==============================] - 2s 157us/step - loss: 0.3137 - acc: 0.9246 - val_loss: 0.3533 - val_acc: 0.9195\n",
      "Epoch 17/30\n",
      "11999/11999 [==============================] - 2s 157us/step - loss: 0.3105 - acc: 0.9242 - val_loss: 0.3509 - val_acc: 0.9189\n",
      "Epoch 18/30\n",
      "11999/11999 [==============================] - 2s 157us/step - loss: 0.3052 - acc: 0.9282 - val_loss: 0.3508 - val_acc: 0.9215\n",
      "Epoch 19/30\n",
      "11999/11999 [==============================] - 2s 157us/step - loss: 0.3019 - acc: 0.9273 - val_loss: 0.3591 - val_acc: 0.9168\n",
      "Epoch 20/30\n",
      "11999/11999 [==============================] - 2s 157us/step - loss: 0.3069 - acc: 0.9262 - val_loss: 0.3470 - val_acc: 0.9218\n",
      "Epoch 21/30\n",
      "11999/11999 [==============================] - 2s 157us/step - loss: 0.3063 - acc: 0.9266 - val_loss: 0.3516 - val_acc: 0.9207\n",
      "Epoch 22/30\n",
      "11999/11999 [==============================] - 2s 157us/step - loss: 0.2952 - acc: 0.9278 - val_loss: 0.3507 - val_acc: 0.9217\n",
      "Epoch 23/30\n",
      "11999/11999 [==============================] - 2s 157us/step - loss: 0.2879 - acc: 0.9328 - val_loss: 0.3497 - val_acc: 0.9215\n",
      "Epoch 24/30\n",
      "11999/11999 [==============================] - 2s 157us/step - loss: 0.2913 - acc: 0.9303 - val_loss: 0.3484 - val_acc: 0.9218\n",
      "Epoch 25/30\n",
      "11999/11999 [==============================] - 2s 161us/step - loss: 0.2902 - acc: 0.9322 - val_loss: 0.3430 - val_acc: 0.9235\n",
      "Epoch 26/30\n",
      "11999/11999 [==============================] - 2s 158us/step - loss: 0.2898 - acc: 0.9311 - val_loss: 0.3486 - val_acc: 0.9210\n",
      "Epoch 27/30\n",
      "11999/11999 [==============================] - 2s 156us/step - loss: 0.2797 - acc: 0.9344 - val_loss: 0.3472 - val_acc: 0.9219\n",
      "Epoch 28/30\n",
      "11999/11999 [==============================] - 2s 157us/step - loss: 0.2797 - acc: 0.9354 - val_loss: 0.3441 - val_acc: 0.9229\n",
      "Epoch 29/30\n",
      "11999/11999 [==============================] - 2s 157us/step - loss: 0.2935 - acc: 0.9312 - val_loss: 0.3462 - val_acc: 0.9233\n",
      "Epoch 30/30\n",
      "11999/11999 [==============================] - 2s 158us/step - loss: 0.2823 - acc: 0.9319 - val_loss: 0.3487 - val_acc: 0.9226\n"
     ]
    }
   ],
   "source": [
    "# Fit model\n",
    "history = model.fit(\n",
    "    x=X_train_preprocessed, y=y_train,\n",
    "    validation_split=0.8, batch_size=32, epochs=30,\n",
    "    shuffle=True # Shuffle training samples\n",
    ")"
   ]
  },
  {
   "cell_type": "code",
   "execution_count": 133,
   "metadata": {},
   "outputs": [
    {
     "data": {
      "text/plain": [
       "dict_keys(['val_loss', 'val_acc', 'loss', 'acc'])"
      ]
     },
     "execution_count": 133,
     "metadata": {},
     "output_type": "execute_result"
    }
   ],
   "source": [
    "# The history object saved the scores during training\n",
    "history.history.keys()"
   ]
  },
  {
   "cell_type": "code",
   "execution_count": 134,
   "metadata": {},
   "outputs": [
    {
     "data": {
      "image/png": "[encoded data removed]",
      "text/plain": [
       "<Figure size 864x288 with 2 Axes>"
      ]
     },
     "metadata": {
      "needs_background": "light"
     },
     "output_type": "display_data"
    }
   ],
   "source": [
    "%matplotlib inline\n",
    "import matplotlib.pyplot as plt\n",
    "import numpy as np\n",
    "\n",
    "# Create two plots: one for the loss value, one for the accuracy\n",
    "fig, (ax1, ax2) = plt.subplots(nrows=1, ncols=2, figsize=(12, 4))\n",
    "\n",
    "# Plot accuracy values\n",
    "ax1.plot(history.history['loss'], label='train loss')\n",
    "ax1.plot(history.history['val_loss'], label='val loss')\n",
    "ax1.set_title('Validation loss {:.3f} (mean last 3)'.format(\n",
    "    np.mean(history.history['val_loss'][-3:]) # last three values\n",
    "))\n",
    "ax1.set_xlabel('epoch')\n",
    "ax1.set_ylabel('loss value')\n",
    "ax1.legend()\n",
    "\n",
    "# Plot accuracy values\n",
    "ax2.plot(history.history['acc'], label='train acc')\n",
    "ax2.plot(history.history['val_acc'], label='val acc')\n",
    "ax2.set_title('Validation accuracy {:.3f} (mean last 3)'.format(\n",
    "    np.mean(history.history['val_acc'][-3:]) # last three values\n",
    "))\n",
    "ax2.set_xlabel('epoch')\n",
    "ax2.set_ylabel('accuracy')\n",
    "ax2.legend()\n",
    "plt.show()"
   ]
  },
  {
   "cell_type": "markdown",
   "metadata": {},
   "source": [
    "We can see that the validation loss and accuracy reach a plateau after 10 epochs. The model then starts overfitting.\n",
    "\n",
    "It's interesting to note that we didn't specify any session. Again, Keras automatically handles this object internally for us."
   ]
  },
  {
   "cell_type": "markdown",
   "metadata": {},
   "source": [
    "Evaluate test scores\n",
    "---"
   ]
  },
  {
   "cell_type": "code",
   "execution_count": 135,
   "metadata": {},
   "outputs": [
    {
     "name": "stdout",
     "output_type": "stream",
     "text": [
      "10000/10000 [==============================] - 0s 27us/step\n",
      "Test loss: 0.34\n",
      "Test accuracy: 92.38%\n"
     ]
    }
   ],
   "source": [
    "(test_loss, test_accuracy) = model.evaluate(X_test_preprocessed, y_test, batch_size=32)\n",
    "\n",
    "print('Test loss: {:.2f}'.format(test_loss))\n",
    "print('Test accuracy: {:.2f}%'.format(100*test_accuracy))"
   ]
  },
  {
   "cell_type": "code",
   "execution_count": 136,
   "metadata": {},
   "outputs": [
    {
     "name": "stdout",
     "output_type": "stream",
     "text": [
      "['loss', 'acc']\n"
     ]
    }
   ],
   "source": [
    "print(model.metrics_names)"
   ]
  },
  {
   "cell_type": "markdown",
   "metadata": {},
   "source": [
    "Visualize weights\n",
    "---"
   ]
  },
  {
   "cell_type": "markdown",
   "metadata": {},
   "source": [
    "We can extract the layers from our Sequential model with the layers attribute"
   ]
  },
  {
   "cell_type": "code",
   "execution_count": 137,
   "metadata": {},
   "outputs": [
    {
     "data": {
      "text/plain": [
       "[<tensorflow.python.keras.layers.core.Dense at 0x7fc54bcc9358>,\n",
       " <tensorflow.python.keras.layers.core.Dropout at 0x7fc54bcc9320>,\n",
       " <tensorflow.python.keras.layers.core.Dense at 0x7fc54bcc9668>]"
      ]
     },
     "execution_count": 137,
     "metadata": {},
     "output_type": "execute_result"
    }
   ],
   "source": [
    "model.layers"
   ]
  },
  {
   "cell_type": "markdown",
   "metadata": {},
   "source": [
    "and then use those layers objects to inspect the model weights and biases with the ```get_weights()``` function. Let's plot the weights with the code from the previous subject"
   ]
  },
  {
   "cell_type": "code",
   "execution_count": 138,
   "metadata": {},
   "outputs": [
    {
     "data": {
      "image/png": "[encoded data removed]",
      "text/plain": [
       "<Figure size 360x360 with 16 Axes>"
      ]
     },
     "metadata": {
      "needs_background": "light"
     },
     "output_type": "display_data"
    }
   ],
   "source": [
    "# Retrieve first hidden layer\n",
    "hidden = model.layers[0]\n",
    "\n",
    "# Get weights/biases\n",
    "weights_hidden, biases_hidden = hidden.get_weights()\n",
    "\n",
    "# Create figure with 16 subplots\n",
    "fig, axes = plt.subplots(nrows=4, ncols=4, figsize=(5, 5))\n",
    "\n",
    "# Plot the weights of the 16 hidden units\n",
    "for i, axis in enumerate(axes.flatten()):\n",
    "    # Get weights of i-th hidden unit\n",
    "    weights = weights_hidden[:, i]\n",
    "    \n",
    "    # Reshape into 28 by 28 array\n",
    "    weights = weights.reshape(28, 28)\n",
    "    \n",
    "    # Plot weights\n",
    "    axis.set_title('unit {}'.format(i+1), size=9, pad=2)\n",
    "    axis.imshow(weights, cmap=plt.cm.gray_r) # Grayscale\n",
    "    axis.get_xaxis().set_visible(False) # Disable x-axis\n",
    "    axis.get_yaxis().set_visible(False) # Disable y-axis\n",
    "    \n",
    "plt.show()"
   ]
  },
  {
   "cell_type": "code",
   "execution_count": null,
   "metadata": {},
   "outputs": [],
   "source": []
  }
 ],
 "metadata": {
  "kernelspec": {
   "display_name": "Python 3",
   "language": "python",
   "name": "python3"
  },
  "language_info": {
   "codemirror_mode": {
    "name": "ipython",
    "version": 3
   },
   "file_extension": ".py",
   "mimetype": "text/x-python",
   "name": "python",
   "nbconvert_exporter": "python",
   "pygments_lexer": "ipython3",
   "version": "3.6.13"
  }
 },
 "nbformat": 4,
 "nbformat_minor": 4
}
