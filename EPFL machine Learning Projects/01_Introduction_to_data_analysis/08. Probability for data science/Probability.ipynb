{
 "cells": [
  {
   "cell_type": "code",
   "execution_count": 42,
   "id": "9fc5cf07",
   "metadata": {},
   "outputs": [],
   "source": [
    "import random\n",
    "import matplotlib.pyplot as plt\n",
    "%matplotlib inline\n",
    "import numpy as np\n",
    "import pandas as pd\n",
    "import scipy.stats as stats"
   ]
  },
  {
   "cell_type": "code",
   "execution_count": 11,
   "id": "6a1cf02f",
   "metadata": {},
   "outputs": [
    {
     "data": {
      "text/plain": [
       "0.183369"
      ]
     },
     "execution_count": 11,
     "metadata": {},
     "output_type": "execute_result"
    }
   ],
   "source": [
    "# Experiment 1 (bag with replacement)\n",
    "bag = ['r','r','r','g','g','g','g']\n",
    "experiments = 1000000\n",
    "counter = 0\n",
    "for i in range(experiments):\n",
    "    color1 = bag[random.randrange(len(bag))]\n",
    "    color2 = bag[random.randrange(len(bag))]\n",
    "    if color1 =='r' and color2 =='r':\n",
    "        counter += 1\n",
    "\n",
    "counter / experiments"
   ]
  },
  {
   "cell_type": "code",
   "execution_count": 12,
   "id": "8cb1252d",
   "metadata": {},
   "outputs": [
    {
     "data": {
      "text/plain": [
       "0.147"
      ]
     },
     "execution_count": 12,
     "metadata": {},
     "output_type": "execute_result"
    }
   ],
   "source": [
    "# Experiment 2 : bag without replacement\n",
    "\n",
    "bag = ['r','r','r','g','g','g','g']\n",
    "experiments = 10000\n",
    "counter = 0\n",
    "for i in range(experiments):\n",
    "    color1 = bag[random.randrange(len(bag))]\n",
    "    bag.remove(color1)\n",
    "    color2 = bag[random.randrange(len(bag))]\n",
    "    if color1 =='r' and color2 =='r':\n",
    "        counter += 1\n",
    "    bag.append(color1)\n",
    "\n",
    "counter / experiments"
   ]
  },
  {
   "cell_type": "code",
   "execution_count": 13,
   "id": "4df1ce22",
   "metadata": {},
   "outputs": [
    {
     "data": {
      "text/plain": [
       "1.5192"
      ]
     },
     "execution_count": 13,
     "metadata": {},
     "output_type": "execute_result"
    }
   ],
   "source": [
    "# Experiment 3 : Coins toss 3 times\n",
    "\n",
    "outcome_space = ['H', 'T']\n",
    "experiments = 10000\n",
    "tails = 0\n",
    "for i in range(experiments):\n",
    "    for toss in range(3):\n",
    "        result = outcome_space[random.randrange(len(outcome_space))]\n",
    "        if result == 'T':\n",
    "            tails +=1\n",
    "\n",
    "tails / experiments"
   ]
  },
  {
   "cell_type": "code",
   "execution_count": 14,
   "id": "ac8ed66d",
   "metadata": {},
   "outputs": [
    {
     "data": {
      "text/plain": [
       "1.9996"
      ]
     },
     "execution_count": 14,
     "metadata": {},
     "output_type": "execute_result"
    }
   ],
   "source": [
    "# Experiment 4 : Toss until heads comes up\n",
    "\n",
    "outcome_space = ['H', 'T']\n",
    "experiments = 10000\n",
    "trials = 0\n",
    "for i in range(experiments):\n",
    "    seen_heads = False\n",
    "    while not seen_heads:\n",
    "        trials += 1\n",
    "        result = outcome_space[random.randrange(len(outcome_space))]\n",
    "        if result == 'H':\n",
    "            break\n",
    "\n",
    "trials / experiments"
   ]
  },
  {
   "cell_type": "code",
   "execution_count": 22,
   "id": "a83eec07",
   "metadata": {},
   "outputs": [
    {
     "data": {
      "text/plain": [
       "0.9903"
      ]
     },
     "execution_count": 22,
     "metadata": {},
     "output_type": "execute_result"
    }
   ],
   "source": [
    "# Experiment 5: The Hat-Check problem\n",
    "\n",
    "experiments = 10000\n",
    "proper_hats = 0\n",
    "men = list(range(10))\n",
    "for i in range(experiments):\n",
    "    hats = list(range(len(men)))\n",
    "    for man in men:\n",
    "        hat = hats[random.randrange(len(hats))]\n",
    "        if man == hat:\n",
    "            proper_hats += 1\n",
    "        hats.remove(hat)\n",
    "\n",
    "proper_hats / experiments"
   ]
  },
  {
   "cell_type": "code",
   "execution_count": 23,
   "id": "6647fcf3",
   "metadata": {},
   "outputs": [
    {
     "data": {
      "text/plain": [
       "0.0416"
      ]
     },
     "execution_count": 23,
     "metadata": {},
     "output_type": "execute_result"
    }
   ],
   "source": [
    "# Experiment 6 : Binomial distribution\n",
    "\n",
    "experiments = 10000\n",
    "experiments_k2 = 0\n",
    "coinflips = 10\n",
    "for i in range(experiments):\n",
    "    heads = 0\n",
    "    for flip in range(coinflips):\n",
    "        if random.random() < 0.5:\n",
    "            heads +=1\n",
    "    if heads == 2:\n",
    "        experiments_k2 +=1\n",
    "\n",
    "experiments_k2 / experiments"
   ]
  },
  {
   "cell_type": "code",
   "execution_count": 26,
   "id": "2205f0bb",
   "metadata": {},
   "outputs": [
    {
     "data": {
      "text/plain": [
       "3.5031"
      ]
     },
     "execution_count": 26,
     "metadata": {},
     "output_type": "execute_result"
    }
   ],
   "source": [
    "# Experiment 7: Uniform distribution\n",
    "\n",
    "experiments = 10000\n",
    "dice = list(range(1,7))\n",
    "sum_dice_value = 0\n",
    "\n",
    "for i in range(experiments):\n",
    "    dice_value = dice[random.randrange(len(dice))]\n",
    "    sum_dice_value += dice_value\n",
    "    \n",
    "sum_dice_value / experiments"
   ]
  },
  {
   "cell_type": "code",
   "execution_count": 28,
   "id": "f4c94e76",
   "metadata": {},
   "outputs": [
    {
     "data": {
      "text/plain": [
       "0.51"
      ]
     },
     "execution_count": 28,
     "metadata": {},
     "output_type": "execute_result"
    }
   ],
   "source": [
    "# Exercise 2 : Uniform distribution\n",
    "experiments = 10000\n",
    "num_day_sales = list(range(11,41))\n",
    "num_btw_16_30 = 0\n",
    "\n",
    "for i in range(experiments):\n",
    "    daily_sales = num_day_sales[random.randrange(len(num_day_sales))]\n",
    "    if daily_sales in range(16, 31):\n",
    "        num_btw_16_30 += 1\n",
    "\n",
    "num_btw_16_30 / experiments"
   ]
  },
  {
   "cell_type": "code",
   "execution_count": 33,
   "id": "ec433be8",
   "metadata": {},
   "outputs": [
    {
     "data": {
      "text/plain": [
       "0.2621439999999998"
      ]
     },
     "execution_count": 33,
     "metadata": {},
     "output_type": "execute_result"
    }
   ],
   "source": [
    "p = 0.2\n",
    "n = list(range(0,6))\n",
    "probabilities = 0\n",
    "for k in n:\n",
    "    probability = (1-p)**k*p\n",
    "    probabilities += probability\n",
    "\n",
    "1- probabilities"
   ]
  },
  {
   "cell_type": "code",
   "execution_count": 36,
   "id": "dedfe0f1",
   "metadata": {},
   "outputs": [
    {
     "data": {
      "image/png": "[encoded data removed]",
      "text/plain": [
       "<Figure size 432x288 with 1 Axes>"
      ]
     },
     "metadata": {
      "needs_background": "light"
     },
     "output_type": "display_data"
    }
   ],
   "source": [
    "# The central limit theorem\n",
    "\n",
    "# fill a list with 100,000 random numbers between 0 and 1\n",
    "random_numbers = [random.random() for i in range(100000)]\n",
    "#plot to show that numbers are not normaly distributed\n",
    "plt.hist(random_numbers, bins=np.linspace(0,1,101));"
   ]
  },
  {
   "cell_type": "code",
   "execution_count": 41,
   "id": "aa0675a3",
   "metadata": {},
   "outputs": [
    {
     "data": {
      "image/png": "[encoded data removed]",
      "text/plain": [
       "<Figure size 432x288 with 1 Axes>"
      ]
     },
     "metadata": {
      "needs_background": "light"
     },
     "output_type": "display_data"
    }
   ],
   "source": [
    "# test if the mean of these numbers are normally distributed\n",
    "means = []\n",
    "samplesize = 5\n",
    "experiments = 100000\n",
    "for i in range(experiments):\n",
    "    total = 0\n",
    "    for ii in range(samplesize):\n",
    "        total += random.random()\n",
    "    mean = total / samplesize\n",
    "    means.append(mean)\n",
    "plt.hist(means, bins=np.linspace(0,1,101));"
   ]
  },
  {
   "cell_type": "code",
   "execution_count": 43,
   "id": "576eb139",
   "metadata": {},
   "outputs": [
    {
     "data": {
      "text/plain": [
       "array([1, 5, 3, ..., 2, 5, 6])"
      ]
     },
     "execution_count": 43,
     "metadata": {},
     "output_type": "execute_result"
    }
   ],
   "source": [
    "uniform_data = stats.uniform.rvs(\n",
    "size = 10000, #Number of points\n",
    "loc=1, # lower limit\n",
    "scale=6, #upper limit\n",
    ").astype(int) # Make sure to get integer values\n",
    "\n",
    "uniform_data"
   ]
  },
  {
   "cell_type": "code",
   "execution_count": 44,
   "id": "3040059d",
   "metadata": {},
   "outputs": [
    {
     "data": {
      "image/png": "[encoded data removed]",
      "text/plain": [
       "<Figure size 432x288 with 1 Axes>"
      ]
     },
     "metadata": {
      "needs_background": "light"
     },
     "output_type": "display_data"
    }
   ],
   "source": [
    "plt.hist(uniform_data, bins=6)\n",
    "plt.show()"
   ]
  },
  {
   "cell_type": "code",
   "execution_count": 49,
   "id": "4354d975",
   "metadata": {},
   "outputs": [
    {
     "name": "stdout",
     "output_type": "stream",
     "text": [
      "[   0    5   10 ... 9985 9990 9995]\n",
      "2000\n",
      "[17 17 21 ... 20 20 20]\n",
      "2000\n"
     ]
    },
    {
     "data": {
      "text/plain": [
       "3.5616999999999996"
      ]
     },
     "execution_count": 49,
     "metadata": {},
     "output_type": "execute_result"
    }
   ],
   "source": [
    "indexes = np.arange(0, 10000, 5)\n",
    "print(indexes)\n",
    "print(len(indexes))\n",
    "\n",
    "sums = np.add.reduceat(uniform_data, indexes)\n",
    "print(sums)\n",
    "print(len(sums))\n",
    "np.mean(sums/5)"
   ]
  },
  {
   "cell_type": "code",
   "execution_count": 50,
   "id": "f7cc0cd4",
   "metadata": {},
   "outputs": [
    {
     "data": {
      "image/png": "[encoded data removed]",
      "text/plain": [
       "<Figure size 432x288 with 1 Axes>"
      ]
     },
     "metadata": {
      "needs_background": "light"
     },
     "output_type": "display_data"
    }
   ],
   "source": [
    "plt.hist(sums/5, bins=12) # average\n",
    "plt.show()"
   ]
  },
  {
   "cell_type": "code",
   "execution_count": null,
   "id": "36e06cd0",
   "metadata": {},
   "outputs": [],
   "source": []
  }
 ],
 "metadata": {
  "kernelspec": {
   "display_name": "Python 3",
   "language": "python",
   "name": "python3"
  },
  "language_info": {
   "codemirror_mode": {
    "name": "ipython",
    "version": 3
   },
   "file_extension": ".py",
   "mimetype": "text/x-python",
   "name": "python",
   "nbconvert_exporter": "python",
   "pygments_lexer": "ipython3",
   "version": "3.6.13"
  }
 },
 "nbformat": 4,
 "nbformat_minor": 5
}
