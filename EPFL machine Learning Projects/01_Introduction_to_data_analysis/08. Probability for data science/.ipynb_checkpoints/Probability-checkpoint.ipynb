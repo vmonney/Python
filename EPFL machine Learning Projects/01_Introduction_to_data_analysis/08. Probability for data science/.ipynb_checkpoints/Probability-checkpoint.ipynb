{
 "cells": [
  {
   "cell_type": "code",
   "execution_count": 10,
   "id": "824840be",
   "metadata": {},
   "outputs": [
    {
     "data": {
      "text/plain": [
       "0.183084"
      ]
     },
     "execution_count": 10,
     "metadata": {},
     "output_type": "execute_result"
    }
   ],
   "source": [
    "import random"
   ]
  },
  {
   "cell_type": "code",
   "execution_count": 11,
   "id": "70a41e21",
   "metadata": {},
   "outputs": [
    {
     "data": {
      "text/plain": [
       "0.183369"
      ]
     },
     "execution_count": 11,
     "metadata": {},
     "output_type": "execute_result"
    }
   ],
   "source": [
    "# Experiment 1 (bag with replacement)\n",
    "bag = ['r','r','r','g','g','g','g']\n",
    "experiments = 1000000\n",
    "counter = 0\n",
    "for i in range(experiments):\n",
    "    color1 = bag[random.randrange(len(bag))]\n",
    "    color2 = bag[random.randrange(len(bag))]\n",
    "    if color1 =='r' and color2 =='r':\n",
    "        counter += 1\n",
    "\n",
    "counter / experiments"
   ]
  },
  {
   "cell_type": "code",
   "execution_count": 12,
   "id": "692fef8a",
   "metadata": {},
   "outputs": [
    {
     "data": {
      "text/plain": [
       "0.147"
      ]
     },
     "execution_count": 12,
     "metadata": {},
     "output_type": "execute_result"
    }
   ],
   "source": [
    "# Experiment 2 : bag without replacement\n",
    "\n",
    "bag = ['r','r','r','g','g','g','g']\n",
    "experiments = 10000\n",
    "counter = 0\n",
    "for i in range(experiments):\n",
    "    color1 = bag[random.randrange(len(bag))]\n",
    "    bag.remove(color1)\n",
    "    color2 = bag[random.randrange(len(bag))]\n",
    "    if color1 =='r' and color2 =='r':\n",
    "        counter += 1\n",
    "    bag.append(color1)\n",
    "\n",
    "counter / experiments"
   ]
  },
  {
   "cell_type": "code",
   "execution_count": 13,
   "id": "4a2688c4",
   "metadata": {},
   "outputs": [
    {
     "data": {
      "text/plain": [
       "1.5192"
      ]
     },
     "execution_count": 13,
     "metadata": {},
     "output_type": "execute_result"
    }
   ],
   "source": [
    "# Experiment 3 : Coins toss 3 times\n",
    "\n",
    "outcome_space = ['H', 'T']\n",
    "experiments = 10000\n",
    "tails = 0\n",
    "for i in range(experiments):\n",
    "    for toss in range(3):\n",
    "        result = outcome_space[random.randrange(len(outcome_space))]\n",
    "        if result == 'T':\n",
    "            tails +=1\n",
    "\n",
    "tails / experiments"
   ]
  },
  {
   "cell_type": "code",
   "execution_count": 14,
   "id": "fcf0b805",
   "metadata": {},
   "outputs": [
    {
     "data": {
      "text/plain": [
       "1.9996"
      ]
     },
     "execution_count": 14,
     "metadata": {},
     "output_type": "execute_result"
    }
   ],
   "source": [
    "# Experiment 4 : Toss until heads comes up\n",
    "\n",
    "outcome_space = ['H', 'T']\n",
    "experiments = 10000\n",
    "trials = 0\n",
    "for i in range(experiments):\n",
    "    seen_heads = False\n",
    "    while not seen_heads:\n",
    "        trials += 1\n",
    "        result = outcome_space[random.randrange(len(outcome_space))]\n",
    "        if result == 'H':\n",
    "            break\n",
    "\n",
    "trials / experiments"
   ]
  },
  {
   "cell_type": "code",
   "execution_count": 22,
   "id": "e61312c4",
   "metadata": {},
   "outputs": [
    {
     "data": {
      "text/plain": [
       "0.9903"
      ]
     },
     "execution_count": 22,
     "metadata": {},
     "output_type": "execute_result"
    }
   ],
   "source": [
    "# Experiment 5: The Hat-Check problem\n",
    "\n",
    "experiments = 10000\n",
    "proper_hats = 0\n",
    "men = list(range(10))\n",
    "for i in range(experiments):\n",
    "    hats = list(range(len(men)))\n",
    "    for man in men:\n",
    "        hat = hats[random.randrange(len(hats))]\n",
    "        if man == hat:\n",
    "            proper_hats += 1\n",
    "        hats.remove(hat)\n",
    "\n",
    "proper_hats / experiments"
   ]
  },
  {
   "cell_type": "code",
   "execution_count": 17,
   "id": "830fd935",
   "metadata": {},
   "outputs": [
    {
     "data": {
      "text/plain": [
       "[0, 1, 2, 3, 4, 5, 6, 7, 8, 9]"
      ]
     },
     "execution_count": 17,
     "metadata": {},
     "output_type": "execute_result"
    }
   ],
   "source": []
  },
  {
   "cell_type": "code",
   "execution_count": null,
   "id": "e78edaec",
   "metadata": {},
   "outputs": [],
   "source": []
  }
 ],
 "metadata": {
  "kernelspec": {
   "display_name": "Python 3",
   "language": "python",
   "name": "python3"
  },
  "language_info": {
   "codemirror_mode": {
    "name": "ipython",
    "version": 3
   },
   "file_extension": ".py",
   "mimetype": "text/x-python",
   "name": "python",
   "nbconvert_exporter": "python",
   "pygments_lexer": "ipython3",
   "version": "3.6.13"
  }
 },
 "nbformat": 4,
 "nbformat_minor": 5
}
