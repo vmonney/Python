{
 "cells": [
  {
   "cell_type": "code",
   "execution_count": null,
   "metadata": {},
   "outputs": [],
   "source": [
    "import matplotlib.pyplot as plt\n",
    "%matplotlib inline\n",
    "import random\n",
    "import numpy as np\n",
    "import pandas as pd\n",
    "import scipy.stats as stats"
   ]
  },
  {
   "cell_type": "markdown",
   "metadata": {},
   "source": [
    "Bag of marbles\n",
    "---"
   ]
  },
  {
   "cell_type": "code",
   "execution_count": null,
   "metadata": {},
   "outputs": [],
   "source": [
    "bag = ['r','r','r','g','g','g','g']"
   ]
  },
  {
   "cell_type": "code",
   "execution_count": null,
   "metadata": {},
   "outputs": [],
   "source": [
    "# experiment 1\n",
    "experiments = 10000\n",
    "counter = 0\n",
    "for i in range(experiments):\n",
    "    color1 = bag[random.randrange(len(bag))]\n",
    "    color2 = bag[random.randrange(len(bag))]\n",
    "    if color1=='r' and color2=='r':\n",
    "        counter += 1\n",
    "\n",
    "counter / experiments"
   ]
  },
  {
   "cell_type": "code",
   "execution_count": null,
   "metadata": {},
   "outputs": [],
   "source": [
    "# experiment 2\n",
    "experiments = 10000\n",
    "counter = 0\n",
    "for i in range(experiments):\n",
    "    color1 = bag[random.randrange(len(bag))]\n",
    "    # let's remove the marble from the bag\n",
    "    bag.remove(color1)\n",
    "    color2 = bag[random.randrange(len(bag))]\n",
    "    if color1=='r' and color2=='r':\n",
    "        counter += 1\n",
    "    # let's put the first marble back for the next experiment!\n",
    "    bag.append(color1)\n",
    "\n",
    "counter / experiments"
   ]
  },
  {
   "cell_type": "markdown",
   "metadata": {},
   "source": [
    "Coin tosses\n",
    "---"
   ]
  },
  {
   "cell_type": "code",
   "execution_count": null,
   "metadata": {},
   "outputs": [],
   "source": [
    "#number of tails when tossing a coin 3 times\n",
    "outcome_space = ['H','T']\n",
    "experiments = 10000\n",
    "tails = 0\n",
    "for i in range(experiments):\n",
    "    for toss in range(3):\n",
    "        result = outcome_space[random.randrange(len(outcome_space))]\n",
    "        if result=='T':\n",
    "            tails += 1\n",
    "\n",
    "tails / experiments\n",
    "# a value very close to 1.5, e.g. 1.501"
   ]
  },
  {
   "cell_type": "code",
   "execution_count": null,
   "metadata": {},
   "outputs": [],
   "source": [
    "#tossing a fair coin until heads comes up\n",
    "outcome_space = ['H','T']\n",
    "experiments = 10000\n",
    "trials = 0\n",
    "for i in range(experiments):\n",
    "    seen_heads = False\n",
    "    while not seen_heads:\n",
    "        trials += 1\n",
    "        result = outcome_space[random.randrange(len(outcome_space))]\n",
    "        if result=='H': \n",
    "            break\n",
    "\n",
    "trials / experiments"
   ]
  },
  {
   "cell_type": "markdown",
   "metadata": {},
   "source": [
    "The hat-check problem\n",
    "---"
   ]
  },
  {
   "cell_type": "code",
   "execution_count": null,
   "metadata": {},
   "outputs": [],
   "source": [
    "experiments = 10000\n",
    "proper_hats = 0\n",
    "men = list(range(10))\n",
    "for i in range(experiments):\n",
    "    hats = list(range(len(men)))\n",
    "    for man in men:\n",
    "        hat = hats[random.randrange(len(hats))]\n",
    "        if man == hat:\n",
    "            proper_hats += 1\n",
    "        hats.remove(hat)\n",
    "\n",
    "proper_hats / experiments"
   ]
  },
  {
   "cell_type": "markdown",
   "metadata": {},
   "source": [
    "Bernoulli distribution\n",
    "---"
   ]
  },
  {
   "cell_type": "code",
   "execution_count": null,
   "metadata": {},
   "outputs": [],
   "source": [
    "experiments = 10000\n",
    "experiments_k2 = 0\n",
    "coinflips = 10\n",
    "for i in range(experiments):\n",
    "    heads = 0\n",
    "    for flip in range(coinflips):\n",
    "        if random.random() < 0.5:\n",
    "            heads += 1\n",
    "    if heads == 2:\n",
    "        experiments_k2 += 1\n",
    "\n",
    "experiments_k2 / experiments"
   ]
  },
  {
   "cell_type": "markdown",
   "metadata": {},
   "source": [
    "Normal distribution\n",
    "---"
   ]
  },
  {
   "cell_type": "code",
   "execution_count": null,
   "metadata": {},
   "outputs": [],
   "source": [
    "random_numbers = [random.random() for i in range(100000)]\n",
    "plt.hist(random_numbers,bins=np.linspace(0,1,101))\n",
    "plt.show()"
   ]
  },
  {
   "cell_type": "code",
   "execution_count": null,
   "metadata": {},
   "outputs": [],
   "source": [
    "means = []\n",
    "samplesize = 20\n",
    "experiments = 100000\n",
    "for i in range(experiments):\n",
    "    total = 0\n",
    "    for ii in range(samplesize):\n",
    "        total += random.random()\n",
    "    mean = total / samplesize\n",
    "    means.append(mean)\n",
    "plt.hist(means,bins=np.linspace(0,1,101))\n",
    "plt.show()"
   ]
  },
  {
   "cell_type": "markdown",
   "metadata": {},
   "source": [
    "The average of a dice roll\n",
    "---"
   ]
  },
  {
   "cell_type": "code",
   "execution_count": null,
   "metadata": {},
   "outputs": [],
   "source": [
    "uniform_data = stats.uniform.rvs(\n",
    "    size=10000, # Number of points\n",
    "    loc=1, # lower limit\n",
    "    scale=6 # upper limit\n",
    ").astype(int) # Make sure to get integer values\n",
    "\n",
    "uniform_data"
   ]
  },
  {
   "cell_type": "code",
   "execution_count": null,
   "metadata": {},
   "outputs": [],
   "source": [
    "plt.hist(uniform_data, bins=6)\n",
    "plt.show()"
   ]
  },
  {
   "cell_type": "code",
   "execution_count": null,
   "metadata": {},
   "outputs": [],
   "source": [
    "indexes = np.arange(0, 10000, 5)\n",
    "print(indexes)\n",
    "print(len(indexes))\n",
    "\n",
    "sums = np.add.reduceat(uniform_data, indexes)\n",
    "print(sums)\n",
    "print(len(sums))"
   ]
  },
  {
   "cell_type": "code",
   "execution_count": null,
   "metadata": {},
   "outputs": [],
   "source": [
    "np.mean(sums/5)"
   ]
  },
  {
   "cell_type": "code",
   "execution_count": null,
   "metadata": {},
   "outputs": [],
   "source": [
    "plt.hist(sums/5, bins=12) # average\n",
    "plt.show()"
   ]
  }
 ],
 "metadata": {
  "kernelspec": {
   "display_name": "Python 3",
   "language": "python",
   "name": "python3"
  },
  "language_info": {
   "codemirror_mode": {
    "name": "ipython",
    "version": 3
   },
   "file_extension": ".py",
   "mimetype": "text/x-python",
   "name": "python",
   "nbconvert_exporter": "python",
   "pygments_lexer": "ipython3",
   "version": "3.6.13"
  }
 },
 "nbformat": 4,
 "nbformat_minor": 4
}
