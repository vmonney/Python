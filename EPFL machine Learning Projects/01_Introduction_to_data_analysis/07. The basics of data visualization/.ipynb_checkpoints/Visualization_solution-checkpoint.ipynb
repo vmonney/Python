{
 "cells": [
  {
   "cell_type": "code",
   "execution_count": null,
   "metadata": {},
   "outputs": [],
   "source": [
    "import matplotlib.pyplot as plt\n",
    "%matplotlib inline\n",
    "import numpy as np"
   ]
  },
  {
   "cell_type": "code",
   "execution_count": null,
   "metadata": {},
   "outputs": [],
   "source": [
    "X = np.linspace(-np.pi, np.pi)\n",
    "Y = np.sin(X) + np.cos(X)"
   ]
  },
  {
   "cell_type": "code",
   "execution_count": null,
   "metadata": {},
   "outputs": [],
   "source": [
    "plt.plot(X,Y);"
   ]
  },
  {
   "cell_type": "code",
   "execution_count": null,
   "metadata": {},
   "outputs": [],
   "source": [
    "plt.plot(X,Y, color='red', linewidth=2.0);"
   ]
  },
  {
   "cell_type": "code",
   "execution_count": null,
   "metadata": {},
   "outputs": [],
   "source": [
    "plt.plot(X,Y, color='red', linewidth=2.0)\n",
    "plt.xlim(-4,4);"
   ]
  },
  {
   "cell_type": "code",
   "execution_count": null,
   "metadata": {},
   "outputs": [],
   "source": [
    "plt.plot(X,Y, color='red', linewidth=2.0)\n",
    "plt.xlim(-4,4)\n",
    "plt.xticks([-np.pi, -np.pi/2, 0, np.pi/2, np.pi]);"
   ]
  },
  {
   "cell_type": "code",
   "execution_count": null,
   "metadata": {},
   "outputs": [],
   "source": [
    "plt.plot(X,Y, color='red', linewidth=2.0)\n",
    "plt.xlim(-4,4)\n",
    "plt.xticks([-np.pi, -np.pi/2, 0, np.pi/2, np.pi], ['$-\\pi$', '$-\\pi/2$', '$0$', '$\\pi/2$', '$\\pi$'])\n",
    "plt.title('The function $f(x)=\\sin(x) + \\cos(x)$');"
   ]
  },
  {
   "cell_type": "markdown",
   "metadata": {},
   "source": [
    "# Exercise"
   ]
  },
  {
   "cell_type": "code",
   "execution_count": null,
   "metadata": {},
   "outputs": [],
   "source": [
    "x = np.linspace(-15,15)\n",
    "f1 = np.sin(x)/x\n",
    "f2 = 2*np.sin(x)/x\n",
    "f3 = 3*np.sin(x)/x\n",
    "plt.ylim(-1, 3.5)\n",
    "plt.yticks([-1, 0, 1, 2, 3])\n",
    "plt.plot(x,f1, color='blue', linestyle ='--', linewidth=2.0, label='$\\sin(x)/x$')\n",
    "plt.plot(x,f2, color='green', linestyle ='-.', linewidth=2.0, label='$2*\\sin(x)/x$')\n",
    "plt.plot(x,f3, color='red', marker ='o', label='$3*\\sin(x)/x$')\n",
    "plt.legend()\n",
    "plt.show()"
   ]
  },
  {
   "cell_type": "markdown",
   "metadata": {},
   "source": [
    "# Technical look at plotting"
   ]
  },
  {
   "cell_type": "markdown",
   "metadata": {},
   "source": [
    "## 1. Implicit way"
   ]
  },
  {
   "cell_type": "code",
   "execution_count": null,
   "metadata": {},
   "outputs": [],
   "source": [
    "plt.plot([0,1,2,3,4], [0,10,5,30,30],  color='magenta', linewidth = 3)\n",
    "plt.xlim(0,4)\n",
    "plt.ylim(0,40)\n",
    "plt.title('An example plot')\n",
    "plt.xlabel('X-axis')\n",
    "plt.ylabel('Y-axis');"
   ]
  },
  {
   "cell_type": "markdown",
   "metadata": {},
   "source": [
    "## 2. Explicit way"
   ]
  },
  {
   "cell_type": "code",
   "execution_count": null,
   "metadata": {},
   "outputs": [],
   "source": [
    "fig, ax = plt.subplots()\n",
    "ax.plot([0,1,2,3,4], [0,10,5,30,30], color='magenta', linewidth = 3)\n",
    "ax.set_xlim(0,4)\n",
    "ax.set_ylim(0,40)\n",
    "ax.set_title('An example plot')\n",
    "ax.set_xlabel('X-axis')\n",
    "ax.set_ylabel('Y-aixs');"
   ]
  },
  {
   "cell_type": "markdown",
   "metadata": {},
   "source": [
    "## Multiple axes"
   ]
  },
  {
   "cell_type": "code",
   "execution_count": null,
   "metadata": {},
   "outputs": [],
   "source": [
    "fig, axes = plt.subplots(nrows=1, ncols=2)\n",
    "axes[0].set(title='Left')\n",
    "axes[1].set(title='Right')\n",
    "axes[0].plot([0,1,2,3,4], [0,10,5,30,30], color='magenta', linewidth = 3)\n",
    "axes[1].scatter([0,1,2,3,4], [0,10,5,30,30], color='magenta', linewidth = 3);"
   ]
  },
  {
   "cell_type": "markdown",
   "metadata": {},
   "source": [
    "# Bar plots"
   ]
  },
  {
   "cell_type": "code",
   "execution_count": null,
   "metadata": {},
   "outputs": [],
   "source": [
    "countries = ['USA', 'GB', 'China', 'Russia', 'Germany']\n",
    "bronzes = np.array([38, 17, 26, 19, 15])\n",
    "silvers = np.array([37, 23, 18, 17, 10])\n",
    "golds = np.array([46, 27, 26, 19, 17])\n",
    "total = np.array([121,67,70,55,42])"
   ]
  },
  {
   "cell_type": "code",
   "execution_count": null,
   "metadata": {},
   "outputs": [],
   "source": [
    "x_cor = np.arange(5)\n",
    "plt.bar(x_cor, total)\n",
    "plt.xticks(x_cor, countries)\n",
    "plt.xticks(x_cor, countries)\n",
    "plt.ylabel(\"Medals\")\n",
    "plt.xlabel(\"Countries\")\n",
    "plt.title(\"2016 Olympics Medals: Top Countries\");"
   ]
  },
  {
   "cell_type": "code",
   "execution_count": null,
   "metadata": {},
   "outputs": [],
   "source": [
    "x_cor = np.arange(5)\n",
    "plt.bar(x_cor, bronzes, color='#CD853F',  label='bronze medals')\n",
    "plt.bar(x_cor, silvers, color='silver', bottom=bronzes,  label='silve medals')\n",
    "plt.bar(x_cor, golds, color='gold', bottom=silvers+bronzes,  label='gold medals')\n",
    "plt.xticks(x_cor, countries)\n",
    "plt.xticks(x_cor, countries)\n",
    "plt.ylabel(\"Medals\")\n",
    "plt.xlabel(\"Countries\")\n",
    "plt.title(\"2016 Olympics Medals: Top Countries\")\n",
    "plt.legend(loc=\"upper right\");"
   ]
  },
  {
   "cell_type": "markdown",
   "metadata": {},
   "source": [
    "# Scatter plots"
   ]
  },
  {
   "cell_type": "code",
   "execution_count": null,
   "metadata": {},
   "outputs": [],
   "source": [
    "import pandas as pd\n",
    "import matplotlib.pyplot as plt\n",
    "%matplotlib inline\n",
    "from sklearn import datasets\n",
    "iris = datasets.load_iris()"
   ]
  },
  {
   "cell_type": "code",
   "execution_count": null,
   "metadata": {},
   "outputs": [],
   "source": [
    "iris_df = pd.DataFrame(iris['data'], \n",
    "columns=iris['feature_names'])\n",
    "iris_df['species'] = iris['target']"
   ]
  },
  {
   "cell_type": "code",
   "execution_count": null,
   "metadata": {},
   "outputs": [],
   "source": [
    "iris_df.head()"
   ]
  },
  {
   "cell_type": "code",
   "execution_count": null,
   "metadata": {},
   "outputs": [],
   "source": [
    "iris_df['species'].unique()"
   ]
  },
  {
   "cell_type": "code",
   "execution_count": null,
   "metadata": {},
   "outputs": [],
   "source": [
    "species = ['Iris setosa', 'Iris versicolor', 'Iris virginica']\n",
    "colors = ['red', 'orange', 'green']"
   ]
  },
  {
   "cell_type": "code",
   "execution_count": null,
   "metadata": {},
   "outputs": [],
   "source": [
    "for i in range(0,3):\n",
    "    species_df=iris_df[iris_df['species']==i]\n",
    "    plt.scatter(species_df['sepal length (cm)'], species_df['petal length (cm)'], color=colors[i])\n",
    "plt.xlabel('sepal length')\n",
    "plt.ylabel('petal length')\n",
    "plt.title('Irisi petal length vs sepal length')\n",
    "plt.legend(loc='lower right')\n",
    "plt.show()"
   ]
  },
  {
   "cell_type": "markdown",
   "metadata": {},
   "source": [
    "# Intro to Seaborn"
   ]
  },
  {
   "cell_type": "code",
   "execution_count": null,
   "metadata": {},
   "outputs": [],
   "source": [
    "import seaborn as sns"
   ]
  },
  {
   "cell_type": "code",
   "execution_count": null,
   "metadata": {},
   "outputs": [],
   "source": [
    "iris = sns.load_dataset('iris')\n",
    "iris.head()"
   ]
  },
  {
   "cell_type": "code",
   "execution_count": null,
   "metadata": {},
   "outputs": [],
   "source": [
    "sns.distplot(iris['sepal_length']);"
   ]
  },
  {
   "cell_type": "code",
   "execution_count": null,
   "metadata": {},
   "outputs": [],
   "source": [
    "sns.regplot(iris['sepal_length'], iris['petal_length']);"
   ]
  },
  {
   "cell_type": "code",
   "execution_count": null,
   "metadata": {},
   "outputs": [],
   "source": [
    "sns.pairplot(iris);"
   ]
  },
  {
   "cell_type": "code",
   "execution_count": null,
   "metadata": {},
   "outputs": [],
   "source": [
    "sns.pairplot(iris, kind='reg');"
   ]
  },
  {
   "cell_type": "code",
   "execution_count": null,
   "metadata": {},
   "outputs": [],
   "source": [
    "sns.pairplot(iris, x_vars = ['sepal_length'], y_vars=['petal_length'], height = 6);"
   ]
  },
  {
   "cell_type": "code",
   "execution_count": null,
   "metadata": {},
   "outputs": [],
   "source": [
    "sns.pairplot(iris,  x_vars = ['sepal_length'], y_vars=['petal_length'], height = 6,  hue='species', palette = 'pastel' )\n",
    "plt.title('The Iris data set: petal length vs sepal length');"
   ]
  },
  {
   "cell_type": "code",
   "execution_count": null,
   "metadata": {},
   "outputs": [],
   "source": [
    "my_palette=[\"#95a5a6\", \"#e74c3c\", \"#34495e\"]\n",
    "sns.pairplot(iris, x_vars=['sepal_length'], y_vars = ['petal_length'], height=6, hue='species', palette=my_palette);"
   ]
  },
  {
   "cell_type": "code",
   "execution_count": null,
   "metadata": {},
   "outputs": [],
   "source": [
    "grid = sns.FacetGrid(iris, col='species')\n",
    "grid = grid.map(plt.scatter, \"sepal_length\", \"petal_length\");"
   ]
  },
  {
   "cell_type": "markdown",
   "metadata": {},
   "source": [
    "# Exercise"
   ]
  },
  {
   "cell_type": "code",
   "execution_count": null,
   "metadata": {},
   "outputs": [],
   "source": [
    "sns.violinplot(x=iris['species'], y=iris['petal_length'])\n",
    "plt.title('A violin plot of petal length');"
   ]
  },
  {
   "cell_type": "code",
   "execution_count": null,
   "metadata": {},
   "outputs": [],
   "source": [
    "sns.swarmplot('species', 'sepal_length', data=iris, palette='pastel')\n",
    "plt.title('A swarmplot of sepal length');"
   ]
  }
 ],
 "metadata": {
  "kernelspec": {
   "display_name": "Python 3",
   "language": "python",
   "name": "python3"
  },
  "language_info": {
   "codemirror_mode": {
    "name": "ipython",
    "version": 3
   },
   "file_extension": ".py",
   "mimetype": "text/x-python",
   "name": "python",
   "nbconvert_exporter": "python",
   "pygments_lexer": "ipython3",
   "version": "3.6.7"
  }
 },
 "nbformat": 4,
 "nbformat_minor": 2
}
